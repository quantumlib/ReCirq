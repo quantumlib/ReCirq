{
 "cells": [
  {
   "cell_type": "code",
   "execution_count": null,
   "metadata": {
    "cellView": "form",
    "id": "0rUk5P-AKZeB"
   },
   "outputs": [],
   "source": [
    "# @title Copyright 2020 The Cirq Developers\n",
    "# Licensed under the Apache License, Version 2.0 (the \"License\");\n",
    "# you may not use this file except in compliance with the License.\n",
    "# You may obtain a copy of the License at\n",
    "#\n",
    "# https://www.apache.org/licenses/LICENSE-2.0\n",
    "#\n",
    "# Unless required by applicable law or agreed to in writing, software\n",
    "# distributed under the License is distributed on an \"AS IS\" BASIS,\n",
    "# WITHOUT WARRANTIES OR CONDITIONS OF ANY KIND, either express or implied.\n",
    "# See the License for the specific language governing permissions and\n",
    "# limitations under the License."
   ]
  },
  {
   "cell_type": "markdown",
   "metadata": {
    "id": "S4Y3oEnHKda8"
   },
   "source": [
    "# QAOA: Max-Cut"
   ]
  },
  {
   "cell_type": "markdown",
   "metadata": {
    "id": "FHMnJvAkKfjS"
   },
   "source": [
    "<table class=\"tfo-notebook-buttons\" align=\"left\">\n",
    "  <td>\n",
    "    <a target=\"_blank\" href=\"https://quantumai.google/cirq/experiments/qaoa/qaoa_maxcut\"><img src=\"https://quantumai.google/site-assets/images/buttons/quantumai_logo_1x.png\" />View on QuantumAI</a>\n",
    "  </td>\n",
    "  <td>\n",
    "    <a target=\"_blank\" href=\"https://colab.research.google.com/github/quantumlib/ReCirq/blob/master/docs/qaoa/qaoa_maxcut.ipynb\"><img src=\"https://quantumai.google/site-assets/images/buttons/colab_logo_1x.png\" />Run in Google Colab</a>\n",
    "  </td>\n",
    "  <td>\n",
    "    <a target=\"_blank\" href=\"https://github.com/quantumlib/ReCirq/blob/master/docs/qaoa/qaoa_maxcut.ipynb\"><img src=\"https://quantumai.google/site-assets/images/buttons/github_logo_1x.png\" />View source on GitHub</a>\n",
    "  </td>\n",
    "  <td>\n",
    "    <a href=\"https://storage.googleapis.com/tensorflow_docs/ReCirq/docs/qaoa/qaoa_maxcut.ipynb\"><img src=\"https://quantumai.google/site-assets/images/buttons/download_icon_1x.png\" />Download notebook</a>\n",
    "  </td>\n",
    "</table>"
   ]
  },
  {
   "cell_type": "markdown",
   "metadata": {
    "id": "kL2C06ln6h48"
   },
   "source": [
    "In this tutorial, we implement the quantum approximate optimization algorithm (QAOA) for determining the Max-Cut of the Sycamore processor's hardware graph (with random edge weights). [Max-Cut](https://en.wikipedia.org/wiki/Maximum_cut){:.external} is the NP-complete problem of finding a partition of the graph's vertices into an two distinct sets that maximizes the number of edges between the two sets. To do so, we will:\n",
    "\n",
    "1. Define a random set of weights over the hardware graph.\n",
    "2. Construct a QAOA circuit using Cirq.\n",
    "3. Calculate the expected value of the QAOA cost function.\n",
    "4. Create an outer loop optimization to minimize the cost function.\n",
    "5. Compare cuts found from QAOA with random cuts."
   ]
  },
  {
   "cell_type": "code",
   "execution_count": null,
   "metadata": {
    "id": "bd9529db1c0b"
   },
   "outputs": [],
   "source": [
    "try:\n",
    "    import cirq\n",
    "except ImportError:\n",
    "    print(\"installing cirq...\")\n",
    "    !pip install --quiet cirq\n",
    "    import cirq\n",
    "\n",
    "    print(\"installed cirq.\")"
   ]
  },
  {
   "cell_type": "markdown",
   "metadata": {
    "id": "ACqqV6tJ7xXp"
   },
   "source": [
    "## 1. Defining a random set of weights over the hardware graph\n",
    "In order to make the problem easily embeddable on a quantum device, we will look at the problem of Max-Cut on the same graph that the device's qubit connectivity defines, but with random valued edge weights."
   ]
  },
  {
   "cell_type": "code",
   "execution_count": null,
   "metadata": {
    "id": "rKoMKEw46XY7"
   },
   "outputs": [],
   "source": [
    "from typing import List\n",
    "import sympy\n",
    "import numpy as np\n",
    "import matplotlib.pyplot as plt\n",
    "\n",
    "import cirq_google\n",
    "\n",
    "working_device = cirq_google.Sycamore\n",
    "print(working_device)"
   ]
  },
  {
   "cell_type": "markdown",
   "metadata": {
    "id": "gDLrxvAle_uC"
   },
   "source": [
    "Since a circuit covering the entire Sycamore device cannot be easily simulated, a small subset of the device graph will be used instead."
   ]
  },
  {
   "cell_type": "code",
   "execution_count": null,
   "metadata": {
    "id": "XoXekxuQ8bI0"
   },
   "outputs": [],
   "source": [
    "import networkx as nx\n",
    "\n",
    "# Set the seed to determine the problem instance.\n",
    "np.random.seed(seed=11)\n",
    "\n",
    "# Identify working qubits from the device.\n",
    "device_qubits = working_device.metadata.qubit_set\n",
    "working_qubits = sorted(device_qubits)[:12]\n",
    "\n",
    "# Populate a networkx graph with working_qubits as nodes.\n",
    "working_graph = working_device.metadata.nx_graph.subgraph(working_qubits)\n",
    "\n",
    "# Add random weights to edges of the graph. Each weight is a 2 decimal floating point between 0 and 5.\n",
    "nx.set_edge_attributes(\n",
    "    working_graph,\n",
    "    {e: {\"weight\": np.random.randint(0, 500) / 100} for e in working_graph.edges},\n",
    ")\n",
    "\n",
    "# Draw the working_graph on a 2d grid\n",
    "pos = {q: (q.col, -q.row) for q in working_graph.nodes()}\n",
    "nx.draw(working_graph, pos=pos, with_labels=True, node_size=1000)\n",
    "plt.show()"
   ]
  },
  {
   "cell_type": "markdown",
   "metadata": {
    "id": "8Tucm7os-uET"
   },
   "source": [
    "## 2. Construct the QAOA circuit\n",
    "Now that we have created a Max-Cut problem graph, it's time to generate the QAOA circuit following [Farhi et al.](https://arxiv.org/abs/1411.4028). For simplicity, $p = 1$ is chosen."
   ]
  },
  {
   "cell_type": "code",
   "execution_count": null,
   "metadata": {
    "id": "niH8sty--Hu0"
   },
   "outputs": [],
   "source": [
    "from cirq.contrib.svg import SVGCircuit\n",
    "\n",
    "# Symbols for the rotation angles in the QAOA circuit.\n",
    "alpha = sympy.Symbol(\"alpha\")\n",
    "beta = sympy.Symbol(\"beta\")\n",
    "\n",
    "qaoa_circuit = cirq.Circuit(\n",
    "    # Prepare uniform superposition on working_qubits == working_graph.nodes\n",
    "    cirq.H.on_each(working_graph.nodes()),\n",
    "    # Do ZZ operations between neighbors u, v in the graph. Here, u is a qubit,\n",
    "    # v is its neighboring qubit, and w is the weight between these qubits.\n",
    "    (\n",
    "        cirq.ZZ(u, v) ** (alpha * w[\"weight\"])\n",
    "        for (u, v, w) in working_graph.edges(data=True)\n",
    "    ),\n",
    "    # Apply X operations along all nodes of the graph. Again working_graph's\n",
    "    # nodes are the working_qubits. Note here we use a moment\n",
    "    # which will force all of the gates into the same line.\n",
    "    cirq.Moment(cirq.X(qubit) ** beta for qubit in working_graph.nodes()),\n",
    "    # All relevant things can be computed in the computational basis.\n",
    "    (cirq.measure(qubit) for qubit in working_graph.nodes()),\n",
    ")\n",
    "SVGCircuit(qaoa_circuit)"
   ]
  },
  {
   "cell_type": "markdown",
   "metadata": {
    "id": "-zbI-2KUMU66"
   },
   "source": [
    "## 3. Calculating the expected value of the QAOA cost Hamiltonian\n",
    "Now that we have created a parameterized QAOA circuit, we need a way to calculate expectation values of the cost Hamiltonian. For Max-Cut, the cost Hamiltonian is\n",
    "\n",
    "$$\n",
    "    H_C = \\frac{1}{2} \\sum_{\\langle i, j\\rangle} w_{ij} (1 - Z_i Z_j )\n",
    "$$\n",
    "\n",
    "where $\\langle i, j \\rangle$ denotes neighboring qubits, $w_{ij}$ is the weight of edge $ij$, and $Z$ is the usual Pauli-$Z$ matrix. The expectation value of this cost Hamiltonian is $\\langle \\alpha, \\beta | H_C | \\alpha, \\beta \\rangle$ where $|\\alpha, \\beta\\rangle$ is the quantum state prepared by our `qaoa_circuit`. This is the cost function we need to estimate.\n",
    "\n",
    "> Pauli-$Z$ has eigenvalues $\\pm 1$. If qubits $i$ and $j$ are in the same eigenspace, then $\\langle Z_i Z_j \\rangle = 1$ and so $\\frac{1}{2} w_{ij} \\langle 1 - Z_i Z_j \\rangle = 0$. In the Max-Cut language, this means that edge $ij$ does not contribute to the cost. If qubits $i$ and $j$ are in the opposite eigenspace, then $\\langle Z_i Z_j \\rangle = -1$ and so $\\frac{1}{2} w_{ij} \\langle 1 - Z_i Z_j \\rangle = w_{ij}$. In the Max-Cut language, this means that edge $ij$ contributes its weight $w_{ij}$ to the cost. \n",
    "\n",
    "To estimate the cost function, we need to estimate the (weighted) sum of all $ZZ$ pairs in the graph. Since these terms are diagonal in the same basis (namely, the computational basis), they can measured simultaneously. Given a set of measurements (samples), the function below estimates the cost function.\n",
    "\n",
    "> *Note*: We say \"estimate the cost\" instead of \"compute the cost\" since we are sampling from the circuit. This is how the cost would be evaluated when running QAOA on a real quantum processor."
   ]
  },
  {
   "cell_type": "code",
   "execution_count": null,
   "metadata": {
    "id": "IqUn4uv9_IVo"
   },
   "outputs": [],
   "source": [
    "import pandas as pd\n",
    "\n",
    "\n",
    "def estimate_cost(graph: nx.Graph, samples: pd.DataFrame) -> float:\n",
    "    \"\"\"Estimate the cost function of the QAOA on the given graph using the\n",
    "    provided computational basis bitstrings.\"\"\"\n",
    "    cost_value = 0.0\n",
    "\n",
    "    # Loop over edge pairs and compute contribution.\n",
    "    for u, v, w in graph.edges(data=True):\n",
    "        u_samples = samples[str(u)]\n",
    "        v_samples = samples[str(v)]\n",
    "\n",
    "        # Determine if it was a +1 or -1 eigenvalue.\n",
    "        u_signs = (-1) ** u_samples\n",
    "        v_signs = (-1) ** v_samples\n",
    "        term_signs = u_signs * v_signs\n",
    "\n",
    "        # Add scaled term to total cost.\n",
    "        term_val = np.mean(term_signs) * w[\"weight\"]\n",
    "        cost_value += term_val\n",
    "\n",
    "    return -cost_value"
   ]
  },
  {
   "cell_type": "markdown",
   "metadata": {
    "id": "XLO0RRZarb_a"
   },
   "source": [
    "Now we can sample from the `qaoa_circuit` and use `estimate_expectation` to calculate the expectation value of the cost function for the circuit. Below, we use arbitrary values for $\\alpha$ and $\\beta$."
   ]
  },
  {
   "cell_type": "code",
   "execution_count": null,
   "metadata": {
    "id": "gZmW7NkBrl5Z"
   },
   "outputs": [],
   "source": [
    "alpha_value = np.pi / 4\n",
    "beta_value = np.pi / 2\n",
    "sim = cirq.Simulator()\n",
    "\n",
    "sample_results = sim.sample(\n",
    "    qaoa_circuit, params={alpha: alpha_value, beta: beta_value}, repetitions=20_000\n",
    ")\n",
    "print(f\"Alpha = {round(alpha_value, 3)} Beta = {round(beta_value, 3)}\")\n",
    "print(f\"Estimated cost: {estimate_cost(working_graph, sample_results)}\")"
   ]
  },
  {
   "cell_type": "markdown",
   "metadata": {
    "id": "rBmCr_DCsbtf"
   },
   "source": [
    "## 4. Outer loop optimization\n",
    "Now that we can compute the cost function, we want to find the optimal cost. There are lots of different techniques to choose optimal parameters for the `qaoa_circuit`. Since there are only two parameters here ($\\alpha$ and $\\beta$), we can keep things simple and sweep over incremental pairings using `np.linspace` and track the minimum value found along the way."
   ]
  },
  {
   "cell_type": "code",
   "execution_count": null,
   "metadata": {
    "id": "ma0pVZwSThQx"
   },
   "outputs": [],
   "source": [
    "# Set the grid size = number of points in the interval [0, 2π).\n",
    "grid_size = 5\n",
    "\n",
    "alpha_sweep = cirq.Linspace(alpha, 0, 2 * np.pi, grid_size)\n",
    "beta_sweep = cirq.Linspace(beta, 0, 2 * np.pi, grid_size)\n",
    "samples = sim.run_sweep(\n",
    "    qaoa_circuit, params=alpha_sweep * beta_sweep, repetitions=20000\n",
    ")\n",
    "\n",
    "exp_values = np.reshape(samples, (-1, grid_size)).tolist()\n",
    "estimate = np.vectorize(lambda s: estimate_cost(working_graph, s.data))\n",
    "exp_values = estimate(exp_values)\n",
    "par_tuples = [tuple(y[1] for y in x) for x in (alpha_sweep * beta_sweep).param_tuples()]\n",
    "par_values = np.reshape(par_tuples, (-1, grid_size, 2))"
   ]
  },
  {
   "cell_type": "markdown",
   "metadata": {
    "id": "vp-LmYLnvkzM"
   },
   "source": [
    "We can now visualize the cost as a function of $\\alpha$ and $\\beta$."
   ]
  },
  {
   "cell_type": "code",
   "execution_count": null,
   "metadata": {
    "id": "ZdSqBSuNuckY"
   },
   "outputs": [],
   "source": [
    "plt.title(\"Heatmap of QAOA Cost Function Value\")\n",
    "plt.xlabel(r\"$\\alpha$\")\n",
    "plt.ylabel(r\"$\\beta$\")\n",
    "plt.imshow(exp_values)\n",
    "plt.show()"
   ]
  },
  {
   "cell_type": "markdown",
   "metadata": {
    "id": "d6dd7eb92995"
   },
   "source": [
    "This heatmap is coarse because we selected a small `grid_size`. To see more detail in the heatmap, one can increase the `grid_size`. "
   ]
  },
  {
   "cell_type": "markdown",
   "metadata": {
    "id": "BzwnTYWpuKZM"
   },
   "source": [
    "## 5. Compare cuts\n",
    "\n",
    "We now compare the optimal cut found by QAOA to a randomly selected cut. The helper function draws the `working_graph` and colors nodes in different sets different colors. Additionally, we print out the cost function for the given cut."
   ]
  },
  {
   "cell_type": "code",
   "execution_count": null,
   "metadata": {
    "id": "6nD1YQr39KOI"
   },
   "outputs": [],
   "source": [
    "def output_cut(s_partition: List[cirq.Qid]) -> None:\n",
    "    \"\"\"Plot and output the graph cut information.\"\"\"\n",
    "\n",
    "    # Generate the colors.\n",
    "    coloring = []\n",
    "    for node in working_graph:\n",
    "        if node in s_partition:\n",
    "            coloring.append(\"blue\")\n",
    "        else:\n",
    "            coloring.append(\"red\")\n",
    "\n",
    "    # Get the weights\n",
    "    edges = working_graph.edges(data=True)\n",
    "    weights = [w[\"weight\"] for (u, v, w) in edges]\n",
    "\n",
    "    nx.draw_circular(\n",
    "        working_graph,\n",
    "        node_color=coloring,\n",
    "        node_size=1000,\n",
    "        with_labels=True,\n",
    "        width=weights,\n",
    "    )\n",
    "    plt.show()\n",
    "    size = nx.cut_size(working_graph, s_partition, weight=\"weight\")\n",
    "    print(f\"Cut size: {size}\")"
   ]
  },
  {
   "cell_type": "markdown",
   "metadata": {
    "id": "224d0f64a553"
   },
   "source": [
    "As an example, we can test this function with all nodes in the same set, for which the cut size should be zero."
   ]
  },
  {
   "cell_type": "code",
   "execution_count": null,
   "metadata": {
    "id": "7a478de8f06a"
   },
   "outputs": [],
   "source": [
    "# Test with the empty S and all nodes placed in T.\n",
    "output_cut([])"
   ]
  },
  {
   "cell_type": "markdown",
   "metadata": {
    "id": "t2DOLJ_3-cJt"
   },
   "source": [
    "To get cuts using the QAOA we will first need to extract the best control parameters found during the sweep:"
   ]
  },
  {
   "cell_type": "code",
   "execution_count": null,
   "metadata": {
    "id": "xg5vPCt_vIrf"
   },
   "outputs": [],
   "source": [
    "best_exp_index = np.unravel_index(np.argmax(exp_values), exp_values.shape)\n",
    "print(best_exp_index, type(best_exp_index))\n",
    "best_parameters = par_values[best_exp_index]\n",
    "print(f\"Best control parameters: {best_parameters}\")"
   ]
  },
  {
   "cell_type": "markdown",
   "metadata": {
    "id": "IRab6h39voLn"
   },
   "source": [
    "Each bitstring can be seen as a candidate cut in the graph. The qubits that measured 0 correspond to that qubit being in one cut partition and a qubit that measured to 1 corresponds to that qubit being in the other cut partition. Now that we've found good parameters for the `qaoa_circuit`, we can just sample some bistrings, iterate over them and pick the one that gives the best cut:"
   ]
  },
  {
   "cell_type": "code",
   "execution_count": null,
   "metadata": {
    "id": "_1NYplopuFzu"
   },
   "outputs": [],
   "source": [
    "# Number of candidate cuts to sample.\n",
    "num_cuts = 100\n",
    "candidate_cuts = sim.sample(\n",
    "    qaoa_circuit,\n",
    "    params={alpha: best_parameters[0], beta: best_parameters[1]},\n",
    "    repetitions=num_cuts,\n",
    ")\n",
    "\n",
    "# Variables to store best cut partitions and cut size.\n",
    "best_qaoa_S_partition = set()\n",
    "best_qaoa_T_partition = set()\n",
    "best_qaoa_cut_size = -np.inf\n",
    "\n",
    "# Analyze each candidate cut.\n",
    "for i in range(num_cuts):\n",
    "    candidate = candidate_cuts.iloc[i]\n",
    "    one_qubits = set(candidate[candidate == 1].index)\n",
    "    S_partition = set()\n",
    "    T_partition = set()\n",
    "    for node in working_graph:\n",
    "        if str(node) in one_qubits:\n",
    "            # If a one was measured add node to S partition.\n",
    "            S_partition.add(node)\n",
    "        else:\n",
    "            # Otherwise a zero was measured so add to T partition.\n",
    "            T_partition.add(node)\n",
    "\n",
    "    cut_size = nx.cut_size(working_graph, S_partition, T_partition, weight=\"weight\")\n",
    "\n",
    "    # If you found a better cut update best_qaoa_cut variables.\n",
    "    if cut_size > best_qaoa_cut_size:\n",
    "        best_qaoa_cut_size = cut_size\n",
    "        best_qaoa_S_partition = S_partition\n",
    "        best_qaoa_T_partition = T_partition"
   ]
  },
  {
   "cell_type": "markdown",
   "metadata": {
    "id": "auo2VuTm6haO"
   },
   "source": [
    "The QAOA is known to do just a little better than random guessing for Max-Cut on 3-regular graphs at `p=1`. You can use very similar logic to the code above, but now instead of relying on the QAOA to decide your `S_partition` and `T_partition` you can just pick then randomly:"
   ]
  },
  {
   "cell_type": "code",
   "execution_count": null,
   "metadata": {
    "id": "UC5Sjgt-2tjC"
   },
   "outputs": [],
   "source": [
    "import random\n",
    "\n",
    "best_random_S_partition = set()\n",
    "best_random_T_partition = set()\n",
    "best_random_cut_size = -9999\n",
    "\n",
    "# Randomly build candidate sets.\n",
    "for i in range(num_cuts):\n",
    "    S_partition = set()\n",
    "    T_partition = set()\n",
    "    for node in working_graph:\n",
    "        if random.random() > 0.5:\n",
    "            # If we flip heads add to S.\n",
    "            S_partition.add(node)\n",
    "        else:\n",
    "            # Otherwise add to T.\n",
    "            T_partition.add(node)\n",
    "\n",
    "    cut_size = nx.cut_size(working_graph, S_partition, T_partition, weight=\"weight\")\n",
    "\n",
    "    # If you found a better cut update best_random_cut variables.\n",
    "    if cut_size > best_random_cut_size:\n",
    "        best_random_cut_size = cut_size\n",
    "        best_random_S_partition = S_partition\n",
    "        best_random_T_partition = T_partition"
   ]
  },
  {
   "cell_type": "code",
   "execution_count": null,
   "metadata": {
    "id": "2MldXTYP8QA2"
   },
   "outputs": [],
   "source": [
    "print(\"-----QAOA-----\")\n",
    "output_cut(best_qaoa_S_partition)\n",
    "\n",
    "print(\"\\n\\n-----RANDOM-----\")\n",
    "output_cut(best_random_S_partition)"
   ]
  },
  {
   "cell_type": "markdown",
   "metadata": {
    "id": "b928b82a9902"
   },
   "source": [
    "For this problem instance, one should see that $p = 1$ QAOA performs better, on average, than randomly guessing."
   ]
  }
 ],
 "metadata": {
  "colab": {
   "collapsed_sections": [],
   "name": "qaoa_maxcut.ipynb",
   "toc_visible": true
  },
  "kernelspec": {
   "display_name": "Python 3",
   "name": "python3"
  }
 },
 "nbformat": 4,
 "nbformat_minor": 0
}
