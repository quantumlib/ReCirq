{
  "cells": [
    {
      "cell_type": "markdown",
      "metadata": {
        "colab_type": "text",
        "id": "dcQ6l8DrzJad"
      },
      "source": [
        "##### Copyright 2020 Google"
      ]
    },
    {
      "cell_type": "code",
      "execution_count": null,
      "metadata": {
        "cellView": "form",
        "colab": {},
        "colab_type": "code",
        "id": "7GiJJW7KzLLA"
      },
      "outputs": [],
      "source": [
        "#@title Licensed under the Apache License, Version 2.0 (the \"License\");\n",
        "# you may not use this file except in compliance with the License.\n",
        "# You may obtain a copy of the License at\n",
        "#\n",
        "# https://www.apache.org/licenses/LICENSE-2.0\n",
        "#\n",
        "# Unless required by applicable law or agreed to in writing, software\n",
        "# distributed under the License is distributed on an \"AS IS\" BASIS,\n",
        "# WITHOUT WARRANTIES OR CONDITIONS OF ANY KIND, either express or implied.\n",
        "# See the License for the specific language governing permissions and\n",
        "# limitations under the License."
      ]
    },
    {
      "cell_type": "markdown",
      "metadata": {
        "colab_type": "text",
        "id": "Iznv7pW1yzWA"
      },
      "source": [
        "# QAOA Tasks"
      ]
    },
    {
      "cell_type": "markdown",
      "metadata": {
        "colab_type": "text",
        "id": "UX6Wn1flzYOg"
      },
      "source": [
        "<table class=\"tfo-notebook-buttons\" align=\"left\">\n",
        "  <td>\n",
        "    <a target=\"_blank\" href=\"https://www.example.org/cirq/research/qaoa/tasks\"><img src=\"https://www.tensorflow.org/images/tf_logo_32px.png\" />View on QuantumLib</a>\n",
        "  </td>\n",
        "  <td>\n",
        "    <a target=\"_blank\" href=\"https://colab.research.google.com/github/quantumlib/ReCirq/blob/docs/docs/qaoa/tasks.ipynb\"><img src=\"https://www.tensorflow.org/images/colab_logo_32px.png\" />Run in Google Colab</a>\n",
        "  </td>\n",
        "  <td>\n",
        "    <a target=\"_blank\" href=\"https://github.com/quantumlib/ReCirq/blob/docs/docs/qaoa/tasks.ipynb\"><img src=\"https://www.tensorflow.org/images/GitHub-Mark-32px.png\" />View source on GitHub</a>\n",
        "  </td>\n",
        "  <td>\n",
        "    <a href=\"https://storage.googleapis.com/tensorflow_docs/ReCirq/docs/qaoa/tasks.ipynb\"><img src=\"https://www.tensorflow.org/images/download_logo_32px.png\" />Download notebook</a>\n",
        "  </td>\n",
        "</table>"
      ]
    },
    {
      "cell_type": "markdown",
      "metadata": {
        "colab_type": "text",
        "id": "ODiWjvdR0A-c"
      },
      "source": [
        "## Setup\n",
        "\n",
        "Install the ReCirq package:"
      ]
    },
    {
      "cell_type": "code",
      "execution_count": null,
      "metadata": {
        "colab": {},
        "colab_type": "code",
        "id": "CNcvxXPs0Buy"
      },
      "outputs": [],
      "source": [
        "!pip install git+https://github.com/quantumlib/ReCirq"
      ]
    },
    {
      "cell_type": "markdown",
      "metadata": {
        "colab_type": "text",
        "id": "7EyHaU6p0Ebv"
      },
      "source": [
        "And import ReCirq:"
      ]
    },
    {
      "cell_type": "code",
      "execution_count": null,
      "metadata": {
        "colab": {},
        "colab_type": "code",
        "id": "hJC1Mqt00Txt"
      },
      "outputs": [],
      "source": [
        "import recirq"
      ]
    },
    {
      "cell_type": "markdown",
      "metadata": {
        "colab_type": "text",
        "id": "L2vg1-UXyzWC"
      },
      "source": [
        "## Problem generation\n",
        "\n",
        "First, we generate and save all of the random instances of the problem. This is not computationally intensive but very important to do first so we have a fixed set of random instances."
      ]
    },
    {
      "cell_type": "code",
      "execution_count": null,
      "metadata": {
        "colab": {},
        "colab_type": "code",
        "id": "_ljoY33fyzWD"
      },
      "outputs": [],
      "source": [
        "from recirq.qaoa.experiments.problem_generation_tasks import \\\n",
        "    SKProblemGenerationTask, HardwareGridProblemGenerationTask, ThreeRegularProblemGenerationTask, \\\n",
        "    generate_3_regular_problem, generate_sk_problem, generate_hardware_grid_problem\n",
        "\n",
        "pgen_dataset_id = '2020-03-tutorial'\n",
        "hardware_grid_problem_tasks = [\n",
        "    HardwareGridProblemGenerationTask(\n",
        "        dataset_id=pgen_dataset_id,\n",
        "        device_name='Sycamore23',\n",
        "        instance_i=i,\n",
        "        n_qubits=n\n",
        "    )\n",
        "    for i in range(5)\n",
        "    for n in range(2, 8 + 1, 2)\n",
        "]\n",
        "recirq.display_markdown_docstring(HardwareGridProblemGenerationTask)"
      ]
    },
    {
      "cell_type": "code",
      "execution_count": null,
      "metadata": {
        "colab": {},
        "colab_type": "code",
        "id": "1o5-pazdyzWH"
      },
      "outputs": [],
      "source": [
        "sk_problem_tasks = [\n",
        "    SKProblemGenerationTask(\n",
        "        dataset_id=pgen_dataset_id,\n",
        "        instance_i=i,\n",
        "        n_qubits=n\n",
        "    )\n",
        "    for i in range(5)\n",
        "    for n in range(3, 7 + 1, 2)\n",
        "]\n",
        "recirq.display_markdown_docstring(SKProblemGenerationTask)"
      ]
    },
    {
      "cell_type": "code",
      "execution_count": null,
      "metadata": {
        "colab": {},
        "colab_type": "code",
        "id": "qyiL_W_KyzWK"
      },
      "outputs": [],
      "source": [
        "three_regular_problem_tasks = [\n",
        "    ThreeRegularProblemGenerationTask(\n",
        "        dataset_id=pgen_dataset_id,\n",
        "        instance_i=i,\n",
        "        n_qubits=n\n",
        "    )\n",
        "    for i in range(5)\n",
        "    for n in range(3, 8 + 1) if 3 * n % 2 == 0\n",
        "]"
      ]
    },
    {
      "cell_type": "markdown",
      "metadata": {
        "colab_type": "text",
        "id": "bMBE4_hWyzWO"
      },
      "source": [
        "### Run the tasks"
      ]
    },
    {
      "cell_type": "code",
      "execution_count": null,
      "metadata": {
        "colab": {},
        "colab_type": "code",
        "id": "EYmmjjRnyzWO"
      },
      "outputs": [],
      "source": [
        "for task in hardware_grid_problem_tasks:\n",
        "    generate_hardware_grid_problem(task)\n",
        "for task in sk_problem_tasks:\n",
        "    generate_sk_problem(task)\n",
        "for task in three_regular_problem_tasks:\n",
        "    generate_3_regular_problem(task)"
      ]
    },
    {
      "cell_type": "markdown",
      "metadata": {
        "colab_type": "text",
        "id": "JxNchpctyzWR"
      },
      "source": [
        "## Angle precomputation"
      ]
    },
    {
      "cell_type": "code",
      "execution_count": null,
      "metadata": {
        "colab": {},
        "colab_type": "code",
        "id": "G0eSk61UyzWR"
      },
      "outputs": [],
      "source": [
        "from recirq.qaoa.experiments.angle_precomputation_tasks import \\\n",
        "    AnglePrecomputationTask, precompute_angles\n",
        "\n",
        "apre_dataset_id = '2020-03-tutorial'\n",
        "precompute_tasks = [\n",
        "    AnglePrecomputationTask(\n",
        "        dataset_id=apre_dataset_id,\n",
        "        generation_task=gen_task,\n",
        "        p=p)\n",
        "    for gen_task in recirq.roundrobin(\n",
        "        hardware_grid_problem_tasks,\n",
        "        sk_problem_tasks,\n",
        "        three_regular_problem_tasks,\n",
        "    )\n",
        "    for p in range(1, 3 + 1)\n",
        "]\n",
        "recirq.display_markdown_docstring(AnglePrecomputationTask)"
      ]
    },
    {
      "cell_type": "code",
      "execution_count": null,
      "metadata": {
        "colab": {},
        "colab_type": "code",
        "id": "9TICgyjByzWU"
      },
      "outputs": [],
      "source": [
        "for task in precompute_tasks:\n",
        "    precompute_angles(task)"
      ]
    },
    {
      "cell_type": "markdown",
      "metadata": {
        "colab_type": "text",
        "id": "U-4ZhSe_yzWX"
      },
      "source": [
        "## Precomputed angle data collection"
      ]
    },
    {
      "cell_type": "code",
      "execution_count": null,
      "metadata": {
        "colab": {},
        "colab_type": "code",
        "id": "yxAV6GjWyzWY"
      },
      "outputs": [],
      "source": [
        "from recirq.qaoa.experiments.precomputed_execution_tasks import \\\n",
        "    PrecomputedDataCollectionTask, collect_data\n",
        "    \n",
        "\n",
        "dcol_dataset_id = '2020-03-tutorial'\n",
        "data_collection_tasks = [\n",
        "    PrecomputedDataCollectionTask(\n",
        "        dataset_id=dcol_dataset_id,\n",
        "        precomputation_task=pre_task,\n",
        "        device_name='Syc23-simulator',\n",
        "        n_shots=50_000,\n",
        "        structured=True,\n",
        "    )\n",
        "    for pre_task in precompute_tasks\n",
        "]\n",
        "recirq.display_markdown_docstring(PrecomputedDataCollectionTask)"
      ]
    },
    {
      "cell_type": "code",
      "execution_count": null,
      "metadata": {
        "colab": {},
        "colab_type": "code",
        "id": "F5oIYM1GyzWb",
        "scrolled": true
      },
      "outputs": [],
      "source": [
        "await recirq.execute_in_queue(collect_data, data_collection_tasks, num_workers=2)"
      ]
    },
    {
      "cell_type": "markdown",
      "metadata": {
        "colab_type": "text",
        "id": "ZR4uOP5SyzWe"
      },
      "source": [
        "## Landscape data collection"
      ]
    },
    {
      "cell_type": "code",
      "execution_count": null,
      "metadata": {
        "colab": {},
        "colab_type": "code",
        "id": "9fx1_PF5yzWe"
      },
      "outputs": [],
      "source": [
        "from recirq.qaoa.experiments.p1_landscape_tasks import \\\n",
        "    P1LandscapeDataCollectionTask, \\\n",
        "    get_data_collection_tasks_on_a_grid, \\\n",
        "    collect_either_landscape_or_cal\n",
        "\n",
        "recirq.display_markdown_docstring(P1LandscapeDataCollectionTask)"
      ]
    },
    {
      "cell_type": "code",
      "execution_count": null,
      "metadata": {
        "colab": {},
        "colab_type": "code",
        "id": "XlcHhXUwyzWh"
      },
      "outputs": [],
      "source": [
        "hardware_grid_problem_task = HardwareGridProblemGenerationTask(\n",
        "    dataset_id=pgen_dataset_id,\n",
        "    device_name='Sycamore23',\n",
        "    instance_i=0,\n",
        "    n_qubits=4\n",
        ")\n",
        "data_collection_tasks = get_data_collection_tasks_on_a_grid(\n",
        "    pgen_task=hardware_grid_problem_task,\n",
        "    dataset_id=dcol_dataset_id,\n",
        "    gamma_res=11,\n",
        "    beta_res=11,\n",
        "    device_name='Syc23-simulator',\n",
        "    epoch=\"grid\")\n",
        "\n",
        "await recirq.execute_in_queue(collect_either_landscape_or_cal,\n",
        "                              data_collection_tasks,\n",
        "                              num_workers=2)"
      ]
    },
    {
      "cell_type": "code",
      "execution_count": null,
      "metadata": {
        "colab": {},
        "colab_type": "code",
        "id": "FTxZFYPLyzWj"
      },
      "outputs": [],
      "source": [
        "sk_problem_task = SKProblemGenerationTask(\n",
        "    dataset_id=pgen_dataset_id,\n",
        "    instance_i=0,\n",
        "    n_qubits=3,\n",
        ")\n",
        "data_collection_tasks = get_data_collection_tasks_on_a_grid(\n",
        "    pgen_task=sk_problem_task,\n",
        "    dataset_id=dcol_dataset_id,\n",
        "    gamma_res=11,\n",
        "    beta_res=11,\n",
        "    device_name='Syc23-simulator',\n",
        "    epoch=\"sk\")\n",
        "await recirq.execute_in_queue(collect_either_landscape_or_cal,\n",
        "                              data_collection_tasks,\n",
        "                              num_workers=2)"
      ]
    },
    {
      "cell_type": "code",
      "execution_count": null,
      "metadata": {
        "colab": {},
        "colab_type": "code",
        "id": "Rq1ePbzQyzWm"
      },
      "outputs": [],
      "source": [
        "three_regular_problem_task = ThreeRegularProblemGenerationTask(\n",
        "    dataset_id=pgen_dataset_id,\n",
        "    instance_i=0,\n",
        "    n_qubits=4\n",
        ")\n",
        "data_collection_tasks = get_data_collection_tasks_on_a_grid(\n",
        "    pgen_task=three_regular_problem_task,\n",
        "    dataset_id=dcol_dataset_id,\n",
        "    device_name='Syc23-simulator',\n",
        "    gamma_res=11,\n",
        "    beta_res=11,\n",
        "    epoch=\"tr\")\n",
        "\n",
        "await recirq.execute_in_queue(collect_either_landscape_or_cal,\n",
        "                              data_collection_tasks,\n",
        "                              num_workers=2)"
      ]
    }
  ],
  "metadata": {
    "colab": {
      "name": "tasks.ipynb",
      "private_outputs": true,
      "provenance": [],
      "toc_visible": true
    },
    "kernelspec": {
      "display_name": "Python 3",
      "language": "python",
      "name": "python3"
    }
  },
  "nbformat": 4,
  "nbformat_minor": 0
}
