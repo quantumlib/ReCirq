{
  "cells": [
    {
      "cell_type": "markdown",
      "metadata": {
        "colab_type": "text",
        "id": "Azc8twVhEBGA"
      },
      "source": [
        "##### Copyright 2020 Google"
      ]
    },
    {
      "cell_type": "code",
      "execution_count": null,
      "metadata": {
        "cellView": "form",
        "colab": {},
        "colab_type": "code",
        "id": "Wxjxus_UECF_"
      },
      "outputs": [],
      "source": [
        "#@title Licensed under the Apache License, Version 2.0 (the \"License\");\n",
        "# you may not use this file except in compliance with the License.\n",
        "# You may obtain a copy of the License at\n",
        "#\n",
        "# https://www.apache.org/licenses/LICENSE-2.0\n",
        "#\n",
        "# Unless required by applicable law or agreed to in writing, software\n",
        "# distributed under the License is distributed on an \"AS IS\" BASIS,\n",
        "# WITHOUT WARRANTIES OR CONDITIONS OF ANY KIND, either express or implied.\n",
        "# See the License for the specific language governing permissions and\n",
        "# limitations under the License."
      ]
    },
    {
      "cell_type": "markdown",
      "metadata": {
        "colab_type": "text",
        "id": "DTTWS4ZsDsbb"
      },
      "source": [
        "# Precomptued analysis"
      ]
    },
    {
      "cell_type": "markdown",
      "metadata": {
        "colab_type": "text",
        "id": "nINncTOwEMgS"
      },
      "source": [
        "<table class=\"tfo-notebook-buttons\" align=\"left\">\n",
        "  <td>\n",
        "    <a target=\"_blank\" href=\"https://www.example.org/cirq/research/qaoa/precomputed-analysis\"><img src=\"https://www.tensorflow.org/images/tf_logo_32px.png\" />View on QuantumLib</a>\n",
        "  </td>\n",
        "  <td>\n",
        "    <a target=\"_blank\" href=\"https://colab.research.google.com/github/quantumlib/ReCirq/blob/docs/docs/qaoa/precomputed-analysis.ipynb\"><img src=\"https://www.tensorflow.org/images/colab_logo_32px.png\" />Run in Google Colab</a>\n",
        "  </td>\n",
        "  <td>\n",
        "    <a target=\"_blank\" href=\"https://github.com/quantumlib/ReCirq/blob/docs/docs/qaoa/precomputed-analysis.ipynb\"><img src=\"https://www.tensorflow.org/images/GitHub-Mark-32px.png\" />View source on GitHub</a>\n",
        "  </td>\n",
        "  <td>\n",
        "    <a href=\"https://storage.googleapis.com/tensorflow_docs/ReCirq/docs/qaoa/precomputed-analysis.ipynb\"><img src=\"https://www.tensorflow.org/images/download_logo_32px.png\" />Download notebook</a>\n",
        "  </td>\n",
        "</table>"
      ]
    },
    {
      "cell_type": "markdown",
      "metadata": {
        "colab_type": "text",
        "id": "dyZV-j1R_8lL"
      },
      "source": [
        "Use precomputed optimal angles to measure the expected value of $\\langle C \\rangle$ across a variety of problem types, sizes, $p$-depth, and random instances."
      ]
    },
    {
      "cell_type": "markdown",
      "metadata": {
        "colab_type": "text",
        "id": "fmZkO_r4EoEH"
      },
      "source": [
        "## Setup\n",
        "\n",
        "Install the ReCirq package:"
      ]
    },
    {
      "cell_type": "code",
      "execution_count": null,
      "metadata": {
        "colab": {},
        "colab_type": "code",
        "id": "2ze8RjK8Eo49"
      },
      "outputs": [],
      "source": [
        "!pip install git+https://github.com/quantumlib/ReCirq"
      ]
    },
    {
      "cell_type": "markdown",
      "metadata": {
        "colab_type": "text",
        "id": "nPiHkFzGErxD"
      },
      "source": [
        "Install Cirq's `pytket` interface:"
      ]
    },
    {
      "cell_type": "code",
      "execution_count": null,
      "metadata": {
        "colab": {},
        "colab_type": "code",
        "id": "-PEYlVcME3B6"
      },
      "outputs": [],
      "source": [
        "!pip install pytket-cirq"
      ]
    },
    {
      "cell_type": "markdown",
      "metadata": {
        "colab_type": "text",
        "id": "t4QAKRWnFDbR"
      },
      "source": [
        "Now import Cirq, ReCirq and the module dependencies:"
      ]
    },
    {
      "cell_type": "code",
      "execution_count": null,
      "metadata": {
        "colab": {},
        "colab_type": "code",
        "id": "x1Vac3ooFEHd"
      },
      "outputs": [],
      "source": [
        "import recirq\n",
        "import cirq\n",
        "import numpy as np\n",
        "import pandas as pd"
      ]
    },
    {
      "cell_type": "markdown",
      "metadata": {
        "colab_type": "text",
        "id": "QHST7bsR_8lN"
      },
      "source": [
        "## Load the raw data\n",
        "\n",
        "Go through each record, load in supporting objects, flatten everything into records, and put into a massive dataframe."
      ]
    },
    {
      "cell_type": "code",
      "execution_count": null,
      "metadata": {
        "colab": {},
        "colab_type": "code",
        "id": "cGK64son_8lO"
      },
      "outputs": [],
      "source": [
        "from recirq.qaoa.experiments.precomputed_execution_tasks import \\\n",
        "    DEFAULT_BASE_DIR, DEFAULT_PROBLEM_GENERATION_BASE_DIR, DEFAULT_PRECOMPUTATION_BASE_DIR\n",
        "\n",
        "records = []\n",
        "for record in recirq.iterload_records(dataset_id=\"2020-03-tutorial\", base_dir=DEFAULT_BASE_DIR):\n",
        "    dc_task = record['task']\n",
        "    apre_task = dc_task.precomputation_task\n",
        "    pgen_task = apre_task.generation_task\n",
        "    \n",
        "    problem = recirq.load(pgen_task, base_dir=DEFAULT_PROBLEM_GENERATION_BASE_DIR)['problem']\n",
        "    record['problem'] = problem.graph\n",
        "    record['problem_type'] = problem.__class__.__name__\n",
        "    record['optimum'] = recirq.load(apre_task, base_dir=DEFAULT_PRECOMPUTATION_BASE_DIR)['optimum']\n",
        "    record['bitstrings'] = record['bitstrings'].bits\n",
        "    recirq.flatten_dataclass_into_record(record, 'task')\n",
        "    recirq.flatten_dataclass_into_record(record, 'precomputation_task')    \n",
        "    recirq.flatten_dataclass_into_record(record, 'generation_task')    \n",
        "    recirq.flatten_dataclass_into_record(record, 'optimum')\n",
        "    records.append(record)\n",
        "df_raw = pd.DataFrame(records)    \n",
        "df_raw['timestamp'] = pd.to_datetime(df_raw['timestamp'])\n",
        "df_raw.head()"
      ]
    },
    {
      "cell_type": "markdown",
      "metadata": {
        "colab_type": "text",
        "id": "p0vLLn7P_8lT"
      },
      "source": [
        "## Narrow down to relevant data\n",
        "\n",
        "Drop unnecessary metadata and use bitstrings to compute the expected value of the energy. In general, it's better to save the raw data and lots of metadata so we can use it if it becomes necessary in the future."
      ]
    },
    {
      "cell_type": "code",
      "execution_count": null,
      "metadata": {
        "colab": {},
        "colab_type": "code",
        "id": "pDEK6Stk_8lT"
      },
      "outputs": [],
      "source": [
        "from recirq.qaoa.simulation import hamiltonian_objectives, hamiltonian_objective_avg_and_err\n",
        "import cirq.google as cg\n",
        "\n",
        "def compute_energy_w_err(row):\n",
        "    permutation = []\n",
        "    for i, q in enumerate(row['qubits']):\n",
        "        fi = row['final_qubits'].index(q)\n",
        "        permutation.append(fi)\n",
        "    \n",
        "    energy, err = hamiltonian_objective_avg_and_err(row['bitstrings'], row['problem'], permutation)\n",
        "    return pd.Series([energy, err], index=['energy', 'err'])\n",
        "    \n",
        "\n",
        "# Start cleaning up the raw data\n",
        "df = df_raw.copy()\n",
        "\n",
        "# Don't need these columns for present analysis\n",
        "df = df.drop(['gammas', 'betas', 'circuit', 'violation_indices',\n",
        "              'precomputation_task.dataset_id',\n",
        "              'generation_task.dataset_id',\n",
        "              'generation_task.device_name'], axis=1)\n",
        "\n",
        "# p is specified twice (from a parameter and from optimum)\n",
        "assert (df['optimum.p'] == df['p']).all()\n",
        "df = df.drop('optimum.p', axis=1)\n",
        "\n",
        "# Compute energies\n",
        "df = df.join(df.apply(compute_energy_w_err, axis=1))\n",
        "df = df.drop(['bitstrings', 'qubits', 'final_qubits', 'problem'], axis=1)\n",
        "\n",
        "# Normalize\n",
        "df['energy_ratio'] = df['energy'] / df['min_c']\n",
        "df['err_ratio'] = df['err'] * np.abs(1/df['min_c'])\n",
        "df['f_val_ratio'] = df['f_val'] / df['min_c']\n",
        "\n",
        "df"
      ]
    },
    {
      "cell_type": "markdown",
      "metadata": {
        "colab_type": "text",
        "id": "hPYmUAIM_8lX"
      },
      "source": [
        "## Plots"
      ]
    },
    {
      "cell_type": "code",
      "execution_count": null,
      "metadata": {
        "colab": {},
        "colab_type": "code",
        "id": "GY6JykOM_8lY"
      },
      "outputs": [],
      "source": [
        "%matplotlib inline\n",
        "from matplotlib import pyplot as plt\n",
        "\n",
        "import seaborn as sns\n",
        "sns.set_style('ticks')\n",
        "\n",
        "plt.rc('axes', labelsize=16, titlesize=16)\n",
        "plt.rc('xtick', labelsize=14)\n",
        "plt.rc('ytick', labelsize=14)\n",
        "plt.rc('legend', fontsize=14, title_fontsize=16)\n",
        "\n",
        "# theme colors\n",
        "QBLUE = '#1967d2'\n",
        "QRED = '#ea4335ff'\n",
        "QGOLD = '#fbbc05ff'\n",
        "QGREEN = '#34a853ff'\n",
        "\n",
        "QGOLD2 = '#ffca28'\n",
        "QBLUE2 = '#1e88e5'"
      ]
    },
    {
      "cell_type": "code",
      "execution_count": null,
      "metadata": {
        "colab": {},
        "colab_type": "code",
        "id": "j0X1prhO_8lb"
      },
      "outputs": [],
      "source": [
        "C = r'\\langle C \\rangle'\n",
        "CMIN = r'C_\\mathrm{min}'\n",
        "COVERCMIN = f'${C}/{CMIN}$'"
      ]
    },
    {
      "cell_type": "code",
      "execution_count": null,
      "metadata": {
        "colab": {},
        "colab_type": "code",
        "id": "hAru4bn1_8ld"
      },
      "outputs": [],
      "source": [
        "def percentile(n):\n",
        "    def percentile_(x):\n",
        "        return np.nanpercentile(x, n)\n",
        "    percentile_.__name__ = 'percentile_%s' % n\n",
        "    return percentile_"
      ]
    },
    {
      "cell_type": "markdown",
      "metadata": {
        "colab_type": "text",
        "id": "pTal6P9d_8lg"
      },
      "source": [
        "### Raw swarm plots of all data"
      ]
    },
    {
      "cell_type": "code",
      "execution_count": null,
      "metadata": {
        "colab": {},
        "colab_type": "code",
        "id": "Gq-mXXPK_8lh",
        "scrolled": false
      },
      "outputs": [],
      "source": [
        "import numpy as np\n",
        "from matplotlib import pyplot as plt\n",
        "\n",
        "pretty_problem = {\n",
        "    'HardwareGridProblem': 'Hardware Grid',\n",
        "    'SKProblem': 'SK Model',\n",
        "    'ThreeRegularProblem': '3-Regular MaxCut'\n",
        "}\n",
        "\n",
        "for problem_type in ['HardwareGridProblem', 'SKProblem', 'ThreeRegularProblem']:\n",
        "    df1 = df\n",
        "    df1 = df1[df1['problem_type'] == problem_type]\n",
        "\n",
        "    for p in sorted(df1['p'].unique()):\n",
        "        dfb = df1\n",
        "        dfb = dfb[dfb['p'] == p]\n",
        "        dfb = dfb.sort_values(by='n_qubits')    \n",
        "\n",
        "        plt.subplots(figsize=(7,5))\n",
        "\n",
        "        n_instances = dfb.groupby('n_qubits').count()['energy_ratio'].unique()\n",
        "        if len(n_instances) == 1:\n",
        "            n_instances = n_instances[0]\n",
        "            label = f'{n_instances}'\n",
        "        else:\n",
        "            label = f'{min(n_instances)} - {max(n_instances)}'\n",
        "\n",
        "        #sns.boxplot(dfb['n_qubits'], dfb['energy_ratio'], color=QBLUE, saturation=1)\n",
        "        #sns.boxplot(dfb['n_qubits'], dfb['f_val_ratio'], color=QGREEN, saturation=1)\n",
        "        sns.swarmplot(dfb['n_qubits'], dfb['energy_ratio'], color=QBLUE)\n",
        "        sns.swarmplot(dfb['n_qubits'], dfb['f_val_ratio'], color=QGREEN)\n",
        "\n",
        "        plt.axhline(1, color='grey', ls='-')\n",
        "        plt.axhline(0, color='grey', ls='-')\n",
        "\n",
        "        plt.title(f'{pretty_problem[problem_type]}, {label} instances, p={p}')\n",
        "        plt.xlabel('# Qubits')\n",
        "        plt.ylabel(COVERCMIN)\n",
        "        plt.tight_layout()\n",
        "        plt.show()\n"
      ]
    },
    {
      "cell_type": "markdown",
      "metadata": {
        "colab_type": "text",
        "id": "XUEJiwSw_8ll"
      },
      "source": [
        "### Compare SK and hardware grid vs. n"
      ]
    },
    {
      "cell_type": "code",
      "execution_count": null,
      "metadata": {
        "colab": {},
        "colab_type": "code",
        "id": "wZvEHRRV_8lm"
      },
      "outputs": [],
      "source": [
        "pretty_problem = {\n",
        "    'HardwareGridProblem': 'Hardware Grid',\n",
        "    'SKProblem': 'SK Model',\n",
        "    'ThreeRegularProblem': '3-Regular MaxCut'\n",
        "}\n",
        "\n",
        "df1 = df\n",
        "df1 = df1[\n",
        "    ((df1['problem_type'] == 'SKProblem') & (df1['p'] == 3))\n",
        "    | ((df1['problem_type'] == 'HardwareGridProblem') & (df1['p'] == 3))\n",
        "    ]\n",
        "df1 = df1.sort_values(by='n_qubits')\n",
        "\n",
        "MINQ = 3\n",
        "df1 = df1[df1['n_qubits'] >= MINQ]\n",
        "\n",
        "plt.subplots(figsize=(8, 6))\n",
        "plt.xlim((8, 23))\n",
        "\n",
        "# SK\n",
        "dfb = df1\n",
        "dfb = dfb[dfb['problem_type'] == 'SKProblem']\n",
        "sns.swarmplot(dfb['n_qubits'], dfb['energy_ratio'], s=5, linewidth=0.5, edgecolor='k', color=QRED)\n",
        "sns.swarmplot(dfb['n_qubits'], dfb['f_val_ratio'], s=5, linewidth=0.5, edgecolor='k', color=QRED,\n",
        "              marker='s')\n",
        "dfg = dfb.groupby('n_qubits').mean().reset_index()\n",
        "# --------\n",
        "\n",
        "\n",
        "# Hardware\n",
        "dfb = df1\n",
        "dfb = dfb[dfb['problem_type'] == 'HardwareGridProblem']\n",
        "sns.swarmplot(dfb['n_qubits'], dfb['energy_ratio'], s=5, linewidth=0.5, edgecolor='k', color=QBLUE)\n",
        "sns.swarmplot(dfb['n_qubits'], dfb['f_val_ratio'], s=5, linewidth=0.5, edgecolor='k', color=QBLUE,\n",
        "              marker='s')\n",
        "dfg = dfb.groupby('n_qubits').mean().reset_index()\n",
        "# -------\n",
        "\n",
        "\n",
        "plt.axhline(1, color='grey', ls='-')\n",
        "plt.axhline(0, color='grey', ls='-')\n",
        "\n",
        "plt.xlabel('# Qubits')\n",
        "plt.ylabel(COVERCMIN)\n",
        "\n",
        "from matplotlib.patches import Patch\n",
        "from matplotlib.lines import Line2D\n",
        "from matplotlib.legend_handler import HandlerTuple\n",
        "\n",
        "lelements = [\n",
        "    Line2D([0], [0], color=QBLUE, marker='o', ms=7, ls='', ),\n",
        "    Line2D([0], [0], color=QRED, marker='o', ms=7, ls='', ),\n",
        "\n",
        "    Line2D([0], [0], color='k', marker='s', ms=7, ls='', markerfacecolor='none'),\n",
        "    Line2D([0], [0], color='k', marker='o', ms=7, ls='', markerfacecolor='none'),\n",
        "]\n",
        "\n",
        "plt.legend(lelements, ['Hardware Grid', 'SK Model', 'Noiseless', 'Experiment', ], loc='best',\n",
        "           title=f'p = 3',\n",
        "           handler_map={tuple: HandlerTuple(ndivide=None)}, framealpha=1.0)\n",
        "plt.tight_layout()\n",
        "plt.show()"
      ]
    },
    {
      "cell_type": "markdown",
      "metadata": {
        "colab_type": "text",
        "id": "RNj5d8XJ_8lp"
      },
      "source": [
        "### Hardware grid vs. p"
      ]
    },
    {
      "cell_type": "code",
      "execution_count": null,
      "metadata": {
        "colab": {},
        "colab_type": "code",
        "id": "2zhpnHYb_8lp"
      },
      "outputs": [],
      "source": [
        "dfb = df\n",
        "dfb = dfb[dfb['problem_type'] == 'HardwareGridProblem']\n",
        "dfb = dfb[['p', 'instance_i', 'n_qubits', 'energy_ratio', 'f_val_ratio']]\n",
        "P_LIMIT = max(dfb['p'])\n",
        "\n",
        "def max_over_p(group):\n",
        "    i = group['energy_ratio'].idxmax()\n",
        "    return group.loc[i][['energy_ratio', 'p']]\n",
        "\n",
        "def count_p(group):\n",
        "    new = {}\n",
        "    for i, c in enumerate(np.bincount(group['p'], minlength=P_LIMIT+1)):\n",
        "        if i == 0:\n",
        "            continue\n",
        "        new[f'p{i}'] = c\n",
        "    return pd.Series(new)\n",
        "    \n",
        "\n",
        "dfgy = dfb.groupby(['n_qubits', 'instance_i']).apply(max_over_p).reset_index()\n",
        "dfgz = dfgy.groupby(['n_qubits']).apply(count_p).reset_index()\n",
        "# In the paper, we restrict to n > 10\n",
        "# dfgz = dfgz[dfgz['n_qubits'] > 10]\n",
        "dfgz = dfgz.set_index('n_qubits').sum(axis=0)\n",
        "dfgz /= (dfgz.sum())\n",
        "dfgz"
      ]
    },
    {
      "cell_type": "code",
      "execution_count": null,
      "metadata": {
        "colab": {},
        "colab_type": "code",
        "id": "H8DmJA_u_8lt"
      },
      "outputs": [],
      "source": [
        "dfb = df\n",
        "dfb = dfb[dfb['problem_type'] == 'HardwareGridProblem']\n",
        "dfb = dfb[['p', 'instance_i', 'n_qubits', 'energy_ratio', 'f_val_ratio']]\n",
        "# In the paper, we restrict to n > 10\n",
        "# dfb = dfb[dfb['n_qubits'] > 10]\n",
        "dfg = dfb.groupby('p').agg(['median', percentile(25), percentile(75), 'mean', 'std']).reset_index()\n",
        "\n",
        "plt.subplots(figsize=(5.5,4))\n",
        "plt.errorbar(x=dfg['p'], y=dfg['f_val_ratio', 'mean'],\n",
        "             yerr=(dfg['f_val_ratio', 'std'],\n",
        "                   dfg['f_val_ratio', 'std']),\n",
        "             fmt='o-',\n",
        "             capsize=7,\n",
        "             color=QGREEN,\n",
        "             label='Noiseless'\n",
        "           )\n",
        "plt.errorbar(x=dfg['p'], y=dfg['energy_ratio', 'mean'],\n",
        "             yerr=(dfg['energy_ratio', 'std'],\n",
        "                   dfg['energy_ratio', 'std']),\n",
        "             fmt='o-',\n",
        "             capsize=7,\n",
        "             color=QBLUE,\n",
        "             label='Experiment'\n",
        "           )\n",
        "plt.xlabel('p')\n",
        "plt.ylabel('Mean ' + COVERCMIN)\n",
        "plt.ylim((0, 1))\n",
        "plt.text(0.05, 0.9, r'Hardware Grid', fontsize=16, transform=plt.gca().transAxes, ha='left', va='bottom')\n",
        "plt.legend(loc='center right')\n",
        "\n",
        "ax2 = plt.gca().twinx()  # instantiate a second axes that shares the same x-axis\n",
        "\n",
        "dfgz_p = [int(s[1:]) for s in dfgz.index]\n",
        "dfgz_y = dfgz.values\n",
        "ax2.bar(dfgz_p, dfgz_y, color=QBLUE, width=0.9, lw=1, ec='k')\n",
        "ax2.tick_params(axis='y')\n",
        "ax2.set_ylim((0, 2))\n",
        "ax2.set_yticks([0, 0.25, 0.50])\n",
        "ax2.set_yticklabels(['0%', None, '50%'])\n",
        "ax2.set_ylabel('Fraction best' + ' ' * 41, fontsize=14)\n",
        "\n",
        "plt.tight_layout()"
      ]
    }
  ],
  "metadata": {
    "colab": {
      "name": "precomputed-analysis.ipynb",
      "private_outputs": true,
      "provenance": [],
      "toc_visible": true
    },
    "kernelspec": {
      "display_name": "Python 3",
      "language": "python",
      "name": "python3"
    }
  },
  "nbformat": 4,
  "nbformat_minor": 0
}
