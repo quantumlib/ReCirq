{
 "cells": [
  {
   "cell_type": "markdown",
   "metadata": {
    "id": "VR2Lvo4EHL0p"
   },
   "source": [
    "##### Copyright 2020 Google"
   ]
  },
  {
   "cell_type": "code",
   "execution_count": 1,
   "metadata": {
    "cellView": "form",
    "id": "_T9QnFcLHM6X"
   },
   "outputs": [],
   "source": [
    "#@title Licensed under the Apache License, Version 2.0 (the \"License\");\n",
    "# you may not use this file except in compliance with the License.\n",
    "# You may obtain a copy of the License at\n",
    "#\n",
    "# https://www.apache.org/licenses/LICENSE-2.0\n",
    "#\n",
    "# Unless required by applicable law or agreed to in writing, software\n",
    "# distributed under the License is distributed on an \"AS IS\" BASIS,\n",
    "# WITHOUT WARRANTIES OR CONDITIONS OF ANY KIND, either express or implied.\n",
    "# See the License for the specific language governing permissions and\n",
    "# limitations under the License."
   ]
  },
  {
   "cell_type": "markdown",
   "metadata": {
    "id": "fxCMG_D4GNmG"
   },
   "source": [
    "# Landscape analysis"
   ]
  },
  {
   "cell_type": "markdown",
   "metadata": {
    "id": "HlVuKWCNHZkH"
   },
   "source": [
    "<table class=\"tfo-notebook-buttons\" align=\"left\">\n",
    "  <td>\n",
    "    <a target=\"_blank\" href=\"https://quantumai.google/cirq/experiments/qaoa/landscape_analysis\"><img src=\"https://quantumai.google/site-assets/images/buttons/quantumai_logo_1x.png\" />View on QuantumAI</a>\n",
    "  </td>\n",
    "  <td>\n",
    "    <a target=\"_blank\" href=\"https://colab.research.google.com/github/quantumlib/ReCirq/blob/master/docs/qaoa/landscape_analysis.ipynb\"><img src=\"https://quantumai.google/site-assets/images/buttons/colab_logo_1x.png\" />Run in Google Colab</a>\n",
    "  </td>\n",
    "  <td>\n",
    "    <a target=\"_blank\" href=\"https://github.com/quantumlib/ReCirq/blob/master/docs/qaoa/landscape_analysis.ipynb\"><img src=\"https://quantumai.google/site-assets/images/buttons/github_logo_1x.png\" />View source on GitHub</a>\n",
    "  </td>\n",
    "  <td>\n",
    "    <a href=\"https://storage.googleapis.com/tensorflow_docs/ReCirq/docs/qaoa/landscape_analysis.ipynb\"><img src=\"https://quantumai.google/site-assets/images/buttons/download_icon_1x.png\" />Download notebook</a>\n",
    "  </td>\n",
    "</table>"
   ]
  },
  {
   "cell_type": "markdown",
   "metadata": {
    "id": "XPjEBYRKHppK"
   },
   "source": [
    "## Setup\n",
    "\n",
    "Install the ReCirq package:"
   ]
  },
  {
   "cell_type": "code",
   "execution_count": 2,
   "metadata": {
    "id": "uXGu8mbaHqiP"
   },
   "outputs": [],
   "source": [
    "try:\n",
    "    import recirq\n",
    "except ImportError:\n",
    "    !pip install git+https://github.com/quantumlib/ReCirq"
   ]
  },
  {
   "cell_type": "markdown",
   "metadata": {
    "id": "lCmRb3suHyxC"
   },
   "source": [
    "Now import Cirq, ReCirq and the module dependencies:"
   ]
  },
  {
   "cell_type": "code",
   "execution_count": 3,
   "metadata": {
    "id": "R4xXqQBKH1iH"
   },
   "outputs": [],
   "source": [
    "import recirq\n",
    "import cirq\n",
    "import numpy as np\n",
    "import pandas as pd\n",
    "\n",
    "from datetime import datetime"
   ]
  },
  {
   "cell_type": "markdown",
   "metadata": {
    "id": "rBhIQDeXGNmI"
   },
   "source": [
    "## Load the raw data\n",
    "\n",
    "Go through each record, load in supporting objects, flatten everything into records, and put into a massive dataframe."
   ]
  },
  {
   "cell_type": "code",
   "execution_count": 4,
   "metadata": {
    "id": "712qKWMqGNmJ"
   },
   "outputs": [
    {
     "data": {
      "text/html": [
       "<div>\n",
       "<style scoped>\n",
       "    .dataframe tbody tr th:only-of-type {\n",
       "        vertical-align: middle;\n",
       "    }\n",
       "\n",
       "    .dataframe tbody tr th {\n",
       "        vertical-align: top;\n",
       "    }\n",
       "\n",
       "    .dataframe thead th {\n",
       "        text-align: right;\n",
       "    }\n",
       "</style>\n",
       "<table border=\"1\" class=\"dataframe\">\n",
       "  <thead>\n",
       "    <tr style=\"text-align: right;\">\n",
       "      <th></th>\n",
       "      <th>timestamp</th>\n",
       "      <th>bitstrings</th>\n",
       "      <th>qubits</th>\n",
       "      <th>final_qubits</th>\n",
       "      <th>execution_time</th>\n",
       "      <th>problem</th>\n",
       "      <th>problem_type</th>\n",
       "      <th>dataset_id</th>\n",
       "      <th>device_name</th>\n",
       "      <th>n_shots</th>\n",
       "      <th>gamma</th>\n",
       "      <th>beta</th>\n",
       "      <th>line_placement_strategy</th>\n",
       "      <th>generation_task.dataset_id</th>\n",
       "      <th>generation_task.device_name</th>\n",
       "      <th>instance_i</th>\n",
       "      <th>n_qubits</th>\n",
       "      <th>ro</th>\n",
       "    </tr>\n",
       "  </thead>\n",
       "  <tbody>\n",
       "    <tr>\n",
       "      <th>0</th>\n",
       "      <td>2020-04-09 15:37:00.869235</td>\n",
       "      <td>[[1, 0, 1, 1], [0, 0, 0, 0], [0, 1, 0, 0], [1,...</td>\n",
       "      <td>[(5, 3), (6, 2), (6, 3), (6, 4)]</td>\n",
       "      <td>[(5, 3), (6, 2), (6, 3), (6, 4)]</td>\n",
       "      <td>0.313614</td>\n",
       "      <td>(2, 0, 1, 3)</td>\n",
       "      <td>HardwareGridProblem</td>\n",
       "      <td>2020-03-tutorial</td>\n",
       "      <td>Syc23-simulator</td>\n",
       "      <td>50000</td>\n",
       "      <td>0.000000</td>\n",
       "      <td>-0.628319</td>\n",
       "      <td>None</td>\n",
       "      <td>2020-03-tutorial</td>\n",
       "      <td>Sycamore23</td>\n",
       "      <td>0</td>\n",
       "      <td>4</td>\n",
       "      <td>{'timestamp': 2020-04-09 15:36:56.335579, 'tas...</td>\n",
       "    </tr>\n",
       "    <tr>\n",
       "      <th>1</th>\n",
       "      <td>2020-04-09 15:37:04.727655</td>\n",
       "      <td>[[0, 0, 1, 1], [1, 0, 0, 0], [0, 0, 1, 0], [1,...</td>\n",
       "      <td>[(5, 3), (6, 2), (6, 3), (6, 4)]</td>\n",
       "      <td>[(5, 3), (6, 2), (6, 3), (6, 4)]</td>\n",
       "      <td>0.275332</td>\n",
       "      <td>(2, 0, 1, 3)</td>\n",
       "      <td>HardwareGridProblem</td>\n",
       "      <td>2020-03-tutorial</td>\n",
       "      <td>Syc23-simulator</td>\n",
       "      <td>50000</td>\n",
       "      <td>0.314159</td>\n",
       "      <td>-0.314159</td>\n",
       "      <td>None</td>\n",
       "      <td>2020-03-tutorial</td>\n",
       "      <td>Sycamore23</td>\n",
       "      <td>0</td>\n",
       "      <td>4</td>\n",
       "      <td>{'timestamp': 2020-04-09 15:36:56.335579, 'tas...</td>\n",
       "    </tr>\n",
       "    <tr>\n",
       "      <th>2</th>\n",
       "      <td>2020-04-09 15:36:57.983027</td>\n",
       "      <td>[[1, 0, 0, 0], [1, 0, 0, 0], [0, 1, 1, 1], [0,...</td>\n",
       "      <td>[(5, 3), (6, 2), (6, 3), (6, 4)]</td>\n",
       "      <td>[(5, 3), (6, 2), (6, 3), (6, 4)]</td>\n",
       "      <td>0.318986</td>\n",
       "      <td>(2, 0, 1, 3)</td>\n",
       "      <td>HardwareGridProblem</td>\n",
       "      <td>2020-03-tutorial</td>\n",
       "      <td>Syc23-simulator</td>\n",
       "      <td>50000</td>\n",
       "      <td>0.942478</td>\n",
       "      <td>-0.471239</td>\n",
       "      <td>None</td>\n",
       "      <td>2020-03-tutorial</td>\n",
       "      <td>Sycamore23</td>\n",
       "      <td>0</td>\n",
       "      <td>4</td>\n",
       "      <td>{'timestamp': 2020-04-09 15:36:56.335579, 'tas...</td>\n",
       "    </tr>\n",
       "    <tr>\n",
       "      <th>3</th>\n",
       "      <td>2020-04-09 15:37:01.812070</td>\n",
       "      <td>[[0, 1, 1, 1], [1, 0, 1, 0], [0, 1, 1, 1], [1,...</td>\n",
       "      <td>[(5, 3), (6, 2), (6, 3), (6, 4)]</td>\n",
       "      <td>[(5, 3), (6, 2), (6, 3), (6, 4)]</td>\n",
       "      <td>0.269333</td>\n",
       "      <td>(2, 0, 1, 3)</td>\n",
       "      <td>HardwareGridProblem</td>\n",
       "      <td>2020-03-tutorial</td>\n",
       "      <td>Syc23-simulator</td>\n",
       "      <td>50000</td>\n",
       "      <td>0.942478</td>\n",
       "      <td>0.628319</td>\n",
       "      <td>None</td>\n",
       "      <td>2020-03-tutorial</td>\n",
       "      <td>Sycamore23</td>\n",
       "      <td>0</td>\n",
       "      <td>4</td>\n",
       "      <td>{'timestamp': 2020-04-09 15:36:56.335579, 'tas...</td>\n",
       "    </tr>\n",
       "    <tr>\n",
       "      <th>4</th>\n",
       "      <td>2020-04-09 15:35:08.025959</td>\n",
       "      <td>[[0, 0, 1, 0], [1, 0, 1, 0], [1, 1, 1, 0], [1,...</td>\n",
       "      <td>[(5, 3), (6, 2), (6, 3), (6, 4)]</td>\n",
       "      <td>[(5, 3), (6, 2), (6, 3), (6, 4)]</td>\n",
       "      <td>0.254191</td>\n",
       "      <td>(2, 0, 1, 3)</td>\n",
       "      <td>HardwareGridProblem</td>\n",
       "      <td>2020-03-tutorial</td>\n",
       "      <td>Syc23-simulator</td>\n",
       "      <td>50000</td>\n",
       "      <td>0.314159</td>\n",
       "      <td>0.314159</td>\n",
       "      <td>None</td>\n",
       "      <td>2020-03-tutorial</td>\n",
       "      <td>Sycamore23</td>\n",
       "      <td>0</td>\n",
       "      <td>4</td>\n",
       "      <td>{'timestamp': 2020-04-09 15:34:55.692246, 'tas...</td>\n",
       "    </tr>\n",
       "  </tbody>\n",
       "</table>\n",
       "</div>"
      ],
      "text/plain": [
       "                   timestamp  \\\n",
       "0 2020-04-09 15:37:00.869235   \n",
       "1 2020-04-09 15:37:04.727655   \n",
       "2 2020-04-09 15:36:57.983027   \n",
       "3 2020-04-09 15:37:01.812070   \n",
       "4 2020-04-09 15:35:08.025959   \n",
       "\n",
       "                                          bitstrings  \\\n",
       "0  [[1, 0, 1, 1], [0, 0, 0, 0], [0, 1, 0, 0], [1,...   \n",
       "1  [[0, 0, 1, 1], [1, 0, 0, 0], [0, 0, 1, 0], [1,...   \n",
       "2  [[1, 0, 0, 0], [1, 0, 0, 0], [0, 1, 1, 1], [0,...   \n",
       "3  [[0, 1, 1, 1], [1, 0, 1, 0], [0, 1, 1, 1], [1,...   \n",
       "4  [[0, 0, 1, 0], [1, 0, 1, 0], [1, 1, 1, 0], [1,...   \n",
       "\n",
       "                             qubits                      final_qubits  \\\n",
       "0  [(5, 3), (6, 2), (6, 3), (6, 4)]  [(5, 3), (6, 2), (6, 3), (6, 4)]   \n",
       "1  [(5, 3), (6, 2), (6, 3), (6, 4)]  [(5, 3), (6, 2), (6, 3), (6, 4)]   \n",
       "2  [(5, 3), (6, 2), (6, 3), (6, 4)]  [(5, 3), (6, 2), (6, 3), (6, 4)]   \n",
       "3  [(5, 3), (6, 2), (6, 3), (6, 4)]  [(5, 3), (6, 2), (6, 3), (6, 4)]   \n",
       "4  [(5, 3), (6, 2), (6, 3), (6, 4)]  [(5, 3), (6, 2), (6, 3), (6, 4)]   \n",
       "\n",
       "   execution_time       problem         problem_type        dataset_id  \\\n",
       "0        0.313614  (2, 0, 1, 3)  HardwareGridProblem  2020-03-tutorial   \n",
       "1        0.275332  (2, 0, 1, 3)  HardwareGridProblem  2020-03-tutorial   \n",
       "2        0.318986  (2, 0, 1, 3)  HardwareGridProblem  2020-03-tutorial   \n",
       "3        0.269333  (2, 0, 1, 3)  HardwareGridProblem  2020-03-tutorial   \n",
       "4        0.254191  (2, 0, 1, 3)  HardwareGridProblem  2020-03-tutorial   \n",
       "\n",
       "       device_name  n_shots     gamma      beta line_placement_strategy  \\\n",
       "0  Syc23-simulator    50000  0.000000 -0.628319                    None   \n",
       "1  Syc23-simulator    50000  0.314159 -0.314159                    None   \n",
       "2  Syc23-simulator    50000  0.942478 -0.471239                    None   \n",
       "3  Syc23-simulator    50000  0.942478  0.628319                    None   \n",
       "4  Syc23-simulator    50000  0.314159  0.314159                    None   \n",
       "\n",
       "  generation_task.dataset_id generation_task.device_name  instance_i  \\\n",
       "0           2020-03-tutorial                  Sycamore23           0   \n",
       "1           2020-03-tutorial                  Sycamore23           0   \n",
       "2           2020-03-tutorial                  Sycamore23           0   \n",
       "3           2020-03-tutorial                  Sycamore23           0   \n",
       "4           2020-03-tutorial                  Sycamore23           0   \n",
       "\n",
       "   n_qubits                                                 ro  \n",
       "0         4  {'timestamp': 2020-04-09 15:36:56.335579, 'tas...  \n",
       "1         4  {'timestamp': 2020-04-09 15:36:56.335579, 'tas...  \n",
       "2         4  {'timestamp': 2020-04-09 15:36:56.335579, 'tas...  \n",
       "3         4  {'timestamp': 2020-04-09 15:36:56.335579, 'tas...  \n",
       "4         4  {'timestamp': 2020-04-09 15:34:55.692246, 'tas...  "
      ]
     },
     "execution_count": 4,
     "metadata": {},
     "output_type": "execute_result"
    }
   ],
   "source": [
    "from recirq.qaoa.experiments.p1_landscape_tasks import \\\n",
    "    DEFAULT_BASE_DIR, DEFAULT_PROBLEM_GENERATION_BASE_DIR, DEFAULT_PRECOMPUTATION_BASE_DIR, \\\n",
    "    ReadoutCalibrationTask\n",
    "\n",
    "records = []\n",
    "ro_records = []\n",
    "for record in recirq.iterload_records(dataset_id=\"2020-03-tutorial\", base_dir=DEFAULT_BASE_DIR):\n",
    "    record['timestamp'] = datetime.fromisoformat(record['timestamp'])\n",
    "    dc_task = record['task']\n",
    "    \n",
    "    if isinstance(dc_task, ReadoutCalibrationTask):\n",
    "        ro_records.append(record)\n",
    "        continue\n",
    "    \n",
    "    pgen_task = dc_task.generation_task    \n",
    "    problem = recirq.load(pgen_task, base_dir=DEFAULT_PROBLEM_GENERATION_BASE_DIR)['problem']\n",
    "    record['problem'] = problem.graph\n",
    "    record['problem_type'] = problem.__class__.__name__\n",
    "    record['bitstrings'] = record['bitstrings'].bits\n",
    "    recirq.flatten_dataclass_into_record(record, 'task')\n",
    "    recirq.flatten_dataclass_into_record(record, 'generation_task')    \n",
    "    records.append(record)\n",
    "    \n",
    "# Associate each data collection task with its nearest readout calibration\n",
    "for record in sorted(records, key=lambda x: x['timestamp']):\n",
    "    record['ro'] = min(ro_records, key=lambda x: abs((x['timestamp']-record['timestamp']).total_seconds()))\n",
    "    \n",
    "df_raw = pd.DataFrame(records)    \n",
    "df_raw.head()"
   ]
  },
  {
   "cell_type": "markdown",
   "metadata": {
    "id": "USX63LGZGNmQ"
   },
   "source": [
    "## Narrow down to relevant data\n",
    "\n",
    "Drop unnecessary metadata and use bitstrings to compute the expected value of the energy. In general, it's better to save the raw data and lots of metadata so we can use it if it becomes necessary in the future."
   ]
  },
  {
   "cell_type": "code",
   "execution_count": 5,
   "metadata": {
    "id": "7d10i0SQGNmR"
   },
   "outputs": [
    {
     "data": {
      "text/html": [
       "<div>\n",
       "<style scoped>\n",
       "    .dataframe tbody tr th:only-of-type {\n",
       "        vertical-align: middle;\n",
       "    }\n",
       "\n",
       "    .dataframe tbody tr th {\n",
       "        vertical-align: top;\n",
       "    }\n",
       "\n",
       "    .dataframe thead th {\n",
       "        text-align: right;\n",
       "    }\n",
       "</style>\n",
       "<table border=\"1\" class=\"dataframe\">\n",
       "  <thead>\n",
       "    <tr style=\"text-align: right;\">\n",
       "      <th></th>\n",
       "      <th>timestamp</th>\n",
       "      <th>problem_type</th>\n",
       "      <th>dataset_id</th>\n",
       "      <th>device_name</th>\n",
       "      <th>n_shots</th>\n",
       "      <th>gamma</th>\n",
       "      <th>beta</th>\n",
       "      <th>instance_i</th>\n",
       "      <th>n_qubits</th>\n",
       "      <th>energy</th>\n",
       "    </tr>\n",
       "  </thead>\n",
       "  <tbody>\n",
       "    <tr>\n",
       "      <th>0</th>\n",
       "      <td>2020-04-09 15:37:00.869235</td>\n",
       "      <td>HardwareGridProblem</td>\n",
       "      <td>2020-03-tutorial</td>\n",
       "      <td>Syc23-simulator</td>\n",
       "      <td>50000</td>\n",
       "      <td>0.000000</td>\n",
       "      <td>-0.628319</td>\n",
       "      <td>0</td>\n",
       "      <td>4</td>\n",
       "      <td>-0.001450</td>\n",
       "    </tr>\n",
       "    <tr>\n",
       "      <th>1</th>\n",
       "      <td>2020-04-09 15:37:04.727655</td>\n",
       "      <td>HardwareGridProblem</td>\n",
       "      <td>2020-03-tutorial</td>\n",
       "      <td>Syc23-simulator</td>\n",
       "      <td>50000</td>\n",
       "      <td>0.314159</td>\n",
       "      <td>-0.314159</td>\n",
       "      <td>0</td>\n",
       "      <td>4</td>\n",
       "      <td>-1.186133</td>\n",
       "    </tr>\n",
       "    <tr>\n",
       "      <th>2</th>\n",
       "      <td>2020-04-09 15:36:57.983027</td>\n",
       "      <td>HardwareGridProblem</td>\n",
       "      <td>2020-03-tutorial</td>\n",
       "      <td>Syc23-simulator</td>\n",
       "      <td>50000</td>\n",
       "      <td>0.942478</td>\n",
       "      <td>-0.471239</td>\n",
       "      <td>0</td>\n",
       "      <td>4</td>\n",
       "      <td>-1.275730</td>\n",
       "    </tr>\n",
       "    <tr>\n",
       "      <th>3</th>\n",
       "      <td>2020-04-09 15:37:01.812070</td>\n",
       "      <td>HardwareGridProblem</td>\n",
       "      <td>2020-03-tutorial</td>\n",
       "      <td>Syc23-simulator</td>\n",
       "      <td>50000</td>\n",
       "      <td>0.942478</td>\n",
       "      <td>0.628319</td>\n",
       "      <td>0</td>\n",
       "      <td>4</td>\n",
       "      <td>0.789333</td>\n",
       "    </tr>\n",
       "    <tr>\n",
       "      <th>4</th>\n",
       "      <td>2020-04-09 15:35:08.025959</td>\n",
       "      <td>HardwareGridProblem</td>\n",
       "      <td>2020-03-tutorial</td>\n",
       "      <td>Syc23-simulator</td>\n",
       "      <td>50000</td>\n",
       "      <td>0.314159</td>\n",
       "      <td>0.314159</td>\n",
       "      <td>0</td>\n",
       "      <td>4</td>\n",
       "      <td>1.179826</td>\n",
       "    </tr>\n",
       "    <tr>\n",
       "      <th>...</th>\n",
       "      <td>...</td>\n",
       "      <td>...</td>\n",
       "      <td>...</td>\n",
       "      <td>...</td>\n",
       "      <td>...</td>\n",
       "      <td>...</td>\n",
       "      <td>...</td>\n",
       "      <td>...</td>\n",
       "      <td>...</td>\n",
       "      <td>...</td>\n",
       "    </tr>\n",
       "    <tr>\n",
       "      <th>358</th>\n",
       "      <td>2020-04-09 15:41:13.099781</td>\n",
       "      <td>SKProblem</td>\n",
       "      <td>2020-03-tutorial</td>\n",
       "      <td>Syc23-simulator</td>\n",
       "      <td>50000</td>\n",
       "      <td>0.785398</td>\n",
       "      <td>-0.785398</td>\n",
       "      <td>0</td>\n",
       "      <td>3</td>\n",
       "      <td>2.174503</td>\n",
       "    </tr>\n",
       "    <tr>\n",
       "      <th>359</th>\n",
       "      <td>2020-04-09 15:41:20.826151</td>\n",
       "      <td>SKProblem</td>\n",
       "      <td>2020-03-tutorial</td>\n",
       "      <td>Syc23-simulator</td>\n",
       "      <td>50000</td>\n",
       "      <td>0.000000</td>\n",
       "      <td>-0.314159</td>\n",
       "      <td>0</td>\n",
       "      <td>3</td>\n",
       "      <td>0.010952</td>\n",
       "    </tr>\n",
       "    <tr>\n",
       "      <th>360</th>\n",
       "      <td>2020-04-09 15:43:10.625181</td>\n",
       "      <td>SKProblem</td>\n",
       "      <td>2020-03-tutorial</td>\n",
       "      <td>Syc23-simulator</td>\n",
       "      <td>50000</td>\n",
       "      <td>0.785398</td>\n",
       "      <td>-0.628319</td>\n",
       "      <td>0</td>\n",
       "      <td>3</td>\n",
       "      <td>1.957544</td>\n",
       "    </tr>\n",
       "    <tr>\n",
       "      <th>361</th>\n",
       "      <td>2020-04-09 15:43:18.326221</td>\n",
       "      <td>SKProblem</td>\n",
       "      <td>2020-03-tutorial</td>\n",
       "      <td>Syc23-simulator</td>\n",
       "      <td>50000</td>\n",
       "      <td>0.314159</td>\n",
       "      <td>-0.314159</td>\n",
       "      <td>0</td>\n",
       "      <td>3</td>\n",
       "      <td>-0.808255</td>\n",
       "    </tr>\n",
       "    <tr>\n",
       "      <th>362</th>\n",
       "      <td>2020-04-09 15:45:17.505543</td>\n",
       "      <td>SKProblem</td>\n",
       "      <td>2020-03-tutorial</td>\n",
       "      <td>Syc23-simulator</td>\n",
       "      <td>50000</td>\n",
       "      <td>0.000000</td>\n",
       "      <td>0.000000</td>\n",
       "      <td>0</td>\n",
       "      <td>3</td>\n",
       "      <td>-0.004189</td>\n",
       "    </tr>\n",
       "  </tbody>\n",
       "</table>\n",
       "<p>363 rows × 10 columns</p>\n",
       "</div>"
      ],
      "text/plain": [
       "                     timestamp         problem_type        dataset_id  \\\n",
       "0   2020-04-09 15:37:00.869235  HardwareGridProblem  2020-03-tutorial   \n",
       "1   2020-04-09 15:37:04.727655  HardwareGridProblem  2020-03-tutorial   \n",
       "2   2020-04-09 15:36:57.983027  HardwareGridProblem  2020-03-tutorial   \n",
       "3   2020-04-09 15:37:01.812070  HardwareGridProblem  2020-03-tutorial   \n",
       "4   2020-04-09 15:35:08.025959  HardwareGridProblem  2020-03-tutorial   \n",
       "..                         ...                  ...               ...   \n",
       "358 2020-04-09 15:41:13.099781            SKProblem  2020-03-tutorial   \n",
       "359 2020-04-09 15:41:20.826151            SKProblem  2020-03-tutorial   \n",
       "360 2020-04-09 15:43:10.625181            SKProblem  2020-03-tutorial   \n",
       "361 2020-04-09 15:43:18.326221            SKProblem  2020-03-tutorial   \n",
       "362 2020-04-09 15:45:17.505543            SKProblem  2020-03-tutorial   \n",
       "\n",
       "         device_name  n_shots     gamma      beta  instance_i  n_qubits  \\\n",
       "0    Syc23-simulator    50000  0.000000 -0.628319           0         4   \n",
       "1    Syc23-simulator    50000  0.314159 -0.314159           0         4   \n",
       "2    Syc23-simulator    50000  0.942478 -0.471239           0         4   \n",
       "3    Syc23-simulator    50000  0.942478  0.628319           0         4   \n",
       "4    Syc23-simulator    50000  0.314159  0.314159           0         4   \n",
       "..               ...      ...       ...       ...         ...       ...   \n",
       "358  Syc23-simulator    50000  0.785398 -0.785398           0         3   \n",
       "359  Syc23-simulator    50000  0.000000 -0.314159           0         3   \n",
       "360  Syc23-simulator    50000  0.785398 -0.628319           0         3   \n",
       "361  Syc23-simulator    50000  0.314159 -0.314159           0         3   \n",
       "362  Syc23-simulator    50000  0.000000  0.000000           0         3   \n",
       "\n",
       "       energy  \n",
       "0   -0.001450  \n",
       "1   -1.186133  \n",
       "2   -1.275730  \n",
       "3    0.789333  \n",
       "4    1.179826  \n",
       "..        ...  \n",
       "358  2.174503  \n",
       "359  0.010952  \n",
       "360  1.957544  \n",
       "361 -0.808255  \n",
       "362 -0.004189  \n",
       "\n",
       "[363 rows x 10 columns]"
      ]
     },
     "execution_count": 5,
     "metadata": {},
     "output_type": "execute_result"
    }
   ],
   "source": [
    "from recirq.qaoa.simulation import hamiltonian_objectives\n",
    "\n",
    "def compute_energies(row):\n",
    "    permutation = []\n",
    "    qubit_map = {}\n",
    "    final_qubit_index = {q: i for i, q in enumerate(row['final_qubits'])}\n",
    "    for i, q in enumerate(row['qubits']):\n",
    "        fi = final_qubit_index[q]\n",
    "        permutation.append(fi)\n",
    "        qubit_map[i] = q\n",
    "        \n",
    "    return hamiltonian_objectives(row['bitstrings'], \n",
    "                                  row['problem'], \n",
    "                                  permutation,\n",
    "                                  row['ro']['calibration'],\n",
    "                                  qubit_map)\n",
    "\n",
    "# Start cleaning up the raw data\n",
    "df = df_raw.copy()\n",
    "df = df.drop(['line_placement_strategy', \n",
    "              'generation_task.dataset_id', \n",
    "              'generation_task.device_name'], axis=1)\n",
    "\n",
    "# Compute energies\n",
    "df['energies'] = df.apply(compute_energies, axis=1)\n",
    "df = df.drop(['bitstrings', 'problem', 'ro', 'qubits', 'final_qubits'], axis=1)\n",
    "df['energy'] = df.apply(lambda row: np.mean(row['energies']), axis=1)\n",
    "\n",
    "# We won't do anything with raw energies right now\n",
    "df = df.drop('energies', axis=1)\n",
    "\n",
    "# Do timing somewhere else\n",
    "df = df.drop([col for col in df.columns if col.endswith('_time')], axis=1)\n",
    "\n",
    "df"
   ]
  },
  {
   "cell_type": "markdown",
   "metadata": {
    "id": "2W0xD1ZuGNmX"
   },
   "source": [
    "## Compute theoretical landscape\n",
    "\n",
    "Use a simulator to compute the noiseless landscape. This can get quite expensive, so it would be better practice to factor this out into Tasks in their own right: https://github.com/quantumlib/ReCirq/issues/21"
   ]
  },
  {
   "cell_type": "code",
   "execution_count": 6,
   "metadata": {
    "id": "TvVo6jehGNmY"
   },
   "outputs": [],
   "source": [
    "def get_problem_graph(problem_type,\n",
    "                    n=None,\n",
    "                    instance_i=0):\n",
    "    if n is None:\n",
    "        if problem_type == 'HardwareGridProblem':\n",
    "            n = 4\n",
    "        elif problem_type == 'SKProblem':\n",
    "            n = 3\n",
    "        elif problem_type == 'ThreeRegularProblem':\n",
    "            n = 4\n",
    "        else:\n",
    "            raise ValueError(repr(problem_type))\n",
    "    \n",
    "    r = df_raw[\n",
    "        (df_raw['problem_type']==problem_type)&\n",
    "        (df_raw['n_qubits']==n)&\n",
    "        (df_raw['instance_i']==instance_i)\n",
    "    ]['problem']\n",
    "    return r.iloc[0]\n",
    "\n",
    "\n",
    "from recirq.qaoa.simulation import exact_qaoa_values_on_grid, lowest_and_highest_energy\n",
    "import itertools\n",
    "\n",
    "def compute_exact_values(problem_type, x_grid_num=23, y_grid_num=21):\n",
    "    exact = exact_qaoa_values_on_grid(\n",
    "        graph=get_problem_graph(problem_type),\n",
    "        num_processors=12,\n",
    "        x_grid_num=x_grid_num,\n",
    "        y_grid_num=y_grid_num,\n",
    "    ).T.reshape(-1)\n",
    "    \n",
    "    exact_gammas = np.linspace(0, np.pi/2, x_grid_num)\n",
    "    exact_betas  = np.linspace(-np.pi/4, np.pi/4, y_grid_num)\n",
    "    exact_points = np.asarray(list(itertools.product(exact_gammas, exact_betas)))\n",
    "    min_c, max_c = lowest_and_highest_energy(get_problem_graph(problem_type))\n",
    "    return exact_points, exact, min_c, max_c\n",
    "\n",
    "EXACT_VALS_CACHE = {k: compute_exact_values(k) \n",
    "                    for k in ['HardwareGridProblem', 'SKProblem', 'ThreeRegularProblem']}"
   ]
  },
  {
   "cell_type": "markdown",
   "metadata": {
    "id": "-ve-NefQGNmb"
   },
   "source": [
    "## Plot"
   ]
  },
  {
   "cell_type": "code",
   "execution_count": 7,
   "metadata": {
    "id": "b3no_VisGNmc"
   },
   "outputs": [],
   "source": [
    "%matplotlib inline\n",
    "from matplotlib import pyplot as plt\n",
    "\n",
    "import seaborn as sns\n",
    "sns.set_style('ticks')\n",
    "\n",
    "plt.rc('axes', labelsize=16, titlesize=16)\n",
    "plt.rc('xtick', labelsize=14)\n",
    "plt.rc('ytick', labelsize=14)\n",
    "plt.rc('legend', fontsize=14, title_fontsize=16)\n",
    "\n",
    "# Note: I ran into https://github.com/matplotlib/matplotlib/issues/15410\n",
    "# if I imported matplotlib before using multiprocessing in `exact_qaoa_values_on_grid`, YMMV."
   ]
  },
  {
   "cell_type": "code",
   "execution_count": 8,
   "metadata": {
    "id": "eh1eIY32GNmg"
   },
   "outputs": [],
   "source": [
    "import scipy.interpolate\n",
    "\n",
    "def plot_landscape(problem_type, res=200, method='nearest', cmap='PuOr'):\n",
    "    dfb = df\n",
    "    dfb = dfb[dfb['problem_type'] == problem_type]\n",
    "    xx, yy = np.meshgrid(np.linspace(0, np.pi/2, res), np.linspace(-np.pi/4, np.pi/4, res))\n",
    "    exact_points, exact, min_c, max_c = EXACT_VALS_CACHE[problem_type]\n",
    "\n",
    "    zz = scipy.interpolate.griddata(\n",
    "        points=dfb[['gamma', 'beta']].values,\n",
    "        values=dfb['energy'].values / min_c,\n",
    "        xi=(xx, yy),\n",
    "        method=method,\n",
    "    )\n",
    "\n",
    "    fig, (axl, axr) = plt.subplots(1, 2, figsize=(5*2, 5), sharey=True)\n",
    "    norm = plt.Normalize(max_c/min_c, min_c/min_c)\n",
    "    cmap = 'RdBu'\n",
    "    extent=(0, 4, -2, 2)\n",
    "    \n",
    "    axl.imshow(zz, extent=extent, origin='lower', cmap=cmap, norm=norm, interpolation='none')\n",
    "    axl.set_xlabel(r'$\\gamma\\ /\\ (\\pi/8)$')\n",
    "    axl.set_ylabel(r'$\\beta\\ /\\ (\\pi/8)$')\n",
    "    axl.set_title('Experiment')\n",
    "    \n",
    "    zz_exact = scipy.interpolate.griddata(\n",
    "        points=exact_points,\n",
    "        values=(exact/min_c),\n",
    "        xi=(xx, yy),\n",
    "        method=method,\n",
    "    )\n",
    "\n",
    "    g = axr.imshow(zz_exact, extent=extent, origin='lower', cmap=cmap, norm=norm, interpolation='none')\n",
    "    axr.set_xlabel(r'$\\gamma\\ /\\ (\\pi/8)$')\n",
    "    axr.set_title('Theory')\n",
    "\n",
    "    fig.colorbar(g, ax=[axl, axr], shrink=0.8)"
   ]
  },
  {
   "cell_type": "markdown",
   "metadata": {
    "id": "fOY9HQHIGNmj"
   },
   "source": [
    "### Hardware grid"
   ]
  },
  {
   "cell_type": "code",
   "execution_count": 9,
   "metadata": {
    "id": "nkakglWKGNmk"
   },
   "outputs": [
    {
     "data": {
      "image/png": "[encoded data removed]",
      "text/plain": [
       "<Figure size 720x360 with 3 Axes>"
      ]
     },
     "metadata": {},
     "output_type": "display_data"
    }
   ],
   "source": [
    "plot_landscape('HardwareGridProblem')"
   ]
  },
  {
   "cell_type": "markdown",
   "metadata": {
    "id": "89-h2nj8GNmp"
   },
   "source": [
    "### SK model"
   ]
  },
  {
   "cell_type": "code",
   "execution_count": 10,
   "metadata": {
    "id": "B7uXeEq5GNmp"
   },
   "outputs": [
    {
     "data": {
      "image/png": "[encoded data removed]",
      "text/plain": [
       "<Figure size 720x360 with 3 Axes>"
      ]
     },
     "metadata": {},
     "output_type": "display_data"
    }
   ],
   "source": [
    "plot_landscape('SKProblem')"
   ]
  },
  {
   "cell_type": "markdown",
   "metadata": {
    "id": "i7yh6WoDGNmt"
   },
   "source": [
    "## 3 regular MaxCut"
   ]
  },
  {
   "cell_type": "code",
   "execution_count": 11,
   "metadata": {
    "id": "gF5V0w7VGNmt"
   },
   "outputs": [
    {
     "data": {
      "image/png": "[encoded data removed]",
      "text/plain": [
       "<Figure size 720x360 with 3 Axes>"
      ]
     },
     "metadata": {},
     "output_type": "display_data"
    }
   ],
   "source": [
    "plot_landscape('ThreeRegularProblem')"
   ]
  }
 ],
 "metadata": {
  "colab": {
   "name": "landscape_analysis.ipynb",
   "toc_visible": true
  },
  "kernelspec": {
   "display_name": "Python 3",
   "name": "python3"
  }
 },
 "nbformat": 4,
 "nbformat_minor": 0
}
