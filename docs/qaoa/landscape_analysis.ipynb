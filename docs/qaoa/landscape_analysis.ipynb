{
  "cells": [
    {
      "cell_type": "markdown",
      "metadata": {
        "colab_type": "text",
        "id": "VR2Lvo4EHL0p"
      },
      "source": [
        "##### Copyright 2020 Google"
      ]
    },
    {
      "cell_type": "code",
      "execution_count": null,
      "metadata": {
        "cellView": "form",
        "colab": {},
        "colab_type": "code",
        "id": "_T9QnFcLHM6X"
      },
      "outputs": [],
      "source": [
        "#@title Licensed under the Apache License, Version 2.0 (the \"License\");\n",
        "# you may not use this file except in compliance with the License.\n",
        "# You may obtain a copy of the License at\n",
        "#\n",
        "# https://www.apache.org/licenses/LICENSE-2.0\n",
        "#\n",
        "# Unless required by applicable law or agreed to in writing, software\n",
        "# distributed under the License is distributed on an \"AS IS\" BASIS,\n",
        "# WITHOUT WARRANTIES OR CONDITIONS OF ANY KIND, either express or implied.\n",
        "# See the License for the specific language governing permissions and\n",
        "# limitations under the License."
      ]
    },
    {
      "cell_type": "markdown",
      "metadata": {
        "colab_type": "text",
        "id": "fxCMG_D4GNmG"
      },
      "source": [
        "# Landscape analysis"
      ]
    },
    {
      "cell_type": "markdown",
      "metadata": {
        "colab_type": "text",
        "id": "HlVuKWCNHZkH"
      },
      "source": [
        "<table class=\"tfo-notebook-buttons\" align=\"left\">\n",
        "  <td>\n",
        "    <a target=\"_blank\" href=\"https://www.example.org/cirq/research/qaoa/landscape_analysis\"><img src=\"https://www.tensorflow.org/images/tf_logo_32px.png\" />View on QuantumLib</a>\n",
        "  </td>\n",
        "  <td>\n",
        "    <a target=\"_blank\" href=\"https://colab.research.google.com/github/quantumlib/ReCirq/blob/docs/docs/qaoa/landscape_analysis.ipynb\"><img src=\"https://www.tensorflow.org/images/colab_logo_32px.png\" />Run in Google Colab</a>\n",
        "  </td>\n",
        "  <td>\n",
        "    <a target=\"_blank\" href=\"https://github.com/quantumlib/ReCirq/blob/docs/docs/qaoa/landscape_analysis.ipynb\"><img src=\"https://www.tensorflow.org/images/GitHub-Mark-32px.png\" />View source on GitHub</a>\n",
        "  </td>\n",
        "  <td>\n",
        "    <a href=\"https://storage.googleapis.com/tensorflow_docs/ReCirq/docs/qaoa/landscape_analysis.ipynb\"><img src=\"https://www.tensorflow.org/images/download_logo_32px.png\" />Download notebook</a>\n",
        "  </td>\n",
        "</table>"
      ]
    },
    {
      "cell_type": "markdown",
      "metadata": {
        "colab_type": "text",
        "id": "XPjEBYRKHppK"
      },
      "source": [
        "## Setup\n",
        "\n",
        "Install the ReCirq package:"
      ]
    },
    {
      "cell_type": "code",
      "execution_count": null,
      "metadata": {
        "colab": {},
        "colab_type": "code",
        "id": "uXGu8mbaHqiP"
      },
      "outputs": [],
      "source": [
        "!pip install git+https://github.com/quantumlib/ReCirq"
      ]
    },
    {
      "cell_type": "markdown",
      "metadata": {
        "colab_type": "text",
        "id": "lCmRb3suHyxC"
      },
      "source": [
        "Now import Cirq, ReCirq and the module dependencies:"
      ]
    },
    {
      "cell_type": "code",
      "execution_count": null,
      "metadata": {
        "colab": {},
        "colab_type": "code",
        "id": "R4xXqQBKH1iH"
      },
      "outputs": [],
      "source": [
        "import recirq\n",
        "import cirq\n",
        "import numpy as np\n",
        "import pandas as pd\n",
        "\n",
        "from datetime import datetime"
      ]
    },
    {
      "cell_type": "markdown",
      "metadata": {
        "colab_type": "text",
        "id": "rBhIQDeXGNmI"
      },
      "source": [
        "## Load the raw data\n",
        "\n",
        "Go through each record, load in supporting objects, flatten everything into records, and put into a massive dataframe."
      ]
    },
    {
      "cell_type": "code",
      "execution_count": null,
      "metadata": {
        "colab": {},
        "colab_type": "code",
        "id": "712qKWMqGNmJ"
      },
      "outputs": [],
      "source": [
        "from recirq.qaoa.experiments.p1_landscape_tasks import \\\n",
        "    DEFAULT_BASE_DIR, DEFAULT_PROBLEM_GENERATION_BASE_DIR, DEFAULT_PRECOMPUTATION_BASE_DIR, \\\n",
        "    ReadoutCalibrationTask\n",
        "\n",
        "records = []\n",
        "ro_records = []\n",
        "for record in recirq.iterload_records(dataset_id=\"2020-03-tutorial\", base_dir=DEFAULT_BASE_DIR):\n",
        "    record['timestamp'] = datetime.fromisoformat(record['timestamp'])\n",
        "    dc_task = record['task']\n",
        "    \n",
        "    if isinstance(dc_task, ReadoutCalibrationTask):\n",
        "        ro_records.append(record)\n",
        "        continue\n",
        "    \n",
        "    pgen_task = dc_task.generation_task    \n",
        "    problem = recirq.load(pgen_task, base_dir=DEFAULT_PROBLEM_GENERATION_BASE_DIR)['problem']\n",
        "    record['problem'] = problem.graph\n",
        "    record['problem_type'] = problem.__class__.__name__\n",
        "    record['bitstrings'] = record['bitstrings'].bits\n",
        "    recirq.flatten_dataclass_into_record(record, 'task')\n",
        "    recirq.flatten_dataclass_into_record(record, 'generation_task')    \n",
        "    records.append(record)\n",
        "    \n",
        "# Associate each data collection task with its nearest readout calibration\n",
        "for record in sorted(records, key=lambda x: x['timestamp']):\n",
        "    record['ro'] = min(ro_records, key=lambda x: abs((x['timestamp']-record['timestamp']).total_seconds()))\n",
        "    \n",
        "df_raw = pd.DataFrame(records)    \n",
        "df_raw.head()"
      ]
    },
    {
      "cell_type": "markdown",
      "metadata": {
        "colab_type": "text",
        "id": "USX63LGZGNmQ"
      },
      "source": [
        "## Narrow down to relevant data\n",
        "\n",
        "Drop unnecessary metadata and use bitstrings to compute the expected value of the energy. In general, it's better to save the raw data and lots of metadata so we can use it if it becomes necessary in the future."
      ]
    },
    {
      "cell_type": "code",
      "execution_count": null,
      "metadata": {
        "colab": {},
        "colab_type": "code",
        "id": "7d10i0SQGNmR"
      },
      "outputs": [],
      "source": [
        "from recirq.qaoa.simulation import hamiltonian_objectives\n",
        "\n",
        "def compute_energies(row):\n",
        "    permutation = []\n",
        "    qubit_map = {}\n",
        "    for i, q in enumerate(row['qubits']):\n",
        "        fi = row['final_qubits'].index(q)\n",
        "        permutation.append(fi)\n",
        "        qubit_map[i] = q\n",
        "        \n",
        "    return hamiltonian_objectives(row['bitstrings'], \n",
        "                                  row['problem'], \n",
        "                                  permutation,\n",
        "                                  row['ro']['calibration'],\n",
        "                                  qubit_map)\n",
        "\n",
        "# Start cleaning up the raw data\n",
        "df = df_raw.copy()\n",
        "df = df.drop(['line_placement_strategy', \n",
        "              'generation_task.dataset_id', \n",
        "              'generation_task.device_name'], axis=1)\n",
        "\n",
        "# Compute energies\n",
        "df['energies'] = df.apply(compute_energies, axis=1)\n",
        "df = df.drop(['bitstrings', 'problem', 'ro', 'qubits', 'final_qubits'], axis=1)\n",
        "df['energy'] = df.apply(lambda row: np.mean(row['energies']), axis=1)\n",
        "\n",
        "# We won't do anything with raw energies right now\n",
        "df = df.drop('energies', axis=1)\n",
        "\n",
        "# Do timing somewhere else\n",
        "df = df.drop([col for col in df.columns if col.endswith('_time')], axis=1)\n",
        "\n",
        "df"
      ]
    },
    {
      "cell_type": "markdown",
      "metadata": {
        "colab_type": "text",
        "id": "2W0xD1ZuGNmX"
      },
      "source": [
        "## Compute theoretical landscape\n",
        "\n",
        "Use a simulator to compute the noiseless landscape. This can get quite expensive, so it would be better practice to factor this out into Tasks in their own right: https://github.com/quantumlib/ReCirq/issues/21"
      ]
    },
    {
      "cell_type": "code",
      "execution_count": null,
      "metadata": {
        "colab": {},
        "colab_type": "code",
        "id": "TvVo6jehGNmY"
      },
      "outputs": [],
      "source": [
        "def get_problem_graph(problem_type,\n",
        "                    n=None,\n",
        "                    instance_i=0):\n",
        "    if n is None:\n",
        "        if problem_type == 'HardwareGridProblem':\n",
        "            n = 4\n",
        "        elif problem_type == 'SKProblem':\n",
        "            n = 3\n",
        "        elif problem_type == 'ThreeRegularProblem':\n",
        "            n = 4\n",
        "        else:\n",
        "            raise ValueError(repr(problem_type))\n",
        "    \n",
        "    r = df_raw[\n",
        "        (df_raw['problem_type']==problem_type)&\n",
        "        (df_raw['n_qubits']==n)&\n",
        "        (df_raw['instance_i']==instance_i)\n",
        "    ]['problem']\n",
        "    return r.iloc[0]\n",
        "\n",
        "\n",
        "from recirq.qaoa.simulation import exact_qaoa_values_on_grid, lowest_and_highest_energy\n",
        "import itertools\n",
        "\n",
        "def compute_exact_values(problem_type, x_grid_num=23, y_grid_num=21):\n",
        "    exact = exact_qaoa_values_on_grid(\n",
        "        graph=get_problem_graph(problem_type),\n",
        "        num_processors=12,\n",
        "        x_grid_num=x_grid_num,\n",
        "        y_grid_num=y_grid_num,\n",
        "    ).T.reshape(-1)\n",
        "    \n",
        "    exact_gammas = np.linspace(0, np.pi/2, x_grid_num)\n",
        "    exact_betas  = np.linspace(-np.pi/4, np.pi/4, y_grid_num)\n",
        "    exact_points = np.asarray(list(itertools.product(exact_gammas, exact_betas)))\n",
        "    min_c, max_c = lowest_and_highest_energy(get_problem_graph(problem_type))\n",
        "    return exact_points, exact, min_c, max_c\n",
        "\n",
        "EXACT_VALS_CACHE = {k: compute_exact_values(k) \n",
        "                    for k in ['HardwareGridProblem', 'SKProblem', 'ThreeRegularProblem']}"
      ]
    },
    {
      "cell_type": "markdown",
      "metadata": {
        "colab_type": "text",
        "id": "-ve-NefQGNmb"
      },
      "source": [
        "## Plot"
      ]
    },
    {
      "cell_type": "code",
      "execution_count": null,
      "metadata": {
        "colab": {},
        "colab_type": "code",
        "id": "b3no_VisGNmc"
      },
      "outputs": [],
      "source": [
        "%matplotlib inline\n",
        "from matplotlib import pyplot as plt\n",
        "\n",
        "import seaborn as sns\n",
        "sns.set_style('ticks')\n",
        "\n",
        "plt.rc('axes', labelsize=16, titlesize=16)\n",
        "plt.rc('xtick', labelsize=14)\n",
        "plt.rc('ytick', labelsize=14)\n",
        "plt.rc('legend', fontsize=14, title_fontsize=16)\n",
        "\n",
        "# Note: I ran into https://github.com/matplotlib/matplotlib/issues/15410\n",
        "# if I imported matplotlib before using multiprocessing in `exact_qaoa_values_on_grid`, YMMV."
      ]
    },
    {
      "cell_type": "code",
      "execution_count": null,
      "metadata": {
        "colab": {},
        "colab_type": "code",
        "id": "eh1eIY32GNmg"
      },
      "outputs": [],
      "source": [
        "import scipy.interpolate\n",
        "\n",
        "def plot_landscape(problem_type, res=200, method='nearest', cmap='PuOr'):\n",
        "    dfb = df\n",
        "    dfb = dfb[dfb['problem_type'] == problem_type]\n",
        "    xx, yy = np.meshgrid(np.linspace(0, np.pi/2, res), np.linspace(-np.pi/4, np.pi/4, res))\n",
        "    exact_points, exact, min_c, max_c = EXACT_VALS_CACHE[problem_type]\n",
        "\n",
        "    zz = scipy.interpolate.griddata(\n",
        "        points=dfb[['gamma', 'beta']].values,\n",
        "        values=dfb['energy'].values / min_c,\n",
        "        xi=(xx, yy),\n",
        "        method=method,\n",
        "    )\n",
        "\n",
        "    fig, (axl, axr) = plt.subplots(1, 2, figsize=(5*2, 5), sharey=True)\n",
        "    norm = plt.Normalize(max_c/min_c, min_c/min_c)\n",
        "    cmap = 'RdBu'\n",
        "    extent=(0, 4, -2, 2)\n",
        "    \n",
        "    axl.imshow(zz, extent=extent, origin='lower', cmap=cmap, norm=norm, interpolation='none')\n",
        "    axl.set_xlabel(r'$\\gamma\\ /\\ (\\pi/8)$')\n",
        "    axl.set_ylabel(r'$\\beta\\ /\\ (\\pi/8)$')\n",
        "    axl.set_title('Experiment')\n",
        "    \n",
        "    zz_exact = scipy.interpolate.griddata(\n",
        "        points=exact_points,\n",
        "        values=(exact/min_c),\n",
        "        xi=(xx, yy),\n",
        "        method=method,\n",
        "    )\n",
        "\n",
        "    g = axr.imshow(zz_exact, extent=extent, origin='lower', cmap=cmap, norm=norm, interpolation='none')\n",
        "    axr.set_xlabel(r'$\\gamma\\ /\\ (\\pi/8)$')\n",
        "    axr.set_title('Theory')\n",
        "\n",
        "    fig.colorbar(g, ax=[axl, axr], shrink=0.8)"
      ]
    },
    {
      "cell_type": "markdown",
      "metadata": {
        "colab_type": "text",
        "id": "fOY9HQHIGNmj"
      },
      "source": [
        "### Hardware grid"
      ]
    },
    {
      "cell_type": "code",
      "execution_count": null,
      "metadata": {
        "colab": {},
        "colab_type": "code",
        "id": "nkakglWKGNmk"
      },
      "outputs": [],
      "source": [
        "plot_landscape('HardwareGridProblem')"
      ]
    },
    {
      "cell_type": "markdown",
      "metadata": {
        "colab_type": "text",
        "id": "89-h2nj8GNmp"
      },
      "source": [
        "### SK model"
      ]
    },
    {
      "cell_type": "code",
      "execution_count": null,
      "metadata": {
        "colab": {},
        "colab_type": "code",
        "id": "B7uXeEq5GNmp"
      },
      "outputs": [],
      "source": [
        "plot_landscape('SKProblem')"
      ]
    },
    {
      "cell_type": "markdown",
      "metadata": {
        "colab_type": "text",
        "id": "i7yh6WoDGNmt"
      },
      "source": [
        "## 3 regular MaxCut"
      ]
    },
    {
      "cell_type": "code",
      "execution_count": null,
      "metadata": {
        "colab": {},
        "colab_type": "code",
        "id": "gF5V0w7VGNmt"
      },
      "outputs": [],
      "source": [
        "plot_landscape('ThreeRegularProblem')"
      ]
    }
  ],
  "metadata": {
    "colab": {
      "name": "landscape_analysis.ipynb",
      "private_outputs": true,
      "provenance": [],
      "toc_visible": true
    },
    "kernelspec": {
      "display_name": "Python 3",
      "language": "python",
      "name": "python3"
    }
  },
  "nbformat": 4,
  "nbformat_minor": 0
}
