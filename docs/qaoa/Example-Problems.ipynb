{
 "cells": [
  {
   "cell_type": "markdown",
   "metadata": {},
   "source": [
    "# QAOA Example Problems"
   ]
  },
  {
   "cell_type": "code",
   "execution_count": null,
   "metadata": {},
   "outputs": [],
   "source": [
    "import networkx as nx\n",
    "import numpy as np\n",
    "import scipy.optimize\n",
    "import cirq\n",
    "import recirq\n",
    "\n",
    "%matplotlib inline\n",
    "from matplotlib import pyplot as plt"
   ]
  },
  {
   "cell_type": "code",
   "execution_count": null,
   "metadata": {},
   "outputs": [],
   "source": [
    "# theme colors\n",
    "QBLUE = '#1967d2'\n",
    "QRED = '#ea4335ff'\n",
    "QGOLD = '#fbbc05ff'"
   ]
  },
  {
   "cell_type": "markdown",
   "metadata": {},
   "source": [
    "## Hardware Grid"
   ]
  },
  {
   "cell_type": "code",
   "execution_count": null,
   "metadata": {},
   "outputs": [],
   "source": [
    "from recirq.qaoa.problems import get_all_hardware_grid_problems\n",
    "import cirq.contrib.routing as ccr\n",
    "\n",
    "hg_problems = get_all_hardware_grid_problems(\n",
    "    device_graph=ccr.gridqubits_to_graph_device(recirq.get_device_obj_by_name('Sycamore23').qubits),\n",
    "    central_qubit=cirq.GridQubit(6,3),\n",
    "    n_instances=10,\n",
    "    rs=np.random.RandomState(5)\n",
    ")   \n",
    "\n",
    "instance_i = 0\n",
    "n_qubits = 23\n",
    "problem = hg_problems[n_qubits, instance_i]\n",
    "\n",
    "fig, ax = plt.subplots(figsize=(6,5))\n",
    "pos = {i: coord for i, coord in enumerate(problem.coordinates)}\n",
    "nx.draw_networkx(problem.graph, pos=pos, with_labels=False, node_color=QBLUE)\n",
    "if True:  # toggle edge labels\n",
    "    edge_labels = {(i1, i2): f\"{weight:+d}\"\n",
    "                   for i1, i2, weight in problem.graph.edges.data('weight')}\n",
    "    nx.draw_networkx_edge_labels(problem.graph, pos=pos, edge_labels=edge_labels)\n",
    "ax.axis('off')\n",
    "fig.tight_layout()"
   ]
  },
  {
   "cell_type": "markdown",
   "metadata": {},
   "source": [
    "## Sherrington-Kirkpatrick model"
   ]
  },
  {
   "cell_type": "code",
   "execution_count": null,
   "metadata": {},
   "outputs": [],
   "source": [
    "from recirq.qaoa.problems import get_all_sk_problems\n",
    "\n",
    "n_qubits = 17\n",
    "all_sk_problems = get_all_sk_problems(max_n_qubits=17, n_instances=10, rs=np.random.RandomState(5))\n",
    "sk_problem = all_sk_problems[n_qubits, instance_i]\n",
    "\n",
    "fig, ax = plt.subplots(figsize=(6,5))\n",
    "pos = nx.circular_layout(sk_problem.graph)\n",
    "nx.draw_networkx(sk_problem.graph, pos=pos, with_labels=False, node_color=QRED)\n",
    "if False:  # toggle edge labels\n",
    "    edge_labels = {(i1, i2): f\"{weight:+d}\"\n",
    "                   for i1, i2, weight in sk_problem.graph.edges.data('weight')}\n",
    "    nx.draw_networkx_edge_labels(sk_problem.graph, pos=pos, edge_labels=edge_labels)\n",
    "ax.axis('off')\n",
    "fig.tight_layout()"
   ]
  },
  {
   "cell_type": "markdown",
   "metadata": {},
   "source": [
    "## 3-regular MaxCut"
   ]
  },
  {
   "cell_type": "code",
   "execution_count": null,
   "metadata": {},
   "outputs": [],
   "source": [
    "from recirq.qaoa.problems import get_all_3_regular_problems\n",
    "\n",
    "n_qubits = 22\n",
    "instance_i = 0\n",
    "threereg_problems = get_all_3_regular_problems(max_n_qubits=22, n_instances=10, rs=np.random.RandomState(5))\n",
    "threereg_problem = threereg_problems[n_qubits, instance_i]\n",
    "\n",
    "fig, ax = plt.subplots(figsize=(6,5))\n",
    "pos = nx.spring_layout(threereg_problem.graph, seed=11)\n",
    "nx.draw_networkx(threereg_problem.graph, pos=pos, with_labels=False, node_color=QGOLD)\n",
    "if False:  # toggle edge labels\n",
    "    edge_labels = {(i1, i2): f\"{weight:+d}\"\n",
    "                   for i1, i2, weight in threereg_problem.graph.edges.data('weight')}\n",
    "    nx.draw_networkx_edge_labels(threereg_problem.graph, pos=pos, edge_labels=edge_labels)\n",
    "ax.axis('off')\n",
    "fig.tight_layout()"
   ]
  }
 ],
 "metadata": {
  "kernelspec": {
   "display_name": "Python 3",
   "language": "python",
   "name": "python3"
  },
  "language_info": {
   "codemirror_mode": {
    "name": "ipython",
    "version": 3
   },
   "file_extension": ".py",
   "mimetype": "text/x-python",
   "name": "python",
   "nbconvert_exporter": "python",
   "pygments_lexer": "ipython3",
   "version": "3.7.6"
  }
 },
 "nbformat": 4,
 "nbformat_minor": 2
}
