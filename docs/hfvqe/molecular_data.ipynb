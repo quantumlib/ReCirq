{
 "cells": [
  {
   "cell_type": "markdown",
   "metadata": {},
   "source": [
    "# Making Molecule Files for HFVQE\n",
    "\n",
    "In this tutorial we describe the process of making the molecular data files necessary to run the HFVQE code.  We focus on how to use the OpenFermion plugin modules to generate molecular files with canonical Hartree-Fock and generate integrals in a given atomic orbital basis set.  We also provide helper functions to run variational Hartree-Fock simulating the experiment and generating initial parameters.\n",
    "\n",
    "This tutorial will follow the code in the `hfvqe/molecular_data` module of Recirq for constructing MolecularData objects and getting atomic orbital integrals.\n",
    "\n",
    "To run this notebook you will need to have OpenFermion-pyscf, pyscf, scipy, numpy, and matplotlib installed."
   ]
  },
  {
   "cell_type": "code",
   "execution_count": null,
   "metadata": {},
   "outputs": [],
   "source": [
    "# PRELIMINARY IMPORTS AND HELPER FUNCTION\n",
    "import os\n",
    "import numpy\n",
    "import scipy\n",
    "\n",
    "from openfermion.ops import general_basis_change\n",
    "\n",
    "from recirq.hfvqe.molecular_data.molecular_data_construction import (h6_linear_molecule, \n",
    "                                                                     h8_linear_molecule, \n",
    "                                                                     h10_linear_molecule,\n",
    "                                                                     h12_linear_molecule, \n",
    "                                                                     get_ao_integrals)\n",
    "from recirq.hfvqe.gradient_hf import rhf_minimization, rhf_func_generator\n",
    "from recirq.hfvqe.objective import RestrictedHartreeFockObjective, generate_hamiltonian\n",
    "\n",
    "\n",
    "def make_rhf_objective(molecule):\n",
    "    # coverage: ignore\n",
    "    S, Hcore, TEI = get_ao_integrals(molecule)\n",
    "    _, X = scipy.linalg.eigh(Hcore, S)\n",
    "\n",
    "    molecular_hamiltonian = generate_hamiltonian(\n",
    "        general_basis_change(Hcore, X, (1, 0)),\n",
    "        numpy.einsum('psqr', general_basis_change(TEI, X, (1, 0, 1, 0)),\n",
    "                     molecule.nuclear_repulsion))\n",
    "\n",
    "    rhf_objective = RestrictedHartreeFockObjective(molecular_hamiltonian,\n",
    "                                                   molecule.n_electrons)\n",
    "    return rhf_objective, S, Hcore, TEI"
   ]
  },
  {
   "cell_type": "markdown",
   "metadata": {},
   "source": [
    "## Hydrogen Chain MolecularData\n",
    "\n",
    "We provide helper functions in the `hfvqe` module to generate the Hydrogen chain data.  Each chain is constructed using OpenFermion and Psi4 via the OpenFermion-Psi4 plugin.  We will use creating H6 with equal spacing between Hydrogen atoms as an example.  "
   ]
  },
  {
   "cell_type": "code",
   "execution_count": null,
   "metadata": {},
   "outputs": [],
   "source": [
    "from openfermion import MolecularData, general_basis_change\n",
    "from openfermionpyscf import run_pyscf\n",
    "import numpy as np\n",
    "import scipy as sp"
   ]
  },
  {
   "cell_type": "code",
   "execution_count": null,
   "metadata": {},
   "outputs": [],
   "source": [
    "n_hydrogens = 6\n",
    "bond_distance = 1.3 # in Angstroms\n",
    "molecule = MolecularData(\n",
    "    geometry=[('H', (0, 0, i * bond_distance)) for i in range(n_hydrogens)],\n",
    "    charge=0,\n",
    "    basis='6-31g',\n",
    "    multiplicity=1,\n",
    "    description=f\"linear_r-{bond_distance}\")"
   ]
  },
  {
   "cell_type": "markdown",
   "metadata": {},
   "source": [
    "The previous lines set up the MolecularData file.  We can now use pyscf to either run a full self-consistent-field Hartree-Fock calculation or get atomic integrals.  Via Openfermion-Pyscf we provide an interface to running Hartree-Fock, coupled-cluster, second order perturbation theory, configuration-interaction singles-doubles, and full configuration interaction.  Many of these methods depend on parameters such as convergence criteria or initial vectors in the subspace expansion.  `run_pyscf` assumes common defaults which are appropriate for most systems. Below we will run default Hartree-Fock and CISD."
   ]
  },
  {
   "cell_type": "code",
   "execution_count": null,
   "metadata": {},
   "outputs": [],
   "source": [
    "molecule = run_pyscf(molecule, run_scf=True, run_cisd=True)"
   ]
  },
  {
   "cell_type": "code",
   "execution_count": null,
   "metadata": {},
   "outputs": [],
   "source": [
    "print(molecule.hf_energy, molecule.cisd_energy)  #hartree-Fock energy, CISD energy"
   ]
  },
  {
   "cell_type": "markdown",
   "metadata": {},
   "source": [
    "The `MolecularData` file holds almost all information that is required for post-Hartree-Fock correlated calculations.  For example, we provide access to integrals as attributes of `MolecularData`.  "
   ]
  },
  {
   "cell_type": "code",
   "execution_count": null,
   "metadata": {},
   "outputs": [],
   "source": [
    "print(\"Overlap Ints\")\n",
    "print(molecule.overlap_integrals)\n",
    "\n",
    "print()\n",
    "print(\"One-electron integrals\")\n",
    "print(molecule.one_body_integrals)"
   ]
  },
  {
   "cell_type": "markdown",
   "metadata": {},
   "source": [
    "For the Hartree-Fock experiment we will need to get the atomic basis integrals from the molecular integrals.  We can use the identity $C^{\\dagger}SC = I$ to reverse the transformation on the one and two electron integrals."
   ]
  },
  {
   "cell_type": "code",
   "execution_count": null,
   "metadata": {},
   "outputs": [],
   "source": [
    "oei_mo,  tei_mo = molecule.one_body_integrals, molecule.two_body_integrals\n",
    "C = molecule.canonical_orbitals\n",
    "S = molecule.overlap_integrals\n",
    "oei_ao = general_basis_change(oei_mo, C.conj().T @ S, key=(1, 0))"
   ]
  },
  {
   "cell_type": "code",
   "execution_count": null,
   "metadata": {},
   "outputs": [],
   "source": [
    "print(oei_ao)"
   ]
  },
  {
   "cell_type": "code",
   "execution_count": null,
   "metadata": {},
   "outputs": [],
   "source": [
    "print(oei_mo)"
   ]
  },
  {
   "cell_type": "code",
   "execution_count": null,
   "metadata": {},
   "outputs": [],
   "source": [
    "# Use pyscf to get atomic integrals and compare to transformed integrals from above\n",
    "pyscf_mol = molecule._pyscf_data['mol']\n",
    "t = pyscf_mol.intor('int1e_kin')\n",
    "v = pyscf_mol.intor('int1e_nuc')\n",
    "hcore = t + v"
   ]
  },
  {
   "cell_type": "code",
   "execution_count": null,
   "metadata": {},
   "outputs": [],
   "source": [
    "assert np.allclose(hcore, oei_ao)"
   ]
  },
  {
   "cell_type": "markdown",
   "metadata": {},
   "source": [
    " The two-electron integrals can also be acquired from the `pyscf_mol` object or we can use the `general_basis_change` to transform the two-electron integrals back into the AO basis."
   ]
  },
  {
   "cell_type": "code",
   "execution_count": null,
   "metadata": {},
   "outputs": [],
   "source": [
    "tei_ao = general_basis_change(tei_mo, C.conj().T @ S, key=(1, 1, 0, 0))  # Transform the two-electron integrals"
   ]
  },
  {
   "cell_type": "code",
   "execution_count": null,
   "metadata": {},
   "outputs": [],
   "source": [
    "eri_ao = np.einsum('ijkl->iklj', pyscf_mol.intor('int2e', aosym='s1'))  # re-ordering for chem->physics storage of the integrals"
   ]
  },
  {
   "cell_type": "code",
   "execution_count": null,
   "metadata": {},
   "outputs": [],
   "source": [
    "assert np.allclose(tei_ao, eri_ao)\n",
    "assert not np.allclose(tei_ao, tei_mo)"
   ]
  },
  {
   "cell_type": "markdown",
   "metadata": {},
   "source": [
    "We also provide a function in `recirq.hfvqe.molecular_data.molecular_data_construction` that uses psi4 to generate atomic integrals for the HF-VQE study.  Once the atomic orbital integrals are obtained we can perform the first step in setting up the HF-VQE experiment.  This involes transforming the integrals to the core-orbital basis and building an `RestrictedHartreeFockObjective`. "
   ]
  },
  {
   "cell_type": "code",
   "execution_count": null,
   "metadata": {},
   "outputs": [],
   "source": [
    "_, X = sp.linalg.eigh(oei_ao, S)  # diagonalize the AO-core Hamiltonian\n",
    "\n",
    "obi = general_basis_change(oei_ao, X, (1, 0))\n",
    "tbi = np.einsum('psqr', general_basis_change(pyscf_mol.intor('int2e', aosym='s1'), X, (1, 0, 1, 0)))\n",
    "molecular_hamiltonian = generate_hamiltonian(obi, tbi,\n",
    "                                             molecule.nuclear_repulsion)\n",
    "\n",
    "rhf_objective = RestrictedHartreeFockObjective(molecular_hamiltonian,\n",
    "                                               molecule.n_electrons)"
   ]
  },
  {
   "cell_type": "markdown",
   "metadata": {},
   "source": [
    "To get initial parameters we can simulate the Hartree-Fock experiment which is performing variational-Hartree-Fock theory."
   ]
  },
  {
   "cell_type": "code",
   "execution_count": null,
   "metadata": {},
   "outputs": [],
   "source": [
    "from recirq.hfvqe.gradient_hf import rhf_minimization, rhf_func_generator\n",
    "scipy_result = rhf_minimization(rhf_objective, verbose=True)  # uses conjugate gradient to solve non-linear hartree-fock functional"
   ]
  },
  {
   "cell_type": "code",
   "execution_count": null,
   "metadata": {},
   "outputs": [],
   "source": [
    "print(molecule.hf_energy, scipy_result.fun)"
   ]
  },
  {
   "cell_type": "code",
   "execution_count": null,
   "metadata": {},
   "outputs": [],
   "source": [
    "print(\"Initial Parameters for HF-VQE Study \", scipy_result.x)"
   ]
  },
  {
   "cell_type": "code",
   "execution_count": null,
   "metadata": {},
   "outputs": [],
   "source": [
    "# Explicity build kappa matrix\n",
    "from recirq.hfvqe.circuits import rhf_params_to_matrix\n",
    "import matplotlib.pyplot as plt\n",
    "kappa = rhf_params_to_matrix(scipy_result.x, len(rhf_objective.occ) + len(rhf_objective.virt), rhf_objective.occ,\n",
    "            rhf_objective.virt)\n",
    "plt.imshow(kappa)\n",
    "plt.colorbar()"
   ]
  },
  {
   "cell_type": "code",
   "execution_count": null,
   "metadata": {},
   "outputs": [],
   "source": []
  }
 ],
 "metadata": {
  "kernelspec": {
   "display_name": "Python 3",
   "language": "python",
   "name": "python3"
  },
  "language_info": {
   "codemirror_mode": {
    "name": "ipython",
    "version": 3
   },
   "file_extension": ".py",
   "mimetype": "text/x-python",
   "name": "python",
   "nbconvert_exporter": "python",
   "pygments_lexer": "ipython3",
   "version": "3.6.12"
  }
 },
 "nbformat": 4,
 "nbformat_minor": 4
}
