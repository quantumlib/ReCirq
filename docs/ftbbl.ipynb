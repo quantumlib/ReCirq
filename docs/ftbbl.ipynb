{
 "cells": [
  {
   "cell_type": "markdown",
   "metadata": {
    "id": "ea00a41a"
   },
   "source": [
    "# Feature Testbed Benchmark Library\n",
    "\n",
    "The Feature Testbed and Benchmarking Library (FTb/BL) consists of a series of workflow tools in `cirq_google.workflow` and a library of application-inspired algorithms conforming to those specifications living in ReCirq.\n",
    "\n",
    "Computer code can serve as the intermediary language between algorithms researchers, software developers, and providers of quantum hardware -- each of whom have their own unique domain expertise. Higher-order abstraction in Quantum Executables can support higher-order functionality in our Quantum Runtime.\n",
    "\n",
    "By architecting features, tools, and techniques to be part of a well specified runtime we can:\n",
    " - Easily run experiments (\"A/B testing\") on the impact of features by toggling them in the runtime and running against a full library of applications.\n",
    " - Create a clear specification for how to leverage a feature, tool, or technique in our library of applications.\n",
    " - Mock out runtime features for ease of testing without consuming the scarce resource of quantum computer time.\n",
    " \n",
    "![Overview](./images/ftbbl-overview.png)"
   ]
  },
  {
   "cell_type": "markdown",
   "metadata": {
    "id": "4b1fcbd4"
   },
   "source": [
    "## Algorithmic Benchmark Library\n",
    "\n",
    "The algorithmic benchmark library is a collection of quantum executables that probe different aspects of a quantum computer's performance. Each benchmark is based off of an algorithm of interest and operates on > 2 qubits (in contrast to traditional 1- and 2-qubit fidelity metrics).\n",
    "\n",
    "We use the library card catalog in `recirq.algorithmic_benchmark_library` to get a description of each algorithmic benchmark.\n",
    "\n",
    "![Algorithmic Benchmark Library Card Catalog](./images/ftbbl-catalog.png)"
   ]
  },
  {
   "cell_type": "code",
   "execution_count": 1,
   "metadata": {
    "id": "dfa69118"
   },
   "outputs": [
    {
     "data": {
      "text/html": [
       "<h3>recirq.otoc.loschmidt.tilted_square_lattice</h3><table><tr><td>domain</td><td>recirq.otoc</td></tr><tr><td>name</td><td>loschmidt.tilted_square_lattice</td></tr><tr><td>executable_family</td><td>recirq.otoc.loschmidt.tilted_square_lattice</td></tr><tr><td>spec_class</td><td>TiltedSquareLatticeLoschmidtSpec</td></tr><tr><td>executable_generator_func</td><td>get_all_tilted_square_lattice_executables</td></tr><tr><td>configs</td><td>['BenchmarkConfig(loschmidt.tilted_square_lattice.small-v1)', 'BenchmarkConfig(loschmidt.tilted_square_lattice.small-cz-v1)']</td></tr><tr><td>description</td><td>An OTOC-style Loschmidt Echo on a tilted square lattice topology.\n",
       "\n",
       "This benchmark involves running a random unitary U forwards and backwards to\n",
       "measure the fraction of times one ends up back in the starting state.\n",
       "\n",
       "Please browse the docstring for `TiltedSquareLatticeLoschmidtSpec` for details\n",
       "on available parameters.</td></tr></table>"
      ],
      "text/plain": [
       "AlgorithmicBenchmark(domain='recirq.otoc', name='loschmidt.tilted_square_lattice', executable_family='recirq.otoc.loschmidt.tilted_square_lattice', spec_class=<class 'recirq.otoc.loschmidt.tilted_square_lattice.tilted_square_lattice.TiltedSquareLatticeLoschmidtSpec'>, executable_generator_func=<function get_all_tilted_square_lattice_executables at 0x7fd3f35b55e0>, configs=[BenchmarkConfig(short_name='small-v1', full_name='loschmidt.tilted_square_lattice.small-v1', gen_script='gen-small-v1.py', run_scripts=['run-simulator.py'], description=\"A 'small' configuration for quick verification of Loschmidt echos\\n\\nThis configuration uses small grid topologies (making it suitable for\\nrunning on simulators) and a small number of random instances making it\\nsuitable for getting a quick reading on processor performance in ~minutes.\"), BenchmarkConfig(short_name='small-cz-v1', full_name='loschmidt.tilted_square_lattice.small-cz-v1', gen_script='gen-small-cz-v1.py', run_scripts=['run-simulator-cz.py'], description=\"A 'small' configuration for quick verification of Loschmidt echos using the \\nCZ gate\\n\\nThis configuration uses small grid topologies (making it suitable for\\nrunning on simulators) and a small number of random instances making it\\nsuitable for getting a quick reading on processor performance in ~minutes.\")], description='An OTOC-style Loschmidt Echo on a tilted square lattice topology.\\n\\nThis benchmark involves running a random unitary U forwards and backwards to\\nmeasure the fraction of times one ends up back in the starting state.\\n\\nPlease browse the docstring for `TiltedSquareLatticeLoschmidtSpec` for details\\non available parameters.')"
      ]
     },
     "metadata": {},
     "output_type": "display_data"
    }
   ],
   "source": [
    "try:\n",
    "    import recirq\n",
    "except ImportError:\n",
    "    !pip install --quiet git+https://github.com/quantumlib/ReCirq\n",
    "\n",
    "import recirq.algorithmic_benchmark_library as algos\n",
    "from IPython.display import display\n",
    "\n",
    "for algo in algos.BENCHMARKS:\n",
    "    display(algo)"
   ]
  },
  {
   "cell_type": "markdown",
   "metadata": {
    "id": "72765c1f"
   },
   "source": [
    "### Select an example benchmark using `executable_family`\n",
    "\n",
    "Each benchmark has a name (e.g. \"loschmidt.tilted_square_lattice\") and a domain (e.g. this benchmark is inspired by the [OTOC Experiment](https://quantumai.google/cirq/experiments/otoc) so it is given the domain of \"recirq.otoc\"). We combine these two properties to give the `executable_family` string, which serves as a globally-unique identifier for each benchmark. In ReCirq, the `executable_family` is the Python module path where the relevant code can be found.\n",
    "\n",
    "We'll seelct the \"recirq.otoc.loschmidt.tilted_square_lattice\" benchmark by querying the card catalog using this unique `executable_family` identifier."
   ]
  },
  {
   "cell_type": "code",
   "execution_count": 2,
   "metadata": {
    "id": "6d6559da"
   },
   "outputs": [
    {
     "name": "stdout",
     "output_type": "stream",
     "text": [
      "<class 'recirq.algorithmic_benchmark_library.AlgorithmicBenchmark'>\n"
     ]
    },
    {
     "data": {
      "text/html": [
       "<h3>recirq.otoc.loschmidt.tilted_square_lattice</h3><table><tr><td>domain</td><td>recirq.otoc</td></tr><tr><td>name</td><td>loschmidt.tilted_square_lattice</td></tr><tr><td>executable_family</td><td>recirq.otoc.loschmidt.tilted_square_lattice</td></tr><tr><td>spec_class</td><td>TiltedSquareLatticeLoschmidtSpec</td></tr><tr><td>executable_generator_func</td><td>get_all_tilted_square_lattice_executables</td></tr><tr><td>configs</td><td>['BenchmarkConfig(loschmidt.tilted_square_lattice.small-v1)', 'BenchmarkConfig(loschmidt.tilted_square_lattice.small-cz-v1)']</td></tr><tr><td>description</td><td>An OTOC-style Loschmidt Echo on a tilted square lattice topology.\n",
       "\n",
       "This benchmark involves running a random unitary U forwards and backwards to\n",
       "measure the fraction of times one ends up back in the starting state.\n",
       "\n",
       "Please browse the docstring for `TiltedSquareLatticeLoschmidtSpec` for details\n",
       "on available parameters.</td></tr></table>"
      ],
      "text/plain": [
       "AlgorithmicBenchmark(domain='recirq.otoc', name='loschmidt.tilted_square_lattice', executable_family='recirq.otoc.loschmidt.tilted_square_lattice', spec_class=<class 'recirq.otoc.loschmidt.tilted_square_lattice.tilted_square_lattice.TiltedSquareLatticeLoschmidtSpec'>, executable_generator_func=<function get_all_tilted_square_lattice_executables at 0x7fd3f35b55e0>, configs=[BenchmarkConfig(short_name='small-v1', full_name='loschmidt.tilted_square_lattice.small-v1', gen_script='gen-small-v1.py', run_scripts=['run-simulator.py'], description=\"A 'small' configuration for quick verification of Loschmidt echos\\n\\nThis configuration uses small grid topologies (making it suitable for\\nrunning on simulators) and a small number of random instances making it\\nsuitable for getting a quick reading on processor performance in ~minutes.\"), BenchmarkConfig(short_name='small-cz-v1', full_name='loschmidt.tilted_square_lattice.small-cz-v1', gen_script='gen-small-cz-v1.py', run_scripts=['run-simulator-cz.py'], description=\"A 'small' configuration for quick verification of Loschmidt echos using the \\nCZ gate\\n\\nThis configuration uses small grid topologies (making it suitable for\\nrunning on simulators) and a small number of random instances making it\\nsuitable for getting a quick reading on processor performance in ~minutes.\")], description='An OTOC-style Loschmidt Echo on a tilted square lattice topology.\\n\\nThis benchmark involves running a random unitary U forwards and backwards to\\nmeasure the fraction of times one ends up back in the starting state.\\n\\nPlease browse the docstring for `TiltedSquareLatticeLoschmidtSpec` for details\\non available parameters.')"
      ]
     },
     "execution_count": 2,
     "metadata": {},
     "output_type": "execute_result"
    }
   ],
   "source": [
    "algo = algos.get_algo_benchmark_by_executable_family(\n",
    "    executable_family='recirq.otoc.loschmidt.tilted_square_lattice')\n",
    "print(type(algo))\n",
    "algo"
   ]
  },
  {
   "cell_type": "code",
   "execution_count": 3,
   "metadata": {
    "id": "0755de06"
   },
   "outputs": [
    {
     "data": {
      "text/plain": [
       "PosixPath('../recirq/otoc/loschmidt/tilted_square_lattice')"
      ]
     },
     "execution_count": 3,
     "metadata": {},
     "output_type": "execute_result"
    }
   ],
   "source": [
    "from pathlib import Path\n",
    "\n",
    "# In ReCirq, the `executable_family` is the Python module path where\n",
    "# the relevant code can be found.\n",
    "algo_src_dir = Path('..') / algo.executable_family.replace('.', '/')\n",
    "algo_src_dir"
   ]
  },
  {
   "cell_type": "markdown",
   "metadata": {
    "id": "efcd3932"
   },
   "source": [
    "### Each `AlgorithimBenchmark` has a collection of `BenchmarkConfig`s\n",
    "\n",
    "An algorithmic benchmark defines a class of quantum executables. Often times the specific size, shape, depth or other properties is left as a parameter. For each benchmark, we have a collection of `BenchmarkConfig`s that fully specify what to run and can be run repeatedly for controlled comparison over time or between processors."
   ]
  },
  {
   "cell_type": "code",
   "execution_count": 4,
   "metadata": {
    "id": "c001dcb1"
   },
   "outputs": [
    {
     "name": "stdout",
     "output_type": "stream",
     "text": [
      "loschmidt.tilted_square_lattice.small-v1\n",
      "loschmidt.tilted_square_lattice.small-cz-v1\n"
     ]
    }
   ],
   "source": [
    "for config in algo.configs:\n",
    "    print(config.full_name)"
   ]
  },
  {
   "cell_type": "markdown",
   "metadata": {
    "id": "005f8137"
   },
   "source": [
    "We'll select the `small-cz-v1` configuration, as described below."
   ]
  },
  {
   "cell_type": "code",
   "execution_count": 5,
   "metadata": {
    "id": "38025d03"
   },
   "outputs": [
    {
     "name": "stdout",
     "output_type": "stream",
     "text": [
      "A 'small' configuration for quick verification of Loschmidt echos using the \n",
      "CZ gate\n",
      "\n",
      "This configuration uses small grid topologies (making it suitable for\n",
      "running on simulators) and a small number of random instances making it\n",
      "suitable for getting a quick reading on processor performance in ~minutes.\n"
     ]
    }
   ],
   "source": [
    "config = algo.get_config_by_full_name('loschmidt.tilted_square_lattice.small-cz-v1')\n",
    "print(config.description)"
   ]
  },
  {
   "cell_type": "markdown",
   "metadata": {
    "id": "6d298924"
   },
   "source": [
    "A benchmark has three steps:\n",
    " 1. Executable generation\n",
    " 2. Execution\n",
    " 3. Analysis\n",
    " \n",
    "Usually, these steps are done in order but independently and with differing frequencies. For a robust benchmark, executable generation should likely be done once and the serialized `QuantumExecutableGroup` cached and re-used for subsequent executions. Execution should happen on a regular cadence for historical data or as part of an A/B test for trialing different runtime configuraiton options. Analysis can happen at any moment and may incorperate the latest data or a collection of datasets across time, processors, or runtime configurations.\n",
    "\n",
    "![Benchmark's Three Steps](./images/ftbbl-flow-2.png)"
   ]
  },
  {
   "cell_type": "code",
   "execution_count": 6,
   "metadata": {
    "id": "dfdbd677"
   },
   "outputs": [
    {
     "data": {
      "text/plain": [
       "BenchmarkConfig(short_name='small-cz-v1', full_name='loschmidt.tilted_square_lattice.small-cz-v1', gen_script='gen-small-cz-v1.py', run_scripts=['run-simulator-cz.py'], description=\"A 'small' configuration for quick verification of Loschmidt echos using the \\nCZ gate\\n\\nThis configuration uses small grid topologies (making it suitable for\\nrunning on simulators) and a small number of random instances making it\\nsuitable for getting a quick reading on processor performance in ~minutes.\")"
      ]
     },
     "execution_count": 6,
     "metadata": {},
     "output_type": "execute_result"
    }
   ],
   "source": [
    "config"
   ]
  },
  {
   "cell_type": "markdown",
   "metadata": {
    "id": "5e2296df"
   },
   "source": [
    "## Step 1: Executable Generation\n",
    "\n",
    "Here, we generate a `QuantumExecutableGroup` for a given range of parameters. This step is usually done once for each `BenchmarkConfig` and the serialized result is saved and re-used for execution. We use a short python file more like a configuration file than a script to commit the parameters for a particular config. The filename can be found as `config.gen_script`."
   ]
  },
  {
   "cell_type": "code",
   "execution_count": 7,
   "metadata": {
    "id": "9a55c812"
   },
   "outputs": [],
   "source": [
    "# Helper function to show scripts from the ReCirq repository for comparison\n",
    "from IPython.display import Code, HTML\n",
    "\n",
    "def show_python_script(path: Path):\n",
    "    with path.open() as f:\n",
    "        contents = f.read()\n",
    "\n",
    "    display(HTML(f\"<u>The contents of {path}:</u>\"))\n",
    "    display(Code(contents[contents.find('import'):], language='python'))"
   ]
  },
  {
   "cell_type": "code",
   "execution_count": 8,
   "metadata": {
    "id": "db32e5c3"
   },
   "outputs": [
    {
     "data": {
      "text/html": [
       "<u>The contents of ../recirq/otoc/loschmidt/tilted_square_lattice/gen-small-cz-v1.py:</u>"
      ],
      "text/plain": [
       "<IPython.core.display.HTML object>"
      ]
     },
     "metadata": {},
     "output_type": "display_data"
    },
    {
     "data": {
      "text/html": [
       "<style>pre { line-height: 125%; }\n",
       "td.linenos .normal { color: inherit; background-color: transparent; padding-left: 5px; padding-right: 5px; }\n",
       "span.linenos { color: inherit; background-color: transparent; padding-left: 5px; padding-right: 5px; }\n",
       "td.linenos .special { color: #000000; background-color: #ffffc0; padding-left: 5px; padding-right: 5px; }\n",
       "span.linenos.special { color: #000000; background-color: #ffffc0; padding-left: 5px; padding-right: 5px; }\n",
       ".output_html .hll { background-color: #ffffcc }\n",
       ".output_html { background: #f8f8f8; }\n",
       ".output_html .c { color: #408080; font-style: italic } /* Comment */\n",
       ".output_html .err { border: 1px solid #FF0000 } /* Error */\n",
       ".output_html .k { color: #008000; font-weight: bold } /* Keyword */\n",
       ".output_html .o { color: #666666 } /* Operator */\n",
       ".output_html .ch { color: #408080; font-style: italic } /* Comment.Hashbang */\n",
       ".output_html .cm { color: #408080; font-style: italic } /* Comment.Multiline */\n",
       ".output_html .cp { color: #BC7A00 } /* Comment.Preproc */\n",
       ".output_html .cpf { color: #408080; font-style: italic } /* Comment.PreprocFile */\n",
       ".output_html .c1 { color: #408080; font-style: italic } /* Comment.Single */\n",
       ".output_html .cs { color: #408080; font-style: italic } /* Comment.Special */\n",
       ".output_html .gd { color: #A00000 } /* Generic.Deleted */\n",
       ".output_html .ge { font-style: italic } /* Generic.Emph */\n",
       ".output_html .gr { color: #FF0000 } /* Generic.Error */\n",
       ".output_html .gh { color: #000080; font-weight: bold } /* Generic.Heading */\n",
       ".output_html .gi { color: #00A000 } /* Generic.Inserted */\n",
       ".output_html .go { color: #888888 } /* Generic.Output */\n",
       ".output_html .gp { color: #000080; font-weight: bold } /* Generic.Prompt */\n",
       ".output_html .gs { font-weight: bold } /* Generic.Strong */\n",
       ".output_html .gu { color: #800080; font-weight: bold } /* Generic.Subheading */\n",
       ".output_html .gt { color: #0044DD } /* Generic.Traceback */\n",
       ".output_html .kc { color: #008000; font-weight: bold } /* Keyword.Constant */\n",
       ".output_html .kd { color: #008000; font-weight: bold } /* Keyword.Declaration */\n",
       ".output_html .kn { color: #008000; font-weight: bold } /* Keyword.Namespace */\n",
       ".output_html .kp { color: #008000 } /* Keyword.Pseudo */\n",
       ".output_html .kr { color: #008000; font-weight: bold } /* Keyword.Reserved */\n",
       ".output_html .kt { color: #B00040 } /* Keyword.Type */\n",
       ".output_html .m { color: #666666 } /* Literal.Number */\n",
       ".output_html .s { color: #BA2121 } /* Literal.String */\n",
       ".output_html .na { color: #7D9029 } /* Name.Attribute */\n",
       ".output_html .nb { color: #008000 } /* Name.Builtin */\n",
       ".output_html .nc { color: #0000FF; font-weight: bold } /* Name.Class */\n",
       ".output_html .no { color: #880000 } /* Name.Constant */\n",
       ".output_html .nd { color: #AA22FF } /* Name.Decorator */\n",
       ".output_html .ni { color: #999999; font-weight: bold } /* Name.Entity */\n",
       ".output_html .ne { color: #D2413A; font-weight: bold } /* Name.Exception */\n",
       ".output_html .nf { color: #0000FF } /* Name.Function */\n",
       ".output_html .nl { color: #A0A000 } /* Name.Label */\n",
       ".output_html .nn { color: #0000FF; font-weight: bold } /* Name.Namespace */\n",
       ".output_html .nt { color: #008000; font-weight: bold } /* Name.Tag */\n",
       ".output_html .nv { color: #19177C } /* Name.Variable */\n",
       ".output_html .ow { color: #AA22FF; font-weight: bold } /* Operator.Word */\n",
       ".output_html .w { color: #bbbbbb } /* Text.Whitespace */\n",
       ".output_html .mb { color: #666666 } /* Literal.Number.Bin */\n",
       ".output_html .mf { color: #666666 } /* Literal.Number.Float */\n",
       ".output_html .mh { color: #666666 } /* Literal.Number.Hex */\n",
       ".output_html .mi { color: #666666 } /* Literal.Number.Integer */\n",
       ".output_html .mo { color: #666666 } /* Literal.Number.Oct */\n",
       ".output_html .sa { color: #BA2121 } /* Literal.String.Affix */\n",
       ".output_html .sb { color: #BA2121 } /* Literal.String.Backtick */\n",
       ".output_html .sc { color: #BA2121 } /* Literal.String.Char */\n",
       ".output_html .dl { color: #BA2121 } /* Literal.String.Delimiter */\n",
       ".output_html .sd { color: #BA2121; font-style: italic } /* Literal.String.Doc */\n",
       ".output_html .s2 { color: #BA2121 } /* Literal.String.Double */\n",
       ".output_html .se { color: #BB6622; font-weight: bold } /* Literal.String.Escape */\n",
       ".output_html .sh { color: #BA2121 } /* Literal.String.Heredoc */\n",
       ".output_html .si { color: #BB6688; font-weight: bold } /* Literal.String.Interpol */\n",
       ".output_html .sx { color: #008000 } /* Literal.String.Other */\n",
       ".output_html .sr { color: #BB6688 } /* Literal.String.Regex */\n",
       ".output_html .s1 { color: #BA2121 } /* Literal.String.Single */\n",
       ".output_html .ss { color: #19177C } /* Literal.String.Symbol */\n",
       ".output_html .bp { color: #008000 } /* Name.Builtin.Pseudo */\n",
       ".output_html .fm { color: #0000FF } /* Name.Function.Magic */\n",
       ".output_html .vc { color: #19177C } /* Name.Variable.Class */\n",
       ".output_html .vg { color: #19177C } /* Name.Variable.Global */\n",
       ".output_html .vi { color: #19177C } /* Name.Variable.Instance */\n",
       ".output_html .vm { color: #19177C } /* Name.Variable.Magic */\n",
       ".output_html .il { color: #666666 } /* Literal.Number.Integer.Long */</style><div class=\"highlight\"><pre><span></span><span class=\"kn\">import</span> <span class=\"nn\">numpy</span> <span class=\"k\">as</span> <span class=\"nn\">np</span>\n",
       "\n",
       "<span class=\"kn\">import</span> <span class=\"nn\">cirq</span>\n",
       "<span class=\"kn\">from</span> <span class=\"nn\">recirq.otoc.loschmidt.tilted_square_lattice</span> <span class=\"kn\">import</span> \\\n",
       "    <span class=\"n\">get_all_tilted_square_lattice_executables</span>\n",
       "\n",
       "<span class=\"n\">EXES_FILENAME</span> <span class=\"o\">=</span> <span class=\"s1\">&#39;loschmidt.tilted_square_lattice.small-cz-v1.json.gz&#39;</span>\n",
       "\n",
       "\n",
       "<span class=\"k\">def</span> <span class=\"nf\">main</span><span class=\"p\">():</span>\n",
       "    <span class=\"n\">exes</span> <span class=\"o\">=</span> <span class=\"n\">get_all_tilted_square_lattice_executables</span><span class=\"p\">(</span>\n",
       "        <span class=\"n\">min_side_length</span><span class=\"o\">=</span><span class=\"mi\">2</span><span class=\"p\">,</span> <span class=\"n\">max_side_length</span><span class=\"o\">=</span><span class=\"mi\">3</span><span class=\"p\">,</span> <span class=\"n\">side_length_step</span><span class=\"o\">=</span><span class=\"mi\">1</span><span class=\"p\">,</span>\n",
       "        <span class=\"n\">n_instances</span><span class=\"o\">=</span><span class=\"mi\">3</span><span class=\"p\">,</span>\n",
       "        <span class=\"n\">macrocycle_depths</span><span class=\"o\">=</span><span class=\"n\">np</span><span class=\"o\">.</span><span class=\"n\">arange</span><span class=\"p\">(</span><span class=\"mi\">0</span><span class=\"p\">,</span> <span class=\"mi\">4</span> <span class=\"o\">+</span> <span class=\"mi\">1</span><span class=\"p\">,</span> <span class=\"mi\">1</span><span class=\"p\">),</span>\n",
       "        <span class=\"n\">twoq_gate_name</span><span class=\"o\">=</span><span class=\"s1\">&#39;cz&#39;</span><span class=\"p\">,</span>\n",
       "    <span class=\"p\">)</span>\n",
       "    <span class=\"nb\">print</span><span class=\"p\">(</span><span class=\"nb\">len</span><span class=\"p\">(</span><span class=\"n\">exes</span><span class=\"p\">),</span> <span class=\"s1\">&#39;executables&#39;</span><span class=\"p\">)</span>\n",
       "\n",
       "    <span class=\"n\">cirq</span><span class=\"o\">.</span><span class=\"n\">to_json_gzip</span><span class=\"p\">(</span><span class=\"n\">exes</span><span class=\"p\">,</span> <span class=\"n\">EXES_FILENAME</span><span class=\"p\">)</span>\n",
       "    <span class=\"nb\">print</span><span class=\"p\">(</span><span class=\"sa\">f</span><span class=\"s1\">&#39;Wrote </span><span class=\"si\">{</span><span class=\"n\">EXES_FILENAME</span><span class=\"si\">}</span><span class=\"s1\">&#39;</span><span class=\"p\">)</span>\n",
       "\n",
       "\n",
       "<span class=\"k\">if</span> <span class=\"vm\">__name__</span> <span class=\"o\">==</span> <span class=\"s1\">&#39;__main__&#39;</span><span class=\"p\">:</span>\n",
       "    <span class=\"n\">main</span><span class=\"p\">()</span>\n",
       "</pre></div>\n"
      ],
      "text/latex": [
       "\\begin{Verbatim}[commandchars=\\\\\\{\\}]\n",
       "\\PY{k+kn}{import} \\PY{n+nn}{numpy} \\PY{k}{as} \\PY{n+nn}{np}\n",
       "\n",
       "\\PY{k+kn}{import} \\PY{n+nn}{cirq}\n",
       "\\PY{k+kn}{from} \\PY{n+nn}{recirq}\\PY{n+nn}{.}\\PY{n+nn}{otoc}\\PY{n+nn}{.}\\PY{n+nn}{loschmidt}\\PY{n+nn}{.}\\PY{n+nn}{tilted\\PYZus{}square\\PYZus{}lattice} \\PY{k+kn}{import} \\PYZbs{}\n",
       "    \\PY{n}{get\\PYZus{}all\\PYZus{}tilted\\PYZus{}square\\PYZus{}lattice\\PYZus{}executables}\n",
       "\n",
       "\\PY{n}{EXES\\PYZus{}FILENAME} \\PY{o}{=} \\PY{l+s+s1}{\\PYZsq{}}\\PY{l+s+s1}{loschmidt.tilted\\PYZus{}square\\PYZus{}lattice.small\\PYZhy{}cz\\PYZhy{}v1.json.gz}\\PY{l+s+s1}{\\PYZsq{}}\n",
       "\n",
       "\n",
       "\\PY{k}{def} \\PY{n+nf}{main}\\PY{p}{(}\\PY{p}{)}\\PY{p}{:}\n",
       "    \\PY{n}{exes} \\PY{o}{=} \\PY{n}{get\\PYZus{}all\\PYZus{}tilted\\PYZus{}square\\PYZus{}lattice\\PYZus{}executables}\\PY{p}{(}\n",
       "        \\PY{n}{min\\PYZus{}side\\PYZus{}length}\\PY{o}{=}\\PY{l+m+mi}{2}\\PY{p}{,} \\PY{n}{max\\PYZus{}side\\PYZus{}length}\\PY{o}{=}\\PY{l+m+mi}{3}\\PY{p}{,} \\PY{n}{side\\PYZus{}length\\PYZus{}step}\\PY{o}{=}\\PY{l+m+mi}{1}\\PY{p}{,}\n",
       "        \\PY{n}{n\\PYZus{}instances}\\PY{o}{=}\\PY{l+m+mi}{3}\\PY{p}{,}\n",
       "        \\PY{n}{macrocycle\\PYZus{}depths}\\PY{o}{=}\\PY{n}{np}\\PY{o}{.}\\PY{n}{arange}\\PY{p}{(}\\PY{l+m+mi}{0}\\PY{p}{,} \\PY{l+m+mi}{4} \\PY{o}{+} \\PY{l+m+mi}{1}\\PY{p}{,} \\PY{l+m+mi}{1}\\PY{p}{)}\\PY{p}{,}\n",
       "        \\PY{n}{twoq\\PYZus{}gate\\PYZus{}name}\\PY{o}{=}\\PY{l+s+s1}{\\PYZsq{}}\\PY{l+s+s1}{cz}\\PY{l+s+s1}{\\PYZsq{}}\\PY{p}{,}\n",
       "    \\PY{p}{)}\n",
       "    \\PY{n+nb}{print}\\PY{p}{(}\\PY{n+nb}{len}\\PY{p}{(}\\PY{n}{exes}\\PY{p}{)}\\PY{p}{,} \\PY{l+s+s1}{\\PYZsq{}}\\PY{l+s+s1}{executables}\\PY{l+s+s1}{\\PYZsq{}}\\PY{p}{)}\n",
       "\n",
       "    \\PY{n}{cirq}\\PY{o}{.}\\PY{n}{to\\PYZus{}json\\PYZus{}gzip}\\PY{p}{(}\\PY{n}{exes}\\PY{p}{,} \\PY{n}{EXES\\PYZus{}FILENAME}\\PY{p}{)}\n",
       "    \\PY{n+nb}{print}\\PY{p}{(}\\PY{l+s+sa}{f}\\PY{l+s+s1}{\\PYZsq{}}\\PY{l+s+s1}{Wrote }\\PY{l+s+si}{\\PYZob{}}\\PY{n}{EXES\\PYZus{}FILENAME}\\PY{l+s+si}{\\PYZcb{}}\\PY{l+s+s1}{\\PYZsq{}}\\PY{p}{)}\n",
       "\n",
       "\n",
       "\\PY{k}{if} \\PY{n+nv+vm}{\\PYZus{}\\PYZus{}name\\PYZus{}\\PYZus{}} \\PY{o}{==} \\PY{l+s+s1}{\\PYZsq{}}\\PY{l+s+s1}{\\PYZus{}\\PYZus{}main\\PYZus{}\\PYZus{}}\\PY{l+s+s1}{\\PYZsq{}}\\PY{p}{:}\n",
       "    \\PY{n}{main}\\PY{p}{(}\\PY{p}{)}\n",
       "\\end{Verbatim}\n"
      ],
      "text/plain": [
       "import numpy as np\n",
       "\n",
       "import cirq\n",
       "from recirq.otoc.loschmidt.tilted_square_lattice import \\\n",
       "    get_all_tilted_square_lattice_executables\n",
       "\n",
       "EXES_FILENAME = 'loschmidt.tilted_square_lattice.small-cz-v1.json.gz'\n",
       "\n",
       "\n",
       "def main():\n",
       "    exes = get_all_tilted_square_lattice_executables(\n",
       "        min_side_length=2, max_side_length=3, side_length_step=1,\n",
       "        n_instances=3,\n",
       "        macrocycle_depths=np.arange(0, 4 + 1, 1),\n",
       "        twoq_gate_name='cz',\n",
       "    )\n",
       "    print(len(exes), 'executables')\n",
       "\n",
       "    cirq.to_json_gzip(exes, EXES_FILENAME)\n",
       "    print(f'Wrote {EXES_FILENAME}')\n",
       "\n",
       "\n",
       "if __name__ == '__main__':\n",
       "    main()"
      ]
     },
     "metadata": {},
     "output_type": "display_data"
    }
   ],
   "source": [
    "show_python_script(algo_src_dir / config.gen_script)"
   ]
  },
  {
   "cell_type": "markdown",
   "metadata": {
    "id": "f02665c6"
   },
   "source": [
    "We've copied the important bit into the cell below so you can execute it within this notebook."
   ]
  },
  {
   "cell_type": "code",
   "execution_count": 9,
   "metadata": {
    "id": "24ef08e5"
   },
   "outputs": [
    {
     "data": {
      "text/plain": [
       "45"
      ]
     },
     "execution_count": 9,
     "metadata": {},
     "output_type": "execute_result"
    }
   ],
   "source": [
    "import numpy as np\n",
    "from recirq.otoc.loschmidt.tilted_square_lattice import get_all_tilted_square_lattice_executables\n",
    "\n",
    "exes = get_all_tilted_square_lattice_executables(\n",
    "    min_side_length=2, max_side_length=3, side_length_step=1,\n",
    "    n_instances=3,\n",
    "    macrocycle_depths=np.arange(0, 4 + 1, 1),\n",
    "    twoq_gate_name='cz',\n",
    "    seed=52,\n",
    ")\n",
    "len(exes)"
   ]
  },
  {
   "cell_type": "markdown",
   "metadata": {
    "id": "46f4c854"
   },
   "source": [
    "## Step 2: Execution\n",
    "\n",
    "The `QuantumExecutableGroup` for our benchmark defines _what_ to run. Now we configure _how_ to run it. This is done with a `QuantumRuntimeConfiguration`.\n",
    "\n",
    "We specify which processor to use (here: a simulated one. Try changing to `EngineProcessorRecord` to run on a real device), how to map the \"logical\" qubit identities in the problem to physical qubits (here: randomly), and how to set the random number generator's seed."
   ]
  },
  {
   "cell_type": "code",
   "execution_count": 10,
   "metadata": {
    "id": "e5423c78"
   },
   "outputs": [
    {
     "data": {
      "text/plain": [
       "cirq_google.QuantumRuntimeConfiguration(processor_record=cirq_google.SimulatedProcessorWithLocalDeviceRecord(processor_id='rainbow', noise_strength=0.005), run_id=None, random_seed=52, qubit_placer=cirq_google.RandomDevicePlacer())"
      ]
     },
     "execution_count": 10,
     "metadata": {},
     "output_type": "execute_result"
    }
   ],
   "source": [
    "from cirq_google.workflow import (\n",
    "    QuantumRuntimeConfiguration, \n",
    "    SimulatedProcessorWithLocalDeviceRecord,\n",
    "    EngineProcessorRecord,\n",
    "    RandomDevicePlacer\n",
    ")\n",
    "\n",
    "rt_config = QuantumRuntimeConfiguration(\n",
    "    processor_record=SimulatedProcessorWithLocalDeviceRecord('rainbow', noise_strength=0.005),\n",
    "    qubit_placer=RandomDevicePlacer(),\n",
    "    random_seed=52,\n",
    ")\n",
    "rt_config"
   ]
  },
  {
   "cell_type": "markdown",
   "metadata": {
    "id": "8374cd70"
   },
   "source": [
    "Again, we use a short Python file in the repository to commit the configuration options for a particular config."
   ]
  },
  {
   "cell_type": "code",
   "execution_count": 11,
   "metadata": {
    "id": "efb3e466"
   },
   "outputs": [
    {
     "data": {
      "text/html": [
       "<u>The contents of ../recirq/otoc/loschmidt/tilted_square_lattice/run-simulator.py:</u>"
      ],
      "text/plain": [
       "<IPython.core.display.HTML object>"
      ]
     },
     "metadata": {},
     "output_type": "display_data"
    },
    {
     "data": {
      "text/html": [
       "<style>pre { line-height: 125%; }\n",
       "td.linenos .normal { color: inherit; background-color: transparent; padding-left: 5px; padding-right: 5px; }\n",
       "span.linenos { color: inherit; background-color: transparent; padding-left: 5px; padding-right: 5px; }\n",
       "td.linenos .special { color: #000000; background-color: #ffffc0; padding-left: 5px; padding-right: 5px; }\n",
       "span.linenos.special { color: #000000; background-color: #ffffc0; padding-left: 5px; padding-right: 5px; }\n",
       ".output_html .hll { background-color: #ffffcc }\n",
       ".output_html { background: #f8f8f8; }\n",
       ".output_html .c { color: #408080; font-style: italic } /* Comment */\n",
       ".output_html .err { border: 1px solid #FF0000 } /* Error */\n",
       ".output_html .k { color: #008000; font-weight: bold } /* Keyword */\n",
       ".output_html .o { color: #666666 } /* Operator */\n",
       ".output_html .ch { color: #408080; font-style: italic } /* Comment.Hashbang */\n",
       ".output_html .cm { color: #408080; font-style: italic } /* Comment.Multiline */\n",
       ".output_html .cp { color: #BC7A00 } /* Comment.Preproc */\n",
       ".output_html .cpf { color: #408080; font-style: italic } /* Comment.PreprocFile */\n",
       ".output_html .c1 { color: #408080; font-style: italic } /* Comment.Single */\n",
       ".output_html .cs { color: #408080; font-style: italic } /* Comment.Special */\n",
       ".output_html .gd { color: #A00000 } /* Generic.Deleted */\n",
       ".output_html .ge { font-style: italic } /* Generic.Emph */\n",
       ".output_html .gr { color: #FF0000 } /* Generic.Error */\n",
       ".output_html .gh { color: #000080; font-weight: bold } /* Generic.Heading */\n",
       ".output_html .gi { color: #00A000 } /* Generic.Inserted */\n",
       ".output_html .go { color: #888888 } /* Generic.Output */\n",
       ".output_html .gp { color: #000080; font-weight: bold } /* Generic.Prompt */\n",
       ".output_html .gs { font-weight: bold } /* Generic.Strong */\n",
       ".output_html .gu { color: #800080; font-weight: bold } /* Generic.Subheading */\n",
       ".output_html .gt { color: #0044DD } /* Generic.Traceback */\n",
       ".output_html .kc { color: #008000; font-weight: bold } /* Keyword.Constant */\n",
       ".output_html .kd { color: #008000; font-weight: bold } /* Keyword.Declaration */\n",
       ".output_html .kn { color: #008000; font-weight: bold } /* Keyword.Namespace */\n",
       ".output_html .kp { color: #008000 } /* Keyword.Pseudo */\n",
       ".output_html .kr { color: #008000; font-weight: bold } /* Keyword.Reserved */\n",
       ".output_html .kt { color: #B00040 } /* Keyword.Type */\n",
       ".output_html .m { color: #666666 } /* Literal.Number */\n",
       ".output_html .s { color: #BA2121 } /* Literal.String */\n",
       ".output_html .na { color: #7D9029 } /* Name.Attribute */\n",
       ".output_html .nb { color: #008000 } /* Name.Builtin */\n",
       ".output_html .nc { color: #0000FF; font-weight: bold } /* Name.Class */\n",
       ".output_html .no { color: #880000 } /* Name.Constant */\n",
       ".output_html .nd { color: #AA22FF } /* Name.Decorator */\n",
       ".output_html .ni { color: #999999; font-weight: bold } /* Name.Entity */\n",
       ".output_html .ne { color: #D2413A; font-weight: bold } /* Name.Exception */\n",
       ".output_html .nf { color: #0000FF } /* Name.Function */\n",
       ".output_html .nl { color: #A0A000 } /* Name.Label */\n",
       ".output_html .nn { color: #0000FF; font-weight: bold } /* Name.Namespace */\n",
       ".output_html .nt { color: #008000; font-weight: bold } /* Name.Tag */\n",
       ".output_html .nv { color: #19177C } /* Name.Variable */\n",
       ".output_html .ow { color: #AA22FF; font-weight: bold } /* Operator.Word */\n",
       ".output_html .w { color: #bbbbbb } /* Text.Whitespace */\n",
       ".output_html .mb { color: #666666 } /* Literal.Number.Bin */\n",
       ".output_html .mf { color: #666666 } /* Literal.Number.Float */\n",
       ".output_html .mh { color: #666666 } /* Literal.Number.Hex */\n",
       ".output_html .mi { color: #666666 } /* Literal.Number.Integer */\n",
       ".output_html .mo { color: #666666 } /* Literal.Number.Oct */\n",
       ".output_html .sa { color: #BA2121 } /* Literal.String.Affix */\n",
       ".output_html .sb { color: #BA2121 } /* Literal.String.Backtick */\n",
       ".output_html .sc { color: #BA2121 } /* Literal.String.Char */\n",
       ".output_html .dl { color: #BA2121 } /* Literal.String.Delimiter */\n",
       ".output_html .sd { color: #BA2121; font-style: italic } /* Literal.String.Doc */\n",
       ".output_html .s2 { color: #BA2121 } /* Literal.String.Double */\n",
       ".output_html .se { color: #BB6622; font-weight: bold } /* Literal.String.Escape */\n",
       ".output_html .sh { color: #BA2121 } /* Literal.String.Heredoc */\n",
       ".output_html .si { color: #BB6688; font-weight: bold } /* Literal.String.Interpol */\n",
       ".output_html .sx { color: #008000 } /* Literal.String.Other */\n",
       ".output_html .sr { color: #BB6688 } /* Literal.String.Regex */\n",
       ".output_html .s1 { color: #BA2121 } /* Literal.String.Single */\n",
       ".output_html .ss { color: #19177C } /* Literal.String.Symbol */\n",
       ".output_html .bp { color: #008000 } /* Name.Builtin.Pseudo */\n",
       ".output_html .fm { color: #0000FF } /* Name.Function.Magic */\n",
       ".output_html .vc { color: #19177C } /* Name.Variable.Class */\n",
       ".output_html .vg { color: #19177C } /* Name.Variable.Global */\n",
       ".output_html .vi { color: #19177C } /* Name.Variable.Instance */\n",
       ".output_html .vm { color: #19177C } /* Name.Variable.Magic */\n",
       ".output_html .il { color: #666666 } /* Literal.Number.Integer.Long */</style><div class=\"highlight\"><pre><span></span><span class=\"kn\">import</span> <span class=\"nn\">cirq</span>\n",
       "<span class=\"kn\">from</span> <span class=\"nn\">cirq_google.workflow</span> <span class=\"kn\">import</span> <span class=\"p\">(</span>\n",
       "    <span class=\"n\">QuantumRuntimeConfiguration</span><span class=\"p\">,</span> <span class=\"n\">SimulatedProcessorWithLocalDeviceRecord</span><span class=\"p\">,</span> <span class=\"n\">RandomDevicePlacer</span><span class=\"p\">,</span>\n",
       "    <span class=\"n\">execute</span>\n",
       "<span class=\"p\">)</span>\n",
       "<span class=\"kn\">from</span> <span class=\"nn\">recirq.cirqflow.run_utils</span> <span class=\"kn\">import</span> <span class=\"n\">get_unique_run_id</span>\n",
       "<span class=\"kn\">from</span> <span class=\"nn\">recirq.otoc.loschmidt.tilted_square_lattice</span> <span class=\"kn\">import</span> <span class=\"n\">TiltedSquareLatticeLoschmidtSpec</span>\n",
       "\n",
       "<span class=\"k\">assert</span> <span class=\"n\">TiltedSquareLatticeLoschmidtSpec</span><span class=\"p\">,</span> <span class=\"s1\">&#39;register deserializer&#39;</span>\n",
       "\n",
       "<span class=\"n\">EXES_FILENAME</span> <span class=\"o\">=</span> <span class=\"s1\">&#39;loschmidt.tilted_square_lattice.small-v1.json.gz&#39;</span>\n",
       "\n",
       "\n",
       "<span class=\"k\">def</span> <span class=\"nf\">main</span><span class=\"p\">():</span>\n",
       "    <span class=\"n\">exegroup</span> <span class=\"o\">=</span> <span class=\"n\">cirq</span><span class=\"o\">.</span><span class=\"n\">read_json_gzip</span><span class=\"p\">(</span><span class=\"n\">EXES_FILENAME</span><span class=\"p\">)</span>\n",
       "    <span class=\"n\">rt_config</span> <span class=\"o\">=</span> <span class=\"n\">QuantumRuntimeConfiguration</span><span class=\"p\">(</span>\n",
       "        <span class=\"n\">processor_record</span><span class=\"o\">=</span><span class=\"n\">SimulatedProcessorWithLocalDeviceRecord</span><span class=\"p\">(</span><span class=\"s1\">&#39;rainbow&#39;</span><span class=\"p\">,</span> <span class=\"n\">noise_strength</span><span class=\"o\">=</span><span class=\"mf\">0.005</span><span class=\"p\">),</span>\n",
       "        <span class=\"n\">qubit_placer</span><span class=\"o\">=</span><span class=\"n\">RandomDevicePlacer</span><span class=\"p\">(),</span>\n",
       "        <span class=\"n\">run_id</span><span class=\"o\">=</span><span class=\"n\">get_unique_run_id</span><span class=\"p\">(</span><span class=\"s1\">&#39;simulated-</span><span class=\"si\">{i}</span><span class=\"s1\">&#39;</span><span class=\"p\">),</span>\n",
       "        <span class=\"n\">random_seed</span><span class=\"o\">=</span><span class=\"mi\">52</span><span class=\"p\">,</span>\n",
       "    <span class=\"p\">)</span>\n",
       "    <span class=\"n\">raw_results</span> <span class=\"o\">=</span> <span class=\"n\">execute</span><span class=\"p\">(</span><span class=\"n\">rt_config</span><span class=\"p\">,</span> <span class=\"n\">exegroup</span><span class=\"p\">)</span>\n",
       "    <span class=\"nb\">print</span><span class=\"p\">(</span><span class=\"s2\">&quot;Finished run_id&quot;</span><span class=\"p\">,</span> <span class=\"n\">raw_results</span><span class=\"o\">.</span><span class=\"n\">shared_runtime_info</span><span class=\"o\">.</span><span class=\"n\">run_id</span><span class=\"p\">)</span>\n",
       "\n",
       "\n",
       "<span class=\"k\">if</span> <span class=\"vm\">__name__</span> <span class=\"o\">==</span> <span class=\"s1\">&#39;__main__&#39;</span><span class=\"p\">:</span>\n",
       "    <span class=\"n\">main</span><span class=\"p\">()</span>\n",
       "</pre></div>\n"
      ],
      "text/latex": [
       "\\begin{Verbatim}[commandchars=\\\\\\{\\}]\n",
       "\\PY{k+kn}{import} \\PY{n+nn}{cirq}\n",
       "\\PY{k+kn}{from} \\PY{n+nn}{cirq\\PYZus{}google}\\PY{n+nn}{.}\\PY{n+nn}{workflow} \\PY{k+kn}{import} \\PY{p}{(}\n",
       "    \\PY{n}{QuantumRuntimeConfiguration}\\PY{p}{,} \\PY{n}{SimulatedProcessorWithLocalDeviceRecord}\\PY{p}{,} \\PY{n}{RandomDevicePlacer}\\PY{p}{,}\n",
       "    \\PY{n}{execute}\n",
       "\\PY{p}{)}\n",
       "\\PY{k+kn}{from} \\PY{n+nn}{recirq}\\PY{n+nn}{.}\\PY{n+nn}{cirqflow}\\PY{n+nn}{.}\\PY{n+nn}{run\\PYZus{}utils} \\PY{k+kn}{import} \\PY{n}{get\\PYZus{}unique\\PYZus{}run\\PYZus{}id}\n",
       "\\PY{k+kn}{from} \\PY{n+nn}{recirq}\\PY{n+nn}{.}\\PY{n+nn}{otoc}\\PY{n+nn}{.}\\PY{n+nn}{loschmidt}\\PY{n+nn}{.}\\PY{n+nn}{tilted\\PYZus{}square\\PYZus{}lattice} \\PY{k+kn}{import} \\PY{n}{TiltedSquareLatticeLoschmidtSpec}\n",
       "\n",
       "\\PY{k}{assert} \\PY{n}{TiltedSquareLatticeLoschmidtSpec}\\PY{p}{,} \\PY{l+s+s1}{\\PYZsq{}}\\PY{l+s+s1}{register deserializer}\\PY{l+s+s1}{\\PYZsq{}}\n",
       "\n",
       "\\PY{n}{EXES\\PYZus{}FILENAME} \\PY{o}{=} \\PY{l+s+s1}{\\PYZsq{}}\\PY{l+s+s1}{loschmidt.tilted\\PYZus{}square\\PYZus{}lattice.small\\PYZhy{}v1.json.gz}\\PY{l+s+s1}{\\PYZsq{}}\n",
       "\n",
       "\n",
       "\\PY{k}{def} \\PY{n+nf}{main}\\PY{p}{(}\\PY{p}{)}\\PY{p}{:}\n",
       "    \\PY{n}{exegroup} \\PY{o}{=} \\PY{n}{cirq}\\PY{o}{.}\\PY{n}{read\\PYZus{}json\\PYZus{}gzip}\\PY{p}{(}\\PY{n}{EXES\\PYZus{}FILENAME}\\PY{p}{)}\n",
       "    \\PY{n}{rt\\PYZus{}config} \\PY{o}{=} \\PY{n}{QuantumRuntimeConfiguration}\\PY{p}{(}\n",
       "        \\PY{n}{processor\\PYZus{}record}\\PY{o}{=}\\PY{n}{SimulatedProcessorWithLocalDeviceRecord}\\PY{p}{(}\\PY{l+s+s1}{\\PYZsq{}}\\PY{l+s+s1}{rainbow}\\PY{l+s+s1}{\\PYZsq{}}\\PY{p}{,} \\PY{n}{noise\\PYZus{}strength}\\PY{o}{=}\\PY{l+m+mf}{0.005}\\PY{p}{)}\\PY{p}{,}\n",
       "        \\PY{n}{qubit\\PYZus{}placer}\\PY{o}{=}\\PY{n}{RandomDevicePlacer}\\PY{p}{(}\\PY{p}{)}\\PY{p}{,}\n",
       "        \\PY{n}{run\\PYZus{}id}\\PY{o}{=}\\PY{n}{get\\PYZus{}unique\\PYZus{}run\\PYZus{}id}\\PY{p}{(}\\PY{l+s+s1}{\\PYZsq{}}\\PY{l+s+s1}{simulated\\PYZhy{}}\\PY{l+s+si}{\\PYZob{}i\\PYZcb{}}\\PY{l+s+s1}{\\PYZsq{}}\\PY{p}{)}\\PY{p}{,}\n",
       "        \\PY{n}{random\\PYZus{}seed}\\PY{o}{=}\\PY{l+m+mi}{52}\\PY{p}{,}\n",
       "    \\PY{p}{)}\n",
       "    \\PY{n}{raw\\PYZus{}results} \\PY{o}{=} \\PY{n}{execute}\\PY{p}{(}\\PY{n}{rt\\PYZus{}config}\\PY{p}{,} \\PY{n}{exegroup}\\PY{p}{)}\n",
       "    \\PY{n+nb}{print}\\PY{p}{(}\\PY{l+s+s2}{\\PYZdq{}}\\PY{l+s+s2}{Finished run\\PYZus{}id}\\PY{l+s+s2}{\\PYZdq{}}\\PY{p}{,} \\PY{n}{raw\\PYZus{}results}\\PY{o}{.}\\PY{n}{shared\\PYZus{}runtime\\PYZus{}info}\\PY{o}{.}\\PY{n}{run\\PYZus{}id}\\PY{p}{)}\n",
       "\n",
       "\n",
       "\\PY{k}{if} \\PY{n+nv+vm}{\\PYZus{}\\PYZus{}name\\PYZus{}\\PYZus{}} \\PY{o}{==} \\PY{l+s+s1}{\\PYZsq{}}\\PY{l+s+s1}{\\PYZus{}\\PYZus{}main\\PYZus{}\\PYZus{}}\\PY{l+s+s1}{\\PYZsq{}}\\PY{p}{:}\n",
       "    \\PY{n}{main}\\PY{p}{(}\\PY{p}{)}\n",
       "\\end{Verbatim}\n"
      ],
      "text/plain": [
       "import cirq\n",
       "from cirq_google.workflow import (\n",
       "    QuantumRuntimeConfiguration, SimulatedProcessorWithLocalDeviceRecord, RandomDevicePlacer,\n",
       "    execute\n",
       ")\n",
       "from recirq.cirqflow.run_utils import get_unique_run_id\n",
       "from recirq.otoc.loschmidt.tilted_square_lattice import TiltedSquareLatticeLoschmidtSpec\n",
       "\n",
       "assert TiltedSquareLatticeLoschmidtSpec, 'register deserializer'\n",
       "\n",
       "EXES_FILENAME = 'loschmidt.tilted_square_lattice.small-v1.json.gz'\n",
       "\n",
       "\n",
       "def main():\n",
       "    exegroup = cirq.read_json_gzip(EXES_FILENAME)\n",
       "    rt_config = QuantumRuntimeConfiguration(\n",
       "        processor_record=SimulatedProcessorWithLocalDeviceRecord('rainbow', noise_strength=0.005),\n",
       "        qubit_placer=RandomDevicePlacer(),\n",
       "        run_id=get_unique_run_id('simulated-{i}'),\n",
       "        random_seed=52,\n",
       "    )\n",
       "    raw_results = execute(rt_config, exegroup)\n",
       "    print(\"Finished run_id\", raw_results.shared_runtime_info.run_id)\n",
       "\n",
       "\n",
       "if __name__ == '__main__':\n",
       "    main()"
      ]
     },
     "metadata": {},
     "output_type": "display_data"
    }
   ],
   "source": [
    "show_python_script(algo_src_dir / 'run-simulator.py')"
   ]
  },
  {
   "cell_type": "markdown",
   "metadata": {
    "id": "d6d6f107"
   },
   "source": [
    "Usually, we're very careful about saving everthing in a structured way relative to a `base_data_dir`. Since this notebook is run interactively, we'll make a temporary directory to serve as our `base_data_dir`."
   ]
  },
  {
   "cell_type": "code",
   "execution_count": 12,
   "metadata": {
    "id": "6f44d054"
   },
   "outputs": [
    {
     "data": {
      "text/plain": [
       "'/tmp/tmppw19om17'"
      ]
     },
     "execution_count": 12,
     "metadata": {},
     "output_type": "execute_result"
    }
   ],
   "source": [
    "import tempfile\n",
    "base_data_dir = tempfile.mkdtemp()\n",
    "base_data_dir"
   ]
  },
  {
   "cell_type": "markdown",
   "metadata": {
    "id": "c82179e3"
   },
   "source": [
    "Actual execution is as simple as calling `execute` once the runtime configuration and executables are created."
   ]
  },
  {
   "cell_type": "code",
   "execution_count": 13,
   "metadata": {
    "id": "dc3525eb"
   },
   "outputs": [
    {
     "name": "stdout",
     "output_type": "stream",
     "text": [
      "\n",
      "45 / 45\n"
     ]
    }
   ],
   "source": [
    "from cirq_google.workflow import execute\n",
    "raw_results = execute(rt_config, exes, base_data_dir=base_data_dir)"
   ]
  },
  {
   "cell_type": "markdown",
   "metadata": {
    "id": "7a52c7c3"
   },
   "source": [
    "Since we didn't input our own, a random `run_id` is generated for us. The run_ids must be unique within a data directory."
   ]
  },
  {
   "cell_type": "code",
   "execution_count": 14,
   "metadata": {
    "id": "148b727e"
   },
   "outputs": [
    {
     "data": {
      "text/plain": [
       "'3cb7656c-eee1-436c-8a05-0affb09863ed'"
      ]
     },
     "execution_count": 14,
     "metadata": {},
     "output_type": "execute_result"
    }
   ],
   "source": [
    "run_id = raw_results.shared_runtime_info.run_id\n",
    "run_id"
   ]
  },
  {
   "cell_type": "markdown",
   "metadata": {
    "id": "60fd9675"
   },
   "source": [
    "## Step 3: Analysis and Plotting\n",
    "\n",
    "Finally, we can analyze one or more datasets and generate plots. Since we've decoupled problem generation and execution from this step you can slice and dice your data any way you want. Usually, analysis routines will use the accompanying `analysis` module for helper function and do much of the `pd.DataFrame` and `matplotlib` munging interactively in a Jupyter notebook. One of the plots from `plots.ipynb` is reproduced here."
   ]
  },
  {
   "cell_type": "code",
   "execution_count": 15,
   "metadata": {
    "id": "17c2a8c4"
   },
   "outputs": [
    {
     "data": {
      "text/html": [
       "<div>\n",
       "<style scoped>\n",
       "    .dataframe tbody tr th:only-of-type {\n",
       "        vertical-align: middle;\n",
       "    }\n",
       "\n",
       "    .dataframe tbody tr th {\n",
       "        vertical-align: top;\n",
       "    }\n",
       "\n",
       "    .dataframe thead th {\n",
       "        text-align: right;\n",
       "    }\n",
       "</style>\n",
       "<table border=\"1\" class=\"dataframe\">\n",
       "  <thead>\n",
       "    <tr style=\"text-align: right;\">\n",
       "      <th></th>\n",
       "      <th>run_id</th>\n",
       "      <th>width</th>\n",
       "      <th>height</th>\n",
       "      <th>n_qubits</th>\n",
       "      <th>macrocycle_depth</th>\n",
       "      <th>q_area</th>\n",
       "      <th>instance_i</th>\n",
       "      <th>n_repetitions</th>\n",
       "      <th>success_probability</th>\n",
       "      <th>processor_str</th>\n",
       "    </tr>\n",
       "  </thead>\n",
       "  <tbody>\n",
       "    <tr>\n",
       "      <th>0</th>\n",
       "      <td>3cb7656c-eee1-436c-8a05-0affb09863ed</td>\n",
       "      <td>2</td>\n",
       "      <td>2</td>\n",
       "      <td>5</td>\n",
       "      <td>0</td>\n",
       "      <td>0</td>\n",
       "      <td>0</td>\n",
       "      <td>1000</td>\n",
       "      <td>0.954</td>\n",
       "      <td>rainbow-depol(5.000e-03)</td>\n",
       "    </tr>\n",
       "    <tr>\n",
       "      <th>1</th>\n",
       "      <td>3cb7656c-eee1-436c-8a05-0affb09863ed</td>\n",
       "      <td>2</td>\n",
       "      <td>2</td>\n",
       "      <td>5</td>\n",
       "      <td>0</td>\n",
       "      <td>0</td>\n",
       "      <td>1</td>\n",
       "      <td>1000</td>\n",
       "      <td>0.940</td>\n",
       "      <td>rainbow-depol(5.000e-03)</td>\n",
       "    </tr>\n",
       "    <tr>\n",
       "      <th>2</th>\n",
       "      <td>3cb7656c-eee1-436c-8a05-0affb09863ed</td>\n",
       "      <td>2</td>\n",
       "      <td>2</td>\n",
       "      <td>5</td>\n",
       "      <td>0</td>\n",
       "      <td>0</td>\n",
       "      <td>2</td>\n",
       "      <td>1000</td>\n",
       "      <td>0.946</td>\n",
       "      <td>rainbow-depol(5.000e-03)</td>\n",
       "    </tr>\n",
       "    <tr>\n",
       "      <th>3</th>\n",
       "      <td>3cb7656c-eee1-436c-8a05-0affb09863ed</td>\n",
       "      <td>2</td>\n",
       "      <td>2</td>\n",
       "      <td>5</td>\n",
       "      <td>1</td>\n",
       "      <td>40</td>\n",
       "      <td>0</td>\n",
       "      <td>1000</td>\n",
       "      <td>0.708</td>\n",
       "      <td>rainbow-depol(5.000e-03)</td>\n",
       "    </tr>\n",
       "    <tr>\n",
       "      <th>4</th>\n",
       "      <td>3cb7656c-eee1-436c-8a05-0affb09863ed</td>\n",
       "      <td>2</td>\n",
       "      <td>2</td>\n",
       "      <td>5</td>\n",
       "      <td>1</td>\n",
       "      <td>40</td>\n",
       "      <td>1</td>\n",
       "      <td>1000</td>\n",
       "      <td>0.682</td>\n",
       "      <td>rainbow-depol(5.000e-03)</td>\n",
       "    </tr>\n",
       "  </tbody>\n",
       "</table>\n",
       "</div>"
      ],
      "text/plain": [
       "                                 run_id  width  height  n_qubits  \\\n",
       "0  3cb7656c-eee1-436c-8a05-0affb09863ed      2       2         5   \n",
       "1  3cb7656c-eee1-436c-8a05-0affb09863ed      2       2         5   \n",
       "2  3cb7656c-eee1-436c-8a05-0affb09863ed      2       2         5   \n",
       "3  3cb7656c-eee1-436c-8a05-0affb09863ed      2       2         5   \n",
       "4  3cb7656c-eee1-436c-8a05-0affb09863ed      2       2         5   \n",
       "\n",
       "   macrocycle_depth  q_area  instance_i  n_repetitions  success_probability  \\\n",
       "0                 0       0           0           1000                0.954   \n",
       "1                 0       0           1           1000                0.940   \n",
       "2                 0       0           2           1000                0.946   \n",
       "3                 1      40           0           1000                0.708   \n",
       "4                 1      40           1           1000                0.682   \n",
       "\n",
       "              processor_str  \n",
       "0  rainbow-depol(5.000e-03)  \n",
       "1  rainbow-depol(5.000e-03)  \n",
       "2  rainbow-depol(5.000e-03)  \n",
       "3  rainbow-depol(5.000e-03)  \n",
       "4  rainbow-depol(5.000e-03)  "
      ]
     },
     "execution_count": 15,
     "metadata": {},
     "output_type": "execute_result"
    }
   ],
   "source": [
    "import recirq.otoc.loschmidt.tilted_square_lattice.analysis as analysis\n",
    "import cirq_google as cg\n",
    "import pandas as pd\n",
    "\n",
    "raw_results = cg.ExecutableGroupResultFilesystemRecord.from_json(run_id=run_id, base_data_dir=base_data_dir)\\\n",
    "                    .load(base_data_dir=base_data_dir)\n",
    "df = analysis.loschmidt_results_to_dataframe(raw_results)\n",
    "df.head()"
   ]
  },
  {
   "cell_type": "code",
   "execution_count": 16,
   "metadata": {
    "id": "4d83dac4"
   },
   "outputs": [],
   "source": [
    "vs_depth_df, vs_depth_gb_cols = analysis.agg_vs_macrocycle_depth(df)\n",
    "fit_df, exp_ansatz = analysis.fit_vs_macrocycle_depth(df)\n",
    "total_df = pd.merge(vs_depth_df, fit_df, on=vs_depth_gb_cols)"
   ]
  },
  {
   "cell_type": "code",
   "execution_count": 17,
   "metadata": {
    "id": "ff91c006"
   },
   "outputs": [],
   "source": [
    "from matplotlib import pyplot as plt\n",
    "\n",
    "colors = plt.get_cmap('tab10')\n",
    "\n",
    "for i, row in total_df.iterrows():\n",
    "    plt.errorbar(\n",
    "        x=row['macrocycle_depth'],\n",
    "        y=row['success_probability_mean'],\n",
    "        yerr=row['success_probability_std'],\n",
    "        marker='o', capsize=5, ls='',\n",
    "        color=colors(i),\n",
    "        label=f'{row[\"width\"]}x{row[\"height\"]} ({row[\"n_qubits\"]}q) {row[\"processor_str\"]}; f={row[\"f\"]:.3f}'\n",
    "    )\n",
    "    \n",
    "    xx = np.linspace(np.min(row['macrocycle_depth']), np.max(row['macrocycle_depth']))\n",
    "    yy = exp_ansatz(xx, a=row['a'], f=row['f'])\n",
    "    plt.plot(xx, yy, ls='--', color=colors(i))\n",
    "    \n",
    "plt.legend(loc='best')\n",
    "plt.yscale('log')\n",
    "plt.xlabel('Macrocycle Depth')\n",
    "plt.ylabel('Success Probability')\n",
    "plt.tight_layout()"
   ]
  },
  {
   "cell_type": "markdown",
   "metadata": {
    "id": "9026a9d26bf5"
   },
   "source": [
    "## Appendix: `QuantumExecutable` and `ExecutableSpec`\n",
    "\n",
    " - A `QuantumExecutable` contains a complete description of what to run. Think of it as a souped-up version of a `cirq.Circuit`. \n",
    " - An `ExecutableSpec` is a problem-specific dataclass minimally capturing the salient independent variables, usually with plain-old-datatypes suitable for databasing and plotting.\n",
    " \n",
    "Each benchmark provides a problem-specific subclass of `ExecutableSpec` and a function that turns those specs into problem-agnostic, fully-specified `QuantumExecutable`s.\n",
    "\n",
    "![Spec to Executable](./images/ftbbl-flow-1.png)"
   ]
  },
  {
   "cell_type": "markdown",
   "metadata": {
    "id": "9b4b73a3"
   },
   "source": [
    "### QuantumExecutable\n",
    "\n",
    "Each `QuantumExecutable` fully specifies the quantum program to be run, but as high-level as possible. The most familiar part is `circuit: cirq.Circuit`, but the executable also includes measurement (i.e. repetitions) information, sweep parameters, and other data. We'll look at the fields on one of our executables below:"
   ]
  },
  {
   "cell_type": "code",
   "execution_count": 18,
   "metadata": {
    "id": "a4f7f057"
   },
   "outputs": [
    {
     "name": "stdout",
     "output_type": "stream",
     "text": [
      "exe fields:\n",
      "['circuit', 'measurement', 'params', 'spec', 'problem_topology', 'initial_state']\n"
     ]
    }
   ],
   "source": [
    "# Pick one `QuantumExecutable` from the `QuantumExecutableGroup` \n",
    "exe = exes.executables[0]\n",
    "\n",
    "import dataclasses\n",
    "print('exe fields:')\n",
    "print([f.name for f in dataclasses.fields(exe)])"
   ]
  },
  {
   "cell_type": "markdown",
   "metadata": {
    "id": "e99681bf"
   },
   "source": [
    "`QuantumExectutable.spec` is a *reference* to the `ExecutableSpec` used to create this executable. Here, it is a `TiltedSquareLatticeLoschmidtSpec` which derives from the `ExecutableSpec` base class. Each `AlgorithmicBenchmark` has its own class derived from `ExecutableSpec`. This correspondance is recorded as `AlgorithmicBenchmark.spec_class`."
   ]
  },
  {
   "cell_type": "code",
   "execution_count": 19,
   "metadata": {
    "id": "8517bab4"
   },
   "outputs": [
    {
     "name": "stdout",
     "output_type": "stream",
     "text": [
      "<class 'recirq.otoc.loschmidt.tilted_square_lattice.tilted_square_lattice.TiltedSquareLatticeLoschmidtSpec'>\n",
      "<class 'recirq.otoc.loschmidt.tilted_square_lattice.tilted_square_lattice.TiltedSquareLatticeLoschmidtSpec'>\n"
     ]
    }
   ],
   "source": [
    "print(algo.spec_class)\n",
    "print(exe.spec.__class__)"
   ]
  },
  {
   "cell_type": "markdown",
   "metadata": {
    "id": "48fe010dac15"
   },
   "source": [
    "### ExecutableSpec\n",
    "\n",
    "The `ExecutableSpec` is a problem-specific dataclass containing the relevant independent variables for a benchmark. Since each benchmark has its own subclass of `ExecutableSpec`, we'll continue using our example loschmidt benchmark and create an example `TiltedSquareLatticeLoschmidtSpec`:"
   ]
  },
  {
   "cell_type": "code",
   "execution_count": 20,
   "metadata": {
    "id": "2d6b033e63e8"
   },
   "outputs": [],
   "source": [
    "import cirq\n",
    "from recirq.otoc.loschmidt.tilted_square_lattice import TiltedSquareLatticeLoschmidtSpec\n",
    "\n",
    "spec = TiltedSquareLatticeLoschmidtSpec(\n",
    "    topology=cirq.TiltedSquareLattice(width=2, height=2),\n",
    "    macrocycle_depth=0,\n",
    "    instance_i=0,\n",
    "    n_repetitions=1_000,\n",
    "    twoq_gate_name='cz'\n",
    ")"
   ]
  },
  {
   "cell_type": "markdown",
   "metadata": {
    "id": "57bb0b5ec9c3"
   },
   "source": [
    "I've chosen the parameters corresponding to our example executable, `exe = exes.executables[0]`."
   ]
  },
  {
   "cell_type": "code",
   "execution_count": 21,
   "metadata": {
    "id": "958098f1"
   },
   "outputs": [
    {
     "data": {
      "text/plain": [
       "True"
      ]
     },
     "execution_count": 21,
     "metadata": {},
     "output_type": "execute_result"
    }
   ],
   "source": [
    "exe.spec == spec"
   ]
  },
  {
   "cell_type": "markdown",
   "metadata": {
    "id": "be8ab887"
   },
   "source": [
    "Below, we re-create the executable using just the `spec`. "
   ]
  },
  {
   "cell_type": "code",
   "execution_count": 22,
   "metadata": {
    "id": "ebf60381"
   },
   "outputs": [
    {
     "data": {
      "text/plain": [
       "True"
      ]
     },
     "execution_count": 22,
     "metadata": {},
     "output_type": "execute_result"
    }
   ],
   "source": [
    "from recirq.otoc.loschmidt.tilted_square_lattice import tilted_square_lattice_spec_to_exe\n",
    "\n",
    "exe2 = tilted_square_lattice_spec_to_exe(exe.spec, rs=np.random.RandomState(52))\n",
    "exe == exe2"
   ]
  }
 ],
 "metadata": {
  "colab": {
   "name": "ftbbl.ipynb",
   "toc_visible": true
  },
  "kernelspec": {
   "display_name": "Python 3",
   "name": "python3"
  }
 },
 "nbformat": 4,
 "nbformat_minor": 0
}
