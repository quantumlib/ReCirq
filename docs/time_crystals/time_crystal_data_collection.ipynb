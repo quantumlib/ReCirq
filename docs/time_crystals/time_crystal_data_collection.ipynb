{
 "cells": [
  {
   "cell_type": "code",
   "execution_count": 1,
   "metadata": {
    "id": "10a61b4d73a5"
   },
   "outputs": [],
   "source": [
    "# Copyright 2021 Google\n",
    "#\n",
    "# Licensed under the Apache License, Version 2.0 (the \"License\");\n",
    "# you may not use this file except in compliance with the License.\n",
    "# You may obtain a copy of the License at\n",
    "#\n",
    "#     https://www.apache.org/licenses/LICENSE-2.0\n",
    "#\n",
    "# Unless required by applicable law or agreed to in writing, software\n",
    "# distributed under the License is distributed on an \"AS IS\" BASIS,\n",
    "# WITHOUT WARRANTIES OR CONDITIONS OF ANY KIND, either express or implied.\n",
    "# See the License for the specific language governing permissions and\n",
    "# limitations under the License."
   ]
  },
  {
   "cell_type": "markdown",
   "metadata": {
    "id": "4bdef84a5ef5"
   },
   "source": [
    "# Time Crystal Data Collection\n",
    "\n",
    "This notebook acts as a script to run the experiments and save the data associated with Figures 2d through 3d in the paper: Observation of Time-Crystalline Eigenstate Order on a Quantum Processor ([Nature](https://www.nature.com/articles/s41586-021-04257-w)). \n",
    "\n",
    "Each of the five experiments are built using `recirq.time_crystals.dtctasks.CompareDTCTask`, which defines the experiment parameters that are to be compared. `CompareDTCTask.dtctasks()` then creates `recirq.time_crystals.dtctasks.DTCTask`s with all of the requisite parameters for an instance of the experiment. \n",
    "\n",
    "A `DTCTask` has the following attributes and default values: \n",
    "- `qubits`: Sequence of qubits connected in a chain. Defaults to a line of $16$ connected `cirq.GridQubits`. \n",
    "- `disorder_instances`: Number of disorder instances to simulate and average resulting polarizations over. Defaults to $36$.\n",
    "- `g`: Control parameter which influences how well the system is able to maintain time-crystalline behavior. Used in `cirq.PhasedXZGate`s in the circuit. Defaults to $0.94$.\n",
    "- `initial_state` or `initial_states`: Only one should be supplied. Defines the input state of the system and is implemented with `cirq.Y` gates in the circuit. If `initial_state` is supplied, it will be repeated and used for every disorder instance. Defaults to a different random bit string for each disorder instance.\n",
    "- `local_fields`: Random potentials critical to enable many-body local behavior. Used in `cirq.PhasedXZGate`s in the circuit. Defaults to uniformly selected float values between $-1.0$ and $1.0$.\n",
    "- `thetas`, `zetas` and `chis`: Parameters used in the FSim gates in the circuit. Defaults to zero in all cases.\n",
    "- `phis`: Parameter used in the FSim gates in the circuit. Affects the stability of the time-crystalline behavior. Defaults to uniformly selected float values between $-1.5*\\pi$ and $-0.5*\\pi$. \n",
    "- `gammas`: Parameter used in the FSim gates in the circuit. `Gammas` and `phis` are interdependent such that they satisfy $gammas = -2*phis$; One is set according to this equation if the other is supplied, otherwise use the default `phis` and calculate `gammas` from that.\n",
    "\n",
    "`CompareDTCTask.dtctasks()` takes the product over the values of the `options_dict` supplied to the `CompareDTCTask` object, and passes those values as parameters to the `__init__()` function for `DTCTask`. Any parameter not supplied takes it's default value, meaning only the different parameter options that are to be compared need to be supplied to `CompareDTCTask`'s `options_dict`. This also means that supplying one parameter option for a parameter fixes that parameter option across all cases, instead of using the defaults, which may randomly generate values for each different `DTCTask`.  "
   ]
  },
  {
   "cell_type": "markdown",
   "metadata": {
    "id": "f53722cb0850"
   },
   "source": [
    "## Setup"
   ]
  },
  {
   "cell_type": "code",
   "execution_count": null,
   "metadata": {
    "id": "EkaIfQIIkXjE"
   },
   "outputs": [],
   "source": [
    "!pip install cirq --pre --quiet\n",
    "try:\n",
    "    import recirq\n",
    "except ImportError:\n",
    "    !pip install --quiet git+https://github.com/quantumlib/ReCirq"
   ]
  },
  {
   "cell_type": "code",
   "execution_count": 3,
   "metadata": {
    "id": "5tTJoyYMk0bK"
   },
   "outputs": [],
   "source": [
    "import cirq\n",
    "import itertools\n",
    "import numpy as np\n",
    "import matplotlib.pyplot as plt\n",
    "import recirq.time_crystals as time_crystals"
   ]
  },
  {
   "cell_type": "markdown",
   "metadata": {
    "id": "c1bae56e4403"
   },
   "source": [
    "## Variables used in all experiments\n",
    "Defines the qubits, number of DTC cycles (time steps) to evaluate, and the `base_dir` to store experiment results in."
   ]
  },
  {
   "cell_type": "code",
   "execution_count": 4,
   "metadata": {
    "id": "D8ntbOBa4MKZ"
   },
   "outputs": [],
   "source": [
    "# define the qubits to use\n",
    "qubit_locations = [(3, 9), (3, 8), (3, 7), (4, 7), (4, 8), (5, 8), (5, 7), (5, 6), (6, 6), (6, 5), (7, 5), (8, 5),\n",
    "              (8, 4), (8, 3), (7, 3), (6, 3)]\n",
    "\n",
    "qubits = [cirq.GridQubit(*idx) for idx in qubit_locations]\n",
    "num_qubits = len(qubits)\n",
    "\n",
    "# number of cycles to evaluate over\n",
    "num_cycles = 100\n",
    "\n",
    "# directory to store data in\n",
    "base_dir = time_crystals.DEFAULT_BASE_DIR"
   ]
  },
  {
   "cell_type": "markdown",
   "metadata": {
    "id": "17506537dabc"
   },
   "source": [
    "## Figure 2d's Experiment\n",
    "This experiment considers the constant `g`, which affects the ability for the DTC system to oscillate consistently.\n",
    "\n",
    "It compares two different values for `g`, $0.6$ and $0.94$, but uses the same disorder instances (randomly selected parameter values) for each of the two values of `g`. \n",
    "\n",
    "Define this with `options_dict` below, which results takes a product over the values of the dictionary. The result is the following two `recirq.time_crystals.DTCTasks`, with different values of `g`, but using the same `initial_states`, `local_fields`, and `gammas`: \n",
    "- `DTCTask(g = 0.6, initial_states = initial_states, local_fields = local_fields, gammas = gammas)`\n",
    "- `DTCTask(g = 0.94, initial_states = initial_states, local_fields = local_fields, gammas = gammas)`\n",
    "\n",
    "These two `DTCTask`s are each simulated over 36 disorder instances, have the polarizations for each qubit calculated, autocorrelated with the initial state, averaged, and finally saved as a json. "
   ]
  },
  {
   "cell_type": "code",
   "execution_count": 5,
   "metadata": {
    "id": "8_rImPnElMGJ"
   },
   "outputs": [
    {
     "name": "stdout",
     "output_type": "stream",
     "text": [
      "CPU times: user 2min 48s, sys: 84.9 ms, total: 2min 48s\n",
      "Wall time: 2min 48s\n"
     ]
    }
   ],
   "source": [
    "%%time\n",
    "\n",
    "# number of disorder instances to average over\n",
    "disorder_instances = 36\n",
    "\n",
    "# disorder instances h\n",
    "local_fields = np.random.uniform(-1.0, 1.0, (disorder_instances, num_qubits))\n",
    "\n",
    "# initial states, one for each disorder instance\n",
    "initial_states = np.random.choice(2, (disorder_instances, num_qubits))\n",
    "\n",
    "# gammas for phased FSim gates\n",
    "gammas = np.random.uniform(-0.5*np.pi, -1.5*np.pi, (disorder_instances, num_qubits - 1))\n",
    "\n",
    "# create comparison task\n",
    "options_dict = {\n",
    "    'g': [0.6, 0.94],\n",
    "    'initial_states': [initial_states], \n",
    "    'local_fields' : [local_fields],\n",
    "    'gammas': [gammas]\n",
    "}\n",
    "comparedtctask = time_crystals.CompareDTCTask(qubits, num_cycles, disorder_instances, options_dict)\n",
    "\n",
    "# create polarizations generator\n",
    "polarizations_generator = time_crystals.run_comparison_experiment(comparedtctask, autocorrelate=True, take_abs=False)\n",
    "\n",
    "# collect polarizations by g option\n",
    "average_polarizations = np.empty((2, num_cycles+1, num_qubits))\n",
    "\n",
    "for g_index, disorder_averaged_polarizations in enumerate(polarizations_generator):\n",
    "    average_polarizations[g_index, :, :] = disorder_averaged_polarizations\n",
    "\n",
    "# save data in json format\n",
    "filename = f'{base_dir}/2d.json'\n",
    "with open(filename, 'w+') as f:\n",
    "    cirq.to_json(average_polarizations, file_or_fn=f)"
   ]
  },
  {
   "cell_type": "markdown",
   "metadata": {
    "id": "116c8af588df"
   },
   "source": [
    "## Figure 3a's Experiment\n",
    "This experiment compares six options: the product between:\n",
    "- Two options for `phis`: Uniformly, randomly selected `phis` between $-1.5\\pi$ and $-0.5\\pi$, and a fixed value of $-0.4$ for all `phis`. \n",
    "- Three options for `initial_state`: \n",
    "    - The polarized state of all zeros: `0000000000000000`\n",
    "    - The Néel state of alternating zeros and ones: `0101010101010101`\n",
    "    - A state with randomly selected zeros and ones: `00111000010011001111` (the first $16$ qubits)\n",
    "\n",
    "It uses the same `local_fields` for all cases, autocorrelates the polarizations relative to the initial states, and averages over $24$ disorder instances. \n",
    "\n",
    "It also averages the `disorder_averaged_polarizations` over all $16$ qubit states before storing the results."
   ]
  },
  {
   "cell_type": "code",
   "execution_count": 6,
   "metadata": {
    "id": "c9ef4b74d2ea"
   },
   "outputs": [
    {
     "name": "stdout",
     "output_type": "stream",
     "text": [
      "CPU times: user 5min 37s, sys: 140 ms, total: 5min 37s\n",
      "Wall time: 5min 37s\n"
     ]
    }
   ],
   "source": [
    "%%time\n",
    "\n",
    "# number of disorder instances to average over\n",
    "disorder_instances = 24\n",
    "\n",
    "# disorder instances h\n",
    "local_fields = np.random.uniform(-1.0, 1.0, (disorder_instances, num_qubits))\n",
    "\n",
    "# prepare 3 initial states to compare\n",
    "neel_initial_state = np.tile([0,1], num_qubits//2)\n",
    "polarized_initial_state = np.full(num_qubits, 0)\n",
    "random_initial_state = [0,0,1,1,1,0,0,0,0,1,0,0,1,1,0,0,1,1,1,1][:num_qubits]\n",
    "initial_states = [neel_initial_state, polarized_initial_state, random_initial_state]\n",
    "\n",
    "# prepare random and fixed phis to compare\n",
    "disordered_phis = np.random.uniform(-1.5*np.pi, -0.5*np.pi, (disorder_instances, num_qubits - 1))\n",
    "fixed_phis = np.full((disorder_instances, num_qubits - 1), -0.4)\n",
    "\n",
    "# create comparison task\n",
    "options_dict = {\n",
    "    'local_fields': [local_fields], \n",
    "    'initial_state': initial_states,\n",
    "    'phis': [disordered_phis, fixed_phis]\n",
    "}\n",
    "options_order = ['local_fields', 'phis', 'initial_state']\n",
    "comparedtctask = time_crystals.CompareDTCTask(qubits, num_cycles, disorder_instances, options_dict, options_order)\n",
    "\n",
    "# prepare polarizations and indices generators\n",
    "polarizations_generator = time_crystals.run_comparison_experiment(comparedtctask, autocorrelate=True, take_abs=False)\n",
    "indices_iterator = itertools.product(range(2), range(len(initial_states)))\n",
    "\n",
    "# collect polarizations averaged over qubit sites by phi and initial state options\n",
    "average_polarizations = np.empty((2, len(initial_states), num_cycles+1))\n",
    "\n",
    "for (phi_index, initial_state_index), disorder_averaged_polarizations in zip(indices_iterator, polarizations_generator):\n",
    "    # store average over all qubit sites\n",
    "    average_polarizations[phi_index, initial_state_index, :] = np.mean(disorder_averaged_polarizations, axis=1)\n",
    "\n",
    "# save data in json format\n",
    "filename = f'{base_dir}/3a.json'\n",
    "with open(filename, 'w+') as f:\n",
    "    cirq.to_json(average_polarizations, file_or_fn=f)"
   ]
  },
  {
   "cell_type": "markdown",
   "metadata": {
    "id": "a9efcbf86bd4"
   },
   "source": [
    "## Figure 3b's Experiment\n",
    "This experiment compares $40$ different cases, the product between: \n",
    "- Two options for `phis`: Uniformly, randomly selected `phis` and `phis` fixed at $-0.4$.\n",
    "- 20 options for `initial_state`: 20 randomly selected bit string initial states.\n",
    "\n",
    "Again, the same random potentials, `local_fields`, are used in all cases. The resulting polarizations are autocorrelated with the initial states, **have their absolute value taken**, and are averaged over $24$ disorder instances. \n",
    "\n",
    "This time, store the average over all of the $16$ qubits, but only for cycles $30$ and $31$. "
   ]
  },
  {
   "cell_type": "code",
   "execution_count": 7,
   "metadata": {
    "id": "0f8ed2aed81c"
   },
   "outputs": [
    {
     "name": "stdout",
     "output_type": "stream",
     "text": [
      "CPU times: user 37min 47s, sys: 925 ms, total: 37min 48s\n",
      "Wall time: 37min 48s\n"
     ]
    }
   ],
   "source": [
    "%%time\n",
    "\n",
    "# instance counts for disorder and random initial states\n",
    "disorder_instances = 24\n",
    "initial_state_instances = 20 # this is 500 in the paper\n",
    "\n",
    "# disorder instances h\n",
    "local_fields = np.random.uniform(-1.0, 1.0, (disorder_instances, num_qubits))\n",
    "\n",
    "# prepare random initial states\n",
    "initial_states = np.random.choice(2, (initial_state_instances, num_qubits))\n",
    "\n",
    "# prepare random and fixed phis to compare\n",
    "disordered_phis = np.random.uniform(-1.5*np.pi, -0.5*np.pi, (disorder_instances, num_qubits - 1))\n",
    "fixed_phis = np.full((disorder_instances, num_qubits - 1), -0.4)\n",
    "\n",
    "# create comparison task\n",
    "options_dict = {\n",
    "    'local_fields': [local_fields],\n",
    "    'initial_state': initial_states,\n",
    "    'phis': [disordered_phis, fixed_phis]\n",
    "}\n",
    "options_order = ['local_fields', 'phis', 'initial_state']\n",
    "comparedtctask = time_crystals.CompareDTCTask(qubits, num_cycles, disorder_instances, options_dict, options_order)\n",
    "\n",
    "# prepare polarizations and indices generators\n",
    "polarizations_generator = time_crystals.run_comparison_experiment(comparedtctask, autocorrelate=True, take_abs=True)\n",
    "indices_iterator = itertools.product(range(2), range(len(initial_states)))\n",
    "\n",
    "# collect polarizations, averaged over qubit sites and cycles 30 and 31, by phi and initial state options\n",
    "average_polarizations = np.empty((2, initial_state_instances))\n",
    "\n",
    "for (phi_index, initial_state_index), disorder_averaged_polarizations in zip(indices_iterator, polarizations_generator):\n",
    "    # store average over qubit sites and cycles 30 and 31\n",
    "    average_polarizations[phi_index, initial_state_index] = np.mean(disorder_averaged_polarizations[30:32, :])\n",
    "    \n",
    "# save data in json format\n",
    "filename = f'{base_dir}/3b.json'\n",
    "with open(filename, 'w+') as f:\n",
    "    cirq.to_json(average_polarizations, file_or_fn=f)"
   ]
  },
  {
   "cell_type": "markdown",
   "metadata": {
    "id": "30bde5b12339"
   },
   "source": [
    "## Figure 3c's Experiment\n",
    "This experiment compares $4$ different cases, the product between: \n",
    "- Two options for `phis`: Uniformly, randomly selected `phis` and `phis` fixed at $-0.4$.\n",
    "- Two options for `initial_state`: \n",
    "    - The polarized initial state of all zeros: `0000000000000000`\n",
    "    - The polarized initial state, but disturbed at qubit index $11$: `0000000000010000`\n",
    "\n",
    "The same `local_fields`, are used in all cases. The polarizations are **not** autocorrelated, and are averaged over $24$ disorder instances. \n",
    "\n",
    "Store the polarizations matrix of shape `(num_cycles + 1, num_qubits)` without averaging, but only over cycles $30$ through $60$, and only over qubits $11$ through $14$.  "
   ]
  },
  {
   "cell_type": "code",
   "execution_count": 8,
   "metadata": {
    "id": "9e1c8aa67147"
   },
   "outputs": [
    {
     "name": "stdout",
     "output_type": "stream",
     "text": [
      "CPU times: user 3min 44s, sys: 108 ms, total: 3min 44s\n",
      "Wall time: 3min 44s\n"
     ]
    }
   ],
   "source": [
    "%%time\n",
    "\n",
    "# number of disorder instances to average over\n",
    "disorder_instances = 24\n",
    "\n",
    "# disorder parameters h\n",
    "local_fields = np.random.uniform(-1.0, 1.0, (disorder_instances, num_qubits))\n",
    "\n",
    "# prepare random and fixed phis to compare\n",
    "disordered_phis = np.random.uniform(-1.5*np.pi, -0.5*np.pi, (disorder_instances, num_qubits - 1))\n",
    "fixed_phis = np.full((disorder_instances, num_qubits - 1), -0.4)\n",
    "\n",
    "# prepare two initial states to compare\n",
    "polarized_initial_state = [0]*num_qubits\n",
    "disturb_qubit = 11\n",
    "disturbed_polarized_initial_state = list(polarized_initial_state)\n",
    "disturbed_polarized_initial_state[disturb_qubit] = 1\n",
    "initial_states = [polarized_initial_state, disturbed_polarized_initial_state]\n",
    "\n",
    "# create comparison task\n",
    "options_dict = {\n",
    "    'local_fields': [local_fields],\n",
    "    'initial_state': initial_states,\n",
    "    'phis': [disordered_phis, fixed_phis]\n",
    "    \n",
    "}\n",
    "options_order = ['local_fields', 'phis', 'initial_state']\n",
    "comparedtctask = time_crystals.CompareDTCTask(qubits, num_cycles, disorder_instances, options_dict, options_order)\n",
    "\n",
    "# prepare polarizations and indices generators\n",
    "polarizations_generator = time_crystals.run_comparison_experiment(comparedtctask, autocorrelate=False, take_abs=False)\n",
    "indices_iterator = itertools.product(range(2), range(len(initial_states)))\n",
    "\n",
    "# collect polarizations, averaged over cycles 30 through 60 and qubits 11 through 14, by phi and initial state options\n",
    "average_polarizations = np.empty((2, 2, 31, 4))\n",
    "\n",
    "for (phi_index, initial_state_index), disorder_averaged_polarizations in zip(indices_iterator, polarizations_generator):\n",
    "    # store average over cycles 30 and 31, and qubits 11 through 14\n",
    "    average_polarizations[phi_index, initial_state_index, :, :] = disorder_averaged_polarizations[30:61, 11:15]\n",
    "\n",
    "# save data in json format\n",
    "filename = f'{base_dir}/3c.json'\n",
    "with open(filename, 'w+') as f:\n",
    "    cirq.to_json(average_polarizations, file_or_fn=f)"
   ]
  },
  {
   "cell_type": "markdown",
   "metadata": {
    "id": "cb509ac9594b"
   },
   "source": [
    "## Figure 3d's Experiment\n",
    "This again experiment compares $4$ different cases, the product between: \n",
    "- Two options for `phis`: Uniformly, randomly selected `phis` and `phis` fixed at $-0.4$.\n",
    "- Two options for `initial_state`: \n",
    "    - The polarized initial state of all zeros: `0000000000000000`\n",
    "    - The polarized initial state, but disturbed at qubit index $11$: `0000000000010000`\n",
    "\n",
    "However, this experiment differs from 3c's in that, for each of the two `initial_state`s, different random `local_fields` and `phis` are generated. Do this by creating two different `CompareDTCTasks` for the different `initial_state`s, each of which compares `phis`. The collected polarizations are **not** autocorrelated, and are averaged over $24$ disorder instances. \n",
    "\n",
    "Store the polarizations matrix of shape `(num_cycles + 1, num_qubits)` without averaging, indexed by `phis` option and `initial_state` option. "
   ]
  },
  {
   "cell_type": "code",
   "execution_count": 9,
   "metadata": {
    "id": "a19b4c927509"
   },
   "outputs": [
    {
     "name": "stdout",
     "output_type": "stream",
     "text": [
      "CPU times: user 11min 25s, sys: 272 ms, total: 11min 25s\n",
      "Wall time: 11min 25s\n"
     ]
    }
   ],
   "source": [
    "%%time\n",
    "\n",
    "# prepare two initial states to compare\n",
    "polarized_initial_state = np.full(num_qubits, 0)\n",
    "disturb_qubit = 11\n",
    "disturbed_polarized_initial_state = polarized_initial_state.copy()\n",
    "disturbed_polarized_initial_state[disturb_qubit] = 1\n",
    "initial_states = [polarized_initial_state, disturbed_polarized_initial_state]\n",
    "\n",
    "# use different disorder instances for the two initial states\n",
    "disorder_instances_options = [64, 81]\n",
    "\n",
    "# collect polarizations by phi and initial state options\n",
    "average_polarizations = np.empty((2, 2, num_cycles + 1, num_qubits))\n",
    "\n",
    "# iterate over initial states and their associated number of disorder instances\n",
    "for initial_state_index, (initial_state, disorder_instances) in enumerate(zip(initial_states, disorder_instances_options)): \n",
    "    \n",
    "    # disorder parameter h\n",
    "    local_fields = np.random.uniform(-1.0, 1.0, (disorder_instances, num_qubits))\n",
    "    \n",
    "    # prepare random and fixed phis to compare\n",
    "    disordered_phis = np.random.uniform(-1.5*np.pi, -0.5*np.pi, (disorder_instances, num_qubits - 1))\n",
    "    fixed_phis = np.full((disorder_instances, num_qubits - 1), -0.4)\n",
    "\n",
    "    # create comparison task\n",
    "    options_dict = {\n",
    "        'initial_state': [initial_state],\n",
    "        'local_fields': [local_fields],\n",
    "        'phis': [disordered_phis, fixed_phis]\n",
    "    }\n",
    "    options_order = ['local_fields', 'phis', 'initial_state']\n",
    "    comparedtctask = time_crystals.CompareDTCTask(qubits, num_cycles, disorder_instances, options_dict, options_order)\n",
    "\n",
    "    # prepare polarizations and indices generators\n",
    "    polarizations_generator = time_crystals.run_comparison_experiment(comparedtctask, autocorrelate=False, take_abs=False)\n",
    "    \n",
    "    for phi_index, disorder_averaged_polarizations in enumerate(polarizations_generator):\n",
    "        # store average polarizations\n",
    "        average_polarizations[phi_index, initial_state_index, :, :] = disorder_averaged_polarizations\n",
    "\n",
    "# save data in json format\n",
    "filename = f'{base_dir}/3d.json'\n",
    "with open(filename, 'w+') as f:\n",
    "    cirq.to_json(average_polarizations, file_or_fn=f)"
   ]
  },
  {
   "cell_type": "markdown",
   "metadata": {
    "id": "833e5329b35e"
   },
   "source": [
    "## Next Steps\n",
    "With the data collected and saved, move on to the [Time Crystal Data Analysis](time_crystal_data_analysis.ipynb) notebook to generate the plots and evaluate their results."
   ]
  }
 ],
 "metadata": {
  "colab": {
   "collapsed_sections": [],
   "name": "time_crystal_data_collection.ipynb",
   "toc_visible": true
  },
  "kernelspec": {
   "display_name": "Python 3",
   "name": "python3"
  }
 },
 "nbformat": 4,
 "nbformat_minor": 0
}
