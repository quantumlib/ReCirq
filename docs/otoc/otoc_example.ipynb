{
 "cells": [
  {
   "cell_type": "code",
   "execution_count": 1,
   "metadata": {
    "id": "S97D7gQHMdG_"
   },
   "outputs": [],
   "source": [
    "##### Copyright 2021 The Cirq Developers"
   ]
  },
  {
   "cell_type": "code",
   "execution_count": 2,
   "metadata": {
    "cellView": "form",
    "id": "Y6Wh1qtGMghL"
   },
   "outputs": [],
   "source": [
    "#@title Licensed under the Apache License, Version 2.0 (the \"License\");\n",
    "# you may not use this file except in compliance with the License.\n",
    "# You may obtain a copy of the License at\n",
    "#\n",
    "# https://www.apache.org/licenses/LICENSE-2.0\n",
    "#\n",
    "# Unless required by applicable law or agreed to in writing, software\n",
    "# distributed under the License is distributed on an \"AS IS\" BASIS,\n",
    "# WITHOUT WARRANTIES OR CONDITIONS OF ANY KIND, either express or implied.\n",
    "# See the License for the specific language governing permissions and\n",
    "# limitations under the License."
   ]
  },
  {
   "cell_type": "markdown",
   "metadata": {
    "id": "gNBCrapEMgxB"
   },
   "source": [
    "# Quantum scrambling experiment example"
   ]
  },
  {
   "cell_type": "markdown",
   "metadata": {
    "id": "tlnEweYsMgzj"
   },
   "source": [
    "<table class=\"tfo-notebook-buttons\" align=\"left\">\n",
    "  <td>\n",
    "    <a target=\"_blank\" href=\"https://quantumai.google/cirq/experiments/otoc/otoc_example\"><img src=\"https://quantumai.google/site-assets/images/buttons/quantumai_logo_1x.png\" />View on QuantumAI</a>\n",
    "  </td>\n",
    "  <td>\n",
    "    <a target=\"_blank\" href=\"https://colab.research.google.com/github/quantumlib/ReCirq/blob/master/docs/otoc/otoc_example.ipynb\"><img src=\"https://quantumai.google/site-assets/images/buttons/colab_logo_1x.png\" />Run in Google Colab</a>\n",
    "  </td>\n",
    "  <td>\n",
    "    <a target=\"_blank\" href=\"https://github.com/quantumlib/ReCirq/blob/master/docs/otoc/otoc_example.ipynb\"><img src=\"https://quantumai.google/site-assets/images/buttons/github_logo_1x.png\" />View source on GitHub</a>\n",
    "  </td>\n",
    "  <td>\n",
    "    <a href=\"https://storage.googleapis.com/tensorflow_docs/ReCirq/docs/otoc/otoc_example.ipynb\"><img src=\"https://quantumai.google/site-assets/images/buttons/download_icon_1x.png\" />Download notebook</a>\n",
    "  </td>\n",
    "</table>"
   ]
  },
  {
   "cell_type": "markdown",
   "metadata": {
    "id": "PnYvZgIoMg2O"
   },
   "source": [
    "This tutorial shows an experiment example from the publication [Information scrambling in computationally complex quantum circuits](https://arxiv.org/abs/2101.08870) (henceforth \"OTOC paper\"), in particular how to recreate Figure 1."
   ]
  },
  {
   "cell_type": "markdown",
   "metadata": {
    "id": "xmJUa-i__Vl9"
   },
   "source": [
    "## Background on quantum scrambling"
   ]
  },
  {
   "cell_type": "markdown",
   "metadata": {
    "id": "D-6CzQFH84Tr"
   },
   "source": [
    "Quantum scrambling describes how interaction in a quantum system disperses local information into its many degrees of freedom. Analogous to classical chaos, scrambling manifests itself as a [butterfly effect](https://en.wikipedia.org/wiki/Butterfly_effect) wherein a local perturbation is rapidly amplified over time. The perturbation is modeled by a local operator $\\hat{O}$ (the *butterfly operator*) acting on a qubit (the *butterfly qubit*). Under a dynamical process $\\hat{U} = \\hat{U}(t)$, the butterfly operator evolves in the Heisenberg picture as\n",
    "\n",
    "$$\n",
    "\\hat{O} (t) = \\hat{U}^\\dagger \\hat{O} \\hat{U}\n",
    "$$\n",
    "\n",
    "Expanding the butterfly operator in a basis\n",
    "\n",
    "$$\n",
    "\\hat{O} (t) = \\sum_{i = 1}^{n_p} w_i B_i \n",
    "$$\n",
    "\n",
    "where $B_i = B^{(1)}_i \\otimes \\cdots \\otimes B^{(n)}_i$ are basis elements and $w_i$ are coefficients, we can describe the two different mechanisms of quantum scrambling as follows:\n",
    "\n",
    "- *Operator spreading* occurs when basis elements $B_i$ require a higher weight (fewer non-identity terms) on average to describe $\\hat{O}(t)$.\n",
    "- *Operator entanglement* occurs when a larger $n_p$ (summation index) is required to describe $\\hat{O}(t)$.\n",
    "\n",
    "We experimentally evaluate the out-of-time order correlator (OTOC) $C(t)$ between $\\hat{O}(t)$ and a *measurement operator* $\\hat{M}$ which is a Pauli operator acting on another qubit (the *measurement qubit*)\n",
    "\n",
    "$$\n",
    "C(t) := \\langle \\hat{O} ^\\dagger (t) M^\\dagger \\hat{O} (t) M \\rangle\n",
    "$$\n",
    "\n",
    "over a collection of quantum circuits with microscopic differences (e.g., in the phases of gates). Operator scrambling is then reflected in the average OTOC value $\\bar{C}(t)$ over different circuits:\n",
    "\n",
    "- $\\bar{C}(t) = 1$ when $\\hat{O}(t)$ and $\\hat{M}$ do not overlap.\n",
    "- $\\bar{C}(t) < 1$ when $\\hat{O}(t)$ and $\\hat{M}$ overlap.\n",
    "- $\\bar{C}(t) \\rightarrow 0$ in the fully scrambled limit where the commutation between $\\hat{O}(t)$ and $\\hat{M}$ is completely randomized.\n",
    "\n",
    "Note that if operator entanglement is also present ($n_p \\gg 1$), $\\bar{C}(t)$ approaches $0$ for all circuits and their fluctuation vanishes as well.\n",
    "\n",
    "In what follows, we show how to build OTOC circuits, run them and compute $\\bar{C}$, then visualize results and detect operator spreading."
   ]
  },
  {
   "cell_type": "markdown",
   "metadata": {
    "id": "BRfLi9YSMg4v"
   },
   "source": [
    "## Setup"
   ]
  },
  {
   "cell_type": "code",
   "execution_count": 3,
   "metadata": {
    "id": "x_5UjhI-f0qz"
   },
   "outputs": [
    {
     "name": "stdout",
     "output_type": "stream",
     "text": [
      "Installing ReCirq...\n",
      "\u001b[K     |████████████████████████████████| 1.5 MB 8.9 MB/s \n",
      "\u001b[K     |████████████████████████████████| 380 kB 34.4 MB/s \n",
      "\u001b[K     |████████████████████████████████| 5.8 MB 22.9 MB/s \n",
      "\u001b[K     |████████████████████████████████| 33.7 MB 49 kB/s \n",
      "\u001b[K     |████████████████████████████████| 1.3 MB 43.8 MB/s \n",
      "\u001b[K     |████████████████████████████████| 15.7 MB 75 kB/s \n",
      "\u001b[K     |████████████████████████████████| 229 kB 68.5 MB/s \n",
      "\u001b[?25h  Building wheel for recirq (setup.py) ... \u001b[?25l\u001b[?25hdone\n",
      "  Building wheel for lark-parser (setup.py) ... \u001b[?25l\u001b[?25hdone\n",
      "  Building wheel for pytket-cirq (setup.py) ... \u001b[?25l\u001b[?25hdone\n",
      "  Building wheel for pubchempy (setup.py) ... \u001b[?25l\u001b[?25hdone\n",
      "  Building wheel for Py-BOBYQA (setup.py) ... \u001b[?25l\u001b[?25hdone\n",
      "Installed ReCirq!\n"
     ]
    }
   ],
   "source": [
    "try:\n",
    "    import recirq\n",
    "except ImportError:\n",
    "    print(\"Installing ReCirq...\")\n",
    "    !pip install git+https://github.com/quantumlib/recirq --quiet\n",
    "    print(\"Installed ReCirq!\")"
   ]
  },
  {
   "cell_type": "code",
   "execution_count": 4,
   "metadata": {
    "id": "lFI7APiqMhFy"
   },
   "outputs": [],
   "source": [
    "import matplotlib.pyplot as plt\n",
    "import numpy as np\n",
    "\n",
    "import cirq\n",
    "import cirq_google as cg\n",
    "from recirq import otoc"
   ]
  },
  {
   "cell_type": "markdown",
   "metadata": {
    "id": "fh6P5258GXQX"
   },
   "source": [
    "Note: Leave the `project_id` and/or `processor_id` blank to use a noisy simulator."
   ]
  },
  {
   "cell_type": "code",
   "execution_count": 5,
   "metadata": {
    "cellView": "form",
    "id": "UaBOLd1ZNZwC"
   },
   "outputs": [
    {
     "name": "stdout",
     "output_type": "stream",
     "text": [
      "No project_id provided and environment variable GOOGLE_CLOUD_PROJECT not set.\n",
      "Using a noisy simulator.\n"
     ]
    }
   ],
   "source": [
    "import os\n",
    "\n",
    "# The Google Cloud Project id to use.\n",
    "project_id = '' #@param {type:\"string\"}\n",
    "\n",
    "\n",
    "use_noisy_simulator = False\n",
    "if project_id == '' and 'GOOGLE_CLOUD_PROJECT' not in os.environ:\n",
    "    print(\"No project_id provided and environment variable \"\n",
    "          \"GOOGLE_CLOUD_PROJECT not set.\")\n",
    "    use_noisy_simulator = True\n",
    "else: \n",
    "    os.environ['GOOGLE_CLOUD_PROJECT'] = project_id\n",
    "\n",
    "    def authenticate_user():\n",
    "        \"\"\"Runs the user through the Colab OAuth process.\n",
    "\n",
    "        Checks for Google Application Default Credentials and runs interactive login \n",
    "        if the notebook is executed in Colab. In case the notebook is executed in Jupyter notebook\n",
    "        or other IPython runtimes, no interactive login is provided, it is assumed that the \n",
    "        `GOOGLE_APPLICATION_CREDENTIALS` env var is set or `gcloud auth application-default login`\n",
    "        was executed already.\n",
    "\n",
    "        For more information on using Application Default Credentials see \n",
    "        https://cloud.google.com/docs/authentication/production\n",
    "        \"\"\"\n",
    "        in_colab = False\n",
    "        try:\n",
    "            from IPython import get_ipython\n",
    "            in_colab = 'google.colab' in str(get_ipython())\n",
    "        except: \n",
    "            # Notebook is not executed within IPython. Assuming external authentication.\n",
    "            return \n",
    "\n",
    "        if in_colab: \n",
    "            from google.colab import auth      \n",
    "            print(\"Getting OAuth2 credentials.\")\n",
    "            print(\"Press enter after entering the verification code.\")\n",
    "            auth.authenticate_user(clear_output=False)\n",
    "            print(\"Authentication complete.\")\n",
    "        else: \n",
    "            print(\"Notebook is not executed with Colab, assuming Application Default Credentials are setup.\") \n",
    "\n",
    "    authenticate_user()\n",
    "    print(\"Successful authentication to Google Cloud.\")\n",
    "\n",
    "processor_id = \"\" #@param {type:\"string\"}\n",
    "use_noisy_simulator = use_noisy_simulator or processor_id == \"\" \n",
    "if use_noisy_simulator:\n",
    "    print(\"Using a noisy simulator.\")\n",
    "    sampler = cg.PhasedFSimEngineSimulator.create_with_random_gaussian_sqrt_iswap(\n",
    "        mean=cg.SQRT_ISWAP_INV_PARAMETERS,\n",
    "        sigma=cg.PhasedFSimCharacterization(\n",
    "            theta=0.01, zeta=0.10, chi=0.01, gamma=0.10, phi=0.02\n",
    "        ),\n",
    "    )\n",
    "    device = cg.Bristlecone\n",
    "else:\n",
    "    sampler = cg.get_engine_sampler(processor_id, gate_set_name=\"sqrt_iswap\")\n",
    "    device = cg.get_engine_device(processor_id=processor_id)"
   ]
  },
  {
   "cell_type": "markdown",
   "metadata": {
    "id": "yLqyFVH2zn8D"
   },
   "source": [
    "## Build the OTOC circuits"
   ]
  },
  {
   "cell_type": "markdown",
   "metadata": {
    "id": "pb8GcwQ2As7q"
   },
   "source": [
    "### Picking qubits"
   ]
  },
  {
   "cell_type": "markdown",
   "metadata": {
    "id": "2DbErcZ_FpKX"
   },
   "source": [
    "First we specify a line of qubits to use. If running on the `cirq_google.Engine`, use the latest calibration report to identify a good line of qubits."
   ]
  },
  {
   "cell_type": "code",
   "execution_count": 6,
   "metadata": {
    "id": "GZIsJoNX1omO"
   },
   "outputs": [],
   "source": [
    "if not use_noisy_simulator:\n",
    "    calibration = cg.get_engine_calibration(processor_id=processor_id)\n",
    "    calibration.heatmap(key=\"two_qubit_sycamore_gate_xeb_average_error_per_cycle\").plot();"
   ]
  },
  {
   "cell_type": "markdown",
   "metadata": {
    "id": "JIEEO9xaxRNW"
   },
   "source": [
    "Note that the ancilla qubit must be adjacent to the first qubit, and the first qubit is treated as the measurement qubit described above."
   ]
  },
  {
   "cell_type": "code",
   "execution_count": 7,
   "metadata": {
    "id": "q1LLo6M-Ay9A"
   },
   "outputs": [],
   "source": [
    "qubit_indices = [(4, 1), (4, 2), (5, 2), (5, 3), (6, 3), (7, 3), (7, 4), (7, 5)]\n",
    "ancilla_index = (5, 1)\n",
    "\n",
    "qubits = [cirq.GridQubit(*idx) for idx in qubit_indices]\n",
    "ancilla = cirq.GridQubit(*ancilla_index)\n",
    "num_qubits = len(qubits)"
   ]
  },
  {
   "cell_type": "markdown",
   "metadata": {
    "id": "NQ6VzBfoKrO9"
   },
   "source": [
    "### Qubit interactions and experiment parameters"
   ]
  },
  {
   "cell_type": "markdown",
   "metadata": {
    "id": "GysFXBXWGsRe"
   },
   "source": [
    "Now we specify how qubits interact (in other words, the pattern of two-qubit gates). For the 1D chain in this example, only two layers of two-qubit gates (CZ is used here) are needed to enact all interactions."
   ]
  },
  {
   "cell_type": "code",
   "execution_count": 8,
   "metadata": {
    "id": "3ggOo2SEAqcQ"
   },
   "outputs": [],
   "source": [
    "# Staggered two-qubit interaction pattern.\n",
    "int_sets = [\n",
    "    {(qubits[i], qubits[i + 1]) for i in range(0, num_qubits - 1, 2)},\n",
    "    {(qubits[i], qubits[i + 1]) for i in range(1, num_qubits - 1, 2)},\n",
    "]\n",
    "\n",
    "# Use CZ for the two-qubit interaction.\n",
    "forward_ops = {\n",
    "    (qubit_indices[i], qubit_indices[i + 1]): cirq.Circuit([cirq.CZ(qubits[i], qubits[i + 1])])\n",
    "    for i in range(num_qubits - 1)\n",
    "}\n",
    "\n",
    "# CZ is self-inverse.\n",
    "reverse_ops = forward_ops.copy()"
   ]
  },
  {
   "cell_type": "markdown",
   "metadata": {
    "id": "7Px_M7C-PYIE"
   },
   "source": [
    "Finally, we specify a number of trials to average over when computing $\\bar{C}(t)$, and a list of cycles which corresponds to discrete time values $t$ at which to compute $\\bar{C}$."
   ]
  },
  {
   "cell_type": "code",
   "execution_count": 9,
   "metadata": {
    "id": "9H-iVaQCAtxy"
   },
   "outputs": [],
   "source": [
    "num_trials = 4  # For averaging.\n",
    "cycles = range(0, 20 + 1, 2)  # Number of circuit cycles."
   ]
  },
  {
   "cell_type": "markdown",
   "metadata": {
    "id": "uEqqYN9xKyAn"
   },
   "source": [
    "### Build the circuits"
   ]
  },
  {
   "cell_type": "markdown",
   "metadata": {
    "id": "YYWW1LwCPlBm"
   },
   "source": [
    "With the specified parameters, we use `recirq.otoc.build_otoc_circuits` to create the set of circuits. First we show an example for a given number of cycles and given butterfly qubit."
   ]
  },
  {
   "cell_type": "code",
   "execution_count": 10,
   "metadata": {
    "id": "cjKvpxu3Pz1X"
   },
   "outputs": [],
   "source": [
    "# Example number of cycles and butterfly qubit.\n",
    "cycle = cycles[1]\n",
    "q_b = qubits[2]\n",
    "\n",
    "otoc_circuits = otoc.build_otoc_circuits(\n",
    "    qubits,\n",
    "    ancilla,\n",
    "    cycle,\n",
    "    int_sets,\n",
    "    forward_ops=forward_ops,\n",
    "    reverse_ops=reverse_ops,\n",
    "    butterfly_qubits=q_b,\n",
    "    cycles_per_echo=2,\n",
    "    sq_gates=np.random.choice(8, (num_qubits, max(cycles))),\n",
    "    use_physical_cz=True,\n",
    ")"
   ]
  },
  {
   "cell_type": "markdown",
   "metadata": {
    "id": "k--g5ClBX1Sq"
   },
   "source": [
    "The output is an instance of `recirq.otoc.otoc_circuits.OTOCCircuits` which contains lists of circuits with $X$, $Y$, and $Z$ butterfly operators on the butterfly qubit. Additionally, a list of circuits with no butterfly operator (equivalently, with the identity $I$ as the butterfly operator) is included to renormalize results."
   ]
  },
  {
   "cell_type": "code",
   "execution_count": 11,
   "metadata": {
    "id": "Wwf0-n0kQEFr"
   },
   "outputs": [
    {
     "name": "stdout",
     "output_type": "stream",
     "text": [
      "Ancilla qubit: (5, 1)\n",
      "Measurement qubit: (4, 1)\n",
      "Butterfly qubit: (5, 2)\n",
      "\n",
      "Example OTOC circuit:\n",
      "\n"
     ]
    },
    {
     "data": {
      "text/html": [
       "<pre style=\"overflow: auto; white-space: pre;\">(4, 1): ───Y^0.5────────@───X^0.5────────────@───X^0.5────────────────────────X^-0.5───────────@───X^-0.5───────────@─────────────────────────\n",
       "                        │                    │                                                 │                    │\n",
       "(4, 2): ───Y^0.5────────┼───X^-0.5───────────@───PhX(0.75)^0.5────@───────@───PhX(-0.25)^0.5───@───X^0.5────────────┼─────────────────────────\n",
       "                        │                                         │       │                                         │\n",
       "(5, 1): ───PhX(0)^0.5───@────────────────────────Y────────────────┼───────┼───Y─────────────────────────────────────@───PhX(0)^0.5───M(&#x27;z&#x27;)───\n",
       "                                                                  │       │\n",
       "(5, 2): ───Y^0.5────────────X^0.5────────────@───X^0.5────────────@───Y───@───X^-0.5───────────@───X^-0.5─────────────────────────────────────\n",
       "                                             │                                                 │\n",
       "(5, 3): ───Y^0.5────────────Y^-0.5───────────@───PhX(0.75)^0.5────@───────@───PhX(-0.25)^0.5───@───Y^0.5──────────────────────────────────────\n",
       "                                                                  │       │\n",
       "(6, 3): ───Y^0.5────────────X^-0.5───────────@───PhX(0.75)^0.5────@───────@───PhX(-0.25)^0.5───@───X^0.5──────────────────────────────────────\n",
       "                                             │                                                 │\n",
       "(7, 3): ───Y^0.5────────────PhX(-0.25)^0.5───@───PhX(-0.25)^0.5───@───────@───PhX(0.75)^0.5────@───PhX(0.75)^0.5──────────────────────────────\n",
       "                                                                  │       │\n",
       "(7, 4): ───Y^0.5────────────PhX(0.75)^0.5────@───Y^-0.5───────────@───────@───Y^0.5────────────@───PhX(-0.25)^0.5─────────────────────────────\n",
       "                                             │                                                 │\n",
       "(7, 5): ───Y^0.5────────────PhX(-0.75)^0.5───@───X^-0.5───────────────────────X^0.5────────────@───PhX(0.25)^0.5──────────────────────────────</pre>"
      ],
      "text/plain": [
       "(4, 1): ───Y^0.5────────@───X^0.5────────────@───X^0.5────────────────────────X^-0.5───────────@───X^-0.5───────────@─────────────────────────\n",
       "                        │                    │                                                 │                    │\n",
       "(4, 2): ───Y^0.5────────┼───X^-0.5───────────@───PhX(0.75)^0.5────@───────@───PhX(-0.25)^0.5───@───X^0.5────────────┼─────────────────────────\n",
       "                        │                                         │       │                                         │\n",
       "(5, 1): ───PhX(0)^0.5───@────────────────────────Y────────────────┼───────┼───Y─────────────────────────────────────@───PhX(0)^0.5───M('z')───\n",
       "                                                                  │       │\n",
       "(5, 2): ───Y^0.5────────────X^0.5────────────@───X^0.5────────────@───Y───@───X^-0.5───────────@───X^-0.5─────────────────────────────────────\n",
       "                                             │                                                 │\n",
       "(5, 3): ───Y^0.5────────────Y^-0.5───────────@───PhX(0.75)^0.5────@───────@───PhX(-0.25)^0.5───@───Y^0.5──────────────────────────────────────\n",
       "                                                                  │       │\n",
       "(6, 3): ───Y^0.5────────────X^-0.5───────────@───PhX(0.75)^0.5────@───────@───PhX(-0.25)^0.5───@───X^0.5──────────────────────────────────────\n",
       "                                             │                                                 │\n",
       "(7, 3): ───Y^0.5────────────PhX(-0.25)^0.5───@───PhX(-0.25)^0.5───@───────@───PhX(0.75)^0.5────@───PhX(0.75)^0.5──────────────────────────────\n",
       "                                                                  │       │\n",
       "(7, 4): ───Y^0.5────────────PhX(0.75)^0.5────@───Y^-0.5───────────@───────@───Y^0.5────────────@───PhX(-0.25)^0.5─────────────────────────────\n",
       "                                             │                                                 │\n",
       "(7, 5): ───Y^0.5────────────PhX(-0.75)^0.5───@───X^-0.5───────────────────────X^0.5────────────@───PhX(0.25)^0.5──────────────────────────────"
      ]
     },
     "execution_count": 11,
     "metadata": {
      "tags": []
     },
     "output_type": "execute_result"
    }
   ],
   "source": [
    "print(\"Ancilla qubit:\", ancilla)\n",
    "print(\"Measurement qubit:\", qubits[0])\n",
    "print(\"Butterfly qubit:\", q_b)\n",
    "\n",
    "print(\"\\nExample OTOC circuit:\\n\")\n",
    "otoc_circuits.butterfly_Y[0]"
   ]
  },
  {
   "cell_type": "markdown",
   "metadata": {
    "id": "bdcjcyL6Ygbz"
   },
   "source": [
    "Note that Pauli $Y$ acts on the chosen butterfly qubit and the measurement is on the ancilla. Compare this circuit to Fig. 1(a) & (b) of the [OTOC paper](https://arxiv.org/abs/2101.08870)."
   ]
  },
  {
   "cell_type": "markdown",
   "metadata": {
    "id": "TNPdutdoRM9Q"
   },
   "source": [
    "Now we create all OTOC circuits for the experiment, varying the number of cycles and the butterfly qubit."
   ]
  },
  {
   "cell_type": "code",
   "execution_count": 12,
   "metadata": {
    "id": "mdARggzhzoHp"
   },
   "outputs": [],
   "source": [
    "np.random.seed(0)  # Random seed for OTOC circuits.\n",
    "\n",
    "circuit_list = []\n",
    "for i in range(num_trials):\n",
    "    circuits_i = []\n",
    "\n",
    "    for cycle in cycles:\n",
    "        circuits_ic = []\n",
    "  \n",
    "        for k, q_b in enumerate(qubits[1:]):\n",
    "            circs = otoc.build_otoc_circuits(\n",
    "                qubits,\n",
    "                ancilla,\n",
    "                cycle,\n",
    "                int_sets,\n",
    "                forward_ops=forward_ops,\n",
    "                reverse_ops=reverse_ops,\n",
    "                butterfly_qubits=q_b,\n",
    "                cycles_per_echo=2,\n",
    "                sq_gates=np.random.choice(8, (num_qubits, max(cycles))),\n",
    "                use_physical_cz=True,\n",
    "            )\n",
    "\n",
    "            # If q_b is the measurement qubit, add both the normalization \n",
    "            # circuits and the circuits with X as the butterfly operator. \n",
    "            # Otherwise only add circuits with Y being the butterfly operator.\n",
    "            if k == 0:\n",
    "                circuits_ic.extend(circs.butterfly_I)\n",
    "                circuits_ic.extend(circs.butterfly_X)\n",
    "            else:\n",
    "                circuits_ic.extend(circs.butterfly_Y)\n",
    "\n",
    "        circuits_i.append(circuits_ic)\n",
    "    circuit_list.append(circuits_i)"
   ]
  },
  {
   "cell_type": "markdown",
   "metadata": {
    "id": "I3jboTmsHM3j"
   },
   "source": [
    "The `circuit_list` is a three-dimensional array where the first axis corresponds to the trial, the second axis corresponds to the number of cycles, and the third axis corresponds the butterfly operator / qubit ($Q_b$)."
   ]
  },
  {
   "cell_type": "markdown",
   "metadata": {
    "id": "Lf8B1rUc-qxE"
   },
   "source": [
    "## Run the circuits"
   ]
  },
  {
   "cell_type": "markdown",
   "metadata": {
    "id": "tvEfmDVrOA1T"
   },
   "source": [
    "Now we run the circuits and process the results."
   ]
  },
  {
   "cell_type": "code",
   "execution_count": 13,
   "metadata": {
    "id": "zRsJMaG3EkgD"
   },
   "outputs": [
    {
     "name": "stderr",
     "output_type": "stream",
     "text": [
      "100%|██████████| 1408/1408 [14:50<00:00,  1.46s/it]"
     ]
    }
   ],
   "source": [
    "# Compile to sqrt_iswap.\n",
    "from tqdm import tqdm\n",
    "\n",
    "progress = tqdm(total=np.array(circuit_list, dtype=object).size)\n",
    "for i, circuits_trial in enumerate(circuit_list):\n",
    "    for j, circuits_cycle in enumerate(circuits_trial):\n",
    "        for k, circuit_otoc in enumerate(circuits_cycle):\n",
    "            circuit_list[i][j][k] = cg.optimized_for_sycamore(circuit_otoc, optimizer_type=\"sqrt_iswap\")\n",
    "            progress.update()"
   ]
  },
  {
   "cell_type": "code",
   "execution_count": 14,
   "metadata": {
    "id": "bHNgLiy85DXg"
   },
   "outputs": [
    {
     "name": "stdout",
     "output_type": "stream",
     "text": [
      " On trial 4 / 4, cycle 11 / 11."
     ]
    }
   ],
   "source": [
    "results = []\n",
    "for i, circuits_i in enumerate(circuit_list):\n",
    "    results_i = np.zeros((num_qubits, len(cycles)))\n",
    "\n",
    "    for c, circuits_ic in enumerate(circuits_i):\n",
    "        print(\"\\r\", f\"On trial {i + 1} / {num_trials}, cycle {c + 1} / {len(cycles)}.\", end=\"\")\n",
    "\n",
    "        job = sampler.run_batch(\n",
    "            programs=circuits_ic, \n",
    "            params_list=[{} for _ in range(len(circuits_ic))], \n",
    "            repetitions=int(2_000 + 10_000 * (c / max(cycles)) ** 3),\n",
    "        )\n",
    "\n",
    "        # Compute ⟨σ_y⟩ (or normalization ⟨I⟩).\n",
    "        for d in range(num_qubits):\n",
    "            p =  np.mean(job[4 * d    ][0].measurements[\"z\"])\n",
    "            p -= np.mean(job[4 * d + 1][0].measurements[\"z\"])\n",
    "            p -= np.mean(job[4 * d + 2][0].measurements[\"z\"])\n",
    "            p += np.mean(job[4 * d + 3][0].measurements[\"z\"])\n",
    "            results_i[d, c] = 0.5 * p\n",
    "    results.append(results_i)"
   ]
  },
  {
   "cell_type": "markdown",
   "metadata": {
    "id": "c3uPMvlF-sth"
   },
   "source": [
    "## Plot the results"
   ]
  },
  {
   "cell_type": "markdown",
   "metadata": {
    "id": "HjyMwu0Xotyy"
   },
   "source": [
    "First we plot the normalization factor and $\\langle \\sigma_y \\rangle$ on each butterfly qubit."
   ]
  },
  {
   "cell_type": "code",
   "execution_count": 15,
   "metadata": {
    "id": "gW4Xa6wN050n"
   },
   "outputs": [
    {
     "data": {
      "image/png": "[encoded data removed]",
      "text/plain": [
       "<Figure size 432x288 with 1 Axes>"
      ]
     },
     "metadata": {
      "needs_background": "light",
      "tags": []
     },
     "output_type": "display_data"
    }
   ],
   "source": [
    "# Average the data for the `num_trials` random circuits.\n",
    "results_ave = np.mean(results, axis=0)\n",
    "\n",
    "# Plot the result with no butterfly operator.\n",
    "plt.plot(cycles, results_ave[0, :], \"o-\", color=\"black\", mec=\"black\", mfc=\"white\", label=\"Normalization\")\n",
    "\n",
    "# Plot results for each butterfly qubit.\n",
    "for i in range(1, num_qubits):\n",
    "    plt.plot(cycles, results_ave[i, :], \"o-\", mec=\"black\", label=\"$Q_b =$ {}\".format(qubits[i]))\n",
    "\n",
    "plt.title(f\"$Q_a = {ancilla}$\")\n",
    "plt.xlabel(\"Cycles\")\n",
    "plt.ylabel(r\"$\\langle \\sigma_y \\rangle$\")\n",
    "plt.legend(bbox_to_anchor=(1, 1));"
   ]
  },
  {
   "cell_type": "markdown",
   "metadata": {
    "id": "yXgKQN5s_Gqu"
   },
   "source": [
    "Compare this plot to Fig. 1(c) (left panel) of the [OTOC paper](https://arxiv.org/abs/2101.08870). The values of $\\langle \\sigma_y \\rangle$ decay below 1 before $\\hat{O}$ and $\\hat{M}$ overlap due to noise. The curve labeled \"normalization\" contains no butterfly operator and its decay is solely due to noise. By renormalizing, we can analyze the effects due to quantum scrambling."
   ]
  },
  {
   "cell_type": "code",
   "execution_count": 16,
   "metadata": {
    "id": "pNgVw9Z-3KC9"
   },
   "outputs": [
    {
     "data": {
      "image/png": "[encoded data removed]",
      "text/plain": [
       "<Figure size 432x288 with 1 Axes>"
      ]
     },
     "metadata": {
      "needs_background": "light",
      "tags": []
     },
     "output_type": "display_data"
    }
   ],
   "source": [
    "for i in range(1, num_qubits):\n",
    "    plt.plot(cycles, results_ave[i, :] / results_ave[0, :], \"o-\", mec=\"black\", label=\"$Q_b =$ {}\".format(qubits[i]))\n",
    "\n",
    "plt.title(f\"$Q_a = {ancilla}$\")\n",
    "plt.xlabel(\"Cycles\")\n",
    "plt.ylabel(r\"Average OTOC, $\\bar{C}$\")\n",
    "plt.legend(bbox_to_anchor=(1, 1));"
   ]
  },
  {
   "cell_type": "markdown",
   "metadata": {
    "id": "s9HR9YKmpAuy"
   },
   "source": [
    "Note that for each location of $Q_b$, $\\bar{C}$ retains values near 1 before sufficient circuit cycles have occured to allow an overlap between $\\hat{O}$ and $\\hat{M}$. Beyond these cycles, $\\bar{C}$ converges to $0$, indicating that $\\hat{O}$ and $\\hat{M}$ have overlapped and no longer commute. These observations show behavior consistent with operator spreading as described at the start of this tutorial. Compare this plot to Fig. 1(c) (right panel) of the [OTOC paper](https://arxiv.org/abs/2101.08870)."
   ]
  }
 ],
 "metadata": {
  "colab": {
   "collapsed_sections": [],
   "name": "otoc_example.ipynb",
   "toc_visible": true
  },
  "kernelspec": {
   "display_name": "Python 3",
   "name": "python3"
  }
 },
 "nbformat": 4,
 "nbformat_minor": 0
}
