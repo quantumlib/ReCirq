{
 "cells": [
  {
   "cell_type": "code",
   "execution_count": 1,
   "id": "bfbe98f2",
   "metadata": {},
   "outputs": [],
   "source": [
    "##### Copyright 2023 The Cirq Developers"
   ]
  },
  {
   "cell_type": "code",
   "execution_count": 2,
   "id": "161a0876",
   "metadata": {},
   "outputs": [],
   "source": [
    "#@title Licensed under the Apache License, Version 2.0 (the \"License\");\n",
    "# you may not use this file except in compliance with the License.\n",
    "# You may obtain a copy of the License at\n",
    "#\n",
    "# https://www.apache.org/licenses/LICENSE-2.0\n",
    "#\n",
    "# Unless required by applicable law or agreed to in writing, software\n",
    "# distributed under the License is distributed on an \"AS IS\" BASIS,\n",
    "# WITHOUT WARRANTIES OR CONDITIONS OF ANY KIND, either express or implied.\n",
    "# See the License for the specific language governing permissions and\n",
    "# limitations under the License."
   ]
  },
  {
   "cell_type": "markdown",
   "id": "9d29cea2",
   "metadata": {},
   "source": [
    "# Kardar-Parisi-Zhang Dynamics in the Heisenberg Spin Chain"
   ]
  },
  {
   "cell_type": "markdown",
   "id": "c4a1ff2c",
   "metadata": {},
   "source": [
    "<table class=\"tfo-notebook-buttons\" align=\"left\">\n",
    "  <td>\n",
    "    <a target=\"_blank\" href=\"https://quantumai.google/cirq/experiments/kpz/kpz\"><img src=\"https://quantumai.google/site-assets/images/buttons/quantumai_logo_1x.png\" />View on QuantumAI</a>\n",
    "  </td>\n",
    "  <td>\n",
    "    <a target=\"_blank\" href=\"https://colab.research.google.com/github/quantumlib/ReCirq/blob/master/docs/kpz/kpz.ipynb\"><img src=\"https://quantumai.google/site-assets/images/buttons/colab_logo_1x.png\" />Run in Google Colab</a>\n",
    "  </td>\n",
    "  <td>\n",
    "    <a target=\"_blank\" href=\"https://github.com/quantumlib/ReCirq/blob/master/docs/kpz/kpz.ipynb\"><img src=\"https://quantumai.google/site-assets/images/buttons/github_logo_1x.png\" />View source on GitHub</a>\n",
    "  </td>\n",
    "  <td>\n",
    "    <a href=\"https://storage.googleapis.com/tensorflow_docs/ReCirq/docs/kpz/kpz.ipynb\"><img src=\"https://quantumai.google/site-assets/images/buttons/download_icon_1x.png\" />Download notebook</a>\n",
    "  </td>\n",
    "</table>"
   ]
  },
  {
   "cell_type": "markdown",
   "id": "1de2dd3b",
   "metadata": {},
   "source": [
    "Before beginning, we will import the necessary modules into the notebook."
   ]
  },
  {
   "cell_type": "code",
   "execution_count": 3,
   "id": "cef7a354",
   "metadata": {},
   "outputs": [],
   "source": [
    "try:\n",
    "    import recirq\n",
    "except ImportError:\n",
    "    !pip install --quiet git+https://github.com/quantumlib/ReCirq\n",
    "    import recirq\n",
    "\n",
    "try:\n",
    "    import qsimcirq\n",
    "except ImportError:\n",
    "    !pip install qsimcirq --quiet\n",
    "    import qsimcirq\n",
    "\n",
    "import cirq\n",
    "import matplotlib.pyplot as plt\n",
    "from matplotlib import ticker\n",
    "import numpy as np\n",
    "\n",
    "import recirq.kpz.experiment as kpz\n",
    "\n",
    "plt.rcParams['figure.dpi'] = 144"
   ]
  },
  {
   "cell_type": "markdown",
   "id": "f4110f55",
   "metadata": {},
   "source": [
    "### Motivation and Background\n",
    "\n",
    "Based on strong numerical evidence, it has been [conjectured](https://arxiv.org/abs/1903.01329) that the late-time dynamics of the 1D Heisenberg spin chain are described by the [Kardar-Parisi-Zhang universality class](https://journals.aps.org/prl/abstract/10.1103/PhysRevLett.56.889). Experiments, for example using [cold atoms](https://arxiv.org/abs/2107.00038), have provided further evidence for this conjecture. In [our work](https://arxiv.org/abs/2306.09333), we test this conjecture using 46 superconducting qubits, comparing the probability distribution of the transferred magnetization against predictions for the KPZ height function. We find that, while the mean and variance are consistent with KPZ, higher moments appear inconsistent.\n",
    "\n",
    "For further background, motivation, and explanation, please either read the paper, [arXiv:2306.09333](https://arxiv.org/abs/2306.09333), or watch the [talk](https://www.youtube.com/watch?v=U12xdMA3v1E).\n",
    "\n",
    "### Simulating the 1D Floquet XXZ model using ReCirq\n",
    "\n",
    "We are interested in the class of initial states given by Eq. 3 of the paper,\n",
    "\n",
    "$$\\rho(t=0) \\propto (e^{2\\mu S^z})^{\\otimes N_Q/2}\\,  \\otimes \\,( e ^{-2\\mu S^z}) ^{\\otimes N_Q/2},$$\n",
    "\n",
    "where $N_Q$ is the number of qubits, $S^z$ is the $z$ component of the spin, and $\\mu$ is a parameter that acts like a chemical potential between the two sides of the chain, interpolating between a pure domain wall at $\\mu=\\infty$ and an infinite temperature state at $\\mu=0$. We implement this initial state by sampling pure states, namely bitstring product states, where each qubit on the left side of the chain is prepared in $|1\\rangle$ with probability $p = (e^\\mu)/(e^\\mu + e^{-\\mu})$, otherwise $|0\\rangle$, and each qubit on the right is prepared in $|0\\rangle$ with the same probability, $p$, otherwise $|1\\rangle$.\n",
    "\n",
    "Next, we apply $t$ Floquet cycles of [fSim gates](https://quantumai.google/reference/python/cirq/FSimGate), where a cycle is depicted in Figure 1 of [arXiv:2306.09333](https://arxiv.org/abs/2306.09333) and consists of both an even layer and an odd layer. Finally, we measure all of the qubits and count how many excitations have crossed the center. Twice this quantity is the transferred magnetization, $\\mathcal{M}$.\n",
    "\n",
    "To set up this experiment for a particular number of cycles, we create a `KPZExperiment`. This has five required input parameters, `num_cycles`, `mu`, `num_init_states`, `theta`, and `phi`. The conjecture that the late-time dynamics of this model are described by the Kardar-Parisi-Zhang (KPZ) universality class applies at the isotropic point (i.e. the XXX or Heisenberg model), which corresponds to $\\phi = 2\\theta$. Further, the conjecture applies at small $\\mu$, although the order of limits between $\\mu \\to 0$ and $t\\to\\infty$ is something that we explore in the paper. In Figure 3 of the paper, we pick $(\\theta, \\phi) = (0.4\\pi, 0.8\\pi)$. To initialize a `KPZExperiment` with these angles, $\\mu=0.5$ and 1000 initial states, for cycle 2, we run"
   ]
  },
  {
   "cell_type": "code",
   "execution_count": 4,
   "id": "b7477208",
   "metadata": {},
   "outputs": [],
   "source": [
    "num_cycles = 2\n",
    "mu = 0.5\n",
    "num_init_states = 1000\n",
    "theta = np.pi*0.4\n",
    "phi = np.pi*0.8\n",
    "\n",
    "expt = kpz.KPZExperiment(num_cycles, mu, num_init_states, theta, phi)"
   ]
  },
  {
   "cell_type": "markdown",
   "id": "af80864e",
   "metadata": {},
   "source": [
    "By default, this uses `2*num_cycles` qubits, which is the minimum number of qubits needed for the transferred magnetization to be independent of system size (in the experiment we use 46 qubits and go to cycle 23). The `KPZExperiment` comes with the `num_init_states` initial bitstrings prepared:"
   ]
  },
  {
   "cell_type": "code",
   "execution_count": 5,
   "id": "41c5584d",
   "metadata": {},
   "outputs": [
    {
     "data": {
      "text/plain": [
       "array([[1, 1, 1, 1],\n",
       "       [1, 0, 0, 1],\n",
       "       [0, 1, 0, 1],\n",
       "       ...,\n",
       "       [0, 1, 0, 0],\n",
       "       [0, 1, 0, 0],\n",
       "       [1, 1, 0, 0]])"
      ]
     },
     "execution_count": 5,
     "metadata": {},
     "output_type": "execute_result"
    }
   ],
   "source": [
    "expt.initial_states"
   ]
  },
  {
   "cell_type": "markdown",
   "id": "afabba4b",
   "metadata": {},
   "source": [
    "It also prepares the circuits that we need to run. For example, the circuit corresponding to the first initial state is:"
   ]
  },
  {
   "cell_type": "code",
   "execution_count": 6,
   "id": "da71a7b2",
   "metadata": {},
   "outputs": [
    {
     "data": {
      "text/html": [
       "<pre style=\"overflow: auto; white-space: pre;\">0: ───X───FSim(0.4π, 0.8π)──────────────────────FSim(0.4π, 0.8π)──────────────────────M(&#x27;m&#x27;)───\n",
       "          │                                     │                                     │\n",
       "1: ───X───FSim(0.4π, 0.8π)───FSim(0.4π, 0.8π)───FSim(0.4π, 0.8π)───FSim(0.4π, 0.8π)───M────────\n",
       "                             │                                     │                  │\n",
       "2: ───X───FSim(0.4π, 0.8π)───FSim(0.4π, 0.8π)───FSim(0.4π, 0.8π)───FSim(0.4π, 0.8π)───M────────\n",
       "          │                                     │                                     │\n",
       "3: ───X───FSim(0.4π, 0.8π)──────────────────────FSim(0.4π, 0.8π)──────────────────────M────────</pre>"
      ],
      "text/plain": [
       "0: ───X───FSim(0.4π, 0.8π)──────────────────────FSim(0.4π, 0.8π)──────────────────────M('m')───\n",
       "          │                                     │                                     │\n",
       "1: ───X───FSim(0.4π, 0.8π)───FSim(0.4π, 0.8π)───FSim(0.4π, 0.8π)───FSim(0.4π, 0.8π)───M────────\n",
       "                             │                                     │                  │\n",
       "2: ───X───FSim(0.4π, 0.8π)───FSim(0.4π, 0.8π)───FSim(0.4π, 0.8π)───FSim(0.4π, 0.8π)───M────────\n",
       "          │                                     │                                     │\n",
       "3: ───X───FSim(0.4π, 0.8π)──────────────────────FSim(0.4π, 0.8π)──────────────────────M────────"
      ]
     },
     "execution_count": 6,
     "metadata": {},
     "output_type": "execute_result"
    }
   ],
   "source": [
    "expt.circuits[0]"
   ]
  },
  {
   "cell_type": "markdown",
   "id": "6da63da2",
   "metadata": {},
   "source": [
    "To run the experiment, we can either use `KPZExperiment.run_experiment()` or `KPZExperiment.run_experiment_amplitudes()`. In either case, we have to input a Cirq sampler. `run_experiment()` samples bitstrings, closer to what is done in the experiment, whereas `run_experiment_amplitudes()` uses amplitudes from a statevector simulation (and hence requires a `cirq.SimulatesAmplitudes` sampler). In the actual experiment, we apply a post-selection to mitigate against effects of $T_1$; this is not done here because this tutorial uses noiseless simulations.\n",
    "\n",
    "For example, we can use `qsimcirq.QSimSimulator` to obtain:"
   ]
  },
  {
   "cell_type": "code",
   "execution_count": 7,
   "id": "957016d4",
   "metadata": {},
   "outputs": [
    {
     "name": "stderr",
     "output_type": "stream",
     "text": [
      "100%|██████████████████████████████████████████████████████████████████████████████████████████████████████████████████████████████████████████████████████████████████████████| 1000/1000 [00:15<00:00, 63.53it/s]\n",
      "100%|█████████████████████████████████████████████████████████████████████████████████████████████████████████████████████████████████████████████████████████████████████████| 1000/1000 [00:01<00:00, 901.90it/s]\n"
     ]
    }
   ],
   "source": [
    "sampler = qsimcirq.QSimSimulator()\n",
    "reps = 6000\n",
    "res_bitstrs = expt.run_experiment(sampler, reps)\n",
    "res_amplitudes = expt.run_experiment_amplitudes(sampler)"
   ]
  },
  {
   "cell_type": "markdown",
   "id": "9c33555f",
   "metadata": {},
   "source": [
    "The measured bitstrings are contained in `res_bitstrings.bitstrs`, which has shape `(num_init_states, reps, num_qubits)`"
   ]
  },
  {
   "cell_type": "code",
   "execution_count": 8,
   "id": "0a5789be",
   "metadata": {},
   "outputs": [
    {
     "data": {
      "text/plain": [
       "array([[[1, 1, 1, 1],\n",
       "        [1, 1, 1, 1],\n",
       "        [1, 1, 1, 1],\n",
       "        ...,\n",
       "        [1, 1, 1, 1],\n",
       "        [1, 1, 1, 1],\n",
       "        [1, 1, 1, 1]],\n",
       "\n",
       "       [[0, 0, 1, 1],\n",
       "        [0, 0, 1, 1],\n",
       "        [0, 0, 1, 1],\n",
       "        ...,\n",
       "        [1, 1, 0, 0],\n",
       "        [1, 1, 0, 0],\n",
       "        [1, 1, 0, 0]],\n",
       "\n",
       "       [[0, 0, 1, 1],\n",
       "        [0, 0, 1, 1],\n",
       "        [0, 0, 1, 1],\n",
       "        ...,\n",
       "        [1, 1, 0, 0],\n",
       "        [1, 1, 0, 0],\n",
       "        [1, 1, 0, 0]],\n",
       "\n",
       "       ...,\n",
       "\n",
       "       [[0, 0, 0, 1],\n",
       "        [0, 0, 0, 1],\n",
       "        [0, 0, 0, 1],\n",
       "        ...,\n",
       "        [1, 0, 0, 0],\n",
       "        [1, 0, 0, 0],\n",
       "        [1, 0, 0, 0]],\n",
       "\n",
       "       [[0, 0, 0, 1],\n",
       "        [0, 0, 0, 1],\n",
       "        [0, 0, 0, 1],\n",
       "        ...,\n",
       "        [1, 0, 0, 0],\n",
       "        [1, 0, 0, 0],\n",
       "        [1, 0, 0, 0]],\n",
       "\n",
       "       [[0, 0, 1, 1],\n",
       "        [0, 0, 1, 1],\n",
       "        [0, 0, 1, 1],\n",
       "        ...,\n",
       "        [1, 1, 0, 0],\n",
       "        [1, 1, 0, 0],\n",
       "        [1, 1, 0, 0]]])"
      ]
     },
     "execution_count": 8,
     "metadata": {},
     "output_type": "execute_result"
    }
   ],
   "source": [
    "res_bitstrs.bitstrs"
   ]
  },
  {
   "cell_type": "markdown",
   "id": "b5e2e84a",
   "metadata": {},
   "source": [
    "As you can see, the number of excitations is conserved, as expected because fSim gates are number conserving."
   ]
  },
  {
   "cell_type": "code",
   "execution_count": 9,
   "id": "523743e6",
   "metadata": {},
   "outputs": [],
   "source": [
    "num_excitations = np.sum(res_bitstrs.bitstrs, axis=2)\n",
    "num_excitations_init = np.sum(expt.initial_states,1)\n",
    "expected_num_excitations = np.outer(num_excitations_init, np.ones(reps, dtype=int))\n",
    "assert np.all( num_excitations == expected_num_excitations )"
   ]
  },
  {
   "cell_type": "markdown",
   "id": "6d696901",
   "metadata": {},
   "source": [
    "The transferred magnetization, $\\mathcal{M}$ is computed by counting how many excitations are on the right side of the chain in the final state, contained in `res_bitstrs.num_right_final` (shape `(num_init_states, reps)`), and subtracting the number that were on the right initially, `res_bitstrs.num_right_initial` (shape `(num_init_states,)`), and then multiplying by 2. It is stored in `res_bitstrs.transferred_magnetization` (shape `(num_init_states, reps)`). We can plot a histogram of the transferred magnetization with:"
   ]
  },
  {
   "cell_type": "code",
   "execution_count": 10,
   "id": "c3e4a8d2",
   "metadata": {},
   "outputs": [
    {
     "data": {
      "text/plain": [
       "<AxesSubplot: xlabel='Number of 1s that crossed center, $\\\\mathcal{M}/2$', ylabel='Probability'>"
      ]
     },
     "execution_count": 10,
     "metadata": {},
     "output_type": "execute_result"
    },
    {
     "data": {
      "image/png": "iVBORw0KGgoAAAANSUhEUgAABCcAAALRCAYAAABoLsmaAAAAOXRFWHRTb2Z0d2FyZQBNYXRwbG90bGliIHZlcnNpb24zLjYuMywgaHR0cHM6Ly9tYXRwbG90bGliLm9yZy/P9b71AAAACXBIWXMAAB7CAAAewgFu0HU+AABjrUlEQVR4nO3debxVdb0//tdmFlBBnDAUNURQsVRACRUxL9ZFE8s0y0AcMjUzxbSoHK55y0y7pmaiBtmtnOqqiJWlgOAQ4myiaOLA4IQYCgcQzv794Zf9gxgPZ1jAeT4fj/1wnb0/6/N5b/ba27NfZ63Pp1Qul8sBAAAAKEiTogsAAAAAGjfhBAAAAFAo4QQAAABQKOEEAAAAUCjhBAAAAFAo4QQAAABQKOEEAAAAUCjhBAAAAFAo4QQAAABQKOEEAAAAUCjhBAAAAFAo4QQAAABQKOEEAAAAUCjhBAAAAFAo4QQAAABQKOEEAAAAUKhmRRfAuluwYEGeeeaZJMlWW22VZs28nAAAANSfxYsX5+23306S9OjRI61ataqTfn2b3YA988wz6d27d9FlAAAA0AhNmjQpvXr1qpO+XNYBAAAAFMqZExuwrbbaqrI9adKkdOzYscBqaEizZs2qnDXjtWd95BhlfecYZX3nGGV95xhtvJZ97Zf9TlpbwokN2LJzTHTs2DGdOnUqsBqK4rVnfecYZX3nGGV95xhlfecYbbzqct5Dl3UAAAAAhRJOAAAAAIUSTgAAAACFEk4AAAAAhRJOAAAAAIUSTgAAAACFEk4AAAAAhaq7RUmBBtOpU6eUy+Wiy4BVcoyyvnOMsr5zjLK+c4xS15w5AQAAABRKOAEAAAAUSjgBAAAAFEo4AQAAABRKOAEAAAAUSjgBAAAAFEo4AQAAABRKOAEAAAAUSjgBAAAAFEo4AQAAABRKOAEAAAAUSjgBAAAAFEo4AQAAABRKOAEAAAAUSjgBAAAAFEo4AQAAABRKOAEAAAAUqlnRBQAAs