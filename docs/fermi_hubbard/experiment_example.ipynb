{
 "cells": [
  {
   "cell_type": "markdown",
   "metadata": {
    "id": "e6d108d2b320"
   },
   "source": [
    "# Fermi-Hubbard Experiment Example"
   ]
  },
  {
   "cell_type": "markdown",
   "metadata": {
    "id": "9ec578c1796c"
   },
   "source": [
    "This notebook demonstrates how to execute a single instance of Fermi-Hubbard experiment on Google processor."
   ]
  },
  {
   "cell_type": "code",
   "execution_count": null,
   "metadata": {
    "id": "3da3b5a75363"
   },
   "outputs": [],
   "source": [
    "import cirq\n",
    "from cirq.contrib.svg import SVGCircuit\n",
    "import matplotlib.pyplot as plt\n",
    "from tqdm.notebook import tqdm\n",
    "\n",
    "from recirq.fermi_hubbard import (\n",
    "    ConvertingSampler,\n",
    "    ExperimentResult,\n",
    "    FermiHubbardParameters,\n",
    "    InstanceBundle,\n",
    "    create_circuits,\n",
    "    load_experiment,\n",
    "    plot_quantity,\n",
    "    quantity_data_frame,\n",
    "    run_experiment,\n",
    "    save_experiment\n",
    ")\n",
    "from recirq.fermi_hubbard.publication import (\n",
    "    google_sqrt_iswap_converter,\n",
    "    ideal_sqrt_iswap_converter,\n",
    "    parasitic_cphase_compensation,\n",
    "    rainbow23_layouts,\n",
    "    trapping_instance\n",
    ")\n",
    "\n",
    "# Hide numpy warnings\n",
    "import warnings\n",
    "warnings.filterwarnings('ignore')"
   ]
  },
  {
   "cell_type": "markdown",
   "metadata": {
    "id": "1aecebe2b044"
   },
   "source": [
    "## Experiment parameters"
   ]
  },
  {
   "cell_type": "markdown",
   "metadata": {
    "id": "d4d79e011a84"
   },
   "source": [
    "The first step is to decide on exact experiment parameters like problem Hamiltonian, initial state description as well as mapping of fermions to qubits on the device. All of this information is necessary to create circuits and run the experiment."
   ]
  },
  {
   "cell_type": "markdown",
   "metadata": {
    "id": "9412a40fb274"
   },
   "source": [
    "### Qubits layout"
   ]
  },
  {
   "cell_type": "markdown",
   "metadata": {
    "id": "5fd885507094"
   },
   "source": [
    "We're going to use the set of layouts prepared for 23-qubit subgrid of Google Rainbow processor. Multiple layouts are used to average experiment results over different qubits assignments and cancel some of the statistical errors which occur from calibration to calibration."
   ]
  },
  {
   "cell_type": "code",
   "execution_count": null,
   "metadata": {
    "id": "9a677d1ac39c"
   },
   "outputs": [],
   "source": [
    "layouts = rainbow23_layouts(sites_count=8)"
   ]
  },
  {
   "cell_type": "markdown",
   "metadata": {
    "id": "343ff5aa9b85"
   },
   "source": [
    "This gives 16 different configurations prepared for 8 sites (16 qubits) each, for example:"
   ]
  },
  {
   "cell_type": "code",
   "execution_count": null,
   "metadata": {
    "id": "d47795056271"
   },
   "outputs": [],
   "source": [
    "print(layouts[0].text_diagram())"
   ]
  },
  {
   "cell_type": "markdown",
   "metadata": {
    "id": "a7e87bd5fd64"
   },
   "source": [
    "### Problem parameters"
   ]
  },
  {
   "cell_type": "markdown",
   "metadata": {
    "id": "e8d103db8d2f"
   },
   "source": [
    "Let's use the Hamiltonian with uniform $J=1$ and $U=2$ on each site, initial state prepared as a ground state of a non-interacting Hamiltonian with trapping potential of a Gaussian shape, Trotter step size equal to 0.3, and two particles per chain. The problem parameters with this initial state can be prepared by pre-defined function ```trapping_instance``` (other configurations can be prepared by creating instances of `FermiHubbardPrameters` data class explicitly)."
   ]
  },
  {
   "cell_type": "code",
   "execution_count": null,
   "metadata": {
    "id": "4434177bb891"
   },
   "outputs": [],
   "source": [
    "parameters = [trapping_instance(layout, u=2, dt=0.3, up_particles=2, down_particles=2) for layout in layouts]"
   ]
  },
  {
   "cell_type": "markdown",
   "metadata": {
    "id": "7012bc6bf445"
   },
   "source": [
    "The result are instances of `FermiHubbardPrameters` data class for each layout, which uniquely describe configuration to run:"
   ]
  },
  {
   "cell_type": "code",
   "execution_count": null,
   "metadata": {
    "id": "a4596869c147"
   },
   "outputs": [],
   "source": [
    "parameters_example = parameters[0]\n",
    "parameters_example.hamiltonian"
   ]
  },
  {
   "cell_type": "code",
   "execution_count": null,
   "metadata": {
    "id": "055b05e86460"
   },
   "outputs": [],
   "source": [
    "parameters_example.initial_state"
   ]
  },
  {
   "cell_type": "code",
   "execution_count": null,
   "metadata": {
    "id": "05fa6b15dc92"
   },
   "outputs": [],
   "source": [
    "parameters_example.layout"
   ]
  },
  {
   "cell_type": "code",
   "execution_count": null,
   "metadata": {
    "id": "9b92d6c6fc36"
   },
   "outputs": [],
   "source": [
    "parameters_example.dt"
   ]
  },
  {
   "cell_type": "markdown",
   "metadata": {
    "id": "b3eca713f124"
   },
   "source": [
    "## Circuits"
   ]
  },
  {
   "cell_type": "markdown",
   "metadata": {
    "id": "048b3f2dfc5e"
   },
   "source": [
    "This step is not really necesary in order to perform the experiment on a device but it is ilustrative how the Fermi-Hubbard execution works. It shows how to construct circuits that simulate Chemistry problems and run on the Google quantum processor efficiently."
   ]
  },
  {
   "cell_type": "markdown",
   "metadata": {
    "id": "e059a98daabe"
   },
   "source": [
    "### Circuit creation"
   ]
  },
  {
   "cell_type": "markdown",
   "metadata": {
    "id": "831a9f5b55bb"
   },
   "source": [
    "The parameters above are just a description of a problem. To create a circuit, a special compilation function is used:"
   ]
  },
  {
   "cell_type": "code",
   "execution_count": null,
   "metadata": {
    "id": "0e3d1c97811e"
   },
   "outputs": [],
   "source": [
    "initial, trotter, measurement = create_circuits(parameters_example, trotter_steps=1)\n",
    "circuit = initial + trotter + measurement"
   ]
  },
  {
   "cell_type": "code",
   "execution_count": null,
   "metadata": {
    "id": "c801108a2259"
   },
   "outputs": [],
   "source": [
    "circuit"
   ]
  },
  {
   "cell_type": "markdown",
   "metadata": {
    "id": "94fb4ce74e44"
   },
   "source": [
    "### Circuit decomposition"
   ]
  },
  {
   "cell_type": "markdown",
   "metadata": {
    "id": "35652ae73898"
   },
   "source": [
    "The circuit above is constructed using gates which are not native to Google hardware, like `cirq.FSim` or `cirq.CZ` with arbitrary exponent. For the purpose of this project a special converter `ConvertToNonUniformSqrtIswapGates` is provided, which supports the primitives required for Fermi-Hubbard problem.\n",
    "\n",
    "The converter has an ability to decompose gates to $\\sqrt{\\small \\mbox{iSWAP}}$ with unitary parameters deviating from the perfect ones, and varying between qubit pairs. The `google_sqrt_iswap_converter` creates an instance of the converter which approximates to the average values on Rainbow processor (which are approximately equal to `cirq.FSim(π/4, π/24)`)."
   ]
  },
  {
   "cell_type": "code",
   "execution_count": null,
   "metadata": {
    "id": "c6fc02191335"
   },
   "outputs": [],
   "source": [
    "google_sqrt_iswap_converter().convert(circuit)"
   ]
  },
  {
   "cell_type": "markdown",
   "metadata": {
    "id": "f8754d2cccc0"
   },
   "source": [
    "## Cirq Simulation"
   ]
  },
  {
   "cell_type": "markdown",
   "metadata": {
    "id": "2c642750808b"
   },
   "source": [
    "This section demonstrate how to simulate the above parameters using Cirq simulator. We're going to simulate evolution starting from 0 up to 10 Trotter steps (evolution time between $0$ and $3 \\hbar / J$):"
   ]
  },
  {
   "cell_type": "code",
   "execution_count": null,
   "metadata": {
    "id": "d7eafc63a473"
   },
   "outputs": [],
   "source": [
    "steps = range(11)"
   ]
  },
  {
   "cell_type": "markdown",
   "metadata": {
    "id": "a2348762745b"
   },
   "source": [
    "### Ideal"
   ]
  },
  {
   "cell_type": "markdown",
   "metadata": {
    "id": "134e7e4ef033"
   },
   "source": [
    "To run ideal simulation using the $\\sqrt{\\small \\mbox{iSWAP}}$ gate set, each circuit needs to be converted to $\\sqrt{\\small \\mbox{iSWAP}}$ gate set before execution. The Fermi-Hubbard project provides `ConvertingSampler` that converts circuits before execution. In this case, using the decomposition to `cirq.FSim(π/4, 0)`:"
   ]
  },
  {
   "cell_type": "code",
   "execution_count": null,
   "metadata": {
    "id": "47578126a344"
   },
   "outputs": [],
   "source": [
    "ideal_sampler = ConvertingSampler(cirq.Simulator(), ideal_sqrt_iswap_converter().convert)"
   ]
  },
  {
   "cell_type": "markdown",
   "metadata": {
    "id": "59c49d675ffc"
   },
   "source": [
    "The function `experiment_run` takes the parameters, sampler and list of Trotter steps which describe circuits to compile. It runs them and wraps the outome in `ExperimentResult` data class."
   ]
  },
  {
   "cell_type": "code",
   "execution_count": null,
   "metadata": {
    "id": "76790b284d7a"
   },
   "outputs": [],
   "source": [
    "with tqdm(range(len(parameters) * len(steps))) as progress:\n",
    "    def post_run(_1, _2):\n",
    "        progress.update()\n",
    "    experiments = [run_experiment(params, steps, ideal_sampler, post_run_func=post_run)\n",
    "                   for params in parameters]"
   ]
  },
  {
   "cell_type": "markdown",
   "metadata": {
    "id": "632db9baccf6"
   },
   "source": [
    "A series of experiments for the same problem instance but with different qubit mappings can be post-processed with the help of `InstanceBundle` class. This class takes care of averaging results over qubits layouts, re-scaling the data by comparing agains reference run (perferct simulation in this case), and extracting various quantities."
   ]
  },
  {
   "cell_type": "code",
   "execution_count": null,
   "metadata": {
    "id": "e4d0097312f1"
   },
   "outputs": [],
   "source": [
    "bundle = InstanceBundle(experiments)"
   ]
  },
  {
   "cell_type": "code",
   "execution_count": null,
   "metadata": {
    "id": "f12efd93c8c2"
   },
   "outputs": [],
   "source": [
    "bundle.cache_exact_numerics()"
   ]
  },
  {
   "cell_type": "markdown",
   "metadata": {
    "id": "9891943f0181"
   },
   "source": [
    "Number of quantities are available, accessible either through ```InstanceBundle``` methods or through dictionary:"
   ]
  },
  {
   "cell_type": "code",
   "execution_count": null,
   "metadata": {
    "id": "9a164fb39539"
   },
   "outputs": [],
   "source": [
    "for quantity_name in bundle.quantities:\n",
    "    print(quantity_name)"
   ]
  },
  {
   "cell_type": "markdown",
   "metadata": {
    "id": "0cf7c52849f2"
   },
   "source": [
    "They can be converted to Panda's data frame:"
   ]
  },
  {
   "cell_type": "code",
   "execution_count": null,
   "metadata": {
    "id": "995a0ad9b1b9"
   },
   "outputs": [],
   "source": [
    "charge_spin_density, _, _ = quantity_data_frame(bundle, 'charge_spin_density')\n",
    "charge_spin_density"
   ]
  },
  {
   "cell_type": "markdown",
   "metadata": {
    "id": "aad1d61619c2"
   },
   "source": [
    "They can also be plotted with ```plot_quantity``` helper function which adjusts appearance according to the data plotted:"
   ]
  },
  {
   "cell_type": "code",
   "execution_count": null,
   "metadata": {
    "id": "fda88e19e080"
   },
   "outputs": [],
   "source": [
    "plot_quantity(bundle, 'charge_spin_density');"
   ]
  },
  {
   "cell_type": "code",
   "execution_count": null,
   "metadata": {
    "id": "7f4a02dffcd6"
   },
   "outputs": [],
   "source": [
    "plot_quantity(bundle, 'charge_spin_spreading');"
   ]
  },
  {
   "cell_type": "markdown",
   "metadata": {
    "id": "6ae59a047944"
   },
   "source": [
    "### Parasitic controlled-phsae"
   ]
  },
  {
   "cell_type": "markdown",
   "metadata": {
    "id": "fc7a70b65c0e"
   },
   "source": [
    "The Cirq simulator simulates $\\sqrt{\\small \\mbox{iSWAP}}$ gates perfectly. To evaluate the importance of parasitic controlled-phase a circuit could be decomposed to `cirq.FSim(π/4, π/24)` instead of `cirq.FSim(π/4, 0)` and simulated against the latter."
   ]
  },
  {
   "cell_type": "code",
   "execution_count": null,
   "metadata": {
    "id": "70addbcd7b40"
   },
   "outputs": [],
   "source": [
    "parasitic_sampler = ConvertingSampler(cirq.Simulator(), google_sqrt_iswap_converter().convert)\n",
    "\n",
    "with tqdm(range(len(parameters) * len(steps))) as progress:\n",
    "    def post_run(_1, _2):\n",
    "        progress.update()\n",
    "    experiments = [run_experiment(params, steps, parasitic_sampler, post_run_func=post_run) \n",
    "                   for params in parameters]"
   ]
  },
  {
   "cell_type": "code",
   "execution_count": null,
   "metadata": {
    "id": "6e4a08904282"
   },
   "outputs": [],
   "source": [
    "bundle = InstanceBundle(experiments)\n",
    "bundle.cache_exact_numerics()"
   ]
  },
  {
   "cell_type": "code",
   "execution_count": null,
   "metadata": {
    "id": "5cdd33c4f506"
   },
   "outputs": [],
   "source": [
    "plot_quantity(bundle, 'charge_spin_density');"
   ]
  },
  {
   "cell_type": "code",
   "execution_count": null,
   "metadata": {
    "id": "ca54ed0803cd"
   },
   "outputs": [],
   "source": [
    "plot_quantity(bundle, 'charge_spin_spreading', show_std_error=True);"
   ]
  },
  {
   "cell_type": "markdown",
   "metadata": {
    "id": "9423ead536da"
   },
   "source": [
    "# Google's Quantum Computing Service Execution"
   ]
  },
  {
   "cell_type": "markdown",
   "metadata": {
    "id": "373ada3ed59f"
   },
   "source": [
    "In order to run experiment on Google's QCS, a special sampler that runs circuits at Google's QCS is necessary. The script below assumes that an environment variable ```GOOGLE_CLOUD_PROJECT``` is present and set to a valid Google Cloud Platform project identifier."
   ]
  },
  {
   "cell_type": "code",
   "execution_count": null,
   "metadata": {
    "id": "aa516db560a5"
   },
   "outputs": [],
   "source": [
    "processor_id = 'rainbow'\n",
    "engine_sampler = cirq.google.get_engine_sampler(processor_id=processor_id,\n",
    "                                                gate_set_name='sqrt_iswap')\n",
    "google_sampler = ConvertingSampler(engine_sampler, google_sqrt_iswap_converter().convert)"
   ]
  },
  {
   "cell_type": "markdown",
   "metadata": {
    "id": "24c6fbf30a16"
   },
   "source": [
    "It is convenient to watch for a progress of the QCS execution. It is also good to persist the experiment results on disk as soon sa they are ready. Although rare, the remote operation might fail for various reasons and more advanced execution workflow might include error handling, experiment pause and continuation, etc.\n",
    "\n",
    "The script below does not include Floquet calibration."
   ]
  },
  {
   "cell_type": "code",
   "execution_count": null,
   "metadata": {
    "id": "1210216b0c5e"
   },
   "outputs": [],
   "source": [
    "results_dir = 'trapping'\n",
    "\n",
    "with tqdm(range(len(layouts) * len(steps))) as progress:\n",
    "    def post_run(_1, _2):\n",
    "        progress.update()\n",
    "    for index, params in enumerate(parameters):\n",
    "        experiment = run_experiment(params, steps, google_sampler, post_run_func=post_run)\n",
    "        save_experiment(experiment, f'{results_dir}/trapping_{index + 1}.json')"
   ]
  },
  {
   "cell_type": "code",
   "execution_count": null,
   "metadata": {
    "id": "d0f3e7f9ec2c"
   },
   "outputs": [],
   "source": [
    "experiments = [load_experiment(f'{results_dir}/trapping_{index + 1}.json') \n",
    "               for index in range(len(parameters))]"
   ]
  },
  {
   "cell_type": "code",
   "execution_count": null,
   "metadata": {
    "id": "f8f5b19d9856"
   },
   "outputs": [],
   "source": [
    "bundle = InstanceBundle(experiments=experiments,\n",
    "                        numerics_transform=parasitic_cphase_compensation(0.138))\n",
    "bundle.cache_exact_numerics()"
   ]
  },
  {
   "cell_type": "code",
   "execution_count": null,
   "metadata": {
    "id": "dba1355998ba"
   },
   "outputs": [],
   "source": [
    "plot_quantity(bundle, 'charge_spin_density', show_std_error=True);"
   ]
  },
  {
   "cell_type": "code",
   "execution_count": null,
   "metadata": {
    "id": "030ef06326e3"
   },
   "outputs": [],
   "source": [
    "plot_quantity(bundle, 'charge_spin_spreading', show_std_error=True);"
   ]
  }
 ],
 "metadata": {
  "colab": {
   "name": "experiment_example.ipynb",
   "toc_visible": true
  },
  "kernelspec": {
   "display_name": "Python 3",
   "name": "python3"
  }
 },
 "nbformat": 4,
 "nbformat_minor": 0
}
