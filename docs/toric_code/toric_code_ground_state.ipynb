{
  "nbformat": 4,
  "nbformat_minor": 0,
  "metadata": {
    "colab": {
      "name": "toric_code_ground_state",
      "provenance": [],
      "collapsed_sections": []
    },
    "kernelspec": {
      "name": "python3",
      "display_name": "Python 3"
    },
    "language_info": {
      "name": "python"
    }
  },
  "cells": [
    {
      "cell_type": "code",
      "source": [
        "##### Copyright 2021 The Cirq Developers"
      ],
      "metadata": {
        "id": "FPvos8yM9ENe"
      },
      "execution_count": null,
      "outputs": []
    },
    {
      "cell_type": "code",
      "source": [
        "#@title Licensed under the Apache License, Version 2.0 (the \"License\");\n",
        "# you may not use this file except in compliance with the License.\n",
        "# You may obtain a copy of the License at\n",
        "#\n",
        "# https://www.apache.org/licenses/LICENSE-2.0\n",
        "#\n",
        "# Unless required by applicable law or agreed to in writing, software\n",
        "# distributed under the License is distributed on an \"AS IS\" BASIS,\n",
        "# WITHOUT WARRANTIES OR CONDITIONS OF ANY KIND, either express or implied.\n",
        "# See the License for the specific language governing permissions and\n",
        "# limitations under the License."
      ],
      "metadata": {
        "id": "-29KXr1e9Grj"
      },
      "execution_count": null,
      "outputs": []
    },
    {
      "cell_type": "markdown",
      "source": [
        "# Toric Code Ground State"
      ],
      "metadata": {
        "id": "WTqcQFNA9O9O"
      }
    },
    {
      "cell_type": "markdown",
      "source": [
        "<table class=\"tfo-notebook-buttons\" align=\"left\">\n",
        "  <td>\n",
        "    <a target=\"_blank\" href=\"https://quantumai.google/cirq/experiments/toric_code/toric_code_ground_state\"><img src=\"https://quantumai.google/site-assets/images/buttons/quantumai_logo_1x.png\" />View on QuantumAI</a>\n",
        "  </td>\n",
        "  <td>\n",
        "    <a target=\"_blank\" href=\"https://colab.research.google.com/github/quantumlib/ReCirq/blob/master/docs/toric_code/toric_code_ground_state.ipynb\"><img src=\"https://quantumai.google/site-assets/images/buttons/colab_logo_1x.png\" />Run in Google Colab</a>\n",
        "  </td>\n",
        "  <td>\n",
        "    <a target=\"_blank\" href=\"https://github.com/quantumlib/ReCirq/blob/master/docs/toric_code/toric_code_ground_state.ipynb\"><img src=\"https://quantumai.google/site-assets/images/buttons/github_logo_1x.png\" />View source on GitHub</a>\n",
        "  </td>\n",
        "  <td>\n",
        "    <a href=\"https://storage.googleapis.com/tensorflow_docs/ReCirq/docs/toric_code/toric_code_ground_state.ipynb\"><img src=\"https://quantumai.google/site-assets/images/buttons/download_icon_1x.png\" />Download notebook</a>\n",
        "  </td>\n",
        "</table>"
      ],
      "metadata": {
        "id": "wrl2bN039fYE"
      }
    },
    {
      "cell_type": "markdown",
      "source": [
        "Before beginning, we will import the necessary modules into the colab."
      ],
      "metadata": {
        "id": "OY-OulwIz5CC"
      }
    },
    {
      "cell_type": "code",
      "execution_count": null,
      "metadata": {
        "id": "B-oBJq2iTGiR"
      },
      "outputs": [],
      "source": [
        "try:\n",
        "    import recirq\n",
        "except ImportError:\n",
        "    !pip install --quiet git+https://github.com/quantumlib/ReCirq\n",
        "\n",
        "try:\n",
        "    import qsimcirq\n",
        "except ImportError:\n",
        "    !pip install qsimcirq --quiet\n",
        "    import qsimcirq\n",
        "\n",
        "import cirq\n",
        "import matplotlib.pyplot as plt\n",
        "\n",
        "import recirq.toric_code.toric_code_plaquettes as tcp\n",
        "import recirq.toric_code.toric_code_plotter as tcplot\n",
        "import recirq.toric_code.toric_code_rectangle as tcr\n",
        "import recirq.toric_code.toric_code_state_prep as tcsp\n",
        "\n",
        "plt.rcParams['figure.dpi'] = 144"
      ]
    },
    {
      "cell_type": "markdown",
      "source": [
        "### Toric code Hamiltonian\n",
        "\n",
        "The toric code Hamiltonian\n",
        "\n",
        "\\begin{equation}\n",
        "H = -\\sum_s A_s - \\sum_p B_p\n",
        "\\end{equation}\n",
        "\n",
        "involves local four-qubit parity operators, where each qubit lives on an edge in a square lattice. Here, the \"star\" operators $A_s$ are products of Pauli $Z$ operators around a vertex, while the \"plaquette\" operators $B_p$ are products of $X$ operators around a square, for example,\n",
        "\n",
        "\\begin{align}\n",
        "A_s &= Z_i \\otimes Z_j \\otimes Z_k \\otimes Z_l \\\\\n",
        "B_p &= X_a \\otimes X_b \\otimes X_c \\otimes X_d.\n",
        "\\end{align}\n",
        "\n",
        "These local parity operators all commute with each other: all $A_s$ commute, all $B_p$ commute, and $A_s$ and $B_p$ commute with each other because they overlap on an even number of qubits. They can thus all be simultaneously diagonalized, and those shared eigenstates are also the eigenstates of $H$.\n",
        "\n",
        "\n",
        "<img src=\"../images/toric_code1.png\" alt=\"Toric Code Example\"/>\n",
        "\n",
        "\n",
        "\n"
      ],
      "metadata": {
        "id": "nr4YuiD7I2LT"
      }
    },
    {
      "cell_type": "markdown",
      "source": [
        "In our paper, we mostly work with the 31-qubit lattice above. With these boundary conditions, there is a _unique_ ground state that has a $+1$ eigenvalue for all $A_s$ and $B_p$. Note for different boundary conditions, we can have _degeneracies_ that are locally-indistinguishable (for example on a torus, or with the \"surface code\" logical qubits we explore in Figure 4 of our paper).\n",
        "\n",
        "In this module, we will primarily work with the smaller 22-qubit to avoid time and memory constraints associated with the larger rectangle."
      ],
      "metadata": {
        "id": "V-TaA0D8k-wr"
      }
    },
    {
      "cell_type": "markdown",
      "source": [
        "### Understanding the ground state\n",
        "\n",
        "In this example, we focus on reproducing our first figure, where we create this unique ground state $|G\\rangle$ using a shallow unitary circuit. The general idea is to start out with $|0\\rangle^{\\otimes 22}$, so all $\\langle A_s \\rangle = +1$. We then apply projection operators $\\mathbb{I} + B_p$ which project the state into a $+1$ eigenstate of $B_p$, after which all the local parities are $+1$:\n",
        "\n",
        "\\begin{equation}\n",
        "|G\\rangle \\propto \\prod_p (\\mathbb{I} + B_p)|0\\rangle^{\\otimes 22}.\n",
        "\\end{equation}\n",
        "\n",
        "To create this state, we assign a \"team captain\" qubit to each plaquette $B_p$. Starting from $|0\\rangle^{\\otimes n}$, we perform a Hadamard on each team captain, and then each team captain is responsible for performing a CNOT to each of its team mates. We have to be careful with the ordering to keep things efficient and avoid the captains stepping on each other's toes. This is easier to visualize for a smaller system, for example the 12-qubit version in Figure S2, reproduced below. Note the superposition of $2^4$ states, as there are four plaquettes $B_p$.\n",
        "\n",
        "<img src=\"../images/toric_code2.png\" alt=\"12 qubit toric code example\"/>"
      ],
      "metadata": {
        "id": "qnAWL7baMDaO"
      }
    },
    {
      "cell_type": "markdown",
      "source": [
        "### Creating $|G\\rangle$ with ReCirq"
      ],
      "metadata": {
        "id": "H8z1XEUbQqVU"
      }
    },
    {
      "cell_type": "markdown",
      "source": [
        "#### Basics: 22-qubit circuit"
      ],
      "metadata": {
        "id": "QWmHwFPhR3pv"
      }
    },
    {
      "cell_type": "markdown",
      "source": [
        "First, we can create a example 22-qubit grid by instantiate it using a `ToricCodeRectangle` object and then plot a visualization using a `ToricCodePlotter` object, both found in the ReCirq repository."
      ],
      "metadata": {
        "id": "5d-TUyF7_3PV"
      }
    },
    {
      "cell_type": "code",
      "source": [
        "short_rectangle = tcr.ToricCodeRectangle(\n",
        "    origin_qubit=cirq.GridQubit(3, 0), row_vector=(1, 1), rows=2, cols=4\n",
        ")\n",
        "plotter = tcplot.ToricCodePlotter()\n",
        "plotter.plot_code(short_rectangle)"
      ],
      "metadata": {
        "id": "41TBdoGPW2G-"
      },
      "execution_count": null,
      "outputs": []
    },
    {
      "cell_type": "markdown",
      "source": [
        "We can also see the full circuit of how to create this code (using CNOT gates) using these objects as well.  By printing out the circuit moment by moment, we can see the gates lined up in a visual manner."
      ],
      "metadata": {
        "id": "SNMcQQa-zWkl"
      }
    },
    {
      "cell_type": "code",
      "source": [
        "full_circuit = tcsp.toric_code_cnot_circuit(short_rectangle)\n",
        "for idx, moment in enumerate(full_circuit):\n",
        "    print(f'moment {idx}\\n{moment}\\n')"
      ],
      "metadata": {
        "id": "hQ628tW9W3a4"
      },
      "execution_count": null,
      "outputs": []
    },
    {
      "cell_type": "markdown",
      "source": [
        "#### Simulating the parities\n",
        "\n",
        "For a given circuit, we can determine all the parity expectation values $\\langle A_s\\rangle$ by sampling 22-qubit bitstrings and then computing each expectation value. We do the same thing with for $\\langle B_p \\rangle$, but we include a layer of Hadamards before measurement to effectively \"measure in $X$ basis.\""
      ],
      "metadata": {
        "id": "tt6g6kn3R8HW"
      }
    },
    {
      "cell_type": "code",
      "source": [
        "def partial_circuit(\n",
        "    n_moments_to_include: int, *, x_basis: bool\n",
        ") -> cirq.Circuit:\n",
        "    \"\"\"Create the first N moments of a toric in Z or X basis.\n",
        " \n",
        "    Args:\n",
        "        n_moments_to_include: number of moments to include\n",
        "        x_basis: If True, add Hadamards to effectively measure in the X basis.\n",
        "            If False, measure in the computational (Z) basis.\n",
        "\n",
        "    Returns: First N moments of a toric code circuit plus an optional\n",
        "        layer of Hadamard gates to effectively measure in the X basis.\n",
        "        This circuit also includes measurement gates.\n",
        "    \"\"\"\n",
        "    sliced_circuit = full_circuit[:n_moments_to_include]\n",
        "    qubits = sorted(short_rectangle.qubits)\n",
        "    if x_basis:\n",
        "        sliced_circuit += cirq.Moment(cirq.H.on_each(*qubits))\n",
        "    return sliced_circuit + cirq.measure(*qubits)\n",
        "\n",
        "\n",
        "def get_plaquettes(\n",
        "    n_moment_to_include: int, repetitions: int = 1000,\n",
        "    sampler: cirq.Sampler = qsimcirq.QSimSimulator()\n",
        ") -> tcp.ToricCodePlaquettes:\n",
        "    \"\"\"Simulates the results in both bases and determine plaquette values.\n",
        "\n",
        "    Args:\n",
        "            n_moments_to_include: number of moments to include\n",
        "            repetitions: number of repetitions (shots) to sample\n",
        "            sampler: Sampler (simulator) to execute circuits.  Defaults to qsim.\n",
        "    \"\"\"\n",
        "    x_data = sampler.run(\n",
        "        partial_circuit(n_moment_to_include, x_basis=True), repetitions=repetitions\n",
        "    )\n",
        "    z_data = sampler.run(\n",
        "        partial_circuit(n_moment_to_include, x_basis=False), repetitions=repetitions\n",
        "    )\n",
        "    return tcp.ToricCodePlaquettes.from_global_measurements(\n",
        "        short_rectangle, x_data.data, z_data.data\n",
        "    )"
      ],
      "metadata": {
        "id": "tbSc4l71StNx"
      },
      "execution_count": null,
      "outputs": []
    },
    {
      "cell_type": "markdown",
      "source": [
        "We can step through the circuit one moment at a time to see how the parities $A_s$ and $B_p$ evolve through the circuit. This is similar to Figure 1B in paper (but simulating instead of using experimental data). We begin with $|0\\rangle^{\\otimes 22}$, which corresponds to `n_moments_to_include=0`. There, all $\\langle A_s \\rangle = +1$ but $\\langle B_p \\rangle = 0$ (see colorbars below). The subsequent moments apply Hadamard and CNOT gates to stitch entanglement across the device and create $|G\\rangle$."
      ],
      "metadata": {
        "id": "EGhws62g9WUP"
      }
    },
    {
      "cell_type": "code",
      "source": [
        "for n in range(len(tcsp.toric_code_cnot_circuit(short_rectangle)) + 1):\n",
        "    p = get_plaquettes(n)\n",
        "    ax = plotter.plot_expectation_values(p)\n",
        "    ax.set_title(f'n_moments_to_include={n}')\n",
        "    plt.pause(0.001)"
      ],
      "metadata": {
        "id": "oFjW2wqKYp9f"
      },
      "execution_count": null,
      "outputs": []
    },
    {
      "cell_type": "markdown",
      "source": [
        "After the final step, all the parities are $+1$ (see colorbars below), indicating we have successfully created $|G\\rangle$."
      ],
      "metadata": {
        "id": "DPvfKmrU9b06"
      }
    },
    {
      "cell_type": "code",
      "source": [
        "ax_z = plotter.make_colorbar(x_basis=False, orientation='horizontal')\n",
        "ax_z.set_label(r'Z parity, $\\langle A\\rangle$')\n",
        "\n",
        "ax_x = plotter.make_colorbar(x_basis=True, orientation='horizontal')\n",
        "ax_x.set_label(r'X parity, $\\langle B\\rangle$')"
      ],
      "metadata": {
        "id": "lx-TdxI6jo8u"
      },
      "execution_count": null,
      "outputs": []
    }
  ]
}