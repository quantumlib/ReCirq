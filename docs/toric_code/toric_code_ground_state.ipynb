{
 "cells": [
  {
   "cell_type": "code",
   "execution_count": null,
   "metadata": {
    "id": "FPvos8yM9ENe"
   },
   "outputs": [],
   "source": [
    "##### Copyright 2021 The Cirq Developers"
   ]
  },
  {
   "cell_type": "code",
   "execution_count": null,
   "metadata": {
    "cellView": "form",
    "id": "-29KXr1e9Grj"
   },
   "outputs": [],
   "source": [
    "#@title Licensed under the Apache License, Version 2.0 (the \"License\");\n",
    "# you may not use this file except in compliance with the License.\n",
    "# You may obtain a copy of the License at\n",
    "#\n",
    "# https://www.apache.org/licenses/LICENSE-2.0\n",
    "#\n",
    "# Unless required by applicable law or agreed to in writing, software\n",
    "# distributed under the License is distributed on an \"AS IS\" BASIS,\n",
    "# WITHOUT WARRANTIES OR CONDITIONS OF ANY KIND, either express or implied.\n",
    "# See the License for the specific language governing permissions and\n",
    "# limitations under the License."
   ]
  },
  {
   "cell_type": "markdown",
   "metadata": {
    "id": "WTqcQFNA9O9O"
   },
   "source": [
    "# Toric Code Ground State"
   ]
  },
  {
   "cell_type": "markdown",
   "metadata": {
    "id": "wrl2bN039fYE"
   },
   "source": [
    "<table class=\"tfo-notebook-buttons\" align=\"left\">\n",
    "  <td>\n",
    "    <a target=\"_blank\" href=\"https://quantumai.google/cirq/experiments/toric_code/toric_code_ground_state\"><img src=\"https://quantumai.google/site-assets/images/buttons/quantumai_logo_1x.png\" />View on QuantumAI</a>\n",
    "  </td>\n",
    "  <td>\n",
    "    <a target=\"_blank\" href=\"https://colab.research.google.com/github/quantumlib/ReCirq/blob/master/docs/toric_code/toric_code_ground_state.ipynb\"><img src=\"https://quantumai.google/site-assets/images/buttons/colab_logo_1x.png\" />Run in Google Colab</a>\n",
    "  </td>\n",
    "  <td>\n",
    "    <a target=\"_blank\" href=\"https://github.com/quantumlib/ReCirq/blob/master/docs/toric_code/toric_code_ground_state.ipynb\"><img src=\"https://quantumai.google/site-assets/images/buttons/github_logo_1x.png\" />View source on GitHub</a>\n",
    "  </td>\n",
    "  <td>\n",
    "    <a href=\"https://storage.googleapis.com/tensorflow_docs/ReCirq/docs/toric_code/toric_code_ground_state.ipynb\"><img src=\"https://quantumai.google/site-assets/images/buttons/download_icon_1x.png\" />Download notebook</a>\n",
    "  </td>\n",
    "</table>"
   ]
  },
  {
   "cell_type": "markdown",
   "metadata": {
    "id": "OY-OulwIz5CC"
   },
   "source": [
    "Before beginning, we will import the necessary modules into the colab."
   ]
  },
  {
   "cell_type": "code",
   "execution_count": null,
   "metadata": {
    "id": "B-oBJq2iTGiR"
   },
   "outputs": [],
   "source": [
    "try:\n",
    "    import recirq\n",
    "except ImportError:\n",
    "    !pip install --quiet git+https://github.com/quantumlib/ReCirq\n",
    "    import recirq\n",
    "\n",
    "try:\n",
    "    import qsimcirq\n",
    "except ImportError:\n",
    "    !pip install qsimcirq --quiet\n",
    "    import qsimcirq\n",
    "\n",
    "import cirq\n",
    "import matplotlib.pyplot as plt\n",
    "\n",
    "import recirq.toric_code.toric_code_plaquettes as tcp\n",
    "import recirq.toric_code.toric_code_plotter as tcplot\n",
    "import recirq.toric_code.toric_code_rectangle as tcr\n",
    "import recirq.toric_code.toric_code_state_prep as tcsp\n",
    "\n",
    "plt.rcParams['figure.dpi'] = 144"
   ]
  },
  {
   "cell_type": "markdown",
   "metadata": {
    "id": "nr4YuiD7I2LT"
   },
   "source": [
    "### Toric code Hamiltonian\n",
    "\n",
    "The toric code Hamiltonian\n",
    "\n",
    "\\begin{equation}\n",
    "H = -\\sum_s A_s - \\sum_p B_p\n",
    "\\end{equation}\n",
    "\n",
    "involves local four-qubit parity operators, where each qubit lives on an edge in a square lattice. Here, the \"star\" operators $A_s$ are products of Pauli $Z$ operators around a vertex, while the \"plaquette\" operators $B_p$ are products of $X$ operators around a square, for example,\n",
    "\n",
    "\\begin{equation}\n",
    "A_s = Z_i \\otimes Z_j \\otimes Z_k \\otimes Z_l \n",
    "\\end{equation}\n",
    "\\begin{equation}\n",
    "B_p = X_a \\otimes X_b \\otimes X_c \\otimes X_d.\n",
    "\\end{equation}\n",
    "\n",
    "These local parity operators all commute with each other: all $A_s$ commute, all $B_p$ commute, and $A_s$ and $B_p$ commute with each other because they overlap on an even number of qubits. They can thus all be simultaneously diagonalized, and those shared eigenstates are also the eigenstates of $H$.\n",
    "\n",
    "\n",
    "<img src=\"../images/toric_code1.png\" alt=\"Toric Code Example\"/>\n"
   ]
  },
  {
   "cell_type": "markdown",
   "metadata": {
    "id": "V-TaA0D8k-wr"
   },
   "source": [
    "In our paper, we mostly work with the 31-qubit lattice above. With these boundary conditions, there is a _unique_ ground state that has a $+1$ eigenvalue for all $A_s$ and $B_p$. Note for different boundary conditions, we can have _degeneracies_ that are locally-indistinguishable (for example on a torus, or with the \"surface code\" logical qubits we explore in Figure 4 of our paper).\n",
    "\n",
    "In this module, we will primarily work with the smaller 22-qubit to avoid time and memory constraints associated with the larger rectangle."
   ]
  },
  {
   "cell_type": "markdown",
   "metadata": {
    "id": "qnAWL7baMDaO"
   },
   "source": [
    "### Understanding the ground state\n",
    "\n",
    "In this example, we focus on reproducing our first figure, where we create this unique ground state $|G\\rangle$ using a shallow unitary circuit. The general idea is to start out with $|0\\rangle^{\\otimes 22}$, so all $\\langle A_s \\rangle = +1$. We then apply projection operators $\\mathbb{I} + B_p$ which project the state into a $+1$ eigenstate of $B_p$, after which all the local parities are $+1$:\n",
    "\n",
    "\\begin{equation}\n",
    "|G\\rangle \\propto \\prod_p (\\mathbb{I} + B_p)|0\\rangle^{\\otimes 22}.\n",
    "\\end{equation}\n",
    "\n",
    "To create this state, we assign a \"team captain\" qubit to each plaquette $B_p$. Starting from $|0\\rangle^{\\otimes n}$, we perform a Hadamard on each team captain, and then each team captain is responsible for performing a CNOT to each of its team mates. We have to be careful with the ordering to keep things efficient and avoid the captains stepping on each other's toes. This is easier to visualize for a smaller system, for example the 12-qubit version in Figure S2, reproduced below. Note the superposition of $2^4$ states, as there are four plaquettes $B_p$.\n",
    "\n",
    "<img src=\"../images/toric_code2.png\" alt=\"12 qubit toric code example\"/>"
   ]
  },
  {
   "cell_type": "markdown",
   "metadata": {
    "id": "H8z1XEUbQqVU"
   },
   "source": [
    "### Creating $|G\\rangle$ with ReCirq"
   ]
  },
  {
   "cell_type": "markdown",
   "metadata": {
    "id": "QWmHwFPhR3pv"
   },
   "source": [
    "#### Basics: 22-qubit circuit"
   ]
  },
  {
   "cell_type": "markdown",
   "metadata": {
    "id": "5d-TUyF7_3PV"
   },
   "source": [
    "First, we can create a example 22-qubit grid by instantiate it using a `ToricCodeRectangle` object and then plot a visualization using a `ToricCodePlotter` object, both found in the ReCirq repository."
   ]
  },
  {
   "cell_type": "code",
   "execution_count": null,
   "metadata": {
    "id": "41TBdoGPW2G-"
   },
   "outputs": [],
   "source": [
    "short_rectangle = tcr.ToricCodeRectangle(\n",
    "    origin_qubit=cirq.GridQubit(3, 0), row_vector=(1, 1), rows=2, cols=4\n",
    ")\n",
    "plotter = tcplot.ToricCodePlotter()\n",
    "plotter.plot_code(short_rectangle)"
   ]
  },
  {
   "cell_type": "markdown",
   "metadata": {
    "id": "SNMcQQa-zWkl"
   },
   "source": [
    "We can also see the full circuit of how to create this code (using CNOT gates) using these objects as well.  By printing out the circuit moment by moment, we can see the gates lined up in a visual manner."
   ]
  },
  {
   "cell_type": "code",
   "execution_count": null,
   "metadata": {
    "id": "hQ628tW9W3a4"
   },
   "outputs": [],
   "source": [
    "full_circuit = tcsp.toric_code_cnot_circuit(short_rectangle)\n",
    "for idx, moment in enumerate(full_circuit):\n",
    "    print(f'moment {idx}\\n{moment}\\n')"
   ]
  },
  {
   "cell_type": "markdown",
   "metadata": {
    "id": "tt6g6kn3R8HW"
   },
   "source": [
    "#### Simulating the parities\n",
    "\n",
    "For a given circuit, we can determine all the parity expectation values $\\langle A_s\\rangle$ by sampling 22-qubit bitstrings and then computing each expectation value. We do the same thing with for $\\langle B_p \\rangle$, but we include a layer of Hadamards before measurement to effectively \"measure in $X$ basis.\""
   ]
  },
  {
   "cell_type": "code",
   "execution_count": null,
   "metadata": {
    "id": "tbSc4l71StNx"
   },
   "outputs": [],
   "source": [
    "def partial_circuit(\n",
    "    n_moments_to_include: int, *, x_basis: bool\n",
    ") -> cirq.Circuit:\n",
    "    \"\"\"Create the first N moments of a toric in Z or X basis.\n",
    " \n",
    "    Args:\n",
    "        n_moments_to_include: number of moments to include\n",
    "        x_basis: If True, add Hadamards to effectively measure in the X basis.\n",
    "            If False, measure in the computational (Z) basis.\n",
    "\n",
    "    Returns: First N moments of a toric code circuit plus an optional\n",
    "        layer of Hadamard gates to effectively measure in the X basis.\n",
    "        This circuit also includes measurement gates.\n",
    "    \"\"\"\n",
    "    sliced_circuit = full_circuit[:n_moments_to_include]\n",
    "    qubits = sorted(short_rectangle.qubits)\n",
    "    if x_basis:\n",
    "        sliced_circuit += cirq.Moment(cirq.H.on_each(*qubits))\n",
    "    return sliced_circuit + cirq.measure(*qubits)\n",
    "\n",
    "\n",
    "def get_plaquettes(\n",
    "    n_moment_to_include: int, repetitions: int = 1000,\n",
    "    sampler: cirq.Sampler = qsimcirq.QSimSimulator()\n",
    ") -> tcp.ToricCodePlaquettes:\n",
    "    \"\"\"Simulates the results in both bases and determine plaquette values.\n",
    "\n",
    "    Args:\n",
    "            n_moments_to_include: number of moments to include\n",
    "            repetitions: number of repetitions (shots) to sample\n",
    "            sampler: Sampler (simulator) to execute circuits.  Defaults to qsim.\n",
    "    \"\"\"\n",
    "    x_data = sampler.run(\n",
    "        partial_circuit(n_moment_to_include, x_basis=True), repetitions=repetitions\n",
    "    )\n",
    "    z_data = sampler.run(\n",
    "        partial_circuit(n_moment_to_include, x_basis=False), repetitions=repetitions\n",
    "    )\n",
    "    return tcp.ToricCodePlaquettes.from_global_measurements(\n",
    "        short_rectangle, x_data.data, z_data.data\n",
    "    )"
   ]
  },
  {
   "cell_type": "markdown",
   "metadata": {
    "id": "EGhws62g9WUP"
   },
   "source": [
    "We can step through the circuit one moment at a time to see how the parities $A_s$ and $B_p$ evolve through the circuit. This is similar to Figure 1B in paper (but simulating instead of using experimental data). We begin with $|0\\rangle^{\\otimes 22}$, which corresponds to `n_moments_to_include=0`. There, all $\\langle A_s \\rangle = +1$ but $\\langle B_p \\rangle = 0$ (see colorbars below). The subsequent moments apply Hadamard and CNOT gates to stitch entanglement across the device and create $|G\\rangle$."
   ]
  },
  {
   "cell_type": "code",
   "execution_count": null,
   "metadata": {
    "id": "oFjW2wqKYp9f"
   },
   "outputs": [],
   "source": [
    "for n in range(len(tcsp.toric_code_cnot_circuit(short_rectangle)) + 1):\n",
    "    p = get_plaquettes(n)\n",
    "    ax = plotter.plot_expectation_values(p)\n",
    "    ax.set_title(f'n_moments_to_include={n}')\n",
    "    plt.pause(0.001)"
   ]
  },
  {
   "cell_type": "markdown",
   "metadata": {
    "id": "DPvfKmrU9b06"
   },
   "source": [
    "After the final step, all the parities are $+1$ (see colorbars below), indicating we have successfully created $|G\\rangle$."
   ]
  },
  {
   "cell_type": "code",
   "execution_count": null,
   "metadata": {
    "id": "lx-TdxI6jo8u"
   },
   "outputs": [],
   "source": [
    "ax_z = plotter.make_colorbar(x_basis=False, orientation='horizontal')\n",
    "ax_z.set_label(r'Z parity, $\\langle A\\rangle$')\n",
    "\n",
    "ax_x = plotter.make_colorbar(x_basis=True, orientation='horizontal')\n",
    "ax_x.set_label(r'X parity, $\\langle B\\rangle$')"
   ]
  }
 ],
 "metadata": {
  "colab": {
   "collapsed_sections": [],
   "name": "toric_code_ground_state.ipynb",
   "toc_visible": true
  },
  "kernelspec": {
   "display_name": "Python 3",
   "name": "python3"
  }
 },
 "nbformat": 4,
 "nbformat_minor": 0
}
