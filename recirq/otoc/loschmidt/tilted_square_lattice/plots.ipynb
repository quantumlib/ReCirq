{
 "cells": [
  {
   "cell_type": "markdown",
   "metadata": {},
   "source": [
    "# Loschmidt Plots\n",
    "\n",
    "Plots for the `recirq.otoc.loschmidt.tilted_sqare_lattice` algorithmic benchmark. See the `analysis-walkthrough.ipynb` notebook for more detail into the functions used to create these plots."
   ]
  },
  {
   "cell_type": "code",
   "execution_count": null,
   "metadata": {},
   "outputs": [],
   "source": [
    "%matplotlib inline\n",
    "from matplotlib import pyplot as plt\n",
    "\n",
    "# Set up reasonable defaults for figure fonts\n",
    "import matplotlib\n",
    "matplotlib.rcParams.update(**{\n",
    "    'axes.titlesize': 14,\n",
    "    'axes.labelsize': 14,\n",
    "    'xtick.labelsize': 12,\n",
    "    'ytick.labelsize': 12,\n",
    "    'legend.fontsize': 12,\n",
    "    'legend.title_fontsize': 12,\n",
    "    'figure.figsize': (7, 5),\n",
    "})"
   ]
  },
  {
   "cell_type": "markdown",
   "metadata": {},
   "source": [
    "## Load Results\n",
    "\n",
    "Modify the list of `run_id`s passed to `iterload_dataframes` to load datasets."
   ]
  },
  {
   "cell_type": "code",
   "execution_count": null,
   "metadata": {},
   "outputs": [],
   "source": [
    "import pandas as pd\n",
    "import numpy as np\n",
    "\n",
    "import cirq_google as cg\n",
    "\n",
    "import recirq.otoc.loschmidt.tilted_square_lattice.analysis as analysis\n",
    "\n",
    "def iterload_dataframes(run_ids):\n",
    "    for run_id in run_ids:\n",
    "        raw_results = cg.ExecutableGroupResultFilesystemRecord.from_json(run_id=run_id).load()\n",
    "        yield analysis.loschmidt_results_to_dataframe(raw_results)"
   ]
  },
  {
   "cell_type": "code",
   "execution_count": null,
   "metadata": {},
   "outputs": [],
   "source": [
    "df = pd.concat(list(iterload_dataframes([\n",
    "    'simulated-1',\n",
    "    # ...\n",
    "])))\n",
    "print(len(df), 'rows')\n",
    "df.head()"
   ]
  },
  {
   "cell_type": "markdown",
   "metadata": {},
   "source": [
    "## Fit vs. Macrocycle Depth\n",
    "\n",
    "For each topology, the success probability decays exponentially with respect to random circuit macrocycle depth. The fit parameter `f` is the layer fidelity corresponding to a random single qubit gates and entangling gates between all qubits."
   ]
  },
  {
   "cell_type": "code",
   "execution_count": null,
   "metadata": {},
   "outputs": [],
   "source": [
    "vs_depth_df, vs_depth_gb_cols = analysis.agg_vs_macrocycle_depth(df)\n",
    "fit_df, exp_ansatz = analysis.fit_vs_macrocycle_depth(df)\n",
    "total_df = pd.merge(vs_depth_df, fit_df, on=vs_depth_gb_cols)"
   ]
  },
  {
   "cell_type": "code",
   "execution_count": null,
   "metadata": {},
   "outputs": [],
   "source": [
    "colors = plt.get_cmap('tab10')\n",
    "\n",
    "for i, row in total_df.iterrows():\n",
    "    plt.errorbar(\n",
    "        x=row['macrocycle_depth'],\n",
    "        y=row['success_probability_mean'],\n",
    "        yerr=row['success_probability_std'],\n",
    "        marker='o', capsize=5, ls='',\n",
    "        color=colors(i),\n",
    "        label=f'{row[\"width\"]}x{row[\"height\"]} ({row[\"n_qubits\"]}q) {row[\"processor_str\"]}; f={row[\"f\"]:.3f}'\n",
    "    )\n",
    "    \n",
    "    xx = np.linspace(np.min(row['macrocycle_depth']), np.max(row['macrocycle_depth']))\n",
    "    yy = exp_ansatz(xx, a=row['a'], f=row['f'])\n",
    "    plt.plot(xx, yy, ls='--', color=colors(i))\n",
    "    \n",
    "plt.legend(loc='best')\n",
    "plt.yscale('log')\n",
    "plt.xlabel('Macrocycle Depth')\n",
    "plt.ylabel('Success Probability')\n",
    "plt.tight_layout()"
   ]
  },
  {
   "cell_type": "markdown",
   "metadata": {},
   "source": [
    "## Fit vs. Quantum Area\n",
    "\n",
    "We define a quantity called quantum area (`q_area`) which is the circuit width (i.e. number of qubits) multiplied by its depth. This is the number of operations in the circuit (also including any idle operations). The fit parameter `f` is the per-operation, per-qubit fidelity."
   ]
  },
  {
   "cell_type": "code",
   "execution_count": null,
   "metadata": {},
   "outputs": [],
   "source": [
    "vs_q_area_df, vs_q_area_gb_cols = analysis.agg_vs_q_area(df)\n",
    "fit_df2, exp_ansatz_vs_q_area = analysis.fit_vs_q_area(df)\n",
    "total_df2 = pd.merge(vs_q_area_df, fit_df2, on=vs_q_area_gb_cols)"
   ]
  },
  {
   "cell_type": "code",
   "execution_count": null,
   "metadata": {},
   "outputs": [],
   "source": [
    "colors = plt.get_cmap('tab10')\n",
    "\n",
    "for i, row in total_df2.iterrows():\n",
    "    plt.errorbar(x=row['q_area'], \n",
    "                 y=row['success_probability_mean'], \n",
    "                 yerr=row['success_probability_std'],\n",
    "                 color=colors(i), capsize=5, marker='o', ls='')\n",
    "    \n",
    "    xx = np.linspace(np.min(row['q_area']), np.max(row['q_area']))\n",
    "    yy = exp_ansatz_vs_q_area(xx, a=row['a'], f=row['f'])\n",
    "    plt.plot(xx, yy, ls='--', color=colors(i),\n",
    "             label=f'{row[\"run_id\"]}; f={row[\"f\"]:.3f}'\n",
    "            )\n",
    "\n",
    "\n",
    "plt.legend(loc='best')\n",
    "plt.xlabel('Quantum Area')\n",
    "plt.ylabel('Macrocycle Fidelity')\n",
    "plt.yscale('log')\n",
    "plt.tight_layout()"
   ]
  }
 ],
 "metadata": {
  "kernelspec": {
   "display_name": "Python 3",
   "language": "python",
   "name": "python3"
  },
  "language_info": {
   "codemirror_mode": {
    "name": "ipython",
    "version": 3
   },
   "file_extension": ".py",
   "mimetype": "text/x-python",
   "name": "python",
   "nbconvert_exporter": "python",
   "pygments_lexer": "ipython3",
   "version": "3.9.9"
  }
 },
 "nbformat": 4,
 "nbformat_minor": 4
}
