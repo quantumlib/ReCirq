{
 "cells": [
  {
   "cell_type": "code",
   "execution_count": null,
   "id": "structural-cycle",
   "metadata": {},
   "outputs": [],
   "source": [
    "from matplotlib import pyplot as plt\n",
    "import numpy as np\n",
    "import networkx as nx\n",
    "\n",
    "import cirq\n",
    "from cirq.contrib.svg import SVGCircuit"
   ]
  },
  {
   "cell_type": "code",
   "execution_count": null,
   "id": "precious-recommendation",
   "metadata": {},
   "outputs": [],
   "source": [
    "import networkx as nx\n",
    "SYC23_GRAPH = nx.from_edgelist([\n",
    "    ((3, 2), (4, 2)), ((4, 1), (5, 1)), ((4, 2), (4, 1)), \n",
    "    ((4, 2), (4, 3)), ((4, 2), (5, 2)), ((4, 3), (5, 3)), \n",
    "    ((5, 1), (5, 0)), ((5, 1), (5, 2)), ((5, 1), (6, 1)), \n",
    "    ((5, 2), (5, 3)), ((5, 2), (6, 2)), ((5, 3), (5, 4)), \n",
    "    ((5, 3), (6, 3)), ((5, 4), (6, 4)), ((6, 1), (6, 2)), \n",
    "    ((6, 2), (6, 3)), ((6, 2), (7, 2)), ((6, 3), (6, 4)), \n",
    "    ((6, 3), (7, 3)), ((6, 4), (6, 5)), ((6, 4), (7, 4)), \n",
    "    ((6, 5), (7, 5)), ((7, 2), (7, 3)), ((7, 3), (7, 4)), \n",
    "    ((7, 3), (8, 3)), ((7, 4), (7, 5)), ((7, 4), (8, 4)), \n",
    "    ((7, 5), (7, 6)), ((7, 5), (8, 5)), ((8, 3), (8, 4)), \n",
    "    ((8, 4), (8, 5)), ((8, 4), (9, 4)), \n",
    "])"
   ]
  },
  {
   "cell_type": "code",
   "execution_count": null,
   "id": "laughing-throw",
   "metadata": {},
   "outputs": [],
   "source": [
    "from recirq.otoc.loschmidt import *\n",
    "from recirq.quantum_executable import *\n",
    "from recirq.executable_result import *\n",
    "from recirq.executable_result import _execute_flattened"
   ]
  },
  {
   "cell_type": "code",
   "execution_count": null,
   "id": "boolean-failing",
   "metadata": {},
   "outputs": [],
   "source": [
    "for topo in get_all_diagonal_rect_topologies():\n",
    "    print(topo, topo.n_qubits)"
   ]
  },
  {
   "cell_type": "code",
   "execution_count": null,
   "id": "thorough-venice",
   "metadata": {},
   "outputs": [],
   "source": [
    "np.arange(1, 10, 2)"
   ]
  },
  {
   "cell_type": "code",
   "execution_count": null,
   "metadata": {},
   "outputs": [],
   "source": [
    "%load_ext snakeviz"
   ]
  },
  {
   "cell_type": "code",
   "execution_count": null,
   "id": "major-portfolio",
   "metadata": {},
   "outputs": [],
   "source": [
    "#%%snakeviz\n",
    "exegroup = get_all_diagonal_rect_executables(min_side_length=1, max_side_length=3)\n",
    "exegroup"
   ]
  },
  {
   "cell_type": "code",
   "execution_count": null,
   "metadata": {},
   "outputs": [],
   "source": [
    "print(exegroup._repr_html_())"
   ]
  },
  {
   "cell_type": "markdown",
   "id": "italian-couple",
   "metadata": {
    "scrolled": true
   },
   "source": [
    "```python\n",
    "def recurse_pg_flatten(pg:Union[Program, ProgramGroup], flat_list, info, parents):\n",
    "    new_info = dict(info)\n",
    "    pg_info = dict(pg.info)\n",
    "    for k in pg_info:\n",
    "        if k in new_info:\n",
    "            raise ValueError(\"Key already exists\")\n",
    "        new_info[k] = pg_info[k]\n",
    "    new_info=tuple(new_info.items())\n",
    "    \n",
    "    if isinstance(pg, ProgramGroup):\n",
    "        for child in pg.programs:\n",
    "            recurse_pg_flatten(child, flat_list=flat_list, info=new_info, parents=(pg,) + parents)\n",
    "    else:\n",
    "        flat_list.append((pg, new_info, parents))\n",
    "        \n",
    "flat_list = []\n",
    "recurse_pg_flatten(pg, flat_list, {}, ())\n",
    "for program, info, parents in flat_list:\n",
    "    print(program, parents)\n",
    "    \n",
    "    \n",
    "import pandas as pd\n",
    "pd.DataFrame([info for program, info, parents in flat_list])\n",
    "```"
   ]
  },
  {
   "cell_type": "code",
   "execution_count": null,
   "id": "supposed-reception",
   "metadata": {},
   "outputs": [],
   "source": [
    "flat_list = flatten_executable_group(exegroup)\n",
    "flat_list"
   ]
  },
  {
   "cell_type": "code",
   "execution_count": null,
   "id": "western-applicant",
   "metadata": {
    "scrolled": true
   },
   "outputs": [],
   "source": [
    "children = _execute_flattened(flat_list)\n",
    "retree_results(pg, children)"
   ]
  },
  {
   "cell_type": "code",
   "execution_count": null,
   "id": "acute-aurora",
   "metadata": {},
   "outputs": [],
   "source": [
    "children[pg]"
   ]
  },
  {
   "cell_type": "code",
   "execution_count": null,
   "id": "fuzzy-auction",
   "metadata": {},
   "outputs": [],
   "source": [
    "assert False"
   ]
  },
  {
   "cell_type": "code",
   "execution_count": null,
   "id": "modular-legislation",
   "metadata": {},
   "outputs": [],
   "source": [
    "from recirq.named_topologies import DiagonalRectangleTopology, get_placements\n",
    "rr = DiagonalRectangleTopology(1, 1).graph\n",
    "subgs = get_placements(SYC23_GRAPH, rr, plt=plt)"
   ]
  },
  {
   "cell_type": "code",
   "execution_count": null,
   "id": "expressed-guess",
   "metadata": {},
   "outputs": [],
   "source": [
    "subg = subgs[0]\n",
    "sorted(subg.nodes)"
   ]
  },
  {
   "cell_type": "code",
   "execution_count": null,
   "id": "conscious-battle",
   "metadata": {},
   "outputs": [],
   "source": [
    "from recirq.otoc.loschmidt import create_diagonal_rectangle_loschmidt_echo_circuit\n",
    "\n",
    "circuit = create_diagonal_rectangle_loschmidt_echo_circuit(\n",
    "    qubits = [cirq.GridQubit(r, c) for r, c in sorted(subg.nodes)],\n",
    "    cycles=4,\n",
    "    seed=52,\n",
    ")\n",
    "SVGCircuit(circuit)"
   ]
  },
  {
   "cell_type": "code",
   "execution_count": null,
   "id": "characteristic-radical",
   "metadata": {},
   "outputs": [],
   "source": [
    "cirq.final_state_vector(circuit).round(5)"
   ]
  },
  {
   "cell_type": "code",
   "execution_count": null,
   "id": "round-truth",
   "metadata": {},
   "outputs": [],
   "source": [
    "len(circuit)"
   ]
  },
  {
   "cell_type": "code",
   "execution_count": null,
   "id": "satisfactory-rapid",
   "metadata": {},
   "outputs": [],
   "source": [
    "c2 = cirq.Circuit(circuit.all_operations())\n",
    "print(len(circuit), len(c2))\n",
    "SVGCircuit(c2)"
   ]
  },
  {
   "cell_type": "code",
   "execution_count": null,
   "id": "seeing-modem",
   "metadata": {},
   "outputs": [],
   "source": [
    "import cirq_google as cg\n",
    "sampler = cg.get_engine_sampler('weber', 'sqrt_iswap')\n",
    "sampler = cirq.Simulator()"
   ]
  },
  {
   "cell_type": "code",
   "execution_count": null,
   "id": "artistic-daily",
   "metadata": {},
   "outputs": [],
   "source": [
    "sorted(circuit.all_qubits())"
   ]
  },
  {
   "cell_type": "code",
   "execution_count": null,
   "id": "tested-strip",
   "metadata": {},
   "outputs": [],
   "source": [
    "def get_success(r):\n",
    "    return np.all(r.measurements['z'] == np.array([0] * len(circuit.all_qubits())), axis=1).astype(int)"
   ]
  },
  {
   "cell_type": "code",
   "execution_count": null,
   "id": "material-windows",
   "metadata": {},
   "outputs": [],
   "source": [
    "r1 = sampler.run(circuit + cirq.measure(*sorted(circuit.all_qubits()), key='z'), repetitions=50_000)\n",
    "get_success(r1)"
   ]
  },
  {
   "cell_type": "code",
   "execution_count": null,
   "id": "wireless-midwest",
   "metadata": {},
   "outputs": [],
   "source": [
    "r2 = sampler.run(c2      + cirq.measure(*sorted(circuit.all_qubits()), key='z'), repetitions=50_000)\n",
    "get_success(r2)"
   ]
  },
  {
   "cell_type": "code",
   "execution_count": null,
   "id": "synthetic-argument",
   "metadata": {},
   "outputs": [],
   "source": [
    "np.mean(get_success(r1))"
   ]
  },
  {
   "cell_type": "code",
   "execution_count": null,
   "id": "veterinary-sapphire",
   "metadata": {},
   "outputs": [],
   "source": [
    "np.mean(get_success(r2))"
   ]
  }
 ],
 "metadata": {
  "kernelspec": {
   "display_name": "Python 3",
   "language": "python",
   "name": "python3"
  },
  "language_info": {
   "codemirror_mode": {
    "name": "ipython",
    "version": 3
   },
   "file_extension": ".py",
   "mimetype": "text/x-python",
   "name": "python",
   "nbconvert_exporter": "python",
   "pygments_lexer": "ipython3",
   "version": "3.8.5"
  }
 },
 "nbformat": 4,
 "nbformat_minor": 5
}
