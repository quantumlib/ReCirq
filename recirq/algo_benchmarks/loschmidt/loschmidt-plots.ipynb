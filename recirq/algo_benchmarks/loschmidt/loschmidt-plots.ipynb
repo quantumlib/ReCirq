{
 "cells": [
  {
   "cell_type": "code",
   "execution_count": null,
   "metadata": {},
   "outputs": [],
   "source": [
    "%matplotlib inline\n",
    "from matplotlib import pyplot as plt"
   ]
  },
  {
   "cell_type": "code",
   "execution_count": null,
   "metadata": {},
   "outputs": [],
   "source": [
    "from recirq.otoc.loschmidt import TiltedSquareLatticeLoschmidtSpec, TiltedSquareLatticeLoschmidtData\n",
    "assert TiltedSquareLatticeLoschmidtData, 'register deserializer'\n",
    "assert TiltedSquareLatticeLoschmidtSpec, 'register deserializer'\n",
    "\n",
    "\n",
    "from recirq.quantum_runtime import load_raw_results\n",
    "run_id = 'testrun-4'\n",
    "raw_results = load_raw_results(run_id)"
   ]
  },
  {
   "cell_type": "code",
   "execution_count": null,
   "metadata": {},
   "outputs": [],
   "source": [
    "raw_results.executable_results[0].runtime_info"
   ]
  },
  {
   "cell_type": "code",
   "execution_count": null,
   "metadata": {},
   "outputs": [],
   "source": [
    "from recirq.otoc.loschmidt import process_results, flat_results_to_dataframe\n",
    "results = process_results(raw_results)\n",
    "df = flat_results_to_dataframe(results)"
   ]
  },
  {
   "cell_type": "code",
   "execution_count": null,
   "metadata": {
    "scrolled": true
   },
   "outputs": [],
   "source": [
    "df"
   ]
  },
  {
   "cell_type": "code",
   "execution_count": null,
   "metadata": {},
   "outputs": [],
   "source": [
    "df.set_index(['run_id', 'width', 'height', 'macrocycle_depth', 'instance_i'])"
   ]
  },
  {
   "cell_type": "code",
   "execution_count": null,
   "metadata": {},
   "outputs": [],
   "source": [
    "import inspect\n",
    "def group_and_call(func, df):\n",
    "    func_argnames = list(inspect.signature(func).parameters.keys())\n",
    "    if 'df' not in func_argnames:\n",
    "        raise ValueError(\"group_and_call requires the function `func` to accept a DataFrame argument named `df`\")\n",
    "    func_argnames.remove('df')\n",
    "    \n",
    "    def func_wrap(df):\n",
    "        # the groupby values are in df.name\n",
    "        kwargs = {argname: df.name[i] for i, argname in enumerate(func_argnames)}\n",
    "        return func(df=df, **kwargs)\n",
    "    \n",
    "    return df.groupby(func_argnames).apply(func_wrap)"
   ]
  },
  {
   "cell_type": "code",
   "execution_count": null,
   "metadata": {
    "scrolled": true
   },
   "outputs": [],
   "source": [
    "def _plot2(df, width, height, n_qubits):\n",
    "    gb = df.groupby(['macrocycle_depth']).agg(['mean', 'std']).reset_index()\n",
    "    plt.errorbar(\n",
    "        x = gb['macrocycle_depth'],\n",
    "        y = gb['success_probability', 'mean'],\n",
    "        yerr = gb['success_probability', 'std'],\n",
    "        capsize=7,\n",
    "        marker='o',\n",
    "        label=f'{n_qubits}q ({width}x{height})'\n",
    "    )\n",
    "\n",
    "def _plot1(df, run_id, n_repetitions):\n",
    "    group_and_call(_plot2, df)\n",
    "    plt.legend(loc='best', title='width, height')\n",
    "    plt.yscale('log')\n",
    "    plt.xlabel('# Cycles per Phi')\n",
    "    plt.ylabel('Success Probability')\n",
    "    plt.tight_layout()\n",
    "    plt.show()\n",
    "    \n",
    "    \n",
    "_ = group_and_call(_plot1, df)"
   ]
  }
 ],
 "metadata": {
  "kernelspec": {
   "display_name": "Python 3",
   "language": "python",
   "name": "python3"
  },
  "language_info": {
   "codemirror_mode": {
    "name": "ipython",
    "version": 3
   },
   "file_extension": ".py",
   "mimetype": "text/x-python",
   "name": "python",
   "nbconvert_exporter": "python",
   "pygments_lexer": "ipython3",
   "version": "3.9.7"
  }
 },
 "nbformat": 4,
 "nbformat_minor": 4
}
