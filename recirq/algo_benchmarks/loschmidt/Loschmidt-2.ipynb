{
 "cells": [
  {
   "cell_type": "code",
   "execution_count": null,
   "id": "structural-cycle",
   "metadata": {},
   "outputs": [],
   "source": [
    "from matplotlib import pyplot as plt\n",
    "import numpy as np\n",
    "import networkx as nx\n",
    "\n",
    "import cirq\n",
    "from cirq.contrib.svg import SVGCircuit"
   ]
  },
  {
   "cell_type": "code",
   "execution_count": null,
   "id": "laughing-throw",
   "metadata": {},
   "outputs": [],
   "source": [
    "from recirq.quantum_executable import *\n",
    "from recirq.quantum_runtime import * \n",
    "from recirq.executable_result import *\n",
    "from recirq.executable_result import _execute_flattened\n",
    "\n",
    "from recirq.otoc.loschmidt import *"
   ]
  },
  {
   "cell_type": "code",
   "execution_count": null,
   "id": "12e03269",
   "metadata": {},
   "outputs": [],
   "source": [
    "%load_ext snakeviz"
   ]
  },
  {
   "cell_type": "code",
   "execution_count": null,
   "id": "b197b660",
   "metadata": {},
   "outputs": [],
   "source": [
    "exegroup = get_all_diagonal_rect_executables_flat(max_side_length=2, n_instances=2)\n",
    "exegroup = [exe for exe in exegroup if exe.problem_topology.n_qubits <10]\n",
    "exegroup = QuantumExecutableGroup(executables=exegroup[:])"
   ]
  },
  {
   "cell_type": "markdown",
   "id": "f8fe71fa",
   "metadata": {},
   "source": [
    "```python\n",
    "zsamp = cirq.ZerosSampler()\n",
    "def execute1(exe):\n",
    "    if not isinstance(exe.measurement, Bitstrings):\n",
    "        raise NotImplementedError()\n",
    "        \n",
    "    if exe.params != tuple():\n",
    "        raise NotImplementedError()\n",
    "        \n",
    "    # something about placing\n",
    "    \n",
    "    result = zsamp.run(exe.circuit, repetitions=exe.measurement.n_repetitions)\n",
    "    return result\n",
    "\n",
    "class Z2:\n",
    "    def execute(self, exes):\n",
    "        for exe in exes:\n",
    "            execute1(exe)\n",
    "```"
   ]
  },
  {
   "cell_type": "code",
   "execution_count": null,
   "id": "a48a9f02",
   "metadata": {},
   "outputs": [],
   "source": [
    "len(exegroup.executables)"
   ]
  },
  {
   "cell_type": "code",
   "execution_count": null,
   "id": "5375f68d",
   "metadata": {},
   "outputs": [],
   "source": [
    "QCSBackend('rainbow-23').get_sampler_and_device()\n",
    "QCSBackend('rainbow-23').get_sampler_and_device()"
   ]
  },
  {
   "cell_type": "code",
   "execution_count": null,
   "id": "d5f160c2",
   "metadata": {},
   "outputs": [],
   "source": [
    "QCSBackend('rainbow-23').desc"
   ]
  },
  {
   "cell_type": "code",
   "execution_count": null,
   "id": "2410c26e",
   "metadata": {},
   "outputs": [],
   "source": [
    "SimulatorBackend('rainbow-23', noise_strength=1e-3).desc"
   ]
  },
  {
   "cell_type": "code",
   "execution_count": null,
   "id": "698a146c",
   "metadata": {},
   "outputs": [],
   "source": [
    "#runtime = ZerosSamplerRuntime.from_device_name('syc23')\n",
    "#runtime = QuantumRuntime(sampler=cirq.DensityMatrixSimulator(noise=cirq.depolarize(1e-3)), device=None)\n",
    "#runtime = Z2()\n",
    "runtime = QuantumRuntime(backend=SimulatorBackend('rainbow-23', noise_strength=1e-3))\n",
    "runtime"
   ]
  },
  {
   "cell_type": "code",
   "execution_count": null,
   "id": "2bb295ca",
   "metadata": {},
   "outputs": [],
   "source": [
    "raw_results = runtime.execute(exegroup)\n",
    "#raw_results"
   ]
  },
  {
   "cell_type": "code",
   "execution_count": null,
   "id": "d8493cdd",
   "metadata": {
    "scrolled": true
   },
   "outputs": [],
   "source": [
    "results = process_results(raw_results)\n",
    "results"
   ]
  },
  {
   "cell_type": "code",
   "execution_count": null,
   "id": "7041bc48",
   "metadata": {},
   "outputs": [],
   "source": [
    "import pandas as pd"
   ]
  },
  {
   "cell_type": "code",
   "execution_count": null,
   "id": "9f625710",
   "metadata": {},
   "outputs": [],
   "source": [
    "r = results[0]"
   ]
  },
  {
   "cell_type": "code",
   "execution_count": null,
   "id": "40bf891c",
   "metadata": {},
   "outputs": [],
   "source": [
    "import dataclasses"
   ]
  },
  {
   "cell_type": "code",
   "execution_count": null,
   "id": "9a0d7276",
   "metadata": {},
   "outputs": [],
   "source": [
    "dataclasses.fields(r)"
   ]
  },
  {
   "cell_type": "code",
   "execution_count": null,
   "id": "408713f0",
   "metadata": {},
   "outputs": [],
   "source": [
    "dd = dataclasses.asdict(r)\n",
    "dd"
   ]
  },
  {
   "cell_type": "code",
   "execution_count": null,
   "id": "af8f9ed0",
   "metadata": {},
   "outputs": [],
   "source": [
    "# speed improvement: transpose data; only abbrev once\n",
    "df = pd.DataFrame([dataclasses.asdict(res) for res in results])\n",
    "\n",
    "# TODO: dataclasses can say how they prefer to be dictified\n",
    "#df['area'] = df['width'] * df['height']\n",
    "\n",
    "df"
   ]
  },
  {
   "cell_type": "code",
   "execution_count": null,
   "id": "f9f1ece1",
   "metadata": {},
   "outputs": [],
   "source": [
    "%matplotlib inline\n",
    "from matplotlib import pyplot as plt"
   ]
  },
  {
   "cell_type": "code",
   "execution_count": null,
   "id": "554e961a",
   "metadata": {
    "scrolled": false
   },
   "outputs": [],
   "source": [
    "def _p2(df):\n",
    "    gb = df.groupby(['macrocycle_depth']).agg(['mean', 'std']).reset_index()\n",
    "    plt.errorbar(\n",
    "        x = gb['macrocycle_depth'],\n",
    "        y = gb['success_probability', 'mean'],\n",
    "        yerr = gb['success_probability', 'std'],\n",
    "        capsize=7,\n",
    "        label=df.name\n",
    "    )\n",
    "\n",
    "def _p(df):\n",
    "    plt.title(df.name)\n",
    "    df.groupby(['width', 'height']).apply(_p2)    \n",
    "    plt.legend(loc='best')\n",
    "    plt.yscale('log')\n",
    "    plt.show()\n",
    "\n",
    "df.groupby(['run_id', 'n_repetitions']).apply(_p)"
   ]
  }
 ],
 "metadata": {
  "kernelspec": {
   "display_name": "Python 3",
   "language": "python",
   "name": "python3"
  },
  "language_info": {
   "codemirror_mode": {
    "name": "ipython",
    "version": 3
   },
   "file_extension": ".py",
   "mimetype": "text/x-python",
   "name": "python",
   "nbconvert_exporter": "python",
   "pygments_lexer": "ipython3",
   "version": "3.9.7"
  }
 },
 "nbformat": 4,
 "nbformat_minor": 5
}
