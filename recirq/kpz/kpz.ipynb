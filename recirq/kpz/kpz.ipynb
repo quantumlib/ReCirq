{
 "cells": [
  {
   "cell_type": "code",
   "execution_count": null,
   "id": "bfbe98f2",
   "metadata": {},
   "outputs": [],
   "source": [
    "##### Copyright 2023 The Cirq Developers"
   ]
  },
  {
   "cell_type": "code",
   "execution_count": null,
   "id": "161a0876",
   "metadata": {},
   "outputs": [],
   "source": [
    "#@title Licensed under the Apache License, Version 2.0 (the \"License\");\n",
    "# you may not use this file except in compliance with the License.\n",
    "# You may obtain a copy of the License at\n",
    "#\n",
    "# https://www.apache.org/licenses/LICENSE-2.0\n",
    "#\n",
    "# Unless required by applicable law or agreed to in writing, software\n",
    "# distributed under the License is distributed on an \"AS IS\" BASIS,\n",
    "# WITHOUT WARRANTIES OR CONDITIONS OF ANY KIND, either express or implied.\n",
    "# See the License for the specific language governing permissions and\n",
    "# limitations under the License."
   ]
  },
  {
   "cell_type": "markdown",
   "id": "9d29cea2",
   "metadata": {},
   "source": [
    "# Kardar-Parisi-Zhang Dynamics in the Heisenberg Spin Chain"
   ]
  },
  {
   "cell_type": "markdown",
   "id": "c4a1ff2c",
   "metadata": {},
   "source": [
    "<table class=\"tfo-notebook-buttons\" align=\"left\">\n",
    "  <td>\n",
    "    <a target=\"_blank\" href=\"https://quantumai.google/cirq/experiments/kpz/kpz\"><img src=\"https://quantumai.google/site-assets/images/buttons/quantumai_logo_1x.png\" />View on QuantumAI</a>\n",
    "  </td>\n",
    "  <td>\n",
    "    <a target=\"_blank\" href=\"https://colab.research.google.com/github/quantumlib/ReCirq/blob/master/docs/kpz/kpz.ipynb\"><img src=\"https://quantumai.google/site-assets/images/buttons/colab_logo_1x.png\" />Run in Google Colab</a>\n",
    "  </td>\n",
    "  <td>\n",
    "    <a target=\"_blank\" href=\"https://github.com/quantumlib/ReCirq/blob/master/docs/kpz/kpz.ipynb\"><img src=\"https://quantumai.google/site-assets/images/buttons/github_logo_1x.png\" />View source on GitHub</a>\n",
    "  </td>\n",
    "  <td>\n",
    "    <a href=\"https://storage.googleapis.com/tensorflow_docs/ReCirq/docs/kpz/kpz.ipynb\"><img src=\"https://quantumai.google/site-assets/images/buttons/download_icon_1x.png\" />Download notebook</a>\n",
    "  </td>\n",
    "</table>"
   ]
  },
  {
   "cell_type": "markdown",
   "id": "1de2dd3b",
   "metadata": {},
   "source": [
    "Before beginning, we will import the necessary modules into the notebook."
   ]
  },
  {
   "cell_type": "code",
   "execution_count": null,
   "id": "cef7a354",
   "metadata": {},
   "outputs": [],
   "source": [
    "try:\n",
    "    import recirq\n",
    "except ImportError:\n",
    "    !pip install --quiet git+https://github.com/quantumlib/ReCirq\n",
    "    import recirq\n",
    "\n",
    "try:\n",
    "    import qsimcirq\n",
    "except ImportError:\n",
    "    !pip install qsimcirq --quiet\n",
    "    import qsimcirq\n",
    "\n",
    "import cirq\n",
    "import matplotlib.pyplot as plt\n",
    "from matplotlib import ticker\n",
    "import numpy as np\n",
    "\n",
    "import recirq.kpz.experiment as kpz\n",
    "\n",
    "plt.rcParams['figure.dpi'] = 144"
   ]
  },
  {
   "cell_type": "markdown",
   "id": "f4110f55",
   "metadata": {},
   "source": [
    "### Motivation and Background\n",
    "\n",
    "Based on strong numerical evidence, it has been [conjectured](https://arxiv.org/abs/1903.01329) that the late-time dynamics of the 1D Heisenberg spin chain are described by the [Kardar-Parisi-Zhang universality class](https://journals.aps.org/prl/abstract/10.1103/PhysRevLett.56.889). Experiments, for example using [cold atoms](https://arxiv.org/abs/2107.00038), have provided further evidence for this conjecture. In [our work](https://arxiv.org/abs/2306.09333), we test this conjecture using 46 superconducting qubits, comparing the probability distribution of the transferred magnetization against predictions for the KPZ height function. We find that, while the mean and variance are consistent with KPZ, higher moments appear inconsistent.\n",
    "\n",
    "For further background, motivation, and explanation, please either read the paper, [arXiv:2306.09333](https://arxiv.org/abs/2306.09333), or watch the [talk](https://www.youtube.com/watch?v=U12xdMA3v1E).\n",
    "\n",
    "### Simulating the 1D Floquet XXZ model using ReCirq\n",
    "\n",
    "We are interested in the class of initial states given by Eq. 3 of the paper,\n",
    "\n",
    "$$\\rho(t=0) \\propto (e^{2\\mu S^z})^{\\otimes N_Q/2}\\,  \\otimes \\,( e ^{-2\\mu S^z}) ^{\\otimes N_Q/2},$$\n",
    "\n",
    "where $N_Q$ is the number of qubits, $S^z$ is the $z$ component of the spin, and $\\mu$ is a parameter that acts like a chemical potential between the two sides of the chain, interpolating between a pure domain wall at $\\mu=\\infty$ and an infinite temperature state at $\\mu=0$. We implement this initial state by sampling pure states, namely bitstring product states, where each qubit on the left side of the chain is prepared in $|1\\rangle$ with probability $p = (e^\\mu)/(e^\\mu + e^{-\\mu})$, otherwise $|0\\rangle$, and each qubit on the right is prepared in $|0\\rangle$ with the same probability, $p$, otherwise $|1\\rangle$.\n",
    "\n",
    "Next, we apply $t$ Floquet cycles of [fSim gates](https://quantumai.google/reference/python/cirq/FSimGate), where a cycle is depicted in Figure 1 of [arXiv:2306.09333](https://arxiv.org/abs/2306.09333) and consists of both an even layer and an odd layer. Finally, we measure all of the qubits and count how many excitations have crossed the center. Twice this quantity is the transferred magnetization, $\\mathcal{M}$.\n",
    "\n",
    "To set up this experiment for a particular number of cycles, we create a `KPZExperiment`. This has five required input parameters, `num_cycles`, `mu`, `num_init_states`, `theta`, and `phi`. The conjecture that the late-time dynamics of this model are described by the Kardar-Parisi-Zhang (KPZ) universality class applies at the isotropic point (i.e. the XXX or Heisenberg model), which corresponds to $\\phi = 2\\theta$. Further, the conjecture applies at small $\\mu$, although the order of limits between $\\mu \\to 0$ and $t\\to\\infty$ is something that we explore in the paper. In Figure 3 of the paper, we pick $(\\theta, \\phi) = (0.4\\pi, 0.8\\pi)$. To initialize a `KPZExperiment` with these angles, $\\mu=0.5$ and 1000 initial states, for cycle 2, we run"
   ]
  },
  {
   "cell_type": "code",
   "execution_count": null,
   "id": "b7477208",
   "metadata": {},
   "outputs": [],
   "source": [
    "num_cycles = 2\n",
    "mu = 0.5\n",
    "num_init_states = 1000\n",
    "theta = np.pi*0.4\n",
    "phi = np.pi*0.8\n",
    "\n",
    "expt = kpz.KPZExperiment(num_cycles, mu, num_init_states, theta, phi)"
   ]
  },
  {
   "cell_type": "markdown",
   "id": "af80864e",
   "metadata": {},
   "source": [
    "By default, this uses `2*num_cycles` qubits, which is the minimum number of qubits needed for the transferred magnetization to be independent of system size (in the experiment we use 46 qubits and go to cycle 23). The `KPZExperiment` comes with the `num_init_states` initial bitstrings prepared:"
   ]
  },
  {
   "cell_type": "code",
   "execution_count": null,
   "id": "41c5584d",
   "metadata": {},
   "outputs": [],
   "source": [
    "expt.initial_states"
   ]
  },
  {
   "cell_type": "markdown",
   "id": "afabba4b",
   "metadata": {},
   "source": [
    "It also prepares the circuits that we need to run. For example, the circuit corresponding to the first initial state is:"
   ]
  },
  {
   "cell_type": "code",
   "execution_count": null,
   "id": "da71a7b2",
   "metadata": {},
   "outputs": [],
   "source": [
    "expt.circuits[0]"
   ]
  },
  {
   "cell_type": "markdown",
   "id": "c88b82ea",
   "metadata": {},
   "source": [
    "To run the experiment, we can either use `KPZExperiment.run_experiment()` or `KPZExperiment.run_experiment_amplitudes()`. In either case, we have to input a Cirq sampler. `run_experiment()` samples bitstrings, closer to what is done in the experiment, whereas `run_experiment_amplitudes()` uses amplitudes from a statevector simulation (and hence requires a `cirq.SimulatesAmplitudes` sampler). In the actual experiment, we apply a post-selection to mitigate against effects of $T_1$; this is not done here because this tutorial uses noiseless simulations.\n",
    "\n",
    "For example, we can use `qsimcirq.QSimSimulator` to obtain:"
   ]
  },
  {
   "cell_type": "code",
   "execution_count": null,
   "id": "9466de66",
   "metadata": {},
   "outputs": [],
   "source": [
    "sampler = qsimcirq.QSimSimulator()\n",
    "reps = 6000\n",
    "res_bitstrs = expt.run_experiment(sampler, reps)\n",
    "res_amplitudes = expt.run_experiment_amplitudes(sampler)"
   ]
  },
  {
   "cell_type": "markdown",
   "id": "8f575b46",
   "metadata": {},
   "source": [
    "The measured bitstrings are contained in `res_bitstrings.bitstrs`, which has shape `(num_init_states, reps, num_qubits)`"
   ]
  },
  {
   "cell_type": "code",
   "execution_count": null,
   "id": "891b21c9",
   "metadata": {},
   "outputs": [],
   "source": [
    "res_bitstrs.bitstrs"
   ]
  },
  {
   "cell_type": "markdown",
   "id": "ff43a5e6",
   "metadata": {},
   "source": [
    "As you can see, the number of excitations is conserved, as expected because fSim gates are number conserving."
   ]
  },
  {
   "cell_type": "code",
   "execution_count": null,
   "id": "5b2a2b1b",
   "metadata": {},
   "outputs": [],
   "source": [
    "num_excitations = np.sum(res_bitstrs.bitstrs, axis=2)\n",
    "num_excitations_init = np.sum(expt.initial_states,1)\n",
    "expected_num_excitations = np.outer(num_excitations_init, np.ones(reps, dtype=int))\n",
    "assert np.all( num_excitations == expected_num_excitations )"
   ]
  },
  {
   "cell_type": "markdown",
   "id": "af98a2fb",
   "metadata": {},
   "source": [
    "The transferred magnetization, $\\mathcal{M}$ is computed by counting how many excitations are on the right side of the chain in the final state, contained in `res_bitstrs.num_right_final` (shape `(num_init_states, reps)`), and subtracting the number that were on the right initially, `res_bitstrs.num_right_initial` (shape `(num_init_states,)`), and then multiplying by 2. It is stored in `res_bitstrs.transferred_magnetization` (shape `(num_init_states, reps)`). We can plot a histogram of the transferred magnetization with:"
   ]
  },
  {
   "cell_type": "code",
   "execution_count": null,
   "id": "7410bb16",
   "metadata": {},
   "outputs": [],
   "source": [
    "res_bitstrs.plot_histogram()"
   ]
  },
  {
   "cell_type": "markdown",
   "id": "53b391b1",
   "metadata": {},
   "source": [
    "The same histogram can be obtained without any error from finite `reps` by using `res_amplitudes`:"
   ]
  },
  {
   "cell_type": "code",
   "execution_count": null,
   "id": "2ed1a265",
   "metadata": {},
   "outputs": [],
   "source": [
    "res_amplitudes.plot_histogram()"
   ]
  },
  {
   "cell_type": "markdown",
   "id": "f9364fce",
   "metadata": {},
   "source": [
    "Finally, we are interested in the mean, variance, skewness, and kurtosis of this distribution. These are stored in `res_amplitudes.mean`, `res_amplitudes.variance`, `res_amplitudes.skewness`, and `res_amplitudes.kurtosis`, and similarly for `res_bitstrs`.\n",
    "\n",
    "These quantities all have statistical uncertainty because we are sampling initial states. The statistical uncertainties can be computed with the `jackknife_mean()`, `jackknife_variance()`, `jackknife_skew()`, and `jackknife_kurtosis()` methods of either `res_amplitudes` or `res_bitstrs`. In particular, we have"
   ]
  },
  {
   "cell_type": "code",
   "execution_count": null,
   "id": "1b7e6b84",
   "metadata": {},
   "outputs": [],
   "source": [
    "print('mean = {:.2f} ± {:.2f}'.format(res_amplitudes.mean, res_amplitudes.jackknife_mean()))\n",
    "print('variance = {:.1f} ± {:.1f}'.format(res_amplitudes.variance, res_amplitudes.jackknife_variance()))\n",
    "print('skewness = {:.2f} ± {:.2f}'.format(res_amplitudes.skewness, res_amplitudes.jackknife_skew()))\n",
    "print('kurtosis = {:.1f} ± {:.1f}'.format(res_amplitudes.kurtosis, res_amplitudes.jackknife_kurtosis()))"
   ]
  },
  {
   "cell_type": "markdown",
   "id": "5bf2ed84",
   "metadata": {},
   "source": [
    "For the paper, we ran exact density matrix simulations up to cycle 8, which give, for this choice of $t=2$, $\\mu=0.5$, and $(\\theta, \\phi) = (0.4\\pi, 0.8\\pi)$,\n",
    "\n",
    "```\n",
    "mean = 1.526\n",
    "variance = 2.82\n",
    "skewness = -0.287\n",
    "kurtosis = -0.309\n",
    "```\n",
    "consistent with what we find by sampling initial states.\n",
    "\n",
    "To test the conjecture that the late-time dynamics of this model are consistent with Kardar-Parisi-Zhang predictions, we care about how these moments of the transferred magnetization change over time. Here we compute these quantities up to cycle 9 (18 qubits). Note that the following cell takes at least about 10 minutes to run."
   ]
  },
  {
   "cell_type": "code",
   "execution_count": null,
   "id": "58089585",
   "metadata": {},
   "outputs": [],
   "source": [
    "mean = []\n",
    "d_mean = []\n",
    "variance = []\n",
    "d_variance = []\n",
    "skewness = []\n",
    "d_skewness = []\n",
    "kurtosis = []\n",
    "d_kurtosis = []\n",
    "\n",
    "t = np.arange(1, 10)\n",
    "for t_i in t:\n",
    "    print('Starting t = {}'.format(t_i))\n",
    "    expt = kpz.KPZExperiment(t_i, mu, num_init_states, theta, phi)\n",
    "    res = expt.run_experiment_amplitudes(sampler)\n",
    "    mean.append(res.mean)\n",
    "    d_mean.append(res.jackknife_mean())\n",
    "    variance.append(res.variance)\n",
    "    d_variance.append(res.jackknife_variance())\n",
    "    skewness.append(res.skewness)\n",
    "    d_skewness.append(res.jackknife_skew())\n",
    "    kurtosis.append(res.kurtosis)\n",
    "    d_kurtosis.append(res.jackknife_kurtosis())"
   ]
  },
  {
   "cell_type": "markdown",
   "id": "5c38f49d",
   "metadata": {},
   "source": [
    "Note that runtime is increasing exponentially $t$. The runtime, beyond $t=13$ or so, can be improved using GPUs if you have access to them, either using [qsim's built-in GPU backend](https://quantumai.google/reference/python/qsimcirq/QSimOptions), or [NVIDIA's cuQuantum](https://docs.nvidia.com/cuda/cuquantum/latest/appliance/cirq.html), the latter of which allows you to pool the resources of multiple GPUs. For instructions on picking hardware, see [this](https://quantumai.google/qsim/choose_hw) page, and for a tutorial on setting up the GPU backends, see [this](https://quantumai.google/qsim/tutorials/gcp_gpu) page. For the paper, we perform simulations to cycle 18 using 8 NVIDIA A100 GPUs.\n",
    "\n",
    "Now, let's plot the observed moments of the transferred magnetization:"
   ]
  },
  {
   "cell_type": "code",
   "execution_count": null,
   "id": "8634fbee",
   "metadata": {},
   "outputs": [],
   "source": [
    "fig, ax = plt.subplots(2,2, figsize=(6,5), dpi=200, facecolor='white', sharex='col')\n",
    "ax[0,0].errorbar(t, mean, d_mean)\n",
    "ax[1,0].errorbar(t, variance, d_variance)\n",
    "ax[0,1].errorbar(t, skewness, d_skewness, zorder=100)\n",
    "ax[1,1].errorbar(t, kurtosis, d_kurtosis, zorder=100)\n",
    "\n",
    "ax[0,0].set_ylabel('Mean, $\\\\langle \\\\mathcal{M} \\\\rangle$')\n",
    "ax[1,0].set_ylabel('Variance, $\\\\sigma^2$')\n",
    "ax[0,1].set_ylabel('Skewness, $\\\\mathcal{S}$')\n",
    "ax[1,1].set_ylabel('Kurtosis, $\\\\mathcal{Q}$')\n",
    "ax[1,0].set_xlabel('Cycle number, $t$')\n",
    "ax[1,1].set_xlabel('Cycle number, $t$')\n",
    "\n",
    "for _ in ax[:,0]:\n",
    "    _.set_xscale('log')\n",
    "    _.set_yscale('log')\n",
    "    _.xaxis.set_major_formatter(ticker.FormatStrFormatter(\"%.2g\"))\n",
    "    _.yaxis.set_major_formatter(ticker.FormatStrFormatter(\"%.2g\"))\n",
    "    _.yaxis.set_minor_formatter(ticker.FormatStrFormatter(\"%.2g\"))\n",
    "\n",
    "t_ref = np.array([5,9])\n",
    "ax[0,0].plot(t_ref, t_ref**(2/3), 'k')\n",
    "ax[0,0].text(7,3.3, '$t^{2/3}$',)\n",
    "ax[1,0].plot(t_ref, 1.9*t_ref**(2/3), 'k')\n",
    "ax[1,0].text(7,6, '$t^{2/3}$',)\n",
    "\n",
    "## TW GUE predictions:\n",
    "ax[0,1].axhline(0.224, linestyle='--', color='k')\n",
    "ax[0,1].text(np.mean(t),0.224, 'TW GUE', backgroundcolor='white', va='center', ha='left')\n",
    "ax[1,1].axhline(0.093, linestyle='--', color='k')\n",
    "ax[1,1].text(np.mean(t),0.093, 'TW GUE', backgroundcolor='white', va='center', ha='left')\n",
    "ax[0,1].set_ylim(ax[0,1].get_ylim()[0], 0.3)\n",
    "ax[1,1].set_ylim(ax[1,1].get_ylim()[0], 0.2)\n",
    "\n",
    "for _ in ax.flatten():\n",
    "    _.tick_params(direction='in', top=True, right=True, which='both')\n",
    "\n",
    "plt.tight_layout()"
   ]
  },
  {
   "cell_type": "code",
   "execution_count": null,
   "id": "b88f32c6",
   "metadata": {},
   "outputs": [],
   "source": []
  }
 ],
 "metadata": {
  "kernelspec": {
   "display_name": "Python 3 (ipykernel)",
   "language": "python",
   "name": "python3"
  },
  "language_info": {
   "codemirror_mode": {
    "name": "ipython",
    "version": 3
   },
   "file_extension": ".py",
   "mimetype": "text/x-python",
   "name": "python",
   "nbconvert_exporter": "python",
   "pygments_lexer": "ipython3",
   "version": "3.10.10"
  }
 },
 "nbformat": 4,
 "nbformat_minor": 5
}
