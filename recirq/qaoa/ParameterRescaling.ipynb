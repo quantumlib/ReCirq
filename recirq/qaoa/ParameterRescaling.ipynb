{
 "cells": [
  {
   "cell_type": "code",
   "execution_count": 1,
   "metadata": {},
   "outputs": [],
   "source": [
    "import networkx as nx\n",
    "import cirq\n",
    "import recirq\n",
    "import numpy as np"
   ]
  },
  {
   "cell_type": "code",
   "execution_count": 2,
   "metadata": {},
   "outputs": [],
   "source": [
    "%matplotlib inline\n",
    "from matplotlib import pyplot as plt\n",
    "from matplotlib.gridspec import GridSpec\n",
    "import seaborn as sns\n",
    "sns.set_style('ticks')\n",
    "sns.set_palette('colorblind')\n",
    "\n",
    "plt.rc('axes', labelsize=16, titlesize=16)\n",
    "plt.rc('xtick', labelsize=14)\n",
    "plt.rc('ytick', labelsize=14)\n",
    "plt.rc('legend', fontsize=14, title_fontsize=16)\n",
    "\n",
    "QBLUE = '#1967d2'\n",
    "QRED = '#ea4335ff'\n",
    "QGOLD = '#fbbc05ff'\n",
    "QGREEN = '#34a853ff'\n",
    "QGOLD2 = '#ffca28'\n",
    "QBLUE2 = '#1e88e5'"
   ]
  },
  {
   "cell_type": "code",
   "execution_count": 3,
   "metadata": {},
   "outputs": [],
   "source": [
    "def ferry(n, rs, other_coupling=0.5, shuff=True):\n",
    "    g = nx.Graph()\n",
    "    n_edges = n - 1\n",
    "    couplings = [1]*(n_edges//2) + [other_coupling] * (n_edges-n_edges//2)\n",
    "    if shuff:\n",
    "        rs.shuffle(couplings)\n",
    "    for i1, i2, J in zip(range(n), range(1, n), couplings):\n",
    "        g.add_edge(i1, i2, weight=-J)\n",
    "    return g"
   ]
  },
  {
   "cell_type": "code",
   "execution_count": 4,
   "metadata": {},
   "outputs": [],
   "source": [
    "n_qubits = 12\n",
    "\n",
    "def oc_3reg(n, rs, other_coupling):\n",
    "    graph = nx.random_regular_graph(3, n, seed=rs)\n",
    "    n_edges = graph.number_of_edges()\n",
    "    couplings = [1]*(n_edges//2) + [other_coupling] * (n_edges-n_edges//2)\n",
    "    rs.shuffle(couplings)\n",
    "    nx.set_edge_attributes(graph, values={\n",
    "        (i1, i2): c\n",
    "        for (i1, i2), c in zip(graph.edges, couplings)\n",
    "    }, name='weight')\n",
    "    return graph\n",
    "graph = ferry(n_qubits, np.random.RandomState(52), other_coupling=0.5, shuff=False)\n",
    "#graph = oc_3reg(n_qubits, np.random.RandomState(52), 0.5)"
   ]
  },
  {
   "cell_type": "code",
   "execution_count": 5,
   "metadata": {},
   "outputs": [
    {
     "data": {
      "image/png": "[encoded data removed]",
      "text/plain": [
       "<Figure size 432x288 with 1 Axes>"
      ]
     },
     "metadata": {},
     "output_type": "display_data"
    }
   ],
   "source": [
    "nx.draw_networkx(graph)"
   ]
  },
  {
   "cell_type": "code",
   "execution_count": 6,
   "metadata": {},
   "outputs": [
    {
     "data": {
      "text/plain": [
       "EdgeDataView([(0, 1, -1), (1, 2, -1), (2, 3, -1), (3, 4, -1), (4, 5, -1), (5, 6, -0.5), (6, 7, -0.5), (7, 8, -0.5), (8, 9, -0.5), (9, 10, -0.5), (10, 11, -0.5)])"
      ]
     },
     "execution_count": 6,
     "metadata": {},
     "output_type": "execute_result"
    }
   ],
   "source": [
    "graph.edges.data('weight')"
   ]
  },
  {
   "cell_type": "code",
   "execution_count": 7,
   "metadata": {},
   "outputs": [],
   "source": [
    "from recirq.qaoa.classical_angle_optimization import create_ZZ_HamC"
   ]
  },
  {
   "cell_type": "code",
   "execution_count": 8,
   "metadata": {},
   "outputs": [
    {
     "data": {
      "text/plain": [
       "(array([   0, 4095]),)"
      ]
     },
     "execution_count": 8,
     "metadata": {},
     "output_type": "execute_result"
    }
   ],
   "source": [
    "dense_ham = create_ZZ_HamC(graph, flag_z2_sym=False)\n",
    "answer_inds = np.where(dense_ham == np.min(dense_ham))\n",
    "answer_inds"
   ]
  },
  {
   "cell_type": "code",
   "execution_count": 9,
   "metadata": {},
   "outputs": [],
   "source": [
    "import scipy.optimize\n",
    "from recirq.qaoa.classical_angle_optimization import optimize_instance_interp_heuristic\n",
    "from recirq.qaoa.problem_circuits import get_generic_qaoa_circuit"
   ]
  },
  {
   "cell_type": "code",
   "execution_count": 10,
   "metadata": {},
   "outputs": [
    {
     "name": "stdout",
     "output_type": "stream",
     "text": [
      "-- p=1, F = -3.859 / -8.0, nfev=5, time=0.08 s\n"
     ]
    },
    {
     "data": {
      "text/plain": [
       "[OptimizationResult(p=1, f_val=-3.858636906278271, gammas=[0.47364580552221963], betas=[-0.39269908169841683], min_c=array(-8.), max_c=array(8.), pzstar=0.02220457639948584)]"
      ]
     },
     "execution_count": 10,
     "metadata": {},
     "output_type": "execute_result"
    }
   ],
   "source": [
    "oresults = optimize_instance_interp_heuristic(graph=graph, p_max=1, flag_z2_sym=True, verbose=True)\n",
    "oresults"
   ]
  },
  {
   "cell_type": "code",
   "execution_count": 11,
   "metadata": {},
   "outputs": [
    {
     "name": "stdout",
     "output_type": "stream",
     "text": [
      "[0.01110228 0.01110228]\n"
     ]
    }
   ],
   "source": [
    "sim = cirq.Simulator()\n",
    "def calc_pzstar(graph, gammas, betas):\n",
    "    circuit = get_generic_qaoa_circuit(\n",
    "        problem_graph=graph,\n",
    "        qubits = cirq.LineQubit.range(graph.number_of_nodes()),\n",
    "        gammas=gammas,\n",
    "        betas=betas,\n",
    "    )\n",
    "    psi = sim.simulate(circuit)\n",
    "    probs = np.abs(psi.final_state)**2\n",
    "    np.testing.assert_allclose(np.sum(probs), 1, atol=1e-5)\n",
    "    print(probs[answer_inds])\n",
    "\n",
    "calc_pzstar(graph, oresults[-1].gammas, oresults[-1].betas)"
   ]
  },
  {
   "cell_type": "code",
   "execution_count": 12,
   "metadata": {
    "scrolled": true
   },
   "outputs": [
    {
     "name": "stdout",
     "output_type": "stream",
     "text": [
      "1.0 (array([   0, 4095]),)\n",
      "-- p=1, F = -5.719 / -11.0, nfev=5, time=0.14 s\n",
      "-- p=2, F = -7.622 / -11.0, nfev=17, time=0.08 s\n",
      "-- p=3, F = -8.576 / -11.0, nfev=21, time=0.11 s\n",
      "-- p=4, F = -9.171 / -11.0, nfev=22, time=0.18 s\n",
      "-- p=5, F = -9.586 / -11.0, nfev=23, time=0.20 s\n",
      "-- p=6, F = -9.901 / -11.0, nfev=25, time=0.27 s\n",
      "-- p=7, F = -10.152 / -11.0, nfev=27, time=0.34 s\n",
      "-- p=8, F = -10.357 / -11.0, nfev=30, time=0.42 s\n",
      "0.9473684210526316 (array([   0, 4095]),)\n",
      "-- p=1, F = -5.553 / -10.684210526315791, nfev=5, time=0.11 s\n",
      "-- p=2, F = -7.401 / -10.684210526315791, nfev=17, time=0.06 s\n",
      "-- p=3, F = -8.330 / -10.684210526315791, nfev=21, time=0.11 s\n",
      "-- p=4, F = -8.912 / -10.684210526315791, nfev=23, time=0.16 s\n",
      "-- p=5, F = -9.318 / -10.684210526315791, nfev=23, time=0.22 s\n",
      "-- p=6, F = -9.614 / -10.684210526315791, nfev=24, time=0.28 s\n",
      "-- p=7, F = -9.852 / -10.684210526315791, nfev=26, time=0.33 s\n",
      "-- p=8, F = -10.047 / -10.684210526315791, nfev=29, time=0.40 s\n",
      "0.8947368421052632 (array([   0, 4095]),)\n",
      "-- p=1, F = -5.379 / -10.368421052631579, nfev=8, time=0.13 s\n",
      "-- p=2, F = -7.165 / -10.368421052631579, nfev=17, time=0.06 s\n",
      "-- p=3, F = -8.070 / -10.368421052631579, nfev=19, time=0.10 s\n",
      "-- p=4, F = -8.642 / -10.368421052631579, nfev=24, time=0.17 s\n",
      "-- p=5, F = -9.043 / -10.368421052631579, nfev=24, time=0.21 s\n",
      "-- p=6, F = -9.323 / -10.368421052631579, nfev=25, time=0.26 s\n",
      "-- p=7, F = -9.549 / -10.368421052631579, nfev=27, time=0.34 s\n",
      "-- p=8, F = -9.734 / -10.368421052631579, nfev=29, time=0.42 s\n",
      "0.8421052631578947 (array([   0, 4095]),)\n",
      "-- p=1, F = -5.197 / -10.052631578947366, nfev=5, time=0.13 s\n",
      "-- p=2, F = -6.915 / -10.052631578947366, nfev=17, time=0.06 s\n",
      "-- p=3, F = -7.796 / -10.052631578947366, nfev=18, time=0.10 s\n",
      "-- p=4, F = -8.361 / -10.052631578947366, nfev=21, time=0.16 s\n",
      "-- p=5, F = -8.760 / -10.052631578947366, nfev=25, time=0.23 s\n",
      "-- p=6, F = -9.030 / -10.052631578947366, nfev=24, time=0.26 s\n",
      "-- p=7, F = -9.243 / -10.052631578947366, nfev=27, time=0.35 s\n",
      "-- p=8, F = -9.419 / -10.052631578947366, nfev=28, time=0.45 s\n",
      "0.7894736842105263 (array([   0, 4095]),)\n",
      "-- p=1, F = -5.006 / -9.736842105263158, nfev=5, time=0.14 s\n",
      "-- p=2, F = -6.652 / -9.736842105263158, nfev=17, time=0.08 s\n",
      "-- p=3, F = -7.510 / -9.736842105263158, nfev=20, time=0.13 s\n",
      "-- p=4, F = -8.072 / -9.736842105263158, nfev=19, time=0.16 s\n",
      "-- p=5, F = -8.468 / -9.736842105263158, nfev=24, time=0.25 s\n",
      "-- p=6, F = -8.734 / -9.736842105263158, nfev=24, time=0.29 s\n",
      "-- p=7, F = -8.936 / -9.736842105263158, nfev=26, time=0.38 s\n",
      "-- p=8, F = -9.103 / -9.736842105263158, nfev=29, time=0.46 s\n",
      "0.736842105263158 (array([   0, 4095]),)\n",
      "-- p=1, F = -4.806 / -9.421052631578945, nfev=6, time=0.14 s\n",
      "-- p=2, F = -6.377 / -9.421052631578945, nfev=16, time=0.06 s\n",
      "-- p=3, F = -7.216 / -9.421052631578945, nfev=19, time=0.11 s\n",
      "-- p=4, F = -7.776 / -9.421052631578945, nfev=20, time=0.17 s\n",
      "-- p=5, F = -8.168 / -9.421052631578945, nfev=24, time=0.26 s\n",
      "-- p=6, F = -8.437 / -9.421052631578945, nfev=25, time=0.30 s\n",
      "-- p=7, F = -8.628 / -9.421052631578945, nfev=27, time=0.38 s\n",
      "-- p=8, F = -8.788 / -9.421052631578945, nfev=31, time=0.50 s\n",
      "0.6842105263157895 (array([   0, 4095]),)\n",
      "-- p=1, F = -4.600 / -9.105263157894736, nfev=5, time=0.14 s\n",
      "-- p=2, F = -6.094 / -9.105263157894736, nfev=15, time=0.06 s\n",
      "-- p=3, F = -6.916 / -9.105263157894736, nfev=16, time=0.10 s\n",
      "-- p=4, F = -7.474 / -9.105263157894736, nfev=22, time=0.17 s\n",
      "-- p=5, F = -7.860 / -9.105263157894736, nfev=22, time=0.21 s\n",
      "-- p=6, F = -8.138 / -9.105263157894736, nfev=25, time=0.28 s\n",
      "-- p=7, F = -8.320 / -9.105263157894736, nfev=26, time=0.35 s\n",
      "-- p=8, F = -8.474 / -9.105263157894736, nfev=30, time=0.46 s\n",
      "0.631578947368421 (array([   0, 4095]),)\n",
      "-- p=1, F = -4.389 / -8.789473684210527, nfev=7, time=0.13 s\n",
      "-- p=2, F = -5.807 / -8.789473684210527, nfev=15, time=0.06 s\n",
      "-- p=3, F = -6.613 / -8.789473684210527, nfev=16, time=0.09 s\n",
      "-- p=4, F = -7.166 / -8.789473684210527, nfev=22, time=0.16 s\n",
      "-- p=5, F = -7.545 / -8.789473684210527, nfev=21, time=0.22 s\n",
      "-- p=6, F = -7.840 / -8.789473684210527, nfev=23, time=0.35 s\n",
      "-- p=7, F = -8.013 / -8.789473684210527, nfev=26, time=0.52 s\n",
      "-- p=8, F = -8.162 / -8.789473684210527, nfev=29, time=0.70 s\n",
      "0.5789473684210527 (array([   0, 4095]),)\n",
      "-- p=1, F = -4.175 / -8.473684210526319, nfev=7, time=0.18 s\n",
      "-- p=2, F = -5.522 / -8.473684210526319, nfev=16, time=0.08 s\n",
      "-- p=3, F = -6.308 / -8.473684210526319, nfev=17, time=0.11 s\n",
      "-- p=4, F = -6.853 / -8.473684210526319, nfev=22, time=0.22 s\n",
      "-- p=5, F = -7.226 / -8.473684210526319, nfev=21, time=0.22 s\n",
      "-- p=6, F = -7.541 / -8.473684210526319, nfev=25, time=0.30 s\n",
      "-- p=7, F = -7.706 / -8.473684210526319, nfev=27, time=0.38 s\n",
      "-- p=8, F = -7.854 / -8.473684210526319, nfev=28, time=0.44 s\n",
      "0.5263157894736843 (array([   0, 4095]),)\n",
      "-- p=1, F = -3.963 / -8.157894736842104, nfev=5, time=0.14 s\n",
      "-- p=2, F = -5.243 / -8.157894736842104, nfev=16, time=0.06 s\n",
      "-- p=3, F = -6.002 / -8.157894736842104, nfev=18, time=0.10 s\n",
      "-- p=4, F = -6.538 / -8.157894736842104, nfev=21, time=0.16 s\n",
      "-- p=5, F = -6.905 / -8.157894736842104, nfev=23, time=0.23 s\n",
      "-- p=6, F = -7.244 / -8.157894736842104, nfev=27, time=0.31 s\n",
      "-- p=7, F = -7.398 / -8.157894736842104, nfev=27, time=0.42 s\n",
      "-- p=8, F = -7.550 / -8.157894736842104, nfev=30, time=0.48 s\n",
      "0.4736842105263158 (array([   0, 4095]),)\n",
      "-- p=1, F = -3.756 / -7.842105263157896, nfev=5, time=0.13 s\n",
      "-- p=2, F = -4.974 / -7.842105263157896, nfev=16, time=0.06 s\n",
      "-- p=3, F = -5.697 / -7.842105263157896, nfev=18, time=0.10 s\n",
      "-- p=4, F = -6.223 / -7.842105263157896, nfev=20, time=0.18 s\n",
      "-- p=5, F = -6.584 / -7.842105263157896, nfev=21, time=0.24 s\n",
      "-- p=6, F = -6.947 / -7.842105263157896, nfev=26, time=0.36 s\n",
      "-- p=7, F = -7.090 / -7.842105263157896, nfev=28, time=0.45 s\n",
      "-- p=8, F = -7.251 / -7.842105263157896, nfev=33, time=0.62 s\n",
      "0.42105263157894735 (array([   0, 4095]),)\n",
      "-- p=1, F = -3.559 / -7.526315789473681, nfev=5, time=0.15 s\n",
      "-- p=2, F = -4.719 / -7.526315789473681, nfev=16, time=0.08 s\n",
      "-- p=3, F = -5.398 / -7.526315789473681, nfev=18, time=0.14 s\n",
      "-- p=4, F = -5.913 / -7.526315789473681, nfev=21, time=0.22 s\n",
      "-- p=5, F = -6.267 / -7.526315789473681, nfev=22, time=0.27 s\n",
      "-- p=6, F = -6.651 / -7.526315789473681, nfev=25, time=0.31 s\n",
      "-- p=7, F = -6.787 / -7.526315789473681, nfev=32, time=0.49 s\n",
      "-- p=8, F = -6.954 / -7.526315789473681, nfev=34, time=0.54 s\n",
      "0.368421052631579 (array([   0, 4095]),)\n",
      "-- p=1, F = -3.377 / -7.210526315789473, nfev=8, time=0.14 s\n",
      "-- p=2, F = -4.484 / -7.210526315789473, nfev=15, time=0.06 s\n",
      "-- p=3, F = -5.116 / -7.210526315789473, nfev=19, time=0.12 s\n",
      "-- p=4, F = -5.613 / -7.210526315789473, nfev=19, time=0.15 s\n",
      "-- p=5, F = -5.957 / -7.210526315789473, nfev=21, time=0.20 s\n",
      "-- p=6, F = -6.354 / -7.210526315789473, nfev=25, time=0.28 s\n",
      "-- p=7, F = -6.512 / -7.210526315789473, nfev=37, time=0.51 s\n",
      "-- p=8, F = -6.656 / -7.210526315789473, nfev=34, time=0.53 s\n",
      "0.3157894736842106 (array([   0, 4095]),)\n",
      "-- p=1, F = -3.213 / -6.894736842105264, nfev=7, time=0.13 s\n",
      "-- p=2, F = -4.273 / -6.894736842105264, nfev=13, time=0.05 s\n",
      "-- p=3, F = -4.865 / -6.894736842105264, nfev=17, time=0.10 s\n",
      "-- p=4, F = -5.337 / -6.894736842105264, nfev=20, time=0.15 s\n",
      "-- p=5, F = -5.661 / -6.894736842105264, nfev=23, time=0.23 s\n",
      "-- p=6, F = -6.056 / -6.894736842105264, nfev=25, time=0.29 s\n",
      "-- p=7, F = -6.246 / -6.894736842105264, nfev=38, time=0.53 s\n",
      "-- p=8, F = -6.355 / -6.894736842105264, nfev=30, time=0.47 s\n",
      "0.26315789473684215 (array([   0, 4095]),)\n",
      "-- p=1, F = -3.070 / -6.578947368421055, nfev=7, time=0.14 s\n",
      "-- p=2, F = -4.092 / -6.578947368421055, nfev=14, time=0.06 s\n",
      "-- p=3, F = -4.656 / -6.578947368421055, nfev=15, time=0.09 s\n",
      "-- p=4, F = -5.106 / -6.578947368421055, nfev=19, time=0.16 s\n",
      "-- p=5, F = -5.400 / -6.578947368421055, nfev=23, time=0.23 s\n",
      "-- p=6, F = -5.765 / -6.578947368421055, nfev=27, time=0.31 s\n",
      "-- p=7, F = -5.979 / -6.578947368421055, nfev=40, time=0.55 s\n",
      "-- p=8, F = -6.063 / -6.578947368421055, nfev=35, time=0.57 s\n",
      "0.21052631578947367 (array([   0, 4095]),)\n",
      "-- p=1, F = -2.951 / -6.263157894736841, nfev=5, time=0.15 s\n",
      "-- p=2, F = -3.944 / -6.263157894736841, nfev=14, time=0.06 s\n",
      "-- p=3, F = -4.489 / -6.263157894736841, nfev=16, time=0.10 s\n",
      "-- p=4, F = -4.920 / -6.263157894736841, nfev=17, time=0.13 s\n"
     ]
    },
    {
     "name": "stdout",
     "output_type": "stream",
     "text": [
      "-- p=5, F = -5.199 / -6.263157894736841, nfev=23, time=0.23 s\n",
      "-- p=6, F = -5.499 / -6.263157894736841, nfev=29, time=0.35 s\n",
      "-- p=7, F = -5.718 / -6.263157894736841, nfev=44, time=0.62 s\n",
      "-- p=8, F = -5.793 / -6.263157894736841, nfev=40, time=0.63 s\n",
      "0.1578947368421053 (array([   0, 4095]),)\n",
      "-- p=1, F = -2.858 / -5.947368421052632, nfev=5, time=0.14 s\n",
      "-- p=2, F = -3.829 / -5.947368421052632, nfev=14, time=0.06 s\n",
      "-- p=3, F = -4.364 / -5.947368421052632, nfev=18, time=0.11 s\n",
      "-- p=4, F = -4.778 / -5.947368421052632, nfev=20, time=0.16 s\n",
      "-- p=5, F = -5.052 / -5.947368421052632, nfev=23, time=0.23 s\n",
      "-- p=6, F = -5.281 / -5.947368421052632, nfev=28, time=0.34 s\n",
      "-- p=7, F = -5.472 / -5.947368421052632, nfev=51, time=0.71 s\n",
      "-- p=8, F = -5.555 / -5.947368421052632, nfev=49, time=0.78 s\n",
      "0.10526315789473695 (array([   0, 4095]),)\n",
      "-- p=1, F = -2.790 / -5.631578947368423, nfev=5, time=0.12 s\n",
      "-- p=2, F = -3.748 / -5.631578947368423, nfev=15, time=0.06 s\n",
      "-- p=3, F = -4.278 / -5.631578947368423, nfev=19, time=0.11 s\n",
      "-- p=4, F = -4.676 / -5.631578947368423, nfev=21, time=0.17 s\n",
      "-- p=5, F = -4.952 / -5.631578947368423, nfev=24, time=0.24 s\n",
      "-- p=6, F = -5.123 / -5.631578947368423, nfev=28, time=0.33 s\n",
      "-- p=7, F = -5.240 / -5.631578947368423, nfev=68, time=0.94 s\n",
      "-- p=8, F = -5.332 / -5.631578947368423, nfev=69, time=1.10 s\n",
      "0.052631578947368474 (array([   0, 4095]),)\n",
      "-- p=1, F = -2.749 / -5.315789473684209, nfev=7, time=0.14 s\n",
      "-- p=2, F = -3.700 / -5.315789473684209, nfev=15, time=0.06 s\n",
      "-- p=3, F = -4.228 / -5.315789473684209, nfev=19, time=0.11 s\n",
      "-- p=4, F = -4.615 / -5.315789473684209, nfev=21, time=0.16 s\n",
      "-- p=5, F = -4.896 / -5.315789473684209, nfev=24, time=0.24 s\n",
      "-- p=6, F = -5.028 / -5.315789473684209, nfev=27, time=0.31 s\n",
      "-- p=7, F = -5.067 / -5.315789473684209, nfev=170, time=2.35 s\n",
      "-- p=8, F = -5.111 / -5.315789473684209, nfev=119, time=1.89 s\n"
     ]
    }
   ],
   "source": [
    "rs = np.random.RandomState(52)\n",
    "records = []\n",
    "other_couplings = np.linspace(1, 0, 20)[:-1]\n",
    "sim = cirq.Simulator()\n",
    "\n",
    "for other_coupling in other_couplings:\n",
    "    graph = ferry(n_qubits, rs=np.random.RandomState(52), other_coupling=other_coupling, shuff=False)\n",
    "    dense_ham = create_ZZ_HamC(graph, flag_z2_sym=False, node_to_index_map={i:i for i in range(n_qubits)})\n",
    "    answer_inds = np.where(dense_ham == np.min(dense_ham))\n",
    "    print(other_coupling, answer_inds)\n",
    "    #assert answer_inds[0].tolist() == [0, 2**n_qubits-1], answer_inds[0].tolist()\n",
    "    oresults = optimize_instance_interp_heuristic(graph=graph, p_max=8, flag_z2_sym=False, verbose=True)\n",
    "    \n",
    "    def calc_pzstar(graph, gammas, betas):\n",
    "        circuit = get_generic_qaoa_circuit(\n",
    "            problem_graph=graph,\n",
    "            qubits = cirq.LineQubit.range(graph.number_of_nodes()),\n",
    "            gammas=gammas,\n",
    "            betas=betas,\n",
    "        )\n",
    "        psi = sim.simulate(circuit)\n",
    "        probs = np.abs(psi.final_state)**2\n",
    "        np.testing.assert_allclose(np.sum(probs), 1, atol=1e-5)\n",
    "        probs /= 1.0\n",
    "        return np.sum(probs[answer_inds])\n",
    "    \n",
    "    for oresult in oresults:\n",
    "        records += [{\n",
    "            'other_coupling': other_coupling,\n",
    "            'p': oresult.p,\n",
    "            'pzstar': calc_pzstar(graph, oresult.gammas, oresult.betas),\n",
    "            'f_val': oresult.f_val,\n",
    "        }]"
   ]
  },
  {
   "cell_type": "code",
   "execution_count": 19,
   "metadata": {},
   "outputs": [],
   "source": [
    "import pandas as pd"
   ]
  },
  {
   "cell_type": "code",
   "execution_count": 20,
   "metadata": {},
   "outputs": [
    {
     "data": {
      "image/png": "[encoded data removed]",
      "text/plain": [
       "<Figure size 432x288 with 1 Axes>"
      ]
     },
     "metadata": {},
     "output_type": "display_data"
    }
   ],
   "source": [
    "df = pd.DataFrame(records)\n",
    "ps = sorted(df['p'].unique())\n",
    "\n",
    "for p, color in zip(ps, sns.cubehelix_palette(n_colors=len(ps))):\n",
    "    df0 = df.copy()\n",
    "    df = df[df['p'] == p]\n",
    "    if p in [ps[0], ps[len(ps)//2], ps[-1]]:\n",
    "        label = f'p = {p}'\n",
    "    else:\n",
    "        label = None\n",
    "    plt.plot(df['other_coupling'], df['pzstar'], 'o-', label=label, color=color)\n",
    "\n",
    "    df = df0\n",
    "\n",
    "\n",
    "plt.xlabel('\"Other\" coupling')\n",
    "plt.ylabel(r'Pr(|z*$\\rangle $)')\n",
    "\n",
    "plt.legend(loc='best')\n",
    "plt.tight_layout()"
   ]
  },
  {
   "cell_type": "code",
   "execution_count": 21,
   "metadata": {},
   "outputs": [
    {
     "data": {
      "image/png": "[encoded data removed]",
      "text/plain": [
       "<Figure size 432x288 with 1 Axes>"
      ]
     },
     "metadata": {},
     "output_type": "display_data"
    }
   ],
   "source": [
    "df = pd.DataFrame(records)\n",
    "ps = sorted(df['p'].unique())\n",
    "\n",
    "for p, color in zip(ps, sns.cubehelix_palette(n_colors=len(ps))):\n",
    "    df0 = df.copy()\n",
    "    df = df[df['p'] == p]\n",
    "    df = df.sort_values(by='other_coupling')\n",
    "    if p in [ps[0], ps[len(ps)//2], ps[-1]]:\n",
    "        label = f'p = {p}'\n",
    "    else:\n",
    "        label = None\n",
    "    plt.plot(df['other_coupling'], df['pzstar']/df.iloc[-1]['pzstar'], 'o-', label=label, color=color)\n",
    "    df = df0\n",
    "    \n",
    "plt.xlabel('\"Other\" coupling')\n",
    "plt.ylabel(r'Pr(|z*$\\rangle $) / Pr() at J=1')\n",
    "plt.legend(loc='best')\n",
    "plt.tight_layout()"
   ]
  },
  {
   "cell_type": "code",
   "execution_count": 11,
   "metadata": {},
   "outputs": [],
   "source": [
    "# flat_records = []\n",
    "# for record in records:\n",
    "#     for m in record['marginals']:\n",
    "#         flat_records.append({'scale': record['scale'], 'm': m})\n",
    "# df = pd.DataFrame(flat_records)\n",
    "# #sns.swarmplot(df['scale'], np.abs(df['m']))\n",
    "# plt.scatter(df['scale'], np.abs(df['m']))"
   ]
  },
  {
   "cell_type": "code",
   "execution_count": 12,
   "metadata": {},
   "outputs": [
    {
     "ename": "NameError",
     "evalue": "name 'records' is not defined",
     "output_type": "error",
     "traceback": [
      "\u001b[0;31m---------------------------------------------------------------------------\u001b[0m",
      "\u001b[0;31mNameError\u001b[0m                                 Traceback (most recent call last)",
      "\u001b[0;32m<ipython-input-12-e106a5b7df40>\u001b[0m in \u001b[0;36m<module>\u001b[0;34m\u001b[0m\n\u001b[1;32m      1\u001b[0m \u001b[0mflat_records\u001b[0m \u001b[0;34m=\u001b[0m \u001b[0;34m[\u001b[0m\u001b[0;34m]\u001b[0m\u001b[0;34m\u001b[0m\u001b[0;34m\u001b[0m\u001b[0m\n\u001b[0;32m----> 2\u001b[0;31m \u001b[0;32mfor\u001b[0m \u001b[0mrecord\u001b[0m \u001b[0;32min\u001b[0m \u001b[0mrecords\u001b[0m\u001b[0;34m:\u001b[0m\u001b[0;34m\u001b[0m\u001b[0;34m\u001b[0m\u001b[0m\n\u001b[0m\u001b[1;32m      3\u001b[0m     flat_records.append({\n\u001b[1;32m      4\u001b[0m         \u001b[0;34m'scale'\u001b[0m\u001b[0;34m:\u001b[0m \u001b[0mrecord\u001b[0m\u001b[0;34m[\u001b[0m\u001b[0;34m'scale'\u001b[0m\u001b[0;34m]\u001b[0m\u001b[0;34m,\u001b[0m\u001b[0;34m\u001b[0m\u001b[0;34m\u001b[0m\u001b[0m\n\u001b[1;32m      5\u001b[0m         \u001b[0;34m'maxm'\u001b[0m\u001b[0;34m:\u001b[0m \u001b[0mmax\u001b[0m\u001b[0;34m(\u001b[0m\u001b[0mnp\u001b[0m\u001b[0;34m.\u001b[0m\u001b[0mabs\u001b[0m\u001b[0;34m(\u001b[0m\u001b[0mrecord\u001b[0m\u001b[0;34m[\u001b[0m\u001b[0;34m'marginals'\u001b[0m\u001b[0;34m]\u001b[0m\u001b[0;34m)\u001b[0m\u001b[0;34m)\u001b[0m\u001b[0;34m,\u001b[0m\u001b[0;34m\u001b[0m\u001b[0;34m\u001b[0m\u001b[0m\n",
      "\u001b[0;31mNameError\u001b[0m: name 'records' is not defined"
     ]
    }
   ],
   "source": [
    "flat_records = []\n",
    "for record in records:\n",
    "    flat_records.append({\n",
    "        'scale': record['scale'], \n",
    "        'maxm': max(np.abs(record['marginals'])),\n",
    "        'p': record['p'],\n",
    "    })\n",
    "    \n",
    "df = pd.DataFrame(flat_records)\n",
    "#sns.swarmplot(df['scale'], np.abs(df['maxm']))\n",
    "for p in [1, 2]:\n",
    "    df0 = df.copy()\n",
    "    df = df[df['p'] == p]\n",
    "    plt.scatter(df['scale'], np.abs(df['maxm']))\n",
    "\n",
    "    dfg = df.groupby('scale').agg('mean').reset_index()\n",
    "    plt.plot(dfg['scale'], dfg['maxm'], label=f'p = {p}')\n",
    "    \n",
    "    df = df0\n",
    "\n",
    "plt.xlabel('One/Two-body strength ratio')\n",
    "plt.ylabel(r'Max $|\\langle Z \\rangle|$')\n",
    "plt.legend(loc='best')\n",
    "plt.xscale('log', basex=2)"
   ]
  },
  {
   "cell_type": "code",
   "execution_count": 13,
   "metadata": {},
   "outputs": [],
   "source": [
    "def integrate_out(graph, i_remove, i_set):\n",
    "    new_g = nx.Graph()\n",
    "    offset = 0\n",
    "    for i, w in graph.nodes.data('weight'):\n",
    "        if w is None:\n",
    "            w = 0\n",
    "        if i == i_remove:\n",
    "            offset += w*i_set\n",
    "        else:\n",
    "            new_g.add_node(i, weight=w)\n",
    "    for i1, i2, w in graph.edges.data('weight'):\n",
    "        if i1 == i_remove:\n",
    "            new_g.nodes[i2]['weight'] += i_set * w\n",
    "        elif i2 == i_remove:\n",
    "            new_g.nodes[i1]['weight'] += i_set * w\n",
    "        else:\n",
    "            new_g.add_edge(i1, i2, weight=w)\n",
    "            \n",
    "    new_to_old = sorted(new_g.nodes)\n",
    "    new_g = nx.relabel_nodes(new_g, {new_to_old[i]: i for i in range(new_g.number_of_nodes())})\n",
    "    return new_g, offset, new_to_old"
   ]
  },
  {
   "cell_type": "code",
   "execution_count": 14,
   "metadata": {},
   "outputs": [
    {
     "data": {
      "text/plain": [
       "EdgeDataView([(0, 1, 1), (0, 2, -1), (1, 2, 1)])"
      ]
     },
     "execution_count": 14,
     "metadata": {},
     "output_type": "execute_result"
    }
   ],
   "source": [
    "graph = nx.complete_graph(3)\n",
    "graph = random_plus_minus_1_weights(graph, rs=np.random.RandomState(52))\n",
    "nx.set_node_attributes(graph, values=0.5, name='weight')\n",
    "graph.edges.data('weight')"
   ]
  },
  {
   "cell_type": "code",
   "execution_count": 15,
   "metadata": {},
   "outputs": [
    {
     "data": {
      "text/plain": [
       "EdgeDataView([(0, 1, 1)])"
      ]
     },
     "execution_count": 15,
     "metadata": {},
     "output_type": "execute_result"
    }
   ],
   "source": [
    "new_g, ofst, new_to_old = integrate_out(graph, 0, 1)\n",
    "new_g.edges.data('weight')"
   ]
  },
  {
   "cell_type": "code",
   "execution_count": 16,
   "metadata": {},
   "outputs": [
    {
     "data": {
      "text/plain": [
       "NodeDataView({0: 1.5, 1: -0.5}, data='weight')"
      ]
     },
     "execution_count": 16,
     "metadata": {},
     "output_type": "execute_result"
    }
   ],
   "source": [
    "new_g.nodes.data('weight')"
   ]
  },
  {
   "cell_type": "code",
   "execution_count": 17,
   "metadata": {},
   "outputs": [
    {
     "data": {
      "text/plain": [
       "0.5"
      ]
     },
     "execution_count": 17,
     "metadata": {},
     "output_type": "execute_result"
    }
   ],
   "source": [
    "ofst"
   ]
  },
  {
   "cell_type": "code",
   "execution_count": 18,
   "metadata": {},
   "outputs": [
    {
     "data": {
      "text/plain": [
       "[1, 2]"
      ]
     },
     "execution_count": 18,
     "metadata": {},
     "output_type": "execute_result"
    }
   ],
   "source": [
    "new_to_old"
   ]
  },
  {
   "cell_type": "code",
   "execution_count": 31,
   "metadata": {},
   "outputs": [],
   "source": [
    "def print_graph_eqn(graph, offset):\n",
    "    s = []\n",
    "    for n1, n2, w in graph.edges.data('weight'):\n",
    "        s += [f'{w:.2f}*Z{n1}Z{n2}']\n",
    "    for n, w in graph.nodes.data('weight'):\n",
    "        s += [f'{w:.2f}*Z{n}']\n",
    "    s += [f'{offset:.2f}']\n",
    "    return ' + '.join(s)"
   ]
  },
  {
   "cell_type": "code",
   "execution_count": 85,
   "metadata": {
    "scrolled": true
   },
   "outputs": [
    {
     "name": "stdout",
     "output_type": "stream",
     "text": [
      "!! -18.025818097460412 !!\n",
      "-- p=1, F = -8.334 / -18.025818097460412, nfev=10, time=3.01 s\n",
      "sumfval -8.333843778575968\n",
      "    (offset) 0\n",
      "marginal [ 0.008  0.001 -0.014 -0.011 -0.016 -0.014 -0.012  0.042  0.038  0.03\n",
      " -0.013  0.008 -0.016  0.001  0.042  0.028]\n",
      "fixing 7 0.04221887141466141\n",
      "1.00*Z3Z14 + 1.00*Z3Z10 + 1.00*Z3Z7 + 1.00*Z14Z7 + 1.00*Z14Z5 + 1.00*Z4Z5 + 1.00*Z4Z10 + 1.00*Z2Z7 + 1.00*Z2Z11 + 1.00*Z2Z10 + 1.00*Z0Z13 + 1.00*Z0Z12 + 1.00*Z0Z6 + 1.00*Z13Z6 + 1.00*Z13Z11 + 1.00*Z5Z12 + 1.00*Z12Z9 + 1.00*Z11Z1 + 1.00*Z1Z9 + 1.00*Z1Z8 + 1.00*Z9Z8 + 0.05*Z3 + -0.12*Z14 + 1.07*Z4 + 0.06*Z2 + -0.17*Z7 + -0.04*Z0 + -0.18*Z13 + -0.04*Z10 + 0.06*Z5 + -0.00*Z12 + 0.07*Z11 + 1.05*Z6 + -0.00*Z1 + 0.06*Z9 + 0.87*Z8 + -0.19\n",
      "-- p=1, F = -7.965 / -17.83948889625718, nfev=11, time=1.38 s\n",
      "sumfval -8.151569524287908\n",
      "    (offset) -0.18632920120323337\n",
      "marginal [ 0.008  0.001 -0.014 -0.012 -0.279 -0.014 -0.275  0.038 -0.231 -0.013\n",
      "  0.008 -0.016  0.001  0.042  0.029]\n",
      "fixing 4 -0.2790922522544861\n",
      "1.00*Z3Z13 + 1.00*Z3Z9 + 1.00*Z3Z6 + 1.00*Z13Z6 + 1.00*Z13Z4 + 1.00*Z2Z6 + 1.00*Z2Z10 + 1.00*Z2Z9 + 1.00*Z0Z12 + 1.00*Z0Z11 + 1.00*Z0Z5 + 1.00*Z12Z5 + 1.00*Z12Z10 + 1.00*Z4Z11 + 1.00*Z11Z8 + 1.00*Z10Z1 + 1.00*Z1Z8 + 1.00*Z1Z7 + 1.00*Z8Z7 + 0.05*Z3 + -0.12*Z13 + 0.06*Z2 + -0.17*Z6 + -0.04*Z0 + -0.18*Z12 + -1.04*Z9 + -0.94*Z4 + -0.00*Z11 + 0.07*Z10 + 1.05*Z5 + -0.00*Z1 + 0.06*Z8 + 0.87*Z7 + -1.26\n",
      "-- p=1, F = -7.429 / -16.768102477663138, nfev=10, time=0.70 s\n",
      "sumfval -8.686646205121544\n",
      "    (offset) -1.2577156197972714\n",
      "marginal [ 0.009  0.001 -0.014 -0.012  0.249 -0.277  0.039 -0.232 -0.013  0.272\n",
      " -0.017  0.001  0.043  0.029]\n",
      "fixing 5 -0.276616632938385\n",
      "1.00*Z3Z12 + 1.00*Z3Z8 + 1.00*Z3Z5 + 1.00*Z12Z5 + 1.00*Z12Z4 + 1.00*Z2Z5 + 1.00*Z2Z9 + 1.00*Z2Z8 + 1.00*Z0Z11 + 1.00*Z0Z10 + 1.00*Z11Z9 + 1.00*Z4Z10 + 1.00*Z10Z7 + 1.00*Z9Z1 + 1.00*Z1Z7 + 1.00*Z1Z6 + 1.00*Z7Z6 + 0.05*Z3 + -0.12*Z12 + 0.06*Z2 + -0.17*Z5 + -1.04*Z0 + -1.18*Z11 + -1.04*Z8 + -0.94*Z4 + -0.00*Z10 + 0.07*Z9 + -0.00*Z1 + 0.06*Z7 + 0.87*Z6 + -2.31\n",
      "-- p=1, F = -7.152 / -15.7133552714903, nfev=11, time=0.35 s\n",
      "sumfval -9.464097650329949\n",
      "    (offset) -2.3124628259701097\n",
      "marginal [ 0.279  0.001 -0.014 -0.012  0.255  0.039 -0.238 -0.014  0.279 -0.017\n",
      "  0.001  0.312  0.029]\n",
      "fixing 11 0.3122694194316864\n",
      "1.00*Z3Z11 + 1.00*Z3Z8 + 1.00*Z3Z5 + 1.00*Z11Z5 + 1.00*Z11Z4 + 1.00*Z2Z5 + 1.00*Z2Z9 + 1.00*Z2Z8 + 1.00*Z0Z10 + 1.00*Z4Z10 + 1.00*Z10Z7 + 1.00*Z9Z1 + 1.00*Z1Z7 + 1.00*Z1Z6 + 1.00*Z7Z6 + 0.05*Z3 + -0.12*Z11 + 0.06*Z2 + -0.17*Z5 + -0.04*Z0 + -1.04*Z8 + -0.94*Z4 + -0.00*Z10 + 1.07*Z9 + -0.00*Z1 + 0.06*Z7 + 0.87*Z6 + -3.50\n",
      "-- p=1, F = -6.258 / -13.046619714018414, nfev=9, time=0.23 s\n",
      "sumfval -9.753548165242739\n",
      "    (offset) -3.49566433422505\n",
      "marginal [ 0.013  0.001 -0.014 -0.012  0.254  0.039 -0.237 -0.013  0.277 -0.285\n",
      "  0.001  0.029]\n",
      "fixing 9 -0.2853517532348633\n",
      "1.00*Z3Z10 + 1.00*Z3Z8 + 1.00*Z3Z5 + 1.00*Z10Z5 + 1.00*Z10Z4 + 1.00*Z2Z5 + 1.00*Z2Z8 + 1.00*Z0Z9 + 1.00*Z4Z9 + 1.00*Z9Z7 + 1.00*Z1Z7 + 1.00*Z1Z6 + 1.00*Z7Z6 + 0.05*Z3 + -0.12*Z10 + -0.94*Z2 + -0.17*Z5 + -0.04*Z0 + -1.04*Z8 + -0.94*Z4 + -0.00*Z9 + -1.00*Z1 + 0.06*Z7 + 0.87*Z6 + -4.57\n",
      "-- p=1, F = -5.693 / -11.97554718558474, nfev=8, time=0.12 s\n",
      "sumfval -10.259880593712616\n",
      "    (offset) -4.566736862658724\n",
      "marginal [ 0.013  0.271  0.256 -0.012  0.256  0.039 -0.238 -0.014  0.279  0.001\n",
      "  0.029]\n",
      "fixing 8 0.2791289687156677\n",
      "1.00*Z3Z9 + 1.00*Z3Z5 + 1.00*Z9Z5 + 1.00*Z9Z4 + 1.00*Z2Z5 + 1.00*Z0Z8 + 1.00*Z4Z8 + 1.00*Z8Z7 + 1.00*Z1Z7 + 1.00*Z1Z6 + 1.00*Z7Z6 + 1.05*Z3 + -0.12*Z9 + 0.06*Z2 + -0.17*Z5 + -0.04*Z0 + -0.94*Z4 + -0.00*Z8 + -1.00*Z1 + 0.06*Z7 + 0.87*Z6 + -5.60\n",
      "-- p=1, F = -4.922 / -10.938956624077335, nfev=8, time=0.08 s\n",
      "sumfval -10.525357022369047\n",
      "    (offset) -5.603327424166128\n",
      "marginal [ 0.013  0.272 -0.021 -0.283  0.256  0.039 -0.239 -0.013  0.001  0.029]\n",
      "fixing 3 -0.2827282249927521\n",
      "1.00*Z8Z4 + 1.00*Z8Z3 + 1.00*Z2Z4 + 1.00*Z0Z7 + 1.00*Z3Z7 + 1.00*Z7Z6 + 1.00*Z1Z6 + 1.00*Z1Z5 + 1.00*Z6Z5 + -1.12*Z8 + 0.06*Z2 + -1.17*Z4 + -0.04*Z0 + -0.94*Z3 + -0.00*Z7 + -1.00*Z1 + 0.06*Z6 + 0.87*Z5 + -6.65\n",
      "-- p=1, F = -4.623 / -9.888448496887419, nfev=13, time=0.07 s\n",
      "sumfval -11.276634472647956\n",
      "    (offset) -6.653835551356047\n",
      "marginal [-0.082 -0.289  0.134 -0.188 -0.452  0.066  0.081 -0.004 -0.423]\n",
      "fixing 4 -0.4515511095523834\n",
      "1.00*Z7Z3 + 1.00*Z0Z6 + 1.00*Z3Z6 + 1.00*Z6Z5 + 1.00*Z1Z5 + 1.00*Z1Z4 + 1.00*Z5Z4 + -2.12*Z7 + -0.94*Z2 + -0.04*Z0 + -0.94*Z3 + -0.00*Z6 + -1.00*Z1 + 0.06*Z5 + 0.87*Z4 + -5.49\n",
      "-- p=1, F = -4.586 / -9.019153412877136, nfev=12, time=0.05 s\n",
      "sumfval -10.074031500611952\n",
      "    (offset) -5.488334541679144\n",
      "marginal [ 0.014  0.3    0.417  0.283 -0.263 -0.015  0.001  0.614]\n",
      "fixing 7 0.6136362552642822\n",
      "1.00*Z0Z6 + 1.00*Z3Z6 + 1.00*Z6Z5 + 1.00*Z1Z5 + 1.00*Z1Z4 + 1.00*Z5Z4 + -0.94*Z2 + -0.04*Z0 + 0.06*Z3 + -0.00*Z6 + -1.00*Z1 + 0.06*Z5 + 0.87*Z4 + -7.61\n",
      "-- p=1, F = -3.169 / -6.895996439105842, nfev=8, time=0.05 s\n",
      "sumfval -10.780544184658872\n",
      "    (offset) -7.61149151545044\n",
      "marginal [ 0.014  0.276  0.442 -0.024 -0.244 -0.013  0.001]\n",
      "fixing 2 0.44210201501846313\n",
      "1.00*Z0Z5 + 1.00*Z2Z5 + 1.00*Z5Z4 + 1.00*Z1Z4 + 1.00*Z1Z3 + 1.00*Z4Z3 + -0.04*Z0 + 0.06*Z2 + -0.00*Z5 + -1.00*Z1 + 0.06*Z4 + 0.87*Z3 + -8.55\n",
      "-- p=1, F = -2.878 / -5.9562952992126785, nfev=9, time=0.04 s\n",
      "sumfval -11.429523980649469\n",
      "    (offset) -8.551192655343602\n",
      "marginal [-0.082 -0.288  0.138  0.061  0.083 -0.004]\n",
      "fixing 1 -0.28759750723838806\n",
      "1.00*Z0Z4 + 1.00*Z1Z4 + 1.00*Z4Z3 + 1.00*Z3Z2 + -0.04*Z0 + 0.06*Z1 + -0.00*Z4 + -0.94*Z3 + -0.13*Z2 + -7.55\n",
      "-- p=1, F = -2.169 / -4.781846662172061, nfev=7, time=0.03 s\n",
      "sumfval -9.71588130379677\n",
      "    (offset) -7.547233716640691\n",
      "marginal [ 0.015 -0.025  0.053  0.246  0.001]\n",
      "fixing 3 0.24577336013317108\n",
      "1.00*Z0Z3 + 1.00*Z1Z3 + -0.04*Z0 + 0.06*Z1 + 1.00*Z3 + 0.87*Z2 + -8.49\n",
      "-- p=1, F = -1.769 / -3.8388318334933085, nfev=8, time=0.04 s\n",
      "sumfval -10.259341869987102\n",
      "    (offset) -8.490248545319444\n",
      "marginal [ 0.016 -0.027 -0.573 -0.224]\n",
      "fixing 2 -0.5729769468307495\n",
      "1.00*Z0Z2 + 1.00*Z1Z2 + -0.04*Z0 + 0.06*Z1 + 1.00*Z2 + -9.36\n",
      "-- p=1, F = -1.314 / -2.971740322152394, nfev=8, time=0.02 s\n",
      "sumfval -10.671414867806252\n",
      "    (offset) -9.357340056660359\n",
      "marginal [ 0.015 -0.026 -0.256]\n",
      "fixing 2 -0.25578659772872925\n",
      "-1.04*Z0 + -0.94*Z1 + -10.35\n",
      "-- p=1, F = -1.968 / -1.9744068531520407, nfev=8, time=0.02 s\n",
      "sumfval -12.323037811225877\n",
      "    (offset) -10.354673525660711\n",
      "marginal [0.999 0.994]\n",
      "fixing 0 0.9990026950836182\n",
      "-0.94*Z0 + -11.39\n",
      "-- p=1, F = -0.938 / -0.9377744569741627, nfev=8, time=0.02 s\n",
      "sumfval -12.329080378812698\n",
      "    (offset) -11.391305921838589\n",
      "marginal [0.981]\n",
      "fixing 0 0.9809530973434448\n",
      "-12.33\n",
      "-- p=1, F = 0.000 / 0.0, nfev=1, time=0.00 s\n",
      "sumfval -12.329080378812751\n",
      "    (offset) -12.329080378812751\n"
     ]
    }
   ],
   "source": [
    "rs = np.random.RandomState(52)\n",
    "records = []\n",
    "n_qubits = 16\n",
    "#     papa_graph = nx.complete_graph(n_qubits)\n",
    "#     papa_graph = random_plus_minus_1_weights(papa_graph, rs=rs)\n",
    "papa_graph = nx.random_regular_graph(3, n_qubits, seed=rs)\n",
    "nx.set_edge_attributes(papa_graph, values=1, name='weight')\n",
    "graph = papa_graph.copy()\n",
    "nx.set_node_attributes(\n",
    "    graph, values={\n",
    "        i: val\n",
    "        for i, val in enumerate(rs.normal(scale=0.1, size=graph.number_of_nodes()))},\n",
    "        #for i, val in enumerate(rs.choice([1, -1], size=graph.number_of_nodes()))},\n",
    "    name='weight')\n",
    "\n",
    "HamC = create_ZZ_HamC(graph, flag_z2_sym=False,\n",
    "                      node_to_index_map=None, dtype=np.complex128)\n",
    "min_c = np.real_if_close(np.min(HamC))\n",
    "print(\"!!\", min_c, \"!!\")\n",
    "\n",
    "records = []\n",
    "offset = 0\n",
    "while True:\n",
    "    oresults = optimize_instance_interp_heuristic(graph=graph, p_max=1, flag_z2_sym=False, verbose=True)\n",
    "    oresult = oresults[-1]\n",
    "    print(\"sumfval\", oresult.f_val + offset)\n",
    "    print(\"    (offset)\", offset)\n",
    "    records += [{\n",
    "        'n': graph.number_of_nodes(),\n",
    "        'f_val': oresult.f_val + offset,\n",
    "        'offset': offset,\n",
    "    }]\n",
    "    \n",
    "    if graph.number_of_nodes() == 0:\n",
    "        break\n",
    "    marginals = calc_marginals(graph, oresult.gammas, oresult.betas)\n",
    "    marginals = np.asarray(marginals)\n",
    "    print('marginal', np.round(marginals, 3))\n",
    "    fixi = np.argmax(np.abs(marginals))\n",
    "    print('fixing', fixi, marginals[fixi])\n",
    "    if not np.abs(marginals[fixi])>0:\n",
    "        print(\"Could not fix actually\")\n",
    "        break\n",
    "    graph, ofst, mapping = integrate_out(graph, fixi, 1 if marginals[fixi]>0 else -1)\n",
    "    offset += ofst\n",
    "    print(print_graph_eqn(graph, offset))\n"
   ]
  },
  {
   "cell_type": "code",
   "execution_count": 86,
   "metadata": {},
   "outputs": [
    {
     "data": {
      "image/png": "[encoded data removed]",
      "text/plain": [
       "<Figure size 432x288 with 1 Axes>"
      ]
     },
     "metadata": {},
     "output_type": "display_data"
    }
   ],
   "source": [
    "df = pd.DataFrame(records)\n",
    "plt.plot(-df['n'], df['f_val'], 'o-', color=sns.color_palette()[0])\n",
    "plt.fill_between(-df['n'], df['offset'], color=sns.color_palette()[1], alpha=0.3, label='Fixed contribution')\n",
    "plt.fill_between(-df['n'], df['f_val'], df['offset'], color=sns.color_palette()[0], alpha=0.3)\n",
    "plt.xlabel('N free')\n",
    "plt.axvline(0, color='grey')\n",
    "plt.axhline(min_c, color='grey')\n",
    "plt.legend(loc='best')\n",
    "plt.ylabel(r'$\\langle C \\rangle$')\n",
    "plt.xticks(list(range(-n_qubits, 0+1, 2)), [-n for n in range(-n_qubits, 0+1, 2)])\n",
    "plt.tight_layout()\n"
   ]
  },
  {
   "cell_type": "code",
   "execution_count": 87,
   "metadata": {},
   "outputs": [],
   "source": [
    "sim = cirq.Simulator()\n",
    "\n",
    "def expectation(graph, gammas, betas):\n",
    "    ret = 0\n",
    "    psi = sim.simulate(get_generic_qaoa_circuit(\n",
    "            problem_graph=graph,\n",
    "            qubits = cirq.LineQubit.range(graph.number_of_nodes()),\n",
    "            gammas=gammas,\n",
    "            betas=betas,\n",
    "    ))\n",
    "    for i1, i2, w in graph.edges.data('weight'):\n",
    "        zz_val = w * (cirq.Z(cirq.LineQubit(i1)) * cirq.Z(cirq.LineQubit(i2)))\\\n",
    "                             .expectation_from_wavefunction(psi.final_state, psi.qubit_map)\n",
    "        assert zz_val.imag < 1e-6, zz_val\n",
    "        zz_val = zz_val.real\n",
    "        ret += zz_val\n",
    "    for i1, w in graph.nodes.data('weight'):\n",
    "        z_val = w * (cirq.Z(cirq.LineQubit(i1))) \\\n",
    "                             .expectation_from_wavefunction(psi.final_state, psi.qubit_map)\n",
    "        assert z_val.imag < 1e-6, z_val\n",
    "        z_val = z_val.real\n",
    "        ret += z_val\n",
    "    return ret"
   ]
  },
  {
   "cell_type": "code",
   "execution_count": 88,
   "metadata": {},
   "outputs": [
    {
     "data": {
      "text/plain": [
       "(0, 0.0)"
      ]
     },
     "execution_count": 88,
     "metadata": {},
     "output_type": "execute_result"
    }
   ],
   "source": [
    "expectation(graph, oresults[-1].gammas, oresults[-1].betas), oresults[-1].f_val"
   ]
  }
 ],
 "metadata": {
  "kernelspec": {
   "display_name": "Python 3",
   "language": "python",
   "name": "python3"
  },
  "language_info": {
   "codemirror_mode": {
    "name": "ipython",
    "version": 3
   },
   "file_extension": ".py",
   "mimetype": "text/x-python",
   "name": "python",
   "nbconvert_exporter": "python",
   "pygments_lexer": "ipython3",
   "version": "3.7.7"
  }
 },
 "nbformat": 4,
 "nbformat_minor": 4
}
